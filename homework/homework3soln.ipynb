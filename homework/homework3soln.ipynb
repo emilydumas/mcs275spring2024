{
 "cells": [
  {
   "cell_type": "markdown",
   "metadata": {},
   "source": [
    "# MCS 275 Spring 2024 Homework 3 Solutions\n",
    "\n",
    "* Course Instructor: Emily Dumas"
   ]
  },
  {
   "cell_type": "markdown",
   "metadata": {},
   "source": [
    "## Problem 2: Overloading the traffic signal\n",
    "\n",
    "*Put the code you write for this problem in `hwk3prob2.py`.*\n",
    "\n",
    "In the next cell, you'll see code for a class that represents a traffic signal controlling a single direction of traffic.  The signal is a panel of three lights (one red, one yellow, one green), and exactly one of them is illuminated at any given time.  The state of the light can be referred to by the illumated color, by a state number, or by the intent of the signal, which relate as shown below:\n",
    "\n",
    "  \n",
    "  | state        | color   | intent  |\n",
    "  | :----------: | :-----: | :-----: |\n",
    "  | 0            | red     | stop    |\n",
    "  | 1            | yellow  | slow    |\n",
    "  | 2            | green   | go      |\n",
    "  \n",
    "The class given below is functional, in that it supports setting, querying, and changing the state of the light.  It can also display itself in various forms.\n",
    "\n",
    "However, a couple of features are missing.  After copying the template code below into `hwk2prob2.py`, modify it to add the following features:\n",
    "1. **Boolean coercion:** A traffic signal object should be considered `True` if it allows any flow of traffic (i.e. is green or yellow), and `False` otherwise.  Thus the boolean value answers the question \"is any movement allowed?\"\n",
    "1. **Equality testing:** If `A` and `B` are traffic signal objects, then the equality test `A==B` should evaluate to `True` if the two signals are in the same state (i.e. color/intent) and `False` otherwise.\n",
    "\n",
    "This means you should add some special methods to `TrafficSignal`.  **Do not modify or remove any existing methods or attributes of the template.**"
   ]
  },
  {
   "cell_type": "markdown",
   "metadata": {},
   "source": [
    "(Template class omitted; instead we just include the modified version below.)"
   ]
  },
  {
   "cell_type": "markdown",
   "metadata": {},
   "source": [
    "### Solution\n",
    "\n",
    "Comment lines highlight the new methods.\n",
    "\n",
    "Also, it turns out that there was a bug in the `set_state` method of the template caused by a typo (using `s` instead of `i`). This method was not called in any of the demonstration cells and isn't relevant to the problem.  Still, it has been corrected here."
   ]
  },
  {
   "cell_type": "code",
   "execution_count": 48,
   "metadata": {},
   "outputs": [],
   "source": [
    "# MCS 275 Spring 2024 Homework 3 Solutions\n",
    "\n",
    "class TrafficSignal:\n",
    "    \"\"\"\n",
    "    Class representing the state of a 3-color traffic signal (AKA traffic light)\n",
    "    controlling one direction of traffic.  It can be in three states:\n",
    "    state 0 = red light = STOP = no traffic is allowed to pass the signal\n",
    "    state 1 = yellow light = SLOW = traffic at or near signal can proceed, others stop\n",
    "    state 2 = green light = GO = traffic can proceed normally\n",
    "    \"\"\"\n",
    "    color_map = (\"red\",\"yellow\",\"green\")\n",
    "    intent_map = (\"stop\",\"slow\",\"go\")\n",
    "    def __init__(self,state=None,color=None,intent=None):\n",
    "        \"\"\"\n",
    "        Initialize new traffic light according to a state number (0,1,2),\n",
    "        color name (red,yellow,green), or intent (stop,slow,go).  Only one\n",
    "        of the arguments can be given.  Initially red if no arguments given.\n",
    "        \"\"\"\n",
    "        self.state = 0 # default red\n",
    "        args_possible = [state,color,intent]\n",
    "        args_given = [ a for a in args_possible if a is not None ]\n",
    "        if not args_given:\n",
    "            # No arguments, so keep default red.  We're done.\n",
    "            return\n",
    "        \n",
    "        if len(args_given) > 1:\n",
    "            raise ValueError(\"Can only specify one of `state`, `color`, `intent`.\")\n",
    "        \n",
    "        # Now we know exactly one argument given.  Which one?\n",
    "        if state is not None:\n",
    "            self.state = state\n",
    "        elif color is not None:\n",
    "            try:\n",
    "                self.state = self.color_map.index(color.lower())\n",
    "            except ValueError:\n",
    "                raise ValueError(\"Unrecognized color: \"+str(color))\n",
    "        elif intent is not None:\n",
    "            try:\n",
    "                self.state = self.intent_map.index(intent.lower())\n",
    "            except ValueError:\n",
    "                raise ValueError(\"Unrecognized intent: \"+str(intent))\n",
    "\n",
    "    def get_state(self):\n",
    "        \"get the current state number\"\n",
    "        return self.state                \n",
    "                \n",
    "    def get_color(self):\n",
    "        \"get the current color\"\n",
    "        return self.color_map[self.state]\n",
    "                \n",
    "    def get_intent(self):\n",
    "        \"get the current intent\"\n",
    "        return self.intent_map[self.state]\n",
    "    \n",
    "    def set_state(self,i):\n",
    "        \"set the current state number\"\n",
    "        if not isinstance(i,int):\n",
    "            raise TypeError(\"State must be an integer\")\n",
    "        if i not in (0,1,2):  # previously read `if s not in (0,1,2):`\n",
    "            raise ValueError(\"Invalid state {}\".format(repr(i)))\n",
    "        self.state = i\n",
    "        \n",
    "    def set_color(self,c):\n",
    "        \"set the light color\"\n",
    "        if not isinstance(c,str):\n",
    "            raise TypeError(\"Color must be a string\")\n",
    "        if c.lower() not in self.color_map:\n",
    "            raise ValueError(\"Invalid color {}\".format(repr(c)))\n",
    "        self.state = self.color_map.index(c.lower())\n",
    "\n",
    "    def set_intent(self,t):\n",
    "        \"set the signal intent\"\n",
    "        if not isinstance(t,str):\n",
    "            raise TypeError(\"Intent must be a string\")\n",
    "        if t.lower() not in self.intent_map:\n",
    "            raise ValueError(\"Invalid intent {}\".format(repr(t)))\n",
    "        self.state = self.intent_map.index(t.lower())\n",
    "                             \n",
    "    def advance(self):\n",
    "        \"advance to the next state in the usual green-yellow-red-green-... cycle\"\n",
    "        self.state = (self.state-1)%3\n",
    "        \n",
    "    def show(self):\n",
    "        \"display with unicode characters\"\n",
    "        for i in range(3):\n",
    "            print(\"\\U0001F534\\U0001F7E1\\U0001F7E2\\u26AB\"[i if i==self.state else -1])\n",
    "\n",
    "    def __str__(self):\n",
    "        \"Human-readable string\"\n",
    "        return \"{}[{}={}={}]\".format(self.__class__.__name__,self.state,self.get_color(),self.get_intent())\n",
    "\n",
    "    def __repr__(self):\n",
    "        \"String for use in the REPL (evaluates to a copy of this object)\"\n",
    "        return \"{}(state={})\".format(self.__class__.__name__,self.state)\n",
    "\n",
    "    #----------------------------------------------------------------------\n",
    "    #----------------------------------------------------------------------\n",
    "    #              START OF METHODS ADDED FOR PROBLEM 2\n",
    "    #----------------------------------------------------------------------\n",
    "    #----------------------------------------------------------------------\n",
    "    \n",
    "    def __eq__(self,other):\n",
    "        \"Equality of signals means same state\"\n",
    "        return self.state == other.state   # This is an int==int test\n",
    "    \n",
    "    def __bool__(self):\n",
    "        \"Boolean coercion indicates whether any movement is allowed\"\n",
    "        # Since built-in bool sends integer 0 to False and integers 1,2 to True\n",
    "        # it happens that bool(self.state) is the same as the\n",
    "        # requested behavior!\n",
    "        return bool(self.state)"
   ]
  },
  {
   "cell_type": "markdown",
   "metadata": {},
   "source": [
    "### Demonstration that `TrafficSignal` behaves as requested"
   ]
  },
  {
   "cell_type": "code",
   "execution_count": 49,
   "metadata": {},
   "outputs": [
    {
     "name": "stdout",
     "output_type": "stream",
     "text": [
      "OK: bool(red signal) is False\n",
      "OK: bool(yellow signal) is True\n",
      "OK: bool(green signal) is True\n",
      "\n",
      "Boolean coercion is working 😊\n"
     ]
    }
   ],
   "source": [
    "signalsA = [ TrafficSignal(state=i) for i in range(3) ]\n",
    "boolsA = [ False, True, True ]\n",
    "\n",
    "looks_good = True\n",
    "for i in range(3):\n",
    "    actual = bool(signalsA[i])\n",
    "    expected = boolsA[i]\n",
    "    agree = actual==expected\n",
    "    looks_good = looks_good and agree\n",
    "    print(\"{}: bool({} signal) is {}\".format(\n",
    "        \"OK\" if agree else \"ERROR\",\n",
    "        signalsA[i].get_color(),\n",
    "        actual,\n",
    "    ))\n",
    "print(\"\\nBoolean coercion\",\"is working \\U0001F60A\" if looks_good else \"IS NOT WORKING CORRECTLY \\U0001F6A9\")"
   ]
  },
  {
   "cell_type": "code",
   "execution_count": 50,
   "metadata": {},
   "outputs": [
    {
     "name": "stdout",
     "output_type": "stream",
     "text": [
      "OK: red==red evaluates to True\n",
      "OK: red==yellow evaluates to False\n",
      "OK: red==green evaluates to False\n",
      "OK: yellow==red evaluates to False\n",
      "OK: yellow==yellow evaluates to True\n",
      "OK: yellow==green evaluates to False\n",
      "OK: green==red evaluates to False\n",
      "OK: green==yellow evaluates to False\n",
      "OK: green==green evaluates to True\n",
      "\n",
      "Equality testing is working 😊\n"
     ]
    }
   ],
   "source": [
    "signalsA = [ TrafficSignal(state=i) for i in range(3) ]\n",
    "signalsB = [ TrafficSignal(state=i) for i in range(3) ]\n",
    "looks_good = True\n",
    "for i in range(3):\n",
    "    for j in range(3):\n",
    "        actual = signalsA[i]==signalsB[j]\n",
    "        expected = i==j\n",
    "        agree = actual==expected\n",
    "        looks_good = looks_good and agree\n",
    "        print(\"{}: {}=={} evaluates to {}\".format(\n",
    "            \"OK\" if agree else \"ERROR\",\n",
    "            signalsA[i].get_color(),\n",
    "            signalsB[j].get_color(),\n",
    "            actual,\n",
    "        ))\n",
    "print(\"\\nEquality testing\",\"is working \\U0001F60A\" if looks_good else \"IS NOT WORKING CORRECTLY \\U0001F6A9\")"
   ]
  },
  {
   "cell_type": "markdown",
   "metadata": {},
   "source": [
    "## Problem 3: Slow start robot\n",
    "\n",
    "*Put the code you write for this problem in `hwk3prob3.py`.*\n",
    "\n",
    "This problem continues the work on `Bot` subclasses that we began in lecture by creating [bots.py](https://github.com/emilydumas/mcs275spring2024/blob/main/samplecode/oop/bots.py), and which you also worked on in Worksheet 3.\n",
    "\n",
    "Create another subclass of `Bot` called `SlowStartBot` with the following behavior:\n",
    "* The constructor takes three arguments, in this order:\n",
    "   1. `position`, a `Point2` specifying the starting position\n",
    "   1. `direction`, a `Vector2` specifying the movement direction\n",
    "   1. `initial_delay`, an integer indicating how \"gradual\" the acceleration will be\n",
    "* When `.update()` is called repeatedly, the robot should behave as follows:\n",
    "   * At first, it sits still for `initial_delay` time steps\n",
    "   * On the next time step, it moves by vector `direction`\n",
    "   * Then it waits `initial_delay-1` time steps (assuming that is positive)\n",
    "   * Then it takes one step in direction `direction`\n",
    "   * Then it waits `initial_delay-2` time steps (assuming that is position)\n",
    "   * This alternation of waiting and taking one step continues, with each waiting period being one time step shorter than the last one.\n",
    "   * Once the waiting time has decreased to zero, the robot moves by `direction` on each time step thereafter\n",
    "\n",
    "Thus, the class is used for a robot that initially spends a lot of time waiting around instead of moving, but gradually the pauses get shorter until it eventually moves on each time step.\n",
    "\n",
    "The cell below shows an example of how the class might be instantiated."
   ]
  },
  {
   "cell_type": "code",
   "execution_count": 51,
   "metadata": {},
   "outputs": [],
   "source": [
    "import sys\n",
    "d = \"/home/ddumas/teaching/mcs275/public/samplecode/oop\"\n",
    "if d not in sys.path:\n",
    "    sys.path.append(d)"
   ]
  },
  {
   "cell_type": "code",
   "execution_count": 52,
   "metadata": {},
   "outputs": [],
   "source": [
    "from bots import *\n",
    "\n",
    "class SlowStartBot(Bot):\n",
    "    \"\"\"\n",
    "    Robot that initially pauses before each step, but each pause is\n",
    "    shorter than the last until it eventually takes one step per update.\n",
    "    \"\"\"\n",
    "    \n",
    "    def __init__(self,position,direction,initial_delay):\n",
    "        \"\"\"\n",
    "        Initialize bot with given position, direction of movement,\n",
    "        and first pause duration\n",
    "        \"\"\"\n",
    "        super().__init__(position)\n",
    "        self.direction = direction\n",
    "        self.initial_delay = initial_delay\n",
    "        self.current_delay = initial_delay\n",
    "        self.waited = 0\n",
    "        self.state = \"wait\"\n",
    "    \n",
    "    def update(self):\n",
    "        if self.state == \"wait\":\n",
    "            self.waited += 1\n",
    "            if self.waited == self.current_delay:\n",
    "                # We're done with this pause\n",
    "                # set next pause to be shorter\n",
    "                self.current_delay -= 1\n",
    "                # change to \"go\" mode\n",
    "                self.state = \"go\"\n",
    "        else:\n",
    "            # state==\"go\"\n",
    "            # take a step\n",
    "            self.move_by(self.direction)\n",
    "            # if we're still in the \"slow start\", switch\n",
    "            # to wait mode for the next update.\n",
    "            if self.current_delay:\n",
    "                # reset wait count\n",
    "                self.waited = 0\n",
    "                self.state = \"wait\"\n",
    "                \n",
    "    # This method totally optional!\n",
    "    def __str__(self):\n",
    "        \"Human-readable string\"\n",
    "        return \"{}(pos={},dir={},state={},waited={})\".format(\n",
    "            self.__class__.__name__,\n",
    "            self.position,\n",
    "            self.direction,\n",
    "            self.state,\n",
    "            self.waited,\n",
    "        )\n",
    "        \n",
    "    # This method totally optional!\n",
    "    def __repr__(self):\n",
    "        \"Unambiguous string\"\n",
    "        return str(self)"
   ]
  },
  {
   "cell_type": "markdown",
   "metadata": {},
   "source": [
    "Test instantiation"
   ]
  },
  {
   "cell_type": "code",
   "execution_count": 53,
   "metadata": {},
   "outputs": [],
   "source": [
    "from plane import Point2, Vector2\n",
    "\n",
    "S = SlowStartBot(position=Point2(6,4), direction=Vector2(-1,1), initial_delay=4)"
   ]
  },
  {
   "cell_type": "code",
   "execution_count": 54,
   "metadata": {},
   "outputs": [
    {
     "data": {
      "text/plain": [
       "SlowStartBot(pos=Point2(6,4),dir=Vector2(-1,1),state=wait,waited=0)"
      ]
     },
     "execution_count": 54,
     "metadata": {},
     "output_type": "execute_result"
    }
   ],
   "source": [
    "S"
   ]
  },
  {
   "cell_type": "markdown",
   "metadata": {},
   "source": [
    "The `__str__` method we included above makes it easy to test the behavior as follows:"
   ]
  },
  {
   "cell_type": "code",
   "execution_count": 55,
   "metadata": {},
   "outputs": [
    {
     "name": "stdout",
     "output_type": "stream",
     "text": [
      "SlowStartBot(pos=Point2(6,4),dir=Vector2(-1,1),state=wait,waited=0)\n",
      "SlowStartBot(pos=Point2(6,4),dir=Vector2(-1,1),state=wait,waited=1)\n",
      "SlowStartBot(pos=Point2(6,4),dir=Vector2(-1,1),state=wait,waited=2)\n",
      "SlowStartBot(pos=Point2(6,4),dir=Vector2(-1,1),state=wait,waited=3)\n",
      "SlowStartBot(pos=Point2(6,4),dir=Vector2(-1,1),state=go,waited=4)\n",
      "SlowStartBot(pos=Point2(5,5),dir=Vector2(-1,1),state=wait,waited=0)\n",
      "SlowStartBot(pos=Point2(5,5),dir=Vector2(-1,1),state=wait,waited=1)\n",
      "SlowStartBot(pos=Point2(5,5),dir=Vector2(-1,1),state=wait,waited=2)\n",
      "SlowStartBot(pos=Point2(5,5),dir=Vector2(-1,1),state=go,waited=3)\n",
      "SlowStartBot(pos=Point2(4,6),dir=Vector2(-1,1),state=wait,waited=0)\n",
      "SlowStartBot(pos=Point2(4,6),dir=Vector2(-1,1),state=wait,waited=1)\n",
      "SlowStartBot(pos=Point2(4,6),dir=Vector2(-1,1),state=go,waited=2)\n",
      "SlowStartBot(pos=Point2(3,7),dir=Vector2(-1,1),state=wait,waited=0)\n",
      "SlowStartBot(pos=Point2(3,7),dir=Vector2(-1,1),state=go,waited=1)\n",
      "SlowStartBot(pos=Point2(2,8),dir=Vector2(-1,1),state=go,waited=1)\n",
      "SlowStartBot(pos=Point2(1,9),dir=Vector2(-1,1),state=go,waited=1)\n",
      "SlowStartBot(pos=Point2(0,10),dir=Vector2(-1,1),state=go,waited=1)\n",
      "SlowStartBot(pos=Point2(-1,11),dir=Vector2(-1,1),state=go,waited=1)\n",
      "SlowStartBot(pos=Point2(-2,12),dir=Vector2(-1,1),state=go,waited=1)\n",
      "SlowStartBot(pos=Point2(-3,13),dir=Vector2(-1,1),state=go,waited=1)\n"
     ]
    }
   ],
   "source": [
    "for _ in range(20):\n",
    "    print(S)\n",
    "    S.update()"
   ]
  },
  {
   "cell_type": "markdown",
   "metadata": {},
   "source": [
    "### Revision history\n",
    "\n",
    "* 2024-02-01 Initial publication"
   ]
  }
 ],
 "metadata": {
  "kernelspec": {
   "display_name": "Python 3 (ipykernel)",
   "language": "python",
   "name": "python3"
  },
  "language_info": {
   "codemirror_mode": {
    "name": "ipython",
    "version": 3
   },
   "file_extension": ".py",
   "mimetype": "text/x-python",
   "name": "python",
   "nbconvert_exporter": "python",
   "pygments_lexer": "ipython3",
   "version": "3.10.12"
  }
 },
 "nbformat": 4,
 "nbformat_minor": 4
}
