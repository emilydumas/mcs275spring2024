{
 "cells": [
  {
   "cell_type": "markdown",
   "metadata": {},
   "source": [
    "# MCS 275 Spring 2024 Homework 9\n",
    "\n",
    "* Course Instructor: Emily Dumas\n"
   ]
  },
  {
   "cell_type": "markdown",
   "metadata": {},
   "source": [
    "### Deadline\n",
    "This homework assignment must be submitted in Gradescope by **Noon central time on Tuesday March 12, 2024**.\n",
    "\n",
    "### Collaboration\n",
    "\n",
    "**Collaboration is prohibited**, and while working on this you should only consult the resources (books, online, etc.) listed below.\n",
    "\n",
    "### Content\n",
    "\n",
    "This assignment corresponds to Worksheet 9 and is about the basics of `numpy` and its use with `pillow`.\n",
    "\n",
    "### Resources you may consult\n",
    "\n",
    "The materials you may refer to for this homework are:\n",
    "* **Most likely useful**\n",
    "\n",
    "    * [Worksheet 9](https://www.dumas.io/teaching/2024/spring/mcs275/nbview/worksheets/worksheet9.html)\n",
    "    * [Worksheet 9 Solutions](https://www.dumas.io/teaching/2024/spring/mcs275/nbview/worksheets/worksheet9soln.html) - This link will work once the solutions are posted\n",
    "    * [Lecture 21 - numpy 1](http://dumas.io/teaching/2024/spring/mcs275/slides/lecture21.html)\n",
    "    * [Lecture 22 - numpy 2](http://dumas.io/teaching/2024/spring/mcs275/slides/lecture22.html)\n",
    "    * [Lecture 23 - Julia sets](http://dumas.io/teaching/2024/spring/mcs275/slides/lecture23.html)\n",
    "    * [VanderPlas](https://jakevdp.github.io/PythonDataScienceHandbook/):\n",
    "        * Chapter 2 covers numpy\n",
    "    * [Course sample code repo](https://github.com/daviddumas/mcs275spring2024/blob/main/samplecode/)\n",
    "        * Especially [/numpy_matplotlib/](https://github.com/daviddumas/mcs275spring2024/blob/main/samplecode/numpy_matplotlib/)\n",
    "* **Allowed, but less likely to be useful:**\n",
    "    * Any of the MCS 275 lecture materials, worksheets, previous homework assignments, or solutions to these, if posted on the course Blackboard site.\n",
    "    * Slides from any lecture of my [MCS 260 course from Fall 2021](https://www.dumas.io/teaching/2021/fall/mcs260/).\n",
    "    * Any lecture video posted on the [MCS 275 Blackboard site](https://uic.blackboard.com/ultra/courses/_267469_1/outline)\n",
    "    * Any textbook listed on the course blackboard site under \"Textbooks\"\n",
    "\n",
    "\n",
    "### Point distribution\n",
    "\n",
    "This homework assignment has two problems.  The grading breakdown is:\n",
    "\n",
    "| Points | Item |\n",
    "| --- | --- |\n",
    "| 4 | Autograder syntax checks (problem 1) |\n",
    "| 5 | Problem 2 |\n",
    "| 5 | Problem 3 |\n",
    "| **14** | Total |\n",
    "\n",
    "### What to do if you're stuck\n",
    "\n",
    "Ask your instructor or TA a question by email, in office hours, or on discord."
   ]
  },
  {
   "cell_type": "markdown",
   "metadata": {},
   "source": [
    "## Problem 2: Matrix stippling\n",
    "\n",
    "Work in `hwk9prob2.py`.\n",
    "\n",
    "Suppose you have a matrix $M$, a positive integer $k$, and we choose one of the entries of $M$.  From this information, we can make a new matrix as follows:  We start at the chosen entry of $M$, and then find all the other entries we can get to by moving $k$ columns left or right, $k$ rows up or down, or any combination thereof.  This gives a collection of entries of $M$ that we can group into their own, smaller matrix.  We call the result a $k$-stipple of $M$.\n",
    "\n",
    "For example, here is an example of a matrix $M$ and two different $3$-stipples of it.  In the image below, the starting entry of $M$ is highlighted in blue, and all the other entries we get to by taking steps of size $k$ are highlighted in purple.\n",
    "\n",
    "![stippling a matrix, two examples](images/hwk9-matrix-stipple.png)\n",
    "\n",
    "Note that sometimes two different starting entries in $M$ give the same $k$-stipple.  This happens exactly when one of the entries is reachable from the other by steps of size $k$.\n",
    "\n",
    "Also, if $k=1$ then the only $1$-stipple of $M$ is $M$ itself.\n",
    "\n",
    "With this definition in mind, write a function matching the definition and description given in the docstring below."
   ]
  },
  {
   "cell_type": "code",
   "execution_count": null,
   "metadata": {},
   "outputs": [],
   "source": [
    "def stipple_related(A,B,k):\n",
    "    \"\"\"\n",
    "    Given two numpy matrices `A` and `B` (that is, 2-dimensional\n",
    "    numpy arrays) and a positive integer `k`, returns a boolean\n",
    "    that indicates whether one of the matrices is a `k`-stipple\n",
    "    of the other.  That is, returns:\n",
    "        True if A is a `k`-stipple of B,\n",
    "        True is B is a `k`-stipple of A,\n",
    "        False otherwise\n",
    "    \"\"\""
   ]
  },
  {
   "cell_type": "markdown",
   "metadata": {},
   "source": [
    "**Important**: For full credit your solution needs to make proper use of `numpy` to do its work.  You can use Python loops, but the number of iterations they involve shouldn't depend on the sizes of `A` and `B`.  Anything that requires iteration over something depending on matrix size should be handled by the proper `numpy` construct."
   ]
  },
  {
   "cell_type": "markdown",
   "metadata": {},
   "source": [
    "## Problem 3: Gamma to match\n",
    "\n",
    "Work in `hwk9prob3.py`.\n",
    "\n",
    "Recall from Worksheet 9 that if $\\gamma$ is a positive real number, then applying a $\\gamma$-correction to a grayscale image means the following:\n",
    "* Divide the image data matrix by 255 so it becomes an array of floats between 0 and 1\n",
    "* Raise every entry in the matrix to the power $\\gamma$\n",
    "* Multiply by 255 again and convert to an array of `uint8` objects (`m.astype(\"uint8\")` does this for an array `m`).\n",
    "* Use this as the new image data.\n",
    "\n",
    "Write a function that takes two filenames, a *reference image filename* and a *target image filename*.  It should load both image files into `numpy` arrays and compute the average brightness of pixels in the reference image (call this the *reference brightness*).  Its goal is then to **find and return a value of $\\gamma$** (a positive real number) so that applying $\\gamma$-correction to the target image results in it having the same average brightness as the reference brightness.\n",
    "\n",
    "To do this without analyzing how the average brightness depends on $\\gamma$, we'll assume that we just want to know which $\\gamma$ that is a multiple of $0.1$ and which lies between $0.2$ and $20$ gives the closest match between average brightnesses.  That means you need only test values $0.2, 0.3, 0.4, \\ldots, 19.8, 19.9, 20$ and choose the one giving the best match.  (In case of an exact tie, use the smaller $\\gamma$.)\n",
    "\n",
    "Here's a function definition and docstring to use."
   ]
  },
  {
   "cell_type": "code",
   "execution_count": 25,
   "metadata": {},
   "outputs": [],
   "source": [
    "def matching_gamma(reference_fn, target_fn):\n",
    "    \"\"\"\n",
    "    Loads the images in the files whose names are given by `reference_fn`\n",
    "    and `target_fn` (both strings).\n",
    "    Among real numbers `gamma` that are multiples of 0.1 and lie between\n",
    "    0.2 and 20, find the one which gives the best gamma-correction factor\n",
    "    to apply to the target image in order to make its average brightness\n",
    "    match the reference image.\n",
    "    \"\"\""
   ]
  },
  {
   "cell_type": "markdown",
   "metadata": {},
   "source": [
    "### Revision history\n",
    "\n",
    "* 2024-02-29 Initial publication"
   ]
  }
 ],
 "metadata": {
  "kernelspec": {
   "display_name": "Python 3 (ipykernel)",
   "language": "python",
   "name": "python3"
  },
  "language_info": {
   "codemirror_mode": {
    "name": "ipython",
    "version": 3
   },
   "file_extension": ".py",
   "mimetype": "text/x-python",
   "name": "python",
   "nbconvert_exporter": "python",
   "pygments_lexer": "ipython3",
   "version": "3.10.12"
  }
 },
 "nbformat": 4,
 "nbformat_minor": 4
}
