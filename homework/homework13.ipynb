{
 "cells": [
  {
   "cell_type": "markdown",
   "metadata": {},
   "source": [
    "# MCS 275 Spring 2024 Homework 13\n",
    "\n",
    "* Course Instructor: David Dumas\n"
   ]
  },
  {
   "cell_type": "markdown",
   "metadata": {},
   "source": [
    "### Deadline\n",
    "\n",
    "This homework assignment must be submitted in Gradescope by **Noon central time on Tuesday April 16, 2024**.\n",
    "\n",
    "After this assignment, there is just *one more* homework in MCS 275!  (But don't forget about [Project 4](https://www.dumas.io/teaching/2024/spring/mcs275/nbview/projects/project4.html).)\n",
    "\n",
    "### Collaboration\n",
    "\n",
    "**Collaboration is prohibited**, and while working on this you should only consult the resources (books, online, etc.) listed below.\n",
    "\n",
    "### Content\n",
    "\n",
    "This assignment corresponds to Worksheet 13 and is the second one devoted to Flask web applications.  Like Worksheet 13 it focuses on adding features to the sample web application from lecture.\n",
    "\n",
    "### Resources you may consult\n",
    "\n",
    "The materials you may refer to for this homework are:\n",
    "* **Most likely useful**\n",
    "    * [Worksheet 13](https://www.dumas.io/teaching/2024/spring/mcs275/nbview/worksheets/worksheet13.html)\n",
    "    * [Worksheet 13 Solutions](https://www.dumas.io/teaching/2024/spring/mcs275/nbview/worksheets/worksheet13soln.html) \n",
    "    * [Lecture 29 - HTML and CSS](http://dumas.io/teaching/2024/spring/mcs275/slides/lecture29.html)\n",
    "    * [Lecture 30 - Planning our web app](http://dumas.io/teaching/2024/spring/mcs275/slides/lecture30.html)\n",
    "    * [Lecture 31 - HTTP servers and Flask](http://dumas.io/teaching/2024/spring/mcs275/slides/lecture31.html)\n",
    "    * [Lecture 32 - Using Flask](http://dumas.io/teaching/2024/spring/mcs275/slides/lecture32.html)\n",
    "    * [Lecture 33 - Redirects and forms](http://dumas.io/teaching/2024/spring/mcs275/slides/lecture33.html)\n",
    "    * [Lecture 34 - Web app wrap-up](http://dumas.io/teaching/2024/spring/mcs275/slides/lecture34.html)\n",
    "    * [Lecture 35 - Functions and decorators](http://dumas.io/teaching/2024/spring/mcs275/slides/lecture35.html)\n",
    "    * Other online resources:\n",
    "        * **[Flask tutorial](https://flask.palletsprojects.com/en/3.0.x/tutorial/)**\n",
    "        * **[Flask documentation](https://flask.palletsprojects.com/en/3.0.x/)**    \n",
    "        * [w3schools HTML tutorial](https://www.w3schools.com/html/)\n",
    "        * [w3schools CSS tutorial](https://www.w3schools.com/css/)\n",
    "        * [JSFiddle](https://jsfiddle.net/) - place to quickly test HTML+CSS without leaving your browser\n",
    "    * Course sample code:\n",
    "        * [main repository](https://github.com/daviddumas/mcs275spring2024/tree/main/samplecode)\n",
    "        * [web app examples](https://github.com/daviddumas/mcs275spring2024/tree/main/samplecode/web)\n",
    "* **Allowed, but less likely to be useful:**\n",
    "    * Any of the MCS 275 lecture materials, worksheets, previous homework assignments, or solutions to these, if posted on the course Blackboard site.\n",
    "    * Slides from any lecture of my [MCS 260 course from Fall 2021](https://www.dumas.io/teaching/2021/fall/mcs260/).\n",
    "    * Any lecture video posted on the [MCS 275 Blackboard site](https://uic.blackboard.com/ultra/courses/_267469_1/outline)\n",
    "    * Any textbook listed on the course blackboard site under \"Textbooks\"\n",
    "\n",
    "\n",
    "### Point distribution\n",
    "\n",
    "This homework assignment has a single problem.  The grading breakdown is:\n",
    "\n",
    "| Points | Item |\n",
    "| --- | --- |\n",
    "| 4 | Autograder syntax checks (problem 1) |\n",
    "| 10 | Problem 2 |\n",
    "| **14** | Total |\n",
    "\n",
    "### What to do if you're stuck\n",
    "\n",
    "Ask your instructor or TA a question by email, in office hours, or on discord."
   ]
  },
  {
   "cell_type": "markdown",
   "metadata": {},
   "source": [
    "## Advisory note\n",
    "\n",
    "To work on this assignment you need to have:\n",
    "* **Flask**, and\n",
    "* A working local copy of either **ActiveTask** or **TaskGain** (links below)"
   ]
  },
  {
   "cell_type": "markdown",
   "metadata": {},
   "source": [
    "### Web application downloads\n",
    "\n",
    "You probably have the sample web application from when you worked on Worksheet 13.  As long as that version works, you don't need to download anything.  But in case you want a fresh unmodified copy, here are the same links to the ZIP files given on that worksheet:\n",
    "\n",
    "* April 7 snapshots (before worksheet 13)\n",
    "    * [taskgain-1.0.zip](https://www.dumas.io/teaching/2024/spring/mcs275/data/taskgain-1.0.zip)\n",
    "    * [activetask-1.0.zip](https://www.dumas.io/teaching/2024/spring/mcs275/data/activetask-1.0.zip)\n",
    "\n",
    "And here are versions that have the solutions to worksheet 13 incorporated into them:\n",
    "\n",
    "* April 13 snapshots (after worksheet 13)\n",
    "    * taskgain-1.1.zip - Link will be added here when ready\n",
    "    * activetask-1.1.zip - Link will be added here when ready"
   ]
  },
  {
   "cell_type": "markdown",
   "metadata": {},
   "source": [
    "## 2. Troubled task audit\n",
    "\n",
    "In the task tracking application, let's define two types of \"troubled\" tasks:\n",
    "\n",
    "1. A **stale task** is one that is in the \"waiting\" state and where the creation time is at least one week ago.\n",
    "\n",
    "1. A **long-running task** is one that is the \"in progress\" state and where the last update time is at least one week ago.\n",
    "\n",
    "The idea behind these definitions is that both types of tasks might require additional attention or action---stale tasks have been waiting for a long time and may have been forgotten, while long-running tasks may have hit some kind of obstacle preventing progress.\n",
    "\n",
    "Add a feature to the task tracking web app so that accessing the URL `localhost:5000/audit/troubled/` will show a page with the application logo/header, followed by a list of stale tasks, followed by a list of long-running tasks.  Each list should have a header (h2) above it indicating what it shows.  For each task in either list, the description, task id, state, and owner should be shown.  The new page should use the same CSS stylesheet as the rest of the application.\n",
    "\n",
    "The modifications should consist of\n",
    "* One function added to `taskgain.py` or `activetask.py`\n",
    "* One HTML template added to the `templates/` subdirectory, which I recommend calling `troubled_task_audit.html`.\n",
    "\n",
    "**Test your work** but once it is working, do not submit the entire application.  Instead, copy and paste just the function you added to the python script into a new file called `hwk13.py`, and put the required header at the top of that file.  Then submit two files:`hwk13.py` and your new HTML template `troubled_task_audit.html`."
   ]
  },
  {
   "cell_type": "markdown",
   "metadata": {},
   "source": [
    "### Revision history\n",
    "\n",
    "* 2024-04-11 Initial publication"
   ]
  }
 ],
 "metadata": {
  "kernelspec": {
   "display_name": "Python 3 (ipykernel)",
   "language": "python",
   "name": "python3"
  },
  "language_info": {
   "codemirror_mode": {
    "name": "ipython",
    "version": 3
   },
   "file_extension": ".py",
   "mimetype": "text/x-python",
   "name": "python",
   "nbconvert_exporter": "python",
   "pygments_lexer": "ipython3",
   "version": "3.10.12"
  }
 },
 "nbformat": 4,
 "nbformat_minor": 4
}
