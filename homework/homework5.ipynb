{
 "cells": [
  {
   "cell_type": "markdown",
   "metadata": {},
   "source": [
    "# MCS 275 Spring 2024 Homework 5\n",
    "\n",
    "* Course Instructor: Emily Dumas"
   ]
  },
  {
   "cell_type": "markdown",
   "metadata": {},
   "source": [
    "### Deadline\n",
    "This homework assignment must be submitted in Gradescope by **Noon central time on Tuesday February 13, 2024**.\n",
    "\n",
    "### Collaboration\n",
    "\n",
    "**Collaboration is prohibited**, and you may only access resources (books, online, etc.) listed below.\n",
    "\n",
    "### Content\n",
    "This assignment corresponds to Worksheet 5, which is about recursion (including the idea of recursion with backtracking).\n",
    "\n",
    "### Resources you may consult\n",
    "\n",
    "The materials you may refer to for this homework are:\n",
    "* **Most likely useful**\n",
    "    * [Worksheet 5](https://www.dumas.io/teaching/2024/spring/mcs275/nbview/worksheets/worksheet5.html)\n",
    "    * [Worksheet 5 Solutions](https://www.dumas.io/teaching/2024/spring/mcs275/nbview/worksheets/worksheet5soln.html) - This link will work once the solutions are posted\n",
    "    * [Lecture 9 - recursion vs iteration](https://www.dumas.io/teaching/2024/spring/mcs275/slides/lecture9.html)\n",
    "    * [Lecture 10 - recursion vs iteration II](https://www.dumas.io/teaching/2024/spring/mcs275/slides/lecture10.html)\n",
    "    * [Lecture 11 - recursion with backtracking](https://www.dumas.io/teaching/2024/spring/mcs275/slides/lecture11.html)\n",
    "    * Programs in the course [sample code repository](https://github.com/emilydumas/mcs275spring2024/tree/main/samplecode).\n",
    "* **Allowed, but less likely to be useful:**\n",
    "    * Any of the MCS 275 lecture materials, worksheets, previous homework assignments, or solutions to these, if posted on the course Blackboard site.\n",
    "    * Slides from any lecture of my [MCS 260 course from Fall 2021](https://www.dumas.io/teaching/2021/fall/mcs260/).\n",
    "    * Any lecture video posted on the [MCS 275 Blackboard site](https://uic.blackboard.com/ultra/courses/_267469_1/outline)\n",
    "    * Any textbook listed on the course blackboard site under \"Textbooks\"\n",
    "\n",
    "\n",
    "### Point distribution\n",
    "\n",
    "This homework assignment has 2 problems.  The grading breakdown is:\n",
    "\n",
    "| Points | Item |\n",
    "| --- | --- |\n",
    "| 4 | Autograder syntax checks |\n",
    "| 5 | Problem 2 |\n",
    "| 5 | Problem 3 |\n",
    "| **14** | Total |\n",
    "\n",
    "### What to do if you're stuck\n",
    "\n",
    "Ask your instructor or TA a question by email, in office hours, or on discord."
   ]
  },
  {
   "cell_type": "markdown",
   "metadata": {},
   "source": [
    "## Starting point for all problems\n",
    "\n",
    "Testing your work (which is highly recommended) will require you to import the maze module, so make sure you have these two files in your working directory:\n",
    "* [maze.py](https://github.com/emilydumas/mcs275spring2024/blob/main/samplecode/recursion/maze.py)\n",
    "* [plane.py](https://github.com/emilydumas/mcs275spring2024/blob/main/samplecode/recursion/plane.py)\n",
    "\n",
    "**Then, copy and paste the following function** (from lecture 11) into a new file called `hwk5.py`.  You'll modify it as part of your work."
   ]
  },
  {
   "cell_type": "code",
   "execution_count": null,
   "metadata": {},
   "outputs": [],
   "source": [
    "def depth_first_maze_solution(M, path=None):\n",
    "    \"\"\"\n",
    "    Take a Maze object `M` and optional partial\n",
    "    progress `path` (list of Point2 objects) and\n",
    "    complete to a solution recursively.\n",
    "    **This function can solve mazes with loops.**\n",
    "    \"\"\"\n",
    "    if path == None:\n",
    "        # no path given, begin at M.start\n",
    "        path = [M.start]\n",
    "    if path[-1] == M.goal:\n",
    "        # path is a solution, return!\n",
    "        return path\n",
    "\n",
    "    # enumerate possible next steps\n",
    "    possible_next = M.free_neighbors(path[-1])\n",
    "    # then remove any places we've already been\n",
    "    possible_next = [x for x in possible_next if x not in path]\n",
    "\n",
    "    # consider next steps\n",
    "    for next_step in possible_next:\n",
    "        new_path = path + [next_step]\n",
    "        res = depth_first_maze_solution(M, new_path)\n",
    "        if res:  # if res is a nonempty list, i.e. not None\n",
    "            # res is in fact a solution; return it\n",
    "            return res\n",
    "\n",
    "    # no possible next step worked out\n",
    "    return None"
   ]
  },
  {
   "cell_type": "markdown",
   "metadata": {},
   "source": [
    "## Problem 2: Path between any two points\n",
    "\n",
    "Put your work for this problem in a file called `hwk5.py`.\n",
    "\n",
    "The function `solvemaze(...)` we wrote in Lecture 11 finds a path from the start of a maze to its goal.  These two points are stored as attributes of a `Maze` instance.\n",
    "\n",
    "One could just as well ask for a route between **any** two points in a maze, and your task for this problem is to modify `solvemaze(...)` in order to make a new function that does exactly that.\n",
    "\n",
    "Specifically, write and submit a new function (still *recursive*) based on `solvemaze` that has the following definition line and which does as the docstring says.\n",
    "\n",
    "```python\n",
    "def maze_path(M,p,q,path=None):\n",
    "    \"\"\"\n",
    "    Use recursion with backtracking to find a path in `Maze`\n",
    "    object  `M` from point `p` to point `q` (both are `Point2`\n",
    "    objects).  If `path` is given, it should be a list of points\n",
    "    beginning with `p`, and the search will only look for paths\n",
    "    that extend this list.\n",
    "\n",
    "    Points `p` and `q` must be free squares in the maze.  If\n",
    "    either is wall, this function raises ValueError since the\n",
    "    question does not make sense.\n",
    "\n",
    "    Returns the path that is found, or if no such path exists,\n",
    "    returns `None`.\n",
    "\n",
    "    Does not modify `M` at all.\n",
    "    \"\"\"\n",
    "```\n",
    "\n",
    "I recommend you do this by starting with the code in the body of `solvemaze` and making a few changes."
   ]
  },
  {
   "cell_type": "markdown",
   "metadata": {},
   "source": [
    "## Problem 3: Detour distance\n",
    "\n",
    "Put your work for this problem in the same file as the last problem, `hwk5.py`.\n",
    "\n",
    "Suppose we have a maze that is like the random mazes generated by `PrimRandomMaze` in the sense that there is exactly one path between any two points $p$ and $q$ that are not walls.  If you subtract one from the length of that path, the result is called the *path distance* between $p$ and $q$ which is denoted by $dist(p,q)$.  Subtracting one ensures that $dist(p,p)=0$ and that $dist(p,q)=1$ if $p$ and $q$ are neighbors.\n",
    "\n",
    "If $x$ is one of the points on the path from $p$ to $q$, then $dist(p,x) + dist(x,q) = dist(p,q)$.  This reflects the fact that you can stop at $x$ on your way from $p$ to $q$ without making any detour.  For a general point $x$, the quantity\n",
    "$$ dist(p,x) + dist(x,q) - dist(p,q) $$\n",
    "tells you the *detour distance* of $x$ during a trip from $p$ to $q$, meaning the minimum additional distance you would need to add to your trip from $p$ to $q$ in order to stop at $x$.\n",
    "\n",
    "Write a function\n",
    "```python\n",
    "def maze_detour_dist(M,p,q,x):\n",
    "```\n",
    "that takes a maze `M` and `Point2` objects `p`,`q`,`x` that are free locations (not walls) of `M`, and which computes and returns the detour distance of `x` during a trip from `p` to `q`.\n",
    "\n",
    "You can (and should) use the function `maze_path` from problem 2 to do this.  Even if you don't get the function to work in problem 2, we'll evaluate your answer to this problem on the basis of whether it works when a correct `maze_path` function is provided."
   ]
  },
  {
   "cell_type": "markdown",
   "metadata": {},
   "source": [
    "### Revision history\n",
    "\n",
    "* 2024-02-08 Initial publication"
   ]
  }
 ],
 "metadata": {
  "kernelspec": {
   "display_name": "Python 3 (ipykernel)",
   "language": "python",
   "name": "python3"
  },
  "language_info": {
   "codemirror_mode": {
    "name": "ipython",
    "version": 3
   },
   "file_extension": ".py",
   "mimetype": "text/x-python",
   "name": "python",
   "nbconvert_exporter": "python",
   "pygments_lexer": "ipython3",
   "version": "3.10.12"
  }
 },
 "nbformat": 4,
 "nbformat_minor": 4
}
