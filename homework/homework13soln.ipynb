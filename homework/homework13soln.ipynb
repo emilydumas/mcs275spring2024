{
 "cells": [
  {
   "cell_type": "markdown",
   "metadata": {},
   "source": [
    "# MCS 275 Spring 2024 Homework 13 Solutions\n",
    "\n",
    "* Course Instructor: Emily Dumas\n"
   ]
  },
  {
   "cell_type": "markdown",
   "metadata": {},
   "source": [
    "### Web application downloads\n",
    "\n",
    "It might be easier to just get a version of the web application that has the solution to this homework incorporated already.  Here are links to ZIPs of those.\n",
    "\n",
    "* [taskgain-1.2.zip](https://www.dumas.io/teaching/2024/spring/mcs275/data/taskgain-1.2.zip)\n",
    "* [activetask-1.2.zip](https://www.dumas.io/teaching/2024/spring/mcs275/data/activetask-1.2.zip)"
   ]
  },
  {
   "cell_type": "markdown",
   "metadata": {},
   "source": [
    "## 2. Troubled task audit\n",
    "\n",
    "In the task tracking application, let's define two types of \"troubled\" tasks:\n",
    "\n",
    "1. A **stale task** is one that is in the \"waiting\" state and where the creation time is at least one week ago.\n",
    "\n",
    "1. A **long-running task** is one that is the \"in progress\" state and where the last update time is at least one week ago.\n",
    "\n",
    "The idea behind these definitions is that both types of tasks might require additional attention or action---stale tasks have been waiting for a long time and may have been forgotten, while long-running tasks may have hit some kind of obstacle preventing progress.\n",
    "\n",
    "Add a feature to the task tracking web app so that accessing the URL `localhost:5000/audit/troubled/` will show a page with the application logo/header, followed by a list of stale tasks, followed by a list of long-running tasks.  Each list should have a header (h2) above it indicating what it shows.  For each task in either list, the description, task id, state, and owner should be shown.  The new page should use the same CSS stylesheet as the rest of the application.\n",
    "\n",
    "The modifications should consist of\n",
    "* One function added to `taskgain.py` or `activetask.py`\n",
    "* One HTML template added to the `templates/` subdirectory, which I recommend calling `troubled_task_audit.html`.\n",
    "\n",
    "**Test your work** but once it is working, do not submit the entire application.  Instead, copy and paste just the function you added to the python script into a new file called `hwk13.py`, and put the required header at the top of that file.  Then submit two files:`hwk13.py` and your new HTML template `troubled_task_audit.html`."
   ]
  },
  {
   "cell_type": "markdown",
   "metadata": {},
   "source": [
    "### Solution\n",
    "\n",
    "The template we show is specific to ActiveTask, but the changes for TaskGain are straightforward."
   ]
  },
  {
   "cell_type": "markdown",
   "metadata": {},
   "source": [
    "#### Function"
   ]
  },
  {
   "cell_type": "code",
   "execution_count": null,
   "metadata": {},
   "outputs": [],
   "source": [
    "# Needs to be added to activetask.py or taskgain.py after `app` is defined\n",
    "@app.route(\"/audit/troubled/\")\n",
    "def troubled_task_audit():\n",
    "    \"Show troubled tasks\"\n",
    "    now = time.time()\n",
    "    week_ago = now - 7 * 24 * 60 * 60\n",
    "    con = sqlite3.connect(DB_FN)\n",
    "\n",
    "    stale_results = con.execute(\n",
    "        \"\"\"\n",
    "        SELECT taskid, description, owner, status, shared, updated_ts\n",
    "        FROM tasks\n",
    "        WHERE status = ? AND created_ts <= ?\n",
    "        ORDER BY created_ts DESC;\n",
    "        \"\"\",\n",
    "        [ST_WAIT, week_ago],\n",
    "    )\n",
    "    stale_tasks = []\n",
    "    for row in stale_results:\n",
    "        stale_tasks.append(\n",
    "            {\n",
    "                \"taskid\": row[0],\n",
    "                \"description\": row[1],\n",
    "                \"owner\": row[2],\n",
    "                \"status\": row[3],\n",
    "                \"status_str\": STATUS_DESC[row[3]],\n",
    "                \"shared_code\": row[4],\n",
    "                \"shared_str\": SHARED_DESC[row[4]],\n",
    "                \"updated_ts\": row[5],\n",
    "                \"updated_str\": timefmt.ts_fmt(row[5]),\n",
    "                \"updated_delta_str\": timefmt.tsdiff_fmt(now - row[5]),\n",
    "            }\n",
    "        )\n",
    "\n",
    "    lrt_results = con.execute(\n",
    "        \"\"\"\n",
    "        SELECT taskid, description, owner, status, shared, updated_ts\n",
    "        FROM tasks\n",
    "        WHERE status = ? AND updated_ts <= ?\n",
    "        ORDER BY created_ts DESC;\n",
    "        \"\"\",\n",
    "        [ST_PROGRESS, week_ago],\n",
    "    )\n",
    "    lrt_tasks = []\n",
    "    for row in lrt_results:\n",
    "        lrt_tasks.append(\n",
    "            {\n",
    "                \"taskid\": row[0],\n",
    "                \"description\": row[1],\n",
    "                \"owner\": row[2],\n",
    "                \"status\": row[3],\n",
    "                \"status_str\": STATUS_DESC[row[3]],\n",
    "                \"shared_code\": row[4],\n",
    "                \"shared_str\": SHARED_DESC[row[4]],\n",
    "                \"updated_ts\": row[5],\n",
    "                \"updated_str\": timefmt.ts_fmt(row[5]),\n",
    "                \"updated_delta_str\": timefmt.tsdiff_fmt(now - row[5]),\n",
    "            }\n",
    "        )\n",
    "    return render_template(\n",
    "        \"troubled_task_audit.html\",\n",
    "        stale_tasks=stale_tasks,\n",
    "        lrt_tasks=lrt_tasks,\n",
    "    )\n"
   ]
  },
  {
   "cell_type": "markdown",
   "metadata": {},
   "source": [
    "#### Template"
   ]
  },
  {
   "cell_type": "markdown",
   "metadata": {
    "vscode": {
     "languageId": "html"
    }
   },
   "source": [
    "See [troubled_task_audit.html](https://github.com/daviddumas/mcs275spring2024/blob/hw13soln/samplecode/web/activetask/templates/troubled_task_audit.html) on github."
   ]
  },
  {
   "cell_type": "markdown",
   "metadata": {},
   "source": [
    "### Revision history\n",
    "\n",
    "* 2024-04-18 Initial publication"
   ]
  }
 ],
 "metadata": {
  "kernelspec": {
   "display_name": "Python 3 (ipykernel)",
   "language": "python",
   "name": "python3"
  },
  "language_info": {
   "codemirror_mode": {
    "name": "ipython",
    "version": 3
   },
   "file_extension": ".py",
   "mimetype": "text/x-python",
   "name": "python",
   "nbconvert_exporter": "python",
   "pygments_lexer": "ipython3",
   "version": "3.10.12"
  }
 },
 "nbformat": 4,
 "nbformat_minor": 4
}
