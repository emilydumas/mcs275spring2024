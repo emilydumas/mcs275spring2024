{
 "cells": [
  {
   "cell_type": "markdown",
   "metadata": {},
   "source": [
    "# MCS 275 Spring 2024 Homework 4\n",
    "\n",
    "* Course Instructor: Emily Dumas"
   ]
  },
  {
   "cell_type": "markdown",
   "metadata": {},
   "source": [
    "## Instructions:\n",
    "\n",
    "* Complete the problems below in a Python notebook.\n",
    "* Upload the notebook directly to gradescope (as a `.ipynb` file).\n",
    "\n",
    "### Deadline\n",
    "This homework assignment must be submitted in Gradescope by **Noon central time on Tuesday February 6, 2024**.\n",
    "\n",
    "### Collaboration\n",
    "\n",
    "**Collaboration is prohibited**, and you may only access resources (books, online, etc.) listed below.\n",
    "\n",
    "### Content\n",
    "This assignment corresponds to Worksheet 4, which involves the Python notebook interface, context managers, and recursion.\n",
    "\n",
    "### Resources you may consult\n",
    "\n",
    "The materials you may refer to for this homework are:\n",
    "* **Most likely useful**\n",
    "    * [Worksheet 4](https://www.dumas.io/teaching/2024/spring/mcs275/nbview/worksheets/worksheet4.html)\n",
    "    * [Worksheet 4 Solutions](https://www.dumas.io/teaching/2024/spring/mcs275/nbview/worksheets/worksheet4soln.html) - This link will work once the solutions are posted\n",
    "    * [Lecture 7 - notebooks and context managers](https://www.dumas.io/teaching/2024/spring/mcs275/slides/lecture7.html)\n",
    "    * [Lecture 8 - recursion](https://www.dumas.io/teaching/2024/spring/mcs275/slides/lecture8.html)\n",
    "    * [Lecture 9 - recursion and iteration](https://www.dumas.io/teaching/2024/spring/mcs275/slides/lecture9.html)\n",
    "    * Programs in the course [sample code repository](https://github.com/daviddumas/mcs275spring2024/tree/main/samplecode).\n",
    "* **Allowed, but less likely to be useful:**\n",
    "    * Any of the MCS 275 lecture materials, worksheets, previous homework assignments, or solutions to these, if posted on the course Blackboard site.\n",
    "    * Slides from any lecture of my [MCS 260 course from Fall 2021](https://www.dumas.io/teaching/2021/fall/mcs260/).\n",
    "    * Any lecture video posted on the [MCS 275 Blackboard site](https://uic.blackboard.com/ultra/courses/_267469_1/outline)\n",
    "    * Any textbook listed on the course blackboard site under \"Textbooks\"\n",
    "\n",
    "\n",
    "### Point distribution\n",
    "\n",
    "This homework assignment has 3 problems, numbered 2, 3, and 4.  Problem 2 merely requies you to follow some formatting rules, while problems 3 and 4 are based on mastery of content. The grading breakdown is:\n",
    "\n",
    "| Points | Item |\n",
    "| --- | --- |\n",
    "| 4 | Autograder (Problem 1) |\n",
    "| 5 | Notebook formatting (Problem 2) |\n",
    "| 5 | Problem 3 |\n",
    "| 5 | Problem 4 |\n",
    "| **19** | Total |\n",
    "\n",
    "### What to do if you're stuck\n",
    "\n",
    "Ask your instructor or TA a question by email, in office hours, or on discord."
   ]
  },
  {
   "cell_type": "markdown",
   "metadata": {},
   "source": [
    "## ( No problem 1, as usual )"
   ]
  },
  {
   "cell_type": "markdown",
   "metadata": {},
   "source": [
    "## Problem 2: Submit your homework as a notebook file (`.ipynb`)\n",
    "\n",
    "To demonstrate your proficiency with the Python notebook interface, put all of your work on this assignment in a Python notebook named `hwk4` and submit the notebook file (`hwk4.ipynb`) to Gradescope.\n",
    "\n",
    "Your score on this problem will reflect whether or not you submitted a valid notebook file containing all your work on the problems below, and whether it followed the formatting guidelines below.\n",
    "\n",
    "### Notebook formatting requirements\n",
    "\n",
    "* **Title &amp; name at top**: Include a markdown cell at the top that uses a header to title the document `MCS 275 Spring 2024 Homework 4`.  In the same cell, include *your name* as a subheading.  <span style=\"color: blue\">Put the authorship statement you would usually include in a homework Python script in this cell, too.</span>\n",
    "* **Problem numbers**: Label problems 3 and 4 using a markdown cell with a subheading like `Problem 3`\n",
    "* **Code goes in code cells**: Put your solution to each problem in one or more code cell(s) below the problem number heading.  <span style=\"color:blue\">The code cells don't need headers, module-level docstrings, or authorship statements.  The markdown cell at the top of the notebook replaces these.</span>\n",
    "* **Nothing else**: The notebook should *only* contain the items described above.  For example, do *not* restate the question before giving your answer.\n",
    "\n",
    "### Help making/uploading a notebook\n",
    "\n",
    "If you work in **Jupyter** (as installed with python3 -m pip install notebook), just name the notebook hwk4 and it will be saved with the .ipynb extension in the directory where you started Jupyter.\n",
    "\n",
    "If you work in **Colab**, you can download the .ipynb file to your computer using the menu bar that Colab displays at the top of the notebook. Select File, then Download, and in the submenu, *Download .ipynb*.\n",
    "\n",
    "#### Anticipated question:  Can you use the notebook of this assignment as a starting point?\n",
    "\n",
    "Sure, though you'll need to delete a lot of stuff in order to make it conform to the formatting requirements above.  I'm not sure if that's easier than starting a notebook from scratch."
   ]
  },
  {
   "cell_type": "markdown",
   "metadata": {},
   "source": [
    "## Problem 3: Timed block context manager\n",
    "\n",
    "First of all, in this problem you'll need to "
   ]
  },
  {
   "cell_type": "code",
   "execution_count": 24,
   "metadata": {},
   "outputs": [],
   "source": [
    "import time"
   ]
  },
  {
   "cell_type": "markdown",
   "metadata": {},
   "source": [
    "so that you can use `time.time()` for timing calculations.\n",
    "\n",
    "Now, create a class `TimedBlock` that is a context manager which keeps track of the total amount of time between the start and end of the with-block.  It should print a message upon the start of the with-block, and then another upon exit which includes the timing information.  The constructor should accept an argument `title` which specifies a string used to identify the block in the output messages, as shown below.\n",
    "\n",
    "Make sure your solution behaves exactly as in these examples:"
   ]
  },
  {
   "cell_type": "code",
   "execution_count": 27,
   "metadata": {},
   "outputs": [
    {
     "name": "stdout",
     "output_type": "stream",
     "text": [
      "Starting timed block 'Gigantic integer arithmetic'\n",
      "Total of 5965321 digits\n",
      "Exited timed block 'Gigantic integer arithmetic' after 0.2335s\n"
     ]
    }
   ],
   "source": [
    "# Sample usage to time a bunch of calculations\n",
    "with TimedBlock(\"Gigantic integer arithmetic\"):\n",
    "    digits = 0\n",
    "    for k in range(5000):\n",
    "        x = 3**k - 2**k\n",
    "        digits += len(str(x))\n",
    "    print(\"Total of {} digits\".format(digits))"
   ]
  },
  {
   "cell_type": "code",
   "execution_count": 28,
   "metadata": {},
   "outputs": [
    {
     "name": "stdout",
     "output_type": "stream",
     "text": [
      "Starting timed block 'Float arithmetic that eventually fails'\n",
      "Exited timed block 'Float arithmetic that eventually fails' after 0.0642s\n"
     ]
    },
    {
     "ename": "ZeroDivisionError",
     "evalue": "division by zero",
     "output_type": "error",
     "traceback": [
      "\u001b[0;31m---------------------------------------------------------------------------\u001b[0m",
      "\u001b[0;31mZeroDivisionError\u001b[0m                         Traceback (most recent call last)",
      "\u001b[0;32m/tmp/ipykernel_6198/973717916.py\u001b[0m in \u001b[0;36m<module>\u001b[0;34m\u001b[0m\n\u001b[1;32m      3\u001b[0m \u001b[0;32mwith\u001b[0m \u001b[0mTimedBlock\u001b[0m\u001b[0;34m(\u001b[0m\u001b[0;34m\"Float arithmetic that eventually fails\"\u001b[0m\u001b[0;34m)\u001b[0m\u001b[0;34m:\u001b[0m\u001b[0;34m\u001b[0m\u001b[0;34m\u001b[0m\u001b[0m\n\u001b[1;32m      4\u001b[0m     \u001b[0;32mfor\u001b[0m \u001b[0mk\u001b[0m \u001b[0;32min\u001b[0m \u001b[0mrange\u001b[0m\u001b[0;34m(\u001b[0m\u001b[0;36m5000\u001b[0m\u001b[0;34m)\u001b[0m\u001b[0;34m:\u001b[0m\u001b[0;34m\u001b[0m\u001b[0;34m\u001b[0m\u001b[0m\n\u001b[0;32m----> 5\u001b[0;31m         \u001b[0mx\u001b[0m \u001b[0;34m=\u001b[0m \u001b[0;36m1\u001b[0m \u001b[0;34m/\u001b[0m \u001b[0;34m(\u001b[0m\u001b[0;36m3\u001b[0m\u001b[0;34m**\u001b[0m\u001b[0;34m(\u001b[0m\u001b[0;36m4000\u001b[0m\u001b[0;34m-\u001b[0m\u001b[0mk\u001b[0m\u001b[0;34m)\u001b[0m \u001b[0;34m-\u001b[0m \u001b[0;36m2\u001b[0m\u001b[0;34m**\u001b[0m\u001b[0;34m(\u001b[0m\u001b[0;36m4000\u001b[0m\u001b[0;34m-\u001b[0m\u001b[0mk\u001b[0m\u001b[0;34m)\u001b[0m\u001b[0;34m)\u001b[0m\u001b[0;34m\u001b[0m\u001b[0;34m\u001b[0m\u001b[0m\n\u001b[0m",
      "\u001b[0;31mZeroDivisionError\u001b[0m: division by zero"
     ]
    }
   ],
   "source": [
    "# Sample usage showing we still get timing data if the with-block\n",
    "# raises an exception\n",
    "with TimedBlock(\"Float arithmetic that eventually fails\"):\n",
    "    for k in range(5000):\n",
    "        x = 1 / (3**(4000-k) - 2**(4000-k))"
   ]
  },
  {
   "cell_type": "code",
   "execution_count": 23,
   "metadata": {},
   "outputs": [],
   "source": [
    "# Sample usage showing output is only printed when we enter the with-block\n",
    "# and NOT when the class is instantiated\n",
    "B = TimedBlock(\"Notice the constructor doesn't print anything\")"
   ]
  },
  {
   "cell_type": "code",
   "execution_count": 31,
   "metadata": {},
   "outputs": [
    {
     "name": "stdout",
     "output_type": "stream",
     "text": [
      "Starting timed block 'Should take about 0.5 seconds'\n",
      "Exited timed block 'Should take about 0.5 seconds' after 0.5006s\n"
     ]
    }
   ],
   "source": [
    "# Sample usage showing that timing begins when the with-block begins\n",
    "# and NOT whent he TimedBlock constructor is called.\n",
    "B = TimedBlock(\"Should take about 0.5 seconds\")\n",
    "# The next delay isn't part of the timing\n",
    "time.sleep(1.5)\n",
    "with B:\n",
    "    # This delay IS part of the timing\n",
    "    time.sleep(0.5)"
   ]
  },
  {
   "cell_type": "markdown",
   "metadata": {},
   "source": [
    "## Problem 4. Digital recursion breadth\n",
    "\n",
    "Define a sequence of integers $R_n$ as follows:\n",
    "\n",
    "$$ \\begin{split}\n",
    "R_0 &= 1\\\\\n",
    "R_1 &= 1\\\\\n",
    "R_2 &= 1\\\\\n",
    "R_n &= R_{n-1} + R_{n-2} + \\cdots + R_{n-(d+2)} \\text{ if }n>2\\text{ and }n\\text{ has }d\\text{ decimal digits.}\n",
    "\\end{split}\n",
    "$$\n",
    "\n",
    "\n",
    "In other words, for $n>2$ the $n^{\\mathrm{th}}$ term is the sum of the $d+2$ preceding terms where $d$ is the number of decimal digits in $n$.\n",
    "\n",
    "For example, since the number $3$ has a single digit ($d=1$), the term $R_3$ is the sum of $d+2=3$ previous terms:\n",
    "$$ R_3 = R_2 + R_1 + R_0 = 3$$\n",
    "\n",
    "Similarly, since the number $42$ has two digits ($d=2$), the term $R_{42}$ is the sum of $d+2=4$ previous terms:\n",
    "$$ R_{42} = R_{41} + R_{40} + R_{39} + R_{38}$$\n",
    "\n",
    "The sequence thus begins\n",
    "$$1,\n",
    " 1,\n",
    " 1,\n",
    " 3,\n",
    " 5,\n",
    " 9,\n",
    " 17,\n",
    " 31,\n",
    " 57,\n",
    " 105,\n",
    " 210,\n",
    " 403, \\ldots $$\n",
    "\n",
    "with $R_{10} = 210 = 105 + 57 + 31 + 17$ being the first case where the sum includes four previous terms.\n",
    " \n",
    " ### A. Recursive implementation\n",
    " \n",
    " Write a function `DRB(n)` that calculates and returns $R_n$ using recursion.\n",
    " \n",
    " ### B. Iterative implementation\n",
    " \n",
    " Write a function `DRB_iterative(n)` that calculates and returns $R_n$ using iteration.\n",
    " \n",
    " ### C. Test\n",
    " \n",
    " Verify (by including a code cell and its output in your notebook) that the values returned by these two functions agree for $0 \\leq n < 20$."
   ]
  },
  {
   "cell_type": "markdown",
   "metadata": {},
   "source": [
    "### Revision history\n",
    "\n",
    "* 2024-02-01 Initial publication\n",
    "* 2024-02-05 Clarify how to handle authorship statement, headers, and module docstrings in the notebook format.  Changes in <span style=\"color:blue\">blue</span>."
   ]
  }
 ],
 "metadata": {
  "kernelspec": {
   "display_name": "Python 3 (ipykernel)",
   "language": "python",
   "name": "python3"
  },
  "language_info": {
   "codemirror_mode": {
    "name": "ipython",
    "version": 3
   },
   "file_extension": ".py",
   "mimetype": "text/x-python",
   "name": "python",
   "nbconvert_exporter": "python",
   "pygments_lexer": "ipython3",
   "version": "3.10.12"
  }
 },
 "nbformat": 4,
 "nbformat_minor": 4
}
