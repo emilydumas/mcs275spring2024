{
 "cells": [
  {
   "cell_type": "markdown",
   "metadata": {},
   "source": [
    "# MCS 275 Spring 2024 Homework 12 Solutions\n",
    "\n",
    "* Course Instructor: David Dumas\n"
   ]
  },
  {
   "cell_type": "markdown",
   "metadata": {},
   "source": [
    "## 2.  First come, first served\n",
    "\n",
    "Write a Flask web application that supports the following URLs and behaviors.  (When I list a URL as e.g. `/asdf/` it is an abbreviation for the full URL that would look something like `http://localhost:5000/asdf/`.)\n",
    "\n",
    "* `/<n>/` where `n` is any positive integer - If this URL has never been visited before (see below for how to determine this), displays a HTML document with a large header reading \"Congratulations, you were first!\".  But if this URL has been visited before, it instead displays a message like \"Sorry, this integer was claimed at 10:38AM on April 04, 2024.\"  Of course, the date/time in this example message is replaced with the actual time of the first visit to that URL.\n",
    "\n",
    "* `/` - The front page of the application is an HTML document that has a header reading \"First come, first served\", followed by an explanation that the user can visit `/<n>/` for any integer `n` to attempt to claim that number.  It should then say that the user can also try one of the sample integers below, followed by a bulleted list similar to this:\n",
    "\n",
    "    * `/5782/`\n",
    "    * `/1729/`\n",
    "    * `/42/`\n",
    "    * `/9718/`\n",
    "    * `/210/`\n",
    "\n",
    "    but these numbers should be replaced by five random integers less than 10000, chosen again each time the front page is served.  **Each item in the list should link to the corresponding page in the application.**\n",
    "\n",
    "In other words, this application treats positive integers as things you can 'claim' by visiting a url like `/2752024/`.  The first such visit stakes a claim, and anyone else visiting the URL from then onward will be told it is already taken.  The front page just gives you an easy way to visit a few randomly chosen URLs of that form.\n",
    "\n",
    "**Requirements for how the application does this:**\n",
    "\n",
    "* This application must use a **SQLite database** table to keep track of which integers have been visited, and when the first visit happened.  The application should create the database and table if it doesn't exist when the program is first run.  If it does exist, though, the application should use (and add to) the data already in the table.  That means the application can tell whether a URL has been visited even if it happened during a previous time the program was run.\n",
    "\n",
    "* The only mutable global variable you are allowed to create is the `flask.Flask` object representing your application.  (We usually call it `app`.)  Any data that needs to remain available from one request to the next needs to be stored in the database.\n",
    "\n",
    "* Every function that handles HTTP requests should establish, use, and close its own database connection."
   ]
  },
  {
   "cell_type": "markdown",
   "metadata": {},
   "source": [
    "### Solution\n",
    "\n",
    "Here it is in a single notebook cell.  It uses string formatting to make HTML, which is not optimal for complex pages but allows the entire solution to be shown here."
   ]
  },
  {
   "cell_type": "code",
   "execution_count": 9,
   "metadata": {},
   "outputs": [
    {
     "name": "stdout",
     "output_type": "stream",
     "text": [
      " * Serving Flask app '__main__'\n",
      " * Debug mode: off\n"
     ]
    },
    {
     "name": "stderr",
     "output_type": "stream",
     "text": [
      "WARNING: This is a development server. Do not use it in a production deployment. Use a production WSGI server instead.\n",
      " * Running on http://127.0.0.1:5000\n",
      "Press CTRL+C to quit\n"
     ]
    }
   ],
   "source": [
    "from flask import Flask\n",
    "import time\n",
    "import sqlite3\n",
    "import datetime\n",
    "import random\n",
    "\n",
    "\"First come first served web app\"\n",
    "\n",
    "DB_FN = \"claims.db\"\n",
    "\n",
    "STATIC_FIRST=\"\"\"<!doctype html>\n",
    "<html>\n",
    "<head>\n",
    "<title>Congratulations</title>\n",
    "</head>\n",
    "<body>\n",
    "<h1>Congratulations, you were first!</h1>\n",
    "</body>\n",
    "</html>\"\"\"\n",
    "\n",
    "FRONT_TEMPLATE = \"\"\"<!doctype html>\n",
    "<html>\n",
    "<head>\n",
    "<title>First come, first served</title>\n",
    "</head>\n",
    "<body>\n",
    "<h1>First come, first served</h1>\n",
    "<p>\n",
    "<ul>\n",
    "{}\n",
    "</ul>\n",
    "</body>\n",
    "</html>\"\"\"\n",
    "\n",
    "def ts_fmt(timestamp):\n",
    "    \"Format a `timestamp` (seconds since epoch) as a nice string\"\n",
    "    dt = datetime.datetime.fromtimestamp(timestamp)\n",
    "    return dt.strftime(\"%I:%M%p on %B %d, %Y\")\n",
    "\n",
    "app = Flask(__name__)\n",
    "\n",
    "@app.route(\"/\")\n",
    "def front():\n",
    "    \"Front page\"\n",
    "    return FRONT_TEMPLATE.format(\n",
    "        \"\\n\".join(\n",
    "            [ '<li><a href=\"/{0}/\">{0}</a></li>'.format(random.randrange(10000)) for _ in range(5) ]\n",
    "        )\n",
    "    )\n",
    "\n",
    "@app.route(\"/<int:claimid>/\")\n",
    "def attempt_claim(claimid):\n",
    "    \"Claim an integer if possible\"\n",
    "    now = time.time()\n",
    "    con = sqlite3.connect(DB_FN)\n",
    "    try:\n",
    "        con.execute(\n",
    "            \"\"\"\n",
    "                    INSERT INTO claims (claimid,claimed_ts)\n",
    "                    VALUES (?,?);\n",
    "                    \"\"\",\n",
    "            [\n",
    "                claimid,\n",
    "                now\n",
    "            ],\n",
    "        )\n",
    "        con.commit()\n",
    "    except sqlite3.Error:\n",
    "        # Error when inserting means it was claimed already.\n",
    "        res = con.execute(\"SELECT claimed_ts FROM claims WHERE claimid=?;\",[claimid])\n",
    "        return \"\"\"<!doctype html>\n",
    "<html>\n",
    "<head>\n",
    "<title>Already claimed!</title>\n",
    "</head>\n",
    "<body>\n",
    "<h1>Sorry!</h1>\n",
    "<p>That integer was claimed at {}.</p>\n",
    "</body>\n",
    "</html>\"\"\".format(ts_fmt(res.fetchone()[0]))\n",
    "    finally:\n",
    "        con.close()\n",
    "    \n",
    "    return STATIC_FIRST\n",
    "\n",
    "# Make sure we have a database, create if needed\n",
    "try:\n",
    "    tstcon = sqlite3.connect(DB_FN)\n",
    "    tstcon.execute(\"SELECT COUNT(*) FROM claims;\")\n",
    "except sqlite3.OperationalError:\n",
    "    print(\"WARNING: Database not found; creating.\")\n",
    "    tstcon.execute(\"DROP TABLE IF EXISTS claims;\")\n",
    "    tstcon.execute(\n",
    "        \"\"\"\n",
    "        CREATE TABLE claims (\n",
    "            claimid INTEGER PRIMARY KEY,\n",
    "            claimed_ts REAL NOT NULL\n",
    "        );\"\"\"\n",
    "    )\n",
    "    tstcon.commit()\n",
    "finally:\n",
    "    tstcon.close()\n",
    "\n",
    "app.run()"
   ]
  },
  {
   "cell_type": "markdown",
   "metadata": {},
   "source": [
    "### Revision history\n",
    "\n",
    "* 2024-04-18 Initial publication"
   ]
  }
 ],
 "metadata": {
  "kernelspec": {
   "display_name": "Python 3 (ipykernel)",
   "language": "python",
   "name": "python3"
  },
  "language_info": {
   "codemirror_mode": {
    "name": "ipython",
    "version": 3
   },
   "file_extension": ".py",
   "mimetype": "text/x-python",
   "name": "python",
   "nbconvert_exporter": "python",
   "pygments_lexer": "ipython3",
   "version": "3.10.12"
  }
 },
 "nbformat": 4,
 "nbformat_minor": 4
}
