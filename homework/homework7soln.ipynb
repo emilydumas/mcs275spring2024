{
 "cells": [
  {
   "cell_type": "markdown",
   "metadata": {},
   "source": [
    "# MCS 275 Spring 2024 Homework 7 Solutions\n",
    "\n",
    "* Course Instructor: Emily Dumas\n"
   ]
  },
  {
   "cell_type": "markdown",
   "metadata": {},
   "source": [
    "## Problem 2: Roots of the forest\n",
    "\n",
    "Work in `hwk7prob2.py`.  Import the module `trees` ([trees.py](https://github.com/daviddumas/mcs275spring2024/blob/main/samplecode/datastructures/trees.py)).\n",
    "\n",
    "Write a function `forest_roots(...)` that takes one argument, `node_list`, which is a list of `Node`s.  These nodes might all be in the same binary tree, or they may be scattered across several different trees.  The function should return a list of the root nodes of all the trees that contain some node from `node_list`.  Each root node should only be listed once.\n",
    "\n",
    "Example behavior:\n",
    "\n",
    "* If `node_list` is empty:  returns `[]` (empty list)\n",
    "\n",
    "* If all nodes in `node_list` lie in the same binary tree:  returns `[ R ]` where `R` is the root node of that tree.\n",
    "\n",
    "* If `node_list = [A1,A2,B]` where `A1` and `A2` are siblings and `B` lies in a different binary tree, returns `[ RA, RB ]` where `RA` is the root of the tree containing `A1` and `A2` and `RB` is the root of the tree containing `B`.\n",
    "\n",
    "**Make sure to give the function a descriptive docstring.**"
   ]
  },
  {
   "cell_type": "markdown",
   "metadata": {},
   "source": [
    "### Solution"
   ]
  },
  {
   "cell_type": "code",
   "execution_count": 2,
   "metadata": {},
   "outputs": [],
   "source": [
    "def root_node(x):\n",
    "    \"\"\"\n",
    "    Pass from node `x` to parent repeatedly until\n",
    "    the root is found\n",
    "    \"\"\"\n",
    "    if x.parent == None:\n",
    "        return x\n",
    "    else:\n",
    "        return root_node(x.parent)\n",
    "\n",
    "def forest_roots(node_list):\n",
    "    \"\"\"\n",
    "    Return a list of distinct root nodes for the trees\n",
    "    containing the nodes in `node_list`.  \n",
    "    \"\"\"\n",
    "    roots_list = []\n",
    "    for x in node_list:\n",
    "        r = root_node(x)\n",
    "        if r not in roots_list:\n",
    "            roots_list.append(r)\n",
    "    return roots_list"
   ]
  },
  {
   "cell_type": "markdown",
   "metadata": {},
   "source": [
    "## Problem 3: Counting increment edges\n",
    "\n",
    "Work in `hwk7prob3.py`.  Import the module `trees` ([trees.py](https://github.com/daviddumas/mcs275spring2024/blob/main/samplecode/datastructures/trees.py)).\n",
    "\n",
    "The *edges* of a tree are all the pairs of nodes `(p,c)` where `p` is the parent of `c`.  (If you draw a picture of the tree, then there is one straight line in your picture for each such pair.)\n",
    "\n",
    "Suppose you have a binary search tree (BST) with keys that are integers.  Let's say that an edge `(p,c)` is an **increment edge** if the keys of `p` and `c` differ by one.  That is, either `c` is the left child of `p` and `c.key+1 == p.key` or `c` is the right child of `p` and `p.key+1 == c.key`.\n",
    "\n",
    "Write a function `num_increment_edges(T)` that takes the root node `T` of such a BST and returns the number of increment edges.  You can use any method you like (e.g. recursion or iteration).\n",
    "\n",
    "**Make sure to give the function a descriptive docstring.**"
   ]
  },
  {
   "cell_type": "code",
   "execution_count": 9,
   "metadata": {},
   "outputs": [],
   "source": [
    "def num_increment_edges(T):\n",
    "    \"\"\"\n",
    "    Count the number of edges in BST `T` that join two\n",
    "    nodes whose keys differ by one.\n",
    "    \"\"\"\n",
    "    if T.key == None:\n",
    "        return 0\n",
    "    n = 0\n",
    "    k = T.key\n",
    "    if T.left != None:\n",
    "        # There's an edge to left; maybe it is an increment edge\n",
    "        if T.left.key == k-1:\n",
    "            n += 1 # Yes, so count it\n",
    "        # Now count any edges in the left subtree\n",
    "        n += num_increment_edges(T.left)\n",
    "    if T.right != None:\n",
    "        # There's an edge to right; maybe it is an increment edge\n",
    "        if T.right.key == k+1:\n",
    "            n += 1 # Yes, so count it\n",
    "        # Now count any edges in the right subtree\n",
    "        n += num_increment_edges(T.right)\n",
    "    return n"
   ]
  }
 ],
 "metadata": {
  "kernelspec": {
   "display_name": "Python 3 (ipykernel)",
   "language": "python",
   "name": "python3"
  },
  "language_info": {
   "codemirror_mode": {
    "name": "ipython",
    "version": 3
   },
   "file_extension": ".py",
   "mimetype": "text/x-python",
   "name": "python",
   "nbconvert_exporter": "python",
   "pygments_lexer": "ipython3",
   "version": "3.10.12"
  }
 },
 "nbformat": 4,
 "nbformat_minor": 4
}
