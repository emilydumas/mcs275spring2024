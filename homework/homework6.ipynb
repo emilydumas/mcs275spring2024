{
 "cells": [
  {
   "cell_type": "markdown",
   "metadata": {},
   "source": [
    "# MCS 275 Spring 2024 Homework 6\n",
    "\n",
    "* Course Instructor: Emily Dumas"
   ]
  },
  {
   "cell_type": "markdown",
   "metadata": {},
   "source": [
    "### Deadline\n",
    "This homework assignment must be submitted in Gradescope by **Noon central time on Tuesday February 20, 2024**.\n",
    "\n",
    "### Collaboration\n",
    "\n",
    "**Collaboration is prohibited**, and while working on this you should only consult the resources (books, online, etc.) listed below.\n",
    "\n",
    "### Content\n",
    "This assignment corresponds to Worksheet 6, which is about comparison sorts.\n",
    "\n",
    "### Resources you may consult\n",
    "\n",
    "The materials you may refer to for this homework are:\n",
    "* **Most likely useful**\n",
    "    * [Worksheet 6](https://www.dumas.io/teaching/2024/spring/mcs275/nbview/worksheets/worksheet6.html)\n",
    "    * [Worksheet 6 Solutions](https://www.dumas.io/teaching/2024/spring/mcs275/nbview/worksheets/worksheet6soln.html) - This link will work once the solutions are posted\n",
    "    * [Lecture 12 - Mergesort](http://dumas.io/teaching/2024/spring/mcs275/slides/lecture12.html)\n",
    "    * [Lecture 13 - Quicksort](http://dumas.io/teaching/2024/spring/mcs275/slides/lecture13.html)\n",
    "    * [Lecture 14 - Comparison sorts](http://dumas.io/teaching/2024/spring/mcs275/slides/lecture14.html)\n",
    "    * [sorts.py](https://github.com/daviddumas/mcs275spring2024/blob/main/samplecode/recursion/sorts.py)\n",
    "    * Programs in the course [sample code repository](https://github.com/daviddumas/mcs275spring2024/tree/main/samplecode).\n",
    "* **Allowed, but less likely to be useful:**\n",
    "    * Any of the MCS 275 lecture materials, worksheets, previous homework assignments, or solutions to these, if posted on the course Blackboard site.\n",
    "    * Slides from any lecture of my [MCS 260 course from Fall 2021](https://www.dumas.io/teaching/2021/fall/mcs260/).\n",
    "    * Any lecture video posted on the [MCS 275 Blackboard site](https://uic.blackboard.com/ultra/courses/_267469_1/outline)\n",
    "    * Any textbook listed on the course blackboard site under \"Textbooks\"\n",
    "\n",
    "\n",
    "### Point distribution\n",
    "\n",
    "This homework assignment has two problems.  The grading breakdown is:\n",
    "\n",
    "| Points | Item |\n",
    "| --- | --- |\n",
    "| 4 | Autograder syntax checks (problem 1) |\n",
    "| 5 | Problem 2 |\n",
    "| 5 | Problem 3 |\n",
    "| **14** | Total |\n",
    "\n",
    "### What to do if you're stuck\n",
    "\n",
    "Ask your instructor or TA a question by email, in office hours, or on discord."
   ]
  },
  {
   "cell_type": "markdown",
   "metadata": {},
   "source": [
    "## Problem 2: Existing pivot indices\n",
    "\n",
    "Work in `hwk6prob2.py`.\n",
    "\n",
    "Recall that in our implementation of `quicksort`, we wrote a `partition` function that uses the last element of the list (or portion thereof) as a pivot.  However, as we discussed, one can partition a list using any item as a pivot.  In worksheet 6 you explored this a bit.\n",
    "\n",
    "Now, sometimes it may happen that a list is *already* partitioned at a certain index.  For example, if we consider the list"
   ]
  },
  {
   "cell_type": "code",
   "execution_count": 19,
   "metadata": {},
   "outputs": [],
   "source": [
    "L       = [6, 7, 8, 22, 9, 20, 5, 1, 23, 43, 71, 63]\n",
    "# index :  0  1  2   3  4   5  6  7   8   9  10  11"
   ]
  },
  {
   "cell_type": "markdown",
   "metadata": {},
   "source": [
    "Then we can see it is already partitioned at index 8 (i.e. `L[8]=23` is bigger than everything before it, and less than or equal to everything after it).\n",
    "\n",
    "Similarly the example list above is also already partitioned at index 9, as you can check.\n",
    "\n",
    "Write a function"
   ]
  },
  {
   "cell_type": "code",
   "execution_count": null,
   "metadata": {},
   "outputs": [],
   "source": [
    "def already_partitioned_indices(L):"
   ]
  },
  {
   "cell_type": "markdown",
   "metadata": {},
   "source": [
    "that takes a list `L` whose items support comparison, and which returns a list of all the indices `i` such that `L` is already partitioned with pivot `L[i]`.\n",
    "\n",
    "The list `L` should not be modified by calling this function.\n",
    "\n",
    "Sample return values:"
   ]
  },
  {
   "cell_type": "code",
   "execution_count": 25,
   "metadata": {},
   "outputs": [
    {
     "data": {
      "text/plain": [
       "[8, 9]"
      ]
     },
     "execution_count": 25,
     "metadata": {},
     "output_type": "execute_result"
    }
   ],
   "source": [
    "already_partitioned_indices([6,7,8,22,9,20,5,1,23,43,71,63])"
   ]
  },
  {
   "cell_type": "code",
   "execution_count": 35,
   "metadata": {},
   "outputs": [
    {
     "data": {
      "text/plain": [
       "[3]"
      ]
     },
     "execution_count": 35,
     "metadata": {},
     "output_type": "execute_result"
    }
   ],
   "source": [
    "already_partitioned_indices([15,8,4,16,42,23])"
   ]
  },
  {
   "cell_type": "code",
   "execution_count": 36,
   "metadata": {},
   "outputs": [
    {
     "data": {
      "text/plain": [
       "[0, 1, 2, 3, 4, 5]"
      ]
     },
     "execution_count": 36,
     "metadata": {},
     "output_type": "execute_result"
    }
   ],
   "source": [
    "already_partitioned_indices([2,4,8,16,32,64])"
   ]
  },
  {
   "cell_type": "markdown",
   "metadata": {},
   "source": [
    "## Problem 3: Quicksort using existing pivot info\n",
    "\n",
    "Work in `hwk6prob3.py`.\n",
    "\n",
    "Be sure to read problem 2 first.\n",
    "\n",
    "The function `already_partitioned_indices` you wrote in problem 2 probably takes as long to run as sorting the list `L`, and for that reason you wouldn't want to use it as part of a sorting algorithm.\n",
    "\n",
    "However, imagine you were given a list `L` and also given some information about indices where it is already partitioned, e.g. you might be asked\n",
    "\n",
    "> \"I have a list `L`.  It has 100 elements, and I happen to know that it is already partitioned at indices 4 and 62.\"\n",
    "\n",
    "Write a version of quicksort that takes advantage of this kind of information as follows:  Any time the usual `quicksort` would call `partition`, this \"hinted\" version of quicksort will first check to see if there is an index where we already know the list is partitioned that can be used instead.  If not, it falls back to calling `partition` as usual.\n",
    "\n",
    "Use the following function name, argument list, and docstring:"
   ]
  },
  {
   "cell_type": "code",
   "execution_count": null,
   "metadata": {},
   "outputs": [],
   "source": [
    "def hinted_quicksort(L,start=0,end=None,known_pivot_indices=[]):\n",
    "    \"\"\"\n",
    "    In-place quicksort that operates on the part of `L`\n",
    "    between index `start` and index `end`, not including\n",
    "    the latter.  If omitted, `start` is taken to be the \n",
    "    start of the list, and `end` is taken to be beyond \n",
    "    the end of the list.\n",
    "\n",
    "    If given, the optional `known_pivot_indices` should be a\n",
    "    list of indices in `L` at which the list is known to \n",
    "    already be partitioned.  There is no guarantee that every\n",
    "    such index is included in that argument, nor that all the\n",
    "    indices given lie between `start` and `end`.\n",
    "    \"\"\""
   ]
  },
  {
   "cell_type": "markdown",
   "metadata": {},
   "source": [
    "You're welcome to freely use of any of the code from `sorts.py` or worksheet 6 as a starting point for your answer.\n",
    "\n",
    "Remember, **do not call `already_partitioned_indices` in your answer to problem 3**.  This problem does not involve *finding* already partitioned indices, but rather it focuses on *using* that kind of information as part of a sorting process."
   ]
  },
  {
   "cell_type": "markdown",
   "metadata": {},
   "source": [
    "### Revision history\n",
    "\n",
    "* 2024-02-15 Initial publication"
   ]
  }
 ],
 "metadata": {
  "kernelspec": {
   "display_name": "Python 3 (ipykernel)",
   "language": "python",
   "name": "python3"
  },
  "language_info": {
   "codemirror_mode": {
    "name": "ipython",
    "version": 3
   },
   "file_extension": ".py",
   "mimetype": "text/x-python",
   "name": "python",
   "nbconvert_exporter": "python",
   "pygments_lexer": "ipython3",
   "version": "3.10.12"
  }
 },
 "nbformat": 4,
 "nbformat_minor": 4
}
