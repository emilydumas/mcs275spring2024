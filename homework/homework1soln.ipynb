{
 "cells": [
  {
   "cell_type": "markdown",
   "metadata": {},
   "source": [
    "# MCS 275 Spring 2024 Homework 1 Solutions\n",
    "\n",
    "* Course Instructor: Emily Dumas"
   ]
  },
  {
   "cell_type": "markdown",
   "metadata": {},
   "source": [
    "## Instructions:\n",
    "\n",
    "* Complete the problems below, which ask you to create Python scripts or other files.\n",
    "* Upload the files directly to gradescope, i.e. upload the `.py` files containing your code for problem 3 and an image files containing the screenshot requested in problem 2.\n",
    "\n",
    "### Deadline\n",
    "This homework assignment must be submitted in Gradescope by **Noon central time on Wednesday 17 January 2024**.\n",
    "\n",
    "(Note:That's a deviation from the usual schedule where homework is due on Tuesdays.)\n",
    "\n",
    "### Collaboration\n",
    "\n",
    "**Collaboration is prohibited**, and you may only access resources (books, online, etc.) listed below.\n",
    "\n",
    "### Content\n",
    "This assignment is based on the first week of lecture, so it's basically checking that you have Python working and giving you a MCS 260-level coding exercise.  Homework 2 will be similar but more challenging.  Homework 3 will be about new material.\n",
    "\n",
    "### Resources you may consult\n",
    "\n",
    "The materials you may refer to for this homework are:\n",
    "* **Most likely useful**\n",
    "    * [Worksheet 1](https://www.dumas.io/teaching/2024/spring/mcs275/nbview/worksheets/worksheet1.html)\n",
    "    * [Worksheet 1 Solutions](https://www.dumas.io/teaching/2024/spring/mcs275/nbview/worksheets/worksheet1soln.html) - This link will work once the solutions are posted\n",
    "    * [Python tour](https://www.dumas.io/teaching/2024/spring/mcs275/nbview/samplecode/python_tour.html)\n",
    "* **Allowed, but less likely to be useful:**\n",
    "    * Any of the MCS 275 lecture materials\n",
    "    * Slides from any lecture of my [MCS 260 course from Fall 2021](https://www.dumas.io/teaching/2021/fall/mcs260/).\n",
    "    * Any lecture video posted on the [MCS 275 Blackboard site](https://uic.blackboard.com/ultra/courses/_267469_1/outline)\n",
    "    * Any textbook listed on the course blackboard site under \"Textbooks\"\n",
    "    * Anything in the course [sample code repository](https://github.com/daviddumas/mcs275spring2024/tree/main/samplecode).\n",
    "\n",
    "### Point distribution\n",
    "\n",
    "This homework assignment has 2 problems, numbered 2 and 3.  The grading breakdown is:\n",
    "\n",
    "| Points | Item |\n",
    "| --- | --- |\n",
    "| 4 | Autograder |\n",
    "| 5 | Problem 2 |\n",
    "| 5 | Problem 3 |\n",
    "| **14** | Total |\n",
    "\n",
    "The part marked \"autograder\" reflects points assigned to your submission based on some simple automated checks for Python syntax, etc.  The result of these checks is shown immediately after you submit.\n",
    "\n",
    "### What to do if you're stuck\n",
    "\n",
    "Ask your instructor or TA a question by email, in office hours, or on discord."
   ]
  },
  {
   "cell_type": "markdown",
   "metadata": {},
   "source": [
    "## Problem 1 doesn't exist\n",
    "\n",
    "Homework problem numbers will always start at **2**, because Gradescope uses \"Problem 1\" to report the Autograder results---i.e., a few automated checks of whatever you submit for the other problems.\n",
    "\n",
    "**This will happen on every assignment this semester.**"
   ]
  },
  {
   "cell_type": "markdown",
   "metadata": {},
   "source": [
    "## Problem 2: Show us that Python is working (with `checkup.py`)\n",
    "\n",
    "You probably downloaded and ran the \"Python checkup script\" in the first lab.  If not, please download it now and save it somewhere you can find it:\n",
    "* [checkup.py](https://raw.githubusercontent.com/daviddumas/mcs275spring2024/main/samplecode/checkup.py)\n",
    "\n",
    "For this problem, I'd just like you to show that you can run this script on the computer you plan to use for MCS 275 and that you have a recent version of Python.\n",
    "\n",
    "**To do that, open a terminal, change to the directory containg `checkup.py`, then run the command `python3 checkup.py` (or replace `python3` with your interpreter name, if different).  Then take a screenshot of the part of your screen where the output from the script is displayed.**\n",
    "\n",
    "By \"take a screenshot\" I mean \"capture the contents of part of your computer screen as an image file\", which is possible in every popular operating system (e.g. Windows, MacOS, linux).  The exact way to do it varies, but you can find instructions here:\n",
    "* [How to take a screenshot in different operating systems](https://www.take-a-screenshot.org/)\n",
    "\n",
    "**Save the screenshot as an image file (ideally `PNG`) and upload that file as part of your homework 1 submission.**\n",
    "\n",
    "Here's an example of what the image might look like.  It was captured on the instructor's Windows PC by pressing the key combination (Windows key) + (shift) + (s):\n",
    "\n",
    "![Windows screenshot of checkup.py output](images/hwk1-checkup-output-windows.png)\n",
    "\n",
    "For full credit your image must:\n",
    "* Show the full output of `checkup.py`\n",
    "* Indicate that you have some version of Python 3 running\n",
    "    * MCS 275 asks you to have 3.10 or higher, but any 3.x version will get you credit here.\n",
    "* Be captured by you on a computer you plan to use for MCS 275 coursework.\n",
    "\n",
    "**Note:** You don't need to submit an image of your entire desktop!  Just capture the part with the checkup.py output.  Don't worry about cropping perfectly, it's OK if a bit of the background is visible around the edges."
   ]
  },
  {
   "cell_type": "markdown",
   "metadata": {},
   "source": [
    "### Solution\n",
    "\n",
    "*The problem statement contains a sample screenshot.*"
   ]
  },
  {
   "cell_type": "markdown",
   "metadata": {},
   "source": [
    "## Problem 3: Triangle wave\n",
    "\n",
    "*There was a typo in the original assignment; the label \"Problem 2\" was used for both problems until this was corrected after the deadline.*\n",
    "\n",
    "A **triangle wave** is the graph of a piecewise-linear function that alternates between having slope 1 and -1 and is periodic.  Here's a picture of one:\n",
    "\n",
    "![triangle wave graph](images/hwk1-trianglewave.png)\n",
    "\n",
    "One way to render something like this using text is to print a combination of forward and backward slashes (`\\` and `/`) and spaces.  It's natural to print a certain number of whole cycles (triangular humps). For example, here is a a block of text that makes a picture of a triangle wave of height 2 that shows 6 cycles:\n",
    "\n",
    "```\n",
    " /\\  /\\  /\\  /\\  /\\  /\\ \n",
    "/  \\/  \\/  \\/  \\/  \\/  \\\n",
    "```\n",
    "and here is one of height 4 that shows 3 cycles:\n",
    "```\n",
    "   /\\      /\\      /\\\n",
    "  /  \\    /  \\    /  \\\n",
    " /    \\  /    \\  /    \\\n",
    "/      \\/      \\/      \\\n",
    "```\n",
    "and finally one of height 1 that shows 10 cycles:\n",
    "```\n",
    "/\\/\\/\\/\\/\\/\\/\\/\\/\\/\\\n",
    "```\n",
    "\n",
    "**Note:** On a mobile device or in a narrow window, line wrapping might make the text blocks above not look the way they're supposed to.  In case that happens to you, here's a picture of what the three examples above should look like:\n",
    "\n",
    "<img src=\"images/hwk1-text-trianglewave.png\" alt=\"text triangle waves\" width=314>\n",
    "\n",
    "**In each case, the height is the number of lines of text that make up the picture, and the number cycles is the total number of upward-pointing triangular \"peaks\".**\n",
    "\n",
    "Create a file called `hwk1prob3.py` that contains a single function with the following definition"
   ]
  },
  {
   "cell_type": "code",
   "execution_count": null,
   "metadata": {},
   "outputs": [],
   "source": [
    "def triangle_wave(height, cycles):"
   ]
  },
  {
   "cell_type": "markdown",
   "metadata": {},
   "source": [
    "**Write the body of that function** so it works as follows:\n",
    "* The arguments are assumed to be positive integers.\n",
    "* The function returns a string containing only spaces, newline characters, and slashes.\n",
    "* If the returned string is printed, it makes a picture of a triangle wave of height `height` that shows `cycles` cycles.\n",
    "\n",
    "**Upload `hwk1prob3.py` as part of your homework 1 submission.**\n",
    "\n",
    "Here are some examples where the expected return values of this function are printed.  You can use the same statements to test your work."
   ]
  },
  {
   "cell_type": "code",
   "execution_count": 30,
   "metadata": {
    "scrolled": false
   },
   "outputs": [
    {
     "name": "stdout",
     "output_type": "stream",
     "text": [
      "   /\\      /\\      /\\      /\\      /\\      /\\   \n",
      "  /  \\    /  \\    /  \\    /  \\    /  \\    /  \\  \n",
      " /    \\  /    \\  /    \\  /    \\  /    \\  /    \\ \n",
      "/      \\/      \\/      \\/      \\/      \\/      \\\n",
      "\n"
     ]
    }
   ],
   "source": [
    "print(triangle_wave(4,6))"
   ]
  },
  {
   "cell_type": "code",
   "execution_count": 31,
   "metadata": {},
   "outputs": [
    {
     "name": "stdout",
     "output_type": "stream",
     "text": [
      "  /\\    /\\    /\\    /\\    /\\    /\\    /\\    /\\    /\\  \n",
      " /  \\  /  \\  /  \\  /  \\  /  \\  /  \\  /  \\  /  \\  /  \\ \n",
      "/    \\/    \\/    \\/    \\/    \\/    \\/    \\/    \\/    \\\n",
      "\n"
     ]
    }
   ],
   "source": [
    "print(triangle_wave(3,9))"
   ]
  },
  {
   "cell_type": "code",
   "execution_count": 32,
   "metadata": {},
   "outputs": [
    {
     "name": "stdout",
     "output_type": "stream",
     "text": [
      "       /\\       \n",
      "      /  \\      \n",
      "     /    \\     \n",
      "    /      \\    \n",
      "   /        \\   \n",
      "  /          \\  \n",
      " /            \\ \n",
      "/              \\\n",
      "\n"
     ]
    }
   ],
   "source": [
    "print(triangle_wave(8,1))"
   ]
  },
  {
   "cell_type": "markdown",
   "metadata": {},
   "source": [
    "### Solution 1"
   ]
  },
  {
   "cell_type": "markdown",
   "metadata": {},
   "source": [
    "This way of solving it uses strings that look like `\"      /\"` and `\"\\\\      \"` to build each row, then shifts those strings left or right by one character to make the next row."
   ]
  },
  {
   "cell_type": "code",
   "execution_count": 9,
   "metadata": {},
   "outputs": [],
   "source": [
    "def triangle_wave(height, cycles):\n",
    "    \"Display a triangle wave using text-based graphics\"\n",
    "    ascent = \" \"*(height-1) + \"/\"    # something like \"    /\"\n",
    "    descent = \"\\\\\" + \" \"*(height-1)  # something like \"\\\\    \"\n",
    "    s = \"\"\n",
    "    for shift in range(height):\n",
    "        t = ascent + descent # horizontal slice of one triangular hump\n",
    "        ascent = ascent[1:] + ascent[:1] # shift the ascending part right\n",
    "        descent = descent[-1:] + descent[:-1] # shift the descending part left\n",
    "        s += t*cycles + \"\\n\" # repeat the slice `cycles` times with newline at the end\n",
    "    return s"
   ]
  },
  {
   "cell_type": "markdown",
   "metadata": {},
   "source": [
    "### Solution 2"
   ]
  },
  {
   "cell_type": "markdown",
   "metadata": {},
   "source": [
    "Here's another approach that constructs each row from scratch rather than using the way one row is derived from the one before it.  It also uses nested loops to make the cycles, rather than the multiplication operator used in solution 1."
   ]
  },
  {
   "cell_type": "code",
   "execution_count": 1,
   "metadata": {},
   "outputs": [],
   "source": [
    "def triangle_wave(height, cycles):\n",
    "    \"Display a triangle wave using text-based graphics\"\n",
    "    s = \"\"\n",
    "    for i in range(height): # height = number of lines\n",
    "        for _ in range(cycles): # assemble one line using `cycles` identical pieces\n",
    "            s += \" \"*(height-i-1) + \"/\" + \" \"*i  # next / and space on each side\n",
    "            s += \" \"*i + \"\\\\\" + \" \"*(height-i-1) # next \\ and space on each side\n",
    "        s += \"\\n\" # newline after each row\n",
    "    return s"
   ]
  }
 ],
 "metadata": {
  "kernelspec": {
   "display_name": "Python 3 (ipykernel)",
   "language": "python",
   "name": "python3"
  },
  "language_info": {
   "codemirror_mode": {
    "name": "ipython",
    "version": 3
   },
   "file_extension": ".py",
   "mimetype": "text/x-python",
   "name": "python",
   "nbconvert_exporter": "python",
   "pygments_lexer": "ipython3",
   "version": "3.10.12"
  }
 },
 "nbformat": 4,
 "nbformat_minor": 4
}
