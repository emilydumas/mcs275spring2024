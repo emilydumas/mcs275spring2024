{
 "cells": [
  {
   "cell_type": "markdown",
   "metadata": {},
   "source": [
    "# MCS 275 Spring 2024 Homework 2\n",
    "\n",
    "* Course Instructor: Emily Dumas"
   ]
  },
  {
   "cell_type": "markdown",
   "metadata": {},
   "source": [
    "## Instructions:\n",
    "\n",
    "* Complete the problems below, which ask you to create Python scripts.\n",
    "* Upload the files directly to gradescope, i.e. upload the `.py` files containing your code.\n",
    "\n",
    "### Deadline\n",
    "This homework assignment must be submitted in Gradescope by **Noon central time on Tuesday January 23, 2024**.\n",
    "\n",
    "### Collaboration\n",
    "\n",
    "**Collaboration is prohibited**, and you may only access resources (books, online, etc.) listed below.\n",
    "\n",
    "### Content\n",
    "This assignment corresponds to Worksheet 2, which involves some Python review and object-oriented programming.\n",
    "\n",
    "### Resources you may consult\n",
    "\n",
    "The materials you may refer to for this homework are:\n",
    "* **Most likely useful**\n",
    "    * [Worksheet 2](https://www.dumas.io/teaching/2024/spring/mcs275/nbview/worksheets/worksheet2.html)\n",
    "    * [Worksheet 2 Solutions](https://www.dumas.io/teaching/2024/spring/mcs275/nbview/worksheets/worksheet2soln.html) - This link will work once the solutions are posted\n",
    "    * [Lecture 1](https://www.dumas.io/teaching/2024/spring/mcs275/slides/lecture1.html)\n",
    "    * [Lecture 2](https://www.dumas.io/teaching/2024/spring/mcs275/slides/lecture2.html)\n",
    "    * [Lecture 3](https://www.dumas.io/teaching/2024/spring/mcs275/slides/lecture3.html)\n",
    "* **Allowed, but less likely to be useful:**\n",
    "    * Any of the MCS 275 lecture materials, worksheets, previous homework assignments, or solutions to these, if posted on the course Blackboard site.\n",
    "    * Slides from any lecture of my [MCS 260 course from Fall 2021](https://www.dumas.io/teaching/2021/fall/mcs260/).\n",
    "    * Any lecture video posted on the [MCS 275 Blackboard site](https://uic.blackboard.com/ultra/courses/_267469_1/outline)\n",
    "    * Any textbook listed on the course blackboard site under \"Textbooks\"\n",
    "    * Anything in the course [sample code repository](https://github.com/daviddumas/mcs275spring2024/tree/main/samplecode).\n",
    "\n",
    "### Point distribution\n",
    "\n",
    "This homework assignment has 3 problems, numbered 2 and 3. The grading breakdown is:\n",
    "\n",
    "| Points | Item |\n",
    "| --- | --- |\n",
    "| 4 | Autograder |\n",
    "| 5 | Problem 2 |\n",
    "| 5 | Problem 3 |\n",
    "| **14** | Total |\n",
    "\n",
    "The part marked \"autograder\" reflects points assigned to your submission based on some simple automated checks for Python syntax, etc.  The result of these checks is shown immediately after you submit.\n",
    "\n",
    "### What to do if you're stuck\n",
    "\n",
    "Ask your instructor or TA a question by email, in office hours, or on discord."
   ]
  },
  {
   "cell_type": "markdown",
   "metadata": {},
   "source": [
    "## Problem 1 doesn't exist\n",
    "\n",
    "Homework problem numbers will always start at **2**, because Gradescope uses \"Problem 1\" to report the Autograder results---i.e., a few automated checks of whatever you submit for the other problems.\n",
    "\n",
    "**This will happen on every assignment this semester.**"
   ]
  },
  {
   "cell_type": "markdown",
   "metadata": {},
   "source": [
    "## Problem 2: Longest word chain\n",
    "\n",
    "*Put the code you write for this problem in `hwk2prob2.py`.*\n",
    "\n",
    "A *word chain* is a list of words (which we'll represent as a list of Python strings) where the last letter of each word is the same as the first letter of the next word.  For example, this is a word chain:\n",
    "```\n",
    "[\"optimistic\", \"crustaceans\", \"suspend\", \"disbelief\", \"furtively\"]\n",
    "```\n",
    "Of course any list with zero or one words would be considered a word chain, because there's nothing to check.\n",
    "\n",
    "However, the following is **not** a word chain\n",
    "```\n",
    "[\"intense\", \"evaluation\", \"never\", \"reveals\", \"anything\", \"great\"]\n",
    "```\n",
    "because the last letter of `reveals` differs from the first letter of the next word, `anything`.\n",
    "\n",
    "The second list shown above does have some slices that are word chains, though.  For example, if the list `[\"intense\", ... , \"great\"]` shown above is called `L`, then the following are a few examples of slices of it that **are** word chains:\n",
    "```\n",
    "L[1:3] = [\"evaluation\", \"never\"]\n",
    "L[0:4] = [\"intense\", \"evaluation\", \"never\", \"reveals\"]\n",
    "L[4:5] = [\"anything\"]\n",
    "L[4:6] = [\"anything\", \"great\"]\n",
    "```\n",
    "(This list is not exhaustive. There are other slices of `L` that form word chains.)\n",
    "\n",
    "Consider the following question:\n",
    "**Given a list of words, what is the longest word chain that it contains as a slice?**\n",
    "\n",
    "Write a function `longest_word_chain(L)` that takes a list `L` of words (strings) and returns a list of strings that is a slice of `L`, is a word chain, and which has the longest length among slices of `L` that are word chains.\n",
    "\n",
    "It's possible that there could be a \"tie\" for longest word chain in `L`.  In that case, the function can return any slice that's a word chain of maximal length."
   ]
  },
  {
   "cell_type": "markdown",
   "metadata": {},
   "source": [
    "Here are some examples of what a working answer might return.  Each example notes whether there are other possible correct return values."
   ]
  },
  {
   "cell_type": "markdown",
   "metadata": {},
   "source": [
    "#### Example 1"
   ]
  },
  {
   "cell_type": "code",
   "execution_count": 103,
   "metadata": {},
   "outputs": [
    {
     "data": {
      "text/plain": [
       "['our', 'regal', 'lycanthropy']"
      ]
     },
     "execution_count": 103,
     "metadata": {},
     "output_type": "execute_result"
    }
   ],
   "source": [
    "longest_word_chain([\"greet\",\"our\",\"regal\",\"lycanthropy\",\"enthusiast\"])"
   ]
  },
  {
   "cell_type": "markdown",
   "metadata": {},
   "source": [
    "**Unique correct answer:** This is the only valid return value for example 1."
   ]
  },
  {
   "cell_type": "markdown",
   "metadata": {},
   "source": [
    "#### Example 2"
   ]
  },
  {
   "cell_type": "code",
   "execution_count": 104,
   "metadata": {},
   "outputs": [
    {
     "data": {
      "text/plain": [
       "['ungrateful']"
      ]
     },
     "execution_count": 104,
     "metadata": {},
     "output_type": "execute_result"
    }
   ],
   "source": [
    "longest_word_chain([\"ungrateful\",\"elephants\",\"talk\",\"about\",\"university\",\"tuition\"])"
   ]
  },
  {
   "cell_type": "markdown",
   "metadata": {},
   "source": [
    "**Multiple correct answers:** Any slice of length one would be correct for example 2, so the other correct return values would be:\n",
    "```\n",
    "['elephants']\n",
    "```\n",
    "or\n",
    "```\n",
    "['talk']\n",
    "```\n",
    "or\n",
    "```\n",
    "['about']\n",
    "```\n",
    "or\n",
    "```\n",
    "['university']\n",
    "```\n",
    "or\n",
    "```\n",
    "['tuition']\n",
    "```"
   ]
  },
  {
   "cell_type": "markdown",
   "metadata": {},
   "source": [
    "#### Example 3"
   ]
  },
  {
   "cell_type": "code",
   "execution_count": 105,
   "metadata": {},
   "outputs": [
    {
     "data": {
      "text/plain": [
       "['incomprehensibilities']"
      ]
     },
     "execution_count": 105,
     "metadata": {},
     "output_type": "execute_result"
    }
   ],
   "source": [
    "longest_word_chain([\"incomprehensibilities\"])"
   ]
  },
  {
   "cell_type": "markdown",
   "metadata": {},
   "source": [
    "**Unique correct answer:** This is the only valid return value for example 3"
   ]
  },
  {
   "cell_type": "markdown",
   "metadata": {},
   "source": [
    "#### Example 4"
   ]
  },
  {
   "cell_type": "code",
   "execution_count": 106,
   "metadata": {},
   "outputs": [
    {
     "data": {
      "text/plain": [
       "[]"
      ]
     },
     "execution_count": 106,
     "metadata": {},
     "output_type": "execute_result"
    }
   ],
   "source": [
    "longest_word_chain([])"
   ]
  },
  {
   "cell_type": "markdown",
   "metadata": {},
   "source": [
    "**Unique correct answer:** This is the only valid return value for example 4"
   ]
  },
  {
   "cell_type": "markdown",
   "metadata": {},
   "source": [
    "#### Example 5"
   ]
  },
  {
   "cell_type": "code",
   "execution_count": 107,
   "metadata": {},
   "outputs": [
    {
     "data": {
      "text/plain": [
       "['inventions', 'sometimes']"
      ]
     },
     "execution_count": 107,
     "metadata": {},
     "output_type": "execute_result"
    }
   ],
   "source": [
    "longest_word_chain([\"accidental\",\"inventions\",\"sometimes\",\"make\",\"excellent\",\"coffee\"])"
   ]
  },
  {
   "cell_type": "markdown",
   "metadata": {},
   "source": [
    "**Multiple correct answers:** There are two slices of length 2 that form word chains, so there is one other return value that would also be correct for example 5:\n",
    "```\n",
    "['make', 'excellent']\n",
    "```"
   ]
  },
  {
   "cell_type": "markdown",
   "metadata": {},
   "source": [
    "## Problem 3: Pilot data class\n",
    "\n",
    "*Put the code you write for this problem in `hwk2prob3.py`.*\n",
    "\n",
    "Imagine an organization that maintains a fleet of [blimps](https://en.wikipedia.org/wiki/Blimp), and which must hire and maintain personnel records for the people who operate those blimps.\n",
    "\n",
    "In this imaginary organization, there is a strict promotion ladder for blimp operators, with the following titles listed from most junior to most senior:\n",
    "* *Trainee*\n",
    "* *Junior pilot*\n",
    "* *Pilot*\n",
    "* *Senior pilot*\n",
    "* *Chief blimpologist*\n",
    "\n",
    "That means a person hired as a Trainee can only be promoted to Junior pilot, a Junior pilot can only be promoted to Pilot, etc.  Also, a person who holds the title of Chief blimpologist cannot get any further promotion.\n",
    "\n",
    "There are also two titles used for people who are not current employees of the organization:\n",
    "* *Blimp operator emeritus* - used for people who retire from the organization while in good standing\n",
    "* *Former employee* - used for employees who are decertified as blimp operators, terminated by the organization, or leave before they are eligible for retirement\n",
    "\n",
    "\n",
    "Create a class `BlimpOperator` to represent a blimp operator in the personnel system of this organization.  The constructor should have one required argument, `name`, which is the full name of the person.  The constructor should allow a second argument, `title`, that gives the person's title.  If `title` is not given, the default value `\"Trainee\"` should be used.  Both `name` and `title` should be stored as attributes of the object (with those names).\n",
    "\n",
    "For example, the class might be instantiated as"
   ]
  },
  {
   "cell_type": "code",
   "execution_count": null,
   "metadata": {},
   "outputs": [],
   "source": [
    "X = BlimpOperator(\"Lilianna Rogers\",\"Senior pilot\")"
   ]
  },
  {
   "cell_type": "markdown",
   "metadata": {},
   "source": [
    "or"
   ]
  },
  {
   "cell_type": "code",
   "execution_count": null,
   "metadata": {},
   "outputs": [],
   "source": [
    "Y = BlimpOperator(\"Memphis Cardenas\") # will be a trainee"
   ]
  },
  {
   "cell_type": "markdown",
   "metadata": {},
   "source": [
    "In addition to the constructor, the class should have the following methods, none of which expect any arguments (other than `self`):\n",
    "\n",
    "* `promote` - Changes `title` to the next higher rank in the promotion ladder, if the person is a current blimp operator who can be promoted.  If they are a Blimp operator emeritus or a Former employee, does nothing.\n",
    "* `demote` - Changes `title` to the next lower rank in the promotion ladder, if the person is a current blimp opeartor who is not a Trainee.  If they are a Trainee, Blimp operator emeritus, or a Former employee, does nothing.\n",
    "* `terminate` - If the person is a current employee, change the title to Former employee, otherwise do nothing.\n",
    "* `retire` - If the person is a current employee, change the title to Blimp operator emeritus, otherwise do nothing."
   ]
  },
  {
   "cell_type": "markdown",
   "metadata": {},
   "source": [
    "Here are some examples of the expected behavior of the class."
   ]
  },
  {
   "cell_type": "code",
   "execution_count": 86,
   "metadata": {},
   "outputs": [],
   "source": [
    "D = BlimpOperator(\"David Dupage\",title=\"Senior pilot\")"
   ]
  },
  {
   "cell_type": "code",
   "execution_count": 87,
   "metadata": {},
   "outputs": [
    {
     "data": {
      "text/plain": [
       "'David Dupage'"
      ]
     },
     "execution_count": 87,
     "metadata": {},
     "output_type": "execute_result"
    }
   ],
   "source": [
    "D.name"
   ]
  },
  {
   "cell_type": "code",
   "execution_count": 88,
   "metadata": {},
   "outputs": [
    {
     "data": {
      "text/plain": [
       "'Senior pilot'"
      ]
     },
     "execution_count": 88,
     "metadata": {},
     "output_type": "execute_result"
    }
   ],
   "source": [
    "D.title"
   ]
  },
  {
   "cell_type": "code",
   "execution_count": 89,
   "metadata": {},
   "outputs": [],
   "source": [
    "D.promote()"
   ]
  },
  {
   "cell_type": "code",
   "execution_count": 90,
   "metadata": {},
   "outputs": [
    {
     "data": {
      "text/plain": [
       "'Chief blimpologist'"
      ]
     },
     "execution_count": 90,
     "metadata": {},
     "output_type": "execute_result"
    }
   ],
   "source": [
    "D.title # after promotion"
   ]
  },
  {
   "cell_type": "code",
   "execution_count": 91,
   "metadata": {},
   "outputs": [],
   "source": [
    "D.promote()"
   ]
  },
  {
   "cell_type": "code",
   "execution_count": 92,
   "metadata": {},
   "outputs": [
    {
     "data": {
      "text/plain": [
       "'Chief blimpologist'"
      ]
     },
     "execution_count": 92,
     "metadata": {},
     "output_type": "execute_result"
    }
   ],
   "source": [
    "D.title # can't promote any further, so it didn't change"
   ]
  },
  {
   "cell_type": "code",
   "execution_count": 93,
   "metadata": {},
   "outputs": [],
   "source": [
    "D.retire()"
   ]
  },
  {
   "cell_type": "code",
   "execution_count": 94,
   "metadata": {},
   "outputs": [
    {
     "data": {
      "text/plain": [
       "'Blimp operator emeritus'"
      ]
     },
     "execution_count": 94,
     "metadata": {},
     "output_type": "execute_result"
    }
   ],
   "source": [
    "D.title"
   ]
  },
  {
   "cell_type": "code",
   "execution_count": 95,
   "metadata": {},
   "outputs": [],
   "source": [
    "D.terminate()"
   ]
  },
  {
   "cell_type": "code",
   "execution_count": 96,
   "metadata": {},
   "outputs": [
    {
     "data": {
      "text/plain": [
       "'Blimp operator emeritus'"
      ]
     },
     "execution_count": 96,
     "metadata": {},
     "output_type": "execute_result"
    }
   ],
   "source": [
    "D.title # termination didn't do anything, because we called it when not employed"
   ]
  },
  {
   "cell_type": "code",
   "execution_count": 97,
   "metadata": {},
   "outputs": [],
   "source": [
    "E = BlimpOperator(\"Eithan Ortega\")"
   ]
  },
  {
   "cell_type": "code",
   "execution_count": 98,
   "metadata": {},
   "outputs": [
    {
     "data": {
      "text/plain": [
       "'Eithan Ortega'"
      ]
     },
     "execution_count": 98,
     "metadata": {},
     "output_type": "execute_result"
    }
   ],
   "source": [
    "E.name"
   ]
  },
  {
   "cell_type": "code",
   "execution_count": 99,
   "metadata": {},
   "outputs": [
    {
     "data": {
      "text/plain": [
       "'Trainee'"
      ]
     },
     "execution_count": 99,
     "metadata": {},
     "output_type": "execute_result"
    }
   ],
   "source": [
    "E.title # was automatically set to Trainee"
   ]
  },
  {
   "cell_type": "markdown",
   "metadata": {},
   "source": [
    "### Revision history\n",
    "\n",
    "* 2024-01-18 Initial publication\n",
    "* 2024-01-21 Remove cell left over from an earlier draft of assignment"
   ]
  }
 ],
 "metadata": {
  "kernelspec": {
   "display_name": "Python 3 (ipykernel)",
   "language": "python",
   "name": "python3"
  },
  "language_info": {
   "codemirror_mode": {
    "name": "ipython",
    "version": 3
   },
   "file_extension": ".py",
   "mimetype": "text/x-python",
   "name": "python",
   "nbconvert_exporter": "python",
   "pygments_lexer": "ipython3",
   "version": "3.10.12"
  }
 },
 "nbformat": 4,
 "nbformat_minor": 4
}
