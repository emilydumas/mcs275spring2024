{
 "cells": [
  {
   "cell_type": "markdown",
   "metadata": {},
   "source": [
    "# MCS 275 Spring 2024 Homework 9 Solutions\n",
    "\n",
    "* Course Instructor: David Dumas\n"
   ]
  },
  {
   "cell_type": "markdown",
   "metadata": {},
   "source": [
    "## Problem 2: Matrix stippling\n",
    "\n",
    "Work in `hwk9prob2.py`.\n",
    "\n",
    "Suppose you have a matrix $M$, a positive integer $k$, and we choose one of the entries of $M$.  From this information, we can make a new matrix as follows:  We start at the chosen entry of $M$, and then find all the other entries we can get to by moving $k$ columns left or right, $k$ rows up or down, or any combination thereof.  This gives a collection of entries of $M$ that we can group into their own, smaller matrix.  We call the result a $k$-stipple of $M$.\n",
    "\n",
    "For example, here is an example of a matrix $M$ and two different $3$-stipples of it.  In the image below, the starting entry of $M$ is highlighted in blue, and all the other entries we get to by taking steps of size $k$ are highlighted in purple.\n",
    "\n",
    "![stippling a matrix, two examples](images/hwk9-matrix-stipple.png)\n",
    "\n",
    "Note that sometimes two different starting entries in $M$ give the same $k$-stipple.  This happens exactly when one of the entries is reachable from the other by steps of size $k$.\n",
    "\n",
    "Also, if $k=1$ then the only $1$-stipple of $M$ is $M$ itself.\n",
    "\n",
    "With this definition in mind, write a function matching the definition and description given in the docstring below."
   ]
  },
  {
   "cell_type": "code",
   "execution_count": null,
   "metadata": {},
   "outputs": [],
   "source": [
    "def stipple_related(A,B,k):\n",
    "    \"\"\"\n",
    "    Given two numpy matrices `A` and `B` (that is, 2-dimensional\n",
    "    numpy arrays) and a positive integer `k`, returns a boolean\n",
    "    that indicates whether one of the matrices is a `k`-stipple\n",
    "    of the other.  That is, returns:\n",
    "        True if A is a `k`-stipple of B,\n",
    "        True is B is a `k`-stipple of A,\n",
    "        False otherwise\n",
    "    \"\"\""
   ]
  },
  {
   "cell_type": "markdown",
   "metadata": {},
   "source": [
    "**Important**: For full credit your solution needs to make proper use of `numpy` to do its work.  You can use Python loops, but the number of iterations they involve shouldn't depend on the sizes of `A` and `B`.  Anything that requires iteration over something depending on matrix size should be handled by the proper `numpy` construct."
   ]
  },
  {
   "cell_type": "code",
   "execution_count": 5,
   "metadata": {},
   "outputs": [],
   "source": [
    "import numpy as np\n",
    "\n",
    "def stipple_related(A,B,k):\n",
    "    \"\"\"\n",
    "    Given two numpy matrices `A` and `B` (that is, 2-dimensional\n",
    "    numpy arrays) and a positive integer `k`, returns a boolean\n",
    "    that indicates whether one of the matrices is a `k`-stipple\n",
    "    of the other.  That is, returns:\n",
    "        True if A is a `k`-stipple of B,\n",
    "        True is B is a `k`-stipple of A,\n",
    "        False otherwise\n",
    "    \"\"\"\n",
    "    # Make A the bigger one by switching if A has fewer rows\n",
    "    if A.shape[0] < B.shape[0]:\n",
    "        A,B = B,A\n",
    "    # If A now has more columns, then neither is bigger\n",
    "    # than the other, so is not a k-stipple.\n",
    "    if A.shape[1] < B.shape[1]:\n",
    "        return False\n",
    "    # Now check every possible k-stipple of A and see if\n",
    "    # it is equal to B\n",
    "    for i in range(k):\n",
    "        for j in range(k):\n",
    "            if np.array_equal(A[i::k,j::k],B):\n",
    "                return True\n",
    "    return False"
   ]
  },
  {
   "cell_type": "markdown",
   "metadata": {},
   "source": [
    "## Problem 3: Gamma to match\n",
    "\n",
    "Work in `hwk9prob3.py`.\n",
    "\n",
    "Recall from Worksheet 9 that if $\\gamma$ is a positive real number, then applying a $\\gamma$-correction to a grayscale image means the following:\n",
    "* Divide the image data matrix by 255 so it becomes an array of floats between 0 and 1\n",
    "* Raise every entry in the matrix to the power $\\gamma$\n",
    "* Multiply by 255 again and convert to an array of `uint8` objects (`m.astype(\"uint8\")` does this for an array `m`).\n",
    "* Use this as the new image data.\n",
    "\n",
    "Write a function that takes two filenames, a *reference image filename* and a *target image filename*.  It should load both image files into `numpy` arrays and compute the average brightness of pixels in the reference image (call this the *reference brightness*).  Its goal is then to **find and return a value of $\\gamma$** (a positive real number) so that applying $\\gamma$-correction to the target image results in it having the same average brightness as the reference brightness.\n",
    "\n",
    "To do this without analyzing how the average brightness depends on $\\gamma$, we'll assume that we just want to know which $\\gamma$ that is a multiple of $0.1$ and which lies between $0.2$ and $20$ gives the closest match between average brightnesses.  That means you need only test values $0.2, 0.3, 0.4, \\ldots, 19.8, 19.9, 20$ and choose the one giving the best match.  (In case of an exact tie, use the smaller $\\gamma$.)\n",
    "\n",
    "Here's a function definition and docstring to use."
   ]
  },
  {
   "cell_type": "code",
   "execution_count": 25,
   "metadata": {},
   "outputs": [],
   "source": [
    "def matching_gamma(reference_fn, target_fn):\n",
    "    \"\"\"\n",
    "    Loads the images in the files whose names are given by `reference_fn`\n",
    "    and `target_fn` (both strings).\n",
    "    Among real numbers `gamma` that are multiples of 0.1 and lie between\n",
    "    0.2 and 20, find the one which gives the best gamma-correction factor\n",
    "    to apply to the target image in order to make its average brightness\n",
    "    match the reference image.\n",
    "    \"\"\""
   ]
  },
  {
   "cell_type": "markdown",
   "metadata": {},
   "source": [
    "### Solution"
   ]
  },
  {
   "cell_type": "code",
   "execution_count": 26,
   "metadata": {},
   "outputs": [],
   "source": [
    "from PIL import Image\n",
    "\n",
    "def matching_gamma(reference_fn, target_fn):\n",
    "    \"\"\"\n",
    "    Loads the images in the files whose names are given by `reference_fn`\n",
    "    and `target_fn` (both strings).\n",
    "    Among real numbers `gamma` that are multiples of 0.1 and lie between\n",
    "    0.2 and 20, find the one which gives the best gamma-correction factor\n",
    "    to apply to the target image in order to make its average brightness\n",
    "    match the reference image.\n",
    "    \"\"\"\n",
    "    ref_img = Image.open(reference_fn)\n",
    "    target_img = Image.open(target_fn)\n",
    "    # Make grayscale if needed\n",
    "    if ref_img.mode != \"L\":\n",
    "        ref_img = ref_img.convert(\"L\")\n",
    "    if target_img.mode != \"L\":\n",
    "        target_img = target_img.convert(\"L\")\n",
    "    # Make into float arrays\n",
    "    refA = np.array(ref_img) / 255.0\n",
    "    targetA = np.array(target_img) / 255.0\n",
    "    # Average brightness\n",
    "    ref_brightness = np.mean(refA)\n",
    "    # Gammas under consideration\n",
    "    # (We store as integers and later divide by 10 to get\n",
    "    # exact steps of 0.1 instead of accumulating float error)\n",
    "    ten_gammas = range(2,201)\n",
    "    # Brightness of gamma-corrected target images\n",
    "    results = np.array([ np.mean(targetA**(c/10.0)) for c in ten_gammas ])\n",
    "    # Where is this closest to ref_brightness?\n",
    "    i = np.argmin( np.abs(results - ref_brightness) )\n",
    "    return ten_gammas[i]/10.0\n"
   ]
  },
  {
   "cell_type": "markdown",
   "metadata": {},
   "source": [
    "### Revision history\n",
    "\n",
    "* 2024-04-02 Initial publication"
   ]
  }
 ],
 "metadata": {
  "kernelspec": {
   "display_name": "Python 3 (ipykernel)",
   "language": "python",
   "name": "python3"
  },
  "language_info": {
   "codemirror_mode": {
    "name": "ipython",
    "version": 3
   },
   "file_extension": ".py",
   "mimetype": "text/x-python",
   "name": "python",
   "nbconvert_exporter": "python",
   "pygments_lexer": "ipython3",
   "version": "3.10.12"
  }
 },
 "nbformat": 4,
 "nbformat_minor": 4
}
