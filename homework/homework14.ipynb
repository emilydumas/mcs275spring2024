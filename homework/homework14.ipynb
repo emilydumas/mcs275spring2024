{
 "cells": [
  {
   "cell_type": "markdown",
   "metadata": {},
   "source": [
    "# MCS 275 Spring 2024 Homework 14\n",
    "\n",
    "* Course Instructor: Emily Dumas\n"
   ]
  },
  {
   "cell_type": "markdown",
   "metadata": {},
   "source": [
    "### Deadline\n",
    "\n",
    "This homework assignment must be submitted in Gradescope by **Noon central time on Tuesday April 23, 2024**.\n",
    "\n",
    "This is the **LAST** homework assignment in MCS 275.  (All that's left after this is to submit [Project 4](https://www.dumas.io/teaching/2024/spring/mcs275/nbview/projects/project4.html).)\n",
    "\n",
    "### Collaboration\n",
    "\n",
    "**Collaboration is prohibited**, and while working on this you should only consult the resources (books, online, etc.) listed below.\n",
    "\n",
    "### Content\n",
    "\n",
    "This assignment corresponds to Worksheet 14 and is about urllib and the HTML parsing module *beautiful soup*.\n",
    "\n",
    "### Resources you may consult\n",
    "\n",
    "The materials you may refer to for this homework are:\n",
    "* **Most likely useful**\n",
    "    * [Worksheet 14](https://www.dumas.io/teaching/2024/spring/mcs275/nbview/worksheets/worksheet14.html)\n",
    "    * [Worksheet 14 Solutions](https://www.dumas.io/teaching/2024/spring/mcs275/nbview/worksheets/worksheet14soln.html) \n",
    "    * [Lecture 29 - HTML and CSS](http://dumas.io/teaching/2024/spring/mcs275/slides/lecture29.html)\n",
    "    * [Lecture 37 - Working with APIs and HTML](http://dumas.io/teaching/2024/spring/mcs275/slides/lecture37.html)\n",
    "    * [Lecture 38 - Using beautiful soup](http://dumas.io/teaching/2024/spring/mcs275/slides/lecture38.html)\n",
    "    * Other online resources:\n",
    "        * [w3schools HTML tutorial](https://www.w3schools.com/html/)\n",
    "        * [Beautiful Soup documentation](https://www.crummy.com/software/BeautifulSoup/bs4/doc/)\n",
    "    * Course sample code:\n",
    "        * [samplecode/http_requests_and_html_parsing](https://github.com/daviddumas/mcs275spring2024/tree/main/samplecode/http_requests_and_html_parsing/)\n",
    "* **Allowed, but less likely to be useful:**\n",
    "    * Any of the MCS 275 lecture materials, worksheets, previous homework assignments, or solutions to these, if posted on the course Blackboard site.\n",
    "    * Slides from any lecture of my [MCS 260 course from Fall 2021](https://www.dumas.io/teaching/2021/fall/mcs260/).\n",
    "    * Any lecture video posted on the [MCS 275 Blackboard site](https://uic.blackboard.com/ultra/courses/_267469_1/outline)\n",
    "    * Any textbook listed on the course blackboard site under \"Textbooks\"\n",
    "\n",
    "\n",
    "### Point distribution\n",
    "\n",
    "This homework assignment has two problems.  The grading breakdown is:\n",
    "\n",
    "| Points | Item |\n",
    "| --- | --- |\n",
    "| 4 | Autograder syntax checks (problem 1) |\n",
    "| 5 | Problem 2 |\n",
    "| 5 | Problem 3 |\n",
    "| **14** | Total |\n",
    "\n",
    "### What to do if you're stuck\n",
    "\n",
    "Ask your instructor or TA a question by email, in office hours, or on discord."
   ]
  },
  {
   "cell_type": "markdown",
   "metadata": {},
   "source": [
    "## 2. International Space Station hemisphere\n",
    "\n",
    "The International Space Station (ISS) is a crewed scientific research station in orbit around the earth.  At any given time, it is about 220 miles above some location on the earth's surface.\n",
    "\n",
    "Write a Python script that prints a single sentence to the terminal, either\n",
    "```\n",
    "The International Space Station (ISS) is over the NORTHERN hemisphere right now.\n",
    "```\n",
    "or\n",
    "```\n",
    "The International Space Station (ISS) is over the SOUTHERN hemisphere right now.\n",
    "```\n",
    "according to the current location of the ISS.  Retrieve the location using the JSON object available from `https://api.wheretheiss.at/v1/satellites/25544` which is part of the API documented [here](https://wheretheiss.at/w/developer).\n",
    "\n",
    "(The grading of the assignment will not take into account the behavior of your program when the ISS is directly over the equator.)"
   ]
  },
  {
   "cell_type": "markdown",
   "metadata": {},
   "source": [
    "## 3. HTML to image\n",
    "\n",
    "First, a quick note about HTML:  In an HTML document, you can make a section of text (or even a single character) appear in a specific color as follows:\n",
    "```html\n",
    "<span style=\"color: #8800aa;\">Deep purple</span>\n",
    "```\n",
    "which gives a result that looks like this:\n",
    "\n",
    "<span style=\"color: #8800aa;\">Deep purple</span>\n",
    "\n",
    "When this technique is used, it means the color of the text is found somewhere in the value of the `style` attribute of a `span` tag that contains the text.\n",
    "\n",
    "\n",
    "Now, here's a web page that contains a picture of a cow:\n",
    "\n",
    "* [https://www.dumas.io/teaching/2024/spring/mcs275/data/moo.html](https://www.dumas.io/teaching/2024/spring/mcs275/data/moo.html)\n",
    "\n",
    "But if you look at the source of the page, you'll see the page doesn't really contain an image at all.  Instead, it has many paragraphs full of unicode block characters (which look like &block; and are created with `&block;`).  Each block character is given a different color, so the resulting grid of blocks looks a bit like an image.\n",
    "\n",
    "Write a Python script that downloads this HTML document linked above (the one the cow \"image\") and then uses `bs4` (beautiful soup) to parse the HTML and traverses the DOM to extract the color data.  It should then write a PNG image called `moo.png` in which each pixel corresponds to one of the block characters in the web page (and has the same color).  Use pillow (`PIL.Image`) to create the image file.\n",
    "\n",
    "When you're done, `moo.png` should look like a very small image of a cow.  Also, it will be a bit vertically squashed, because pixels are usually square while unicode characters are usually about twice as tall as they are wide.  If you've done everything correctly, the final image should have a width of 130 pixels and a height of 43 pixels.\n",
    "\n",
    "For your convenience, here is a function that takes a string like `#8800aa` and returns a tuple of integers like `(136, 0, 170)`."
   ]
  },
  {
   "cell_type": "code",
   "execution_count": 3,
   "metadata": {},
   "outputs": [],
   "source": [
    "def hex_color_to_triple(s):\n",
    "    \"Convert a 6-hex-digit color specification to 3 integers\"\n",
    "    s = s.strip(\"# \")\n",
    "    if len(s)!=6:\n",
    "        raise ValueError(\"Malformed color specification\")\n",
    "    r = int(s[:2],16)\n",
    "    g = int(s[2:4],16)\n",
    "    b = int(s[4:],16)\n",
    "    return (r,g,b)"
   ]
  },
  {
   "cell_type": "markdown",
   "metadata": {},
   "source": [
    "### Revision history\n",
    "\n",
    "* 2024-04-18 Initial publication"
   ]
  }
 ],
 "metadata": {
  "kernelspec": {
   "display_name": "Python 3 (ipykernel)",
   "language": "python",
   "name": "python3"
  },
  "language_info": {
   "codemirror_mode": {
    "name": "ipython",
    "version": 3
   },
   "file_extension": ".py",
   "mimetype": "text/x-python",
   "name": "python",
   "nbconvert_exporter": "python",
   "pygments_lexer": "ipython3",
   "version": "3.10.12"
  }
 },
 "nbformat": 4,
 "nbformat_minor": 4
}
