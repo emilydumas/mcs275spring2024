{
 "cells": [
  {
   "cell_type": "markdown",
   "metadata": {},
   "source": [
    "# MCS 275 Spring 2024 Homework 11 Solutions\n",
    "\n",
    "* Course Instructor: Emily Dumas\n"
   ]
  },
  {
   "cell_type": "markdown",
   "metadata": {},
   "source": [
    "## 2.  More powerplants queries\n",
    "\n",
    "**Helpful tip**: \n",
    "First, here's an SQL feature that you should know about.  If you have a query that selects a bunch of rows, e.g.\n",
    "\n",
    "```\n",
    "SELECT * FROM available_beverages WHERE caffeine_mg_per_liter > 400;\n",
    "```\n",
    "then you might want to know how many rows it returns.  Instead of fetching them all and counting them, it is better to have SQLite do the counting.  You can do that by replacing the `*` or the list of requested columns with `COUNT(*)`.  For example\n",
    "```\n",
    "SELECT COUNT(*) FROM available_beverages WHERE caffeine_mg_per_liter > 400;\n",
    "```\n",
    "is a query that returns a single row, which has a single column, which contains an integer.  That integer is the number of rows matching the SELECT statement.\n",
    "\n",
    "\n",
    "**Your task:** Write a python script `hwk11prob2.py` that connects to the power plants sqlite database (`powerplants.sqlite`) and performs appropriate SQL queries in order to print answers to the following questions:\n",
    "\n",
    "* A. What are the five oldest power plants in the database, in terms of the year they were commissioned?  For each, list the name, the country, and the year it was commisioned (oldest first).  Power plants for which no commissioning date is included should be excluded from consideration.\n",
    "* B. How many nuclear power plants in the database are located in the southern hemisphere?\n",
    "* C. What percentage of the power plants in the United Kingdom are wind power plants?\n",
    "* D. What percentage of the total power generation capacity in the United Kingdom comes from wind power plants?\n",
    "\n",
    "Also, please paste the output of your program at the bottom of the code as a sequence of comments.\n",
    "\n",
    "**Note:** In this problem terms \"nuclear power plant\" and \"wind power plant\" always refer to the primary fuel used by a facility."
   ]
  },
  {
   "cell_type": "markdown",
   "metadata": {},
   "source": [
    "### Solutions\n",
    "\n",
    "For exposition we show the queries and the results as a series of cells in this notebook.  It would be simple to assemble these cells into a single script that does what was requested."
   ]
  },
  {
   "cell_type": "code",
   "execution_count": 6,
   "metadata": {},
   "outputs": [],
   "source": [
    "import sqlite3\n",
    "\n",
    "def run_query(s):\n",
    "    \"Utility function to run one power plant query and return the results as a list\"\n",
    "    con = sqlite3.connect(\"powerplants.sqlite\")\n",
    "    res = con.execute(s)\n",
    "    rows = res.fetchall()\n",
    "    con.close()\n",
    "    return rows\n",
    "    \n",
    "def value_query(s):\n",
    "    \"Utility function to run a query that gives a single row and column, which returns that one value\"\n",
    "    con = sqlite3.connect(\"powerplants.sqlite\")\n",
    "    res = con.execute(s)\n",
    "    value = res.fetchone()[0]\n",
    "    con.close()\n",
    "    return value"
   ]
  },
  {
   "cell_type": "markdown",
   "metadata": {},
   "source": [
    "#### A"
   ]
  },
  {
   "cell_type": "code",
   "execution_count": 7,
   "metadata": {},
   "outputs": [
    {
     "data": {
      "text/plain": [
       "[('Granite', 'United States of America', 1896),\n",
       " ('Santa Ana 1', 'United States of America', 1899),\n",
       " ('Bompreço Fortaleza', 'Brazil', 1900),\n",
       " ('Telesp', 'Brazil', 1900),\n",
       " ('Samara GRES', 'Russia', 1900)]"
      ]
     },
     "execution_count": 7,
     "metadata": {},
     "output_type": "execute_result"
    }
   ],
   "source": [
    "run_query(\"\"\"\n",
    "SELECT name, country, year_commissioned\n",
    "FROM powerplants\n",
    "WHERE year_commissioned IS NOT NULL\n",
    "ORDER BY year_commissioned\n",
    "LIMIT 5;\n",
    "\"\"\")"
   ]
  },
  {
   "cell_type": "markdown",
   "metadata": {},
   "source": [
    "#### B"
   ]
  },
  {
   "cell_type": "code",
   "execution_count": 8,
   "metadata": {},
   "outputs": [
    {
     "data": {
      "text/plain": [
       "6"
      ]
     },
     "execution_count": 8,
     "metadata": {},
     "output_type": "execute_result"
    }
   ],
   "source": [
    "value_query(\"\"\"\n",
    "SELECT COUNT(*)\n",
    "FROM powerplants\n",
    "WHERE primary_fuel = \"Nuclear\" AND latitude < 0;\n",
    "\"\"\")"
   ]
  },
  {
   "cell_type": "markdown",
   "metadata": {},
   "source": [
    "#### C"
   ]
  },
  {
   "cell_type": "code",
   "execution_count": 9,
   "metadata": {},
   "outputs": [
    {
     "name": "stdout",
     "output_type": "stream",
     "text": [
      "28.4%\n"
     ]
    }
   ],
   "source": [
    "wind_uk = value_query(\"\"\"\n",
    "SELECT COUNT(*)\n",
    "FROM powerplants\n",
    "WHERE primary_fuel = \"Wind\" AND country = \"United Kingdom\";\n",
    "\"\"\")\n",
    "all_uk = value_query(\"\"\"\n",
    "SELECT COUNT(*)\n",
    "FROM powerplants\n",
    "WHERE country = \"United Kingdom\";\n",
    "\"\"\")\n",
    "print(\"{:.1f}%\".format(100*wind_uk/all_uk))"
   ]
  },
  {
   "cell_type": "markdown",
   "metadata": {},
   "source": [
    "#### D"
   ]
  },
  {
   "cell_type": "code",
   "execution_count": 10,
   "metadata": {},
   "outputs": [
    {
     "name": "stdout",
     "output_type": "stream",
     "text": [
      "23.9%\n"
     ]
    }
   ],
   "source": [
    "# List of UK wind facility generation capacities in MW\n",
    "wind_capacities = [\n",
    "    x[0] for x in run_query(\n",
    "        \"\"\"\n",
    "        SELECT capacity_mw\n",
    "        FROM powerplants\n",
    "        WHERE primary_fuel = \"Wind\" AND country = \"United Kingdom\";\n",
    "        \"\"\")\n",
    "]\n",
    "\n",
    "# List of all UK generation capacities in MW\n",
    "uk_capacities = [\n",
    "    x[0] for x in run_query(\n",
    "        \"\"\"\n",
    "        SELECT capacity_mw\n",
    "        FROM powerplants\n",
    "        WHERE country = \"United Kingdom\";\n",
    "        \"\"\")\n",
    "]\n",
    "\n",
    "# Sum and divide\n",
    "print(\"{:.1f}%\".format(100*sum(wind_capacities)/sum(uk_capacities)))"
   ]
  },
  {
   "cell_type": "markdown",
   "metadata": {},
   "source": [
    "## 3. I always have at least 10 things to do\n",
    "\n",
    "Remember the first task list sample application we wrote, which works in the terminal?  (Don't confuse it with the more complex web-based one we're working on now.)  It can be found at:\n",
    " * [tasks.py](https://github.com/daviddumas/mcs275spring2024/blob/main/samplecode/databases/tasks.py)\n",
    " \n",
    "It uses a database `tasks.db` containing a single table called `tasks` with this schema:\n",
    "```text\n",
    "CREATE TABLE tasks (\n",
    "id INTEGER PRIMARY KEY,\n",
    "desc TEXT,\n",
    "complete INTEGER DEFAULT 0 );\n",
    "```\n",
    "\n",
    "Write a python script `hwk11prob3.py` that opens and modifies the database `tasks.db` as follows:\n",
    "* Every task in the table is marked as not complete\n",
    "* If there are fewer than 10 tasks in the table, additional random tasks (see below) are added until the total number in the table is 10.\n",
    "\n",
    "Thus, you could run this script if you were preparing to experiment with `tasks.py`, since having a bunch of incomplete tasks in the database would provide a helpful starting point.\n",
    "\n",
    "In the description above, a **random task** should be understood to mean one whose description has the form\n",
    "```text\n",
    "VERB the PLURAL_NOUN\n",
    "```\n",
    "where `VERB` is selected at random from the following list (given as a list of Python string literals, for your convenience!)\n",
    "```python\n",
    "[\n",
    "    \"Organize\",\n",
    "    \"Update\",\n",
    "    \"Compile\",\n",
    "    \"Review\",\n",
    "    \"Calculate\",\n",
    "    \"Design\",\n",
    "    \"Innovate\",\n",
    "    \"Schedule\",\n",
    "    \"Research\",\n",
    "    \"Present\",\n",
    "    \"Analyze\",\n",
    "    \"Brainstorm\",\n",
    "    \"Digitize\",\n",
    "    \"Archive\",\n",
    "    \"Prioritize\",\n",
    "    \"Customize\",\n",
    "    \"Reimagine\",\n",
    "    \"Streamline\",\n",
    "    \"Negotiate\",\n",
    "    \"Facilitate\"\n",
    "]\n",
    "```\n",
    "and `PLURAL_NOUN` is similarly selected at random from the list\n",
    "```python\n",
    "[\n",
    "    \"MCS 275 projects\",\n",
    "    \"Taft hall water fountains\",\n",
    "    \"water leaks in the south stairwell of SEO\",\n",
    "    \"library electrical outlets\",\n",
    "    \"rain gutters\",\n",
    "    \"spreadsheets\",\n",
    "    \"ideas\",\n",
    "    \"proposals\",\n",
    "    \"widgets\",\n",
    "    \"coffee cups\",\n",
    "    \"emails\",\n",
    "    \"invoices\",\n",
    "    \"reports\",\n",
    "    \"strategies\",\n",
    "    \"presentations\",\n",
    "    \"budgets\",\n",
    "    \"meetings\",\n",
    "    \"deadlines\",\n",
    "    \"diplomatic cables\",\n",
    "    \"break room chairs\"\n",
    "]\n",
    "```\n",
    "\n",
    "The script should not produce any output in the terminal.  Its only function is to modify the `tasks` table stored in `tasks.db`."
   ]
  },
  {
   "cell_type": "markdown",
   "metadata": {},
   "source": [
    "### Solution"
   ]
  },
  {
   "cell_type": "code",
   "execution_count": 4,
   "metadata": {},
   "outputs": [],
   "source": [
    "import sqlite3\n",
    "import random\n",
    "\n",
    "\n",
    "verbs = [\n",
    "    \"Organize\",\n",
    "    \"Update\",\n",
    "    \"Compile\",\n",
    "    \"Review\",\n",
    "    \"Calculate\",\n",
    "    \"Design\",\n",
    "    \"Innovate\",\n",
    "    \"Schedule\",\n",
    "    \"Research\",\n",
    "    \"Present\",\n",
    "    \"Analyze\",\n",
    "    \"Brainstorm\",\n",
    "    \"Digitize\",\n",
    "    \"Archive\",\n",
    "    \"Prioritize\",\n",
    "    \"Customize\",\n",
    "    \"Reimagine\",\n",
    "    \"Streamline\",\n",
    "    \"Negotiate\",\n",
    "    \"Facilitate\"\n",
    "]\n",
    "nouns = [\n",
    "    \"MCS 275 projects\",\n",
    "    \"Taft hall water fountains\",\n",
    "    \"water leaks in the south stairwell of SEO\",\n",
    "    \"library electrical outlets\",\n",
    "    \"rain gutters\",\n",
    "    \"spreadsheets\",\n",
    "    \"ideas\",\n",
    "    \"proposals\",\n",
    "    \"widgets\",\n",
    "    \"coffee cups\",\n",
    "    \"emails\",\n",
    "    \"invoices\",\n",
    "    \"reports\",\n",
    "    \"strategies\",\n",
    "    \"presentations\",\n",
    "    \"budgets\",\n",
    "    \"meetings\",\n",
    "    \"deadlines\",\n",
    "    \"diplomatic cables\",\n",
    "    \"break room chairs\"\n",
    "]\n",
    "\n",
    "\n",
    "def random_task():\n",
    "    \"Make up a random task\"\n",
    "    return random.choice(verbs) + \" the \" + random.choice(nouns)\n",
    "\n",
    "con = sqlite3.connect(\"tasks.db\")\n",
    "\n",
    "# Mark all incomplete\n",
    "con.execute(\"UPDATE tasks SET complete=0;\")\n",
    "\n",
    "# Num rows\n",
    "num_rows = con.execute(\"SELECT COUNT(*) from tasks;\").fetchone()[0]\n",
    "\n",
    "# Pad if needed\n",
    "for _ in range(10 - num_rows):\n",
    "    con.execute(\"INSERT INTO tasks (desc) VALUES (?);\", [random_task()] )\n",
    "\n",
    "con.commit()\n",
    "con.close()"
   ]
  },
  {
   "cell_type": "markdown",
   "metadata": {},
   "source": [
    "### Revision history\n",
    "\n",
    "* 2024-04-04 Initial publication"
   ]
  }
 ],
 "metadata": {
  "kernelspec": {
   "display_name": "Python 3 (ipykernel)",
   "language": "python",
   "name": "python3"
  },
  "language_info": {
   "codemirror_mode": {
    "name": "ipython",
    "version": 3
   },
   "file_extension": ".py",
   "mimetype": "text/x-python",
   "name": "python",
   "nbconvert_exporter": "python",
   "pygments_lexer": "ipython3",
   "version": "3.10.12"
  }
 },
 "nbformat": 4,
 "nbformat_minor": 4
}
