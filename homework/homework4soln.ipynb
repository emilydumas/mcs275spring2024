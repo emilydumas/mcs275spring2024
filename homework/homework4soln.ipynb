{
 "cells": [
  {
   "cell_type": "markdown",
   "metadata": {},
   "source": [
    "# MCS 275 Spring 2024 Homework 4 Sample Solution\n",
    "## Emily Dumas\n",
    "\n",
    "The format of this set of solutions is different from the usual ones, as the assignment explicitly requested a notebook with specific formatting."
   ]
  },
  {
   "cell_type": "markdown",
   "metadata": {},
   "source": [
    "## Problem 2\n",
    "\n",
    "Preliminary imports"
   ]
  },
  {
   "cell_type": "code",
   "execution_count": 1,
   "metadata": {},
   "outputs": [],
   "source": [
    "import time"
   ]
  },
  {
   "cell_type": "markdown",
   "metadata": {},
   "source": [
    "The context manager requested in the problem"
   ]
  },
  {
   "cell_type": "code",
   "execution_count": 2,
   "metadata": {},
   "outputs": [],
   "source": [
    "class TimedBlock:\n",
    "    \"\"\"\n",
    "    Context manager that tracks and prints total time \n",
    "    spent in the with-block\n",
    "    \"\"\"\n",
    "    def __init__(self,title):\n",
    "        \"Initialize a named, timed block context manager\"\n",
    "        self.title = title\n",
    "    def __enter__(self):\n",
    "        \"Display message and begin timing\"\n",
    "        print(\"Starting timed block '{}'\".format(self.title))\n",
    "        self.t0 = time.time()\n",
    "    def __exit__(self,a,b,c):\n",
    "        \"Compute and print elapsed time\"\n",
    "        self.t1 = time.time()\n",
    "        print(\"Exited timed block '{}' after {:.4f}s\".format(self.title,self.t1-self.t0))"
   ]
  },
  {
   "cell_type": "markdown",
   "metadata": {},
   "source": [
    "Running the given sample code with this context manager to show it works as intended."
   ]
  },
  {
   "cell_type": "code",
   "execution_count": 3,
   "metadata": {},
   "outputs": [
    {
     "name": "stdout",
     "output_type": "stream",
     "text": [
      "Starting timed block 'Gigantic integer arithmetic'\n",
      "Total of 5965321 digits\n",
      "Exited timed block 'Gigantic integer arithmetic' after 0.1078s\n"
     ]
    }
   ],
   "source": [
    "# Sample usage to time a bunch of calculations\n",
    "with TimedBlock(\"Gigantic integer arithmetic\"):\n",
    "    digits = 0\n",
    "    for k in range(5000):\n",
    "        x = 3**k - 2**k\n",
    "        digits += len(str(x))\n",
    "    print(\"Total of {} digits\".format(digits))"
   ]
  },
  {
   "cell_type": "code",
   "execution_count": 5,
   "metadata": {},
   "outputs": [
    {
     "name": "stdout",
     "output_type": "stream",
     "text": [
      "Starting timed block 'Float arithmetic that eventually fails'\n",
      "Exited timed block 'Float arithmetic that eventually fails' after 0.0106s\n"
     ]
    },
    {
     "ename": "ZeroDivisionError",
     "evalue": "division by zero",
     "output_type": "error",
     "traceback": [
      "\u001b[0;31m---------------------------------------------------------------------------\u001b[0m",
      "\u001b[0;31mZeroDivisionError\u001b[0m                         Traceback (most recent call last)",
      "\u001b[0;32m/tmp/ipykernel_1525377/973717916.py\u001b[0m in \u001b[0;36m<module>\u001b[0;34m\u001b[0m\n\u001b[1;32m      3\u001b[0m \u001b[0;32mwith\u001b[0m \u001b[0mTimedBlock\u001b[0m\u001b[0;34m(\u001b[0m\u001b[0;34m\"Float arithmetic that eventually fails\"\u001b[0m\u001b[0;34m)\u001b[0m\u001b[0;34m:\u001b[0m\u001b[0;34m\u001b[0m\u001b[0;34m\u001b[0m\u001b[0m\n\u001b[1;32m      4\u001b[0m     \u001b[0;32mfor\u001b[0m \u001b[0mk\u001b[0m \u001b[0;32min\u001b[0m \u001b[0mrange\u001b[0m\u001b[0;34m(\u001b[0m\u001b[0;36m5000\u001b[0m\u001b[0;34m)\u001b[0m\u001b[0;34m:\u001b[0m\u001b[0;34m\u001b[0m\u001b[0;34m\u001b[0m\u001b[0m\n\u001b[0;32m----> 5\u001b[0;31m         \u001b[0mx\u001b[0m \u001b[0;34m=\u001b[0m \u001b[0;36m1\u001b[0m \u001b[0;34m/\u001b[0m \u001b[0;34m(\u001b[0m\u001b[0;36m3\u001b[0m\u001b[0;34m**\u001b[0m\u001b[0;34m(\u001b[0m\u001b[0;36m4000\u001b[0m\u001b[0;34m-\u001b[0m\u001b[0mk\u001b[0m\u001b[0;34m)\u001b[0m \u001b[0;34m-\u001b[0m \u001b[0;36m2\u001b[0m\u001b[0;34m**\u001b[0m\u001b[0;34m(\u001b[0m\u001b[0;36m4000\u001b[0m\u001b[0;34m-\u001b[0m\u001b[0mk\u001b[0m\u001b[0;34m)\u001b[0m\u001b[0;34m)\u001b[0m\u001b[0;34m\u001b[0m\u001b[0;34m\u001b[0m\u001b[0m\n\u001b[0m",
      "\u001b[0;31mZeroDivisionError\u001b[0m: division by zero"
     ]
    }
   ],
   "source": [
    "# Sample usage showing we still get timing data if the with-block\n",
    "# raises an exception\n",
    "with TimedBlock(\"Float arithmetic that eventually fails\"):\n",
    "    for k in range(5000):\n",
    "        x = 1 / (3**(4000-k) - 2**(4000-k))"
   ]
  },
  {
   "cell_type": "code",
   "execution_count": 6,
   "metadata": {},
   "outputs": [],
   "source": [
    "# Sample usage showing output is only printed when we enter the with-block\n",
    "# and NOT when the class is instantiated\n",
    "B = TimedBlock(\"Notice the constructor doesn't print anything\")"
   ]
  },
  {
   "cell_type": "code",
   "execution_count": 7,
   "metadata": {},
   "outputs": [
    {
     "name": "stdout",
     "output_type": "stream",
     "text": [
      "Starting timed block 'Should take about 0.5 seconds'\n",
      "Exited timed block 'Should take about 0.5 seconds' after 0.5026s\n"
     ]
    }
   ],
   "source": [
    "# Sample usage showing that timing begins when the with-block begins\n",
    "# and NOT whent he TimedBlock constructor is called.\n",
    "B = TimedBlock(\"Should take about 0.5 seconds\")\n",
    "# The next delay isn't part of the timing\n",
    "time.sleep(1.5)\n",
    "with B:\n",
    "    # This delay IS part of the timing\n",
    "    time.sleep(0.5)"
   ]
  },
  {
   "cell_type": "markdown",
   "metadata": {},
   "source": [
    "## Problem 4A"
   ]
  },
  {
   "cell_type": "code",
   "execution_count": 8,
   "metadata": {},
   "outputs": [],
   "source": [
    "def DRB(n):\n",
    "    \"\"\"\n",
    "    Recursive implementation of 'digital recursion breath' sequence\n",
    "    \"\"\"\n",
    "    if n<=2:\n",
    "        return 1\n",
    "    d = len(str(n))\n",
    "    x = 0\n",
    "    for i in range(d+2):\n",
    "        x += DRB(n-1-i)\n",
    "    return x"
   ]
  },
  {
   "cell_type": "markdown",
   "metadata": {},
   "source": [
    "Quick test"
   ]
  },
  {
   "cell_type": "code",
   "execution_count": 9,
   "metadata": {},
   "outputs": [
    {
     "data": {
      "text/plain": [
       "[1, 1, 1, 3, 5, 9, 17, 31, 57, 105, 210, 403, 775, 1493, 2881]"
      ]
     },
     "execution_count": 9,
     "metadata": {},
     "output_type": "execute_result"
    }
   ],
   "source": [
    "[DRB(n) for n in range(15)]"
   ]
  },
  {
   "cell_type": "markdown",
   "metadata": {},
   "source": [
    "## Problem 4B"
   ]
  },
  {
   "cell_type": "code",
   "execution_count": 10,
   "metadata": {},
   "outputs": [],
   "source": [
    "def DRB_iterative(n):\n",
    "    \"\"\"\n",
    "    Iterative implementation of 'digital recursion breath' sequence\n",
    "    \"\"\"\n",
    "    if n<=2:\n",
    "        return 1\n",
    "    # Store d+2 recent terms in `context`\n",
    "    context = [1,1,1]\n",
    "    # At the end of each iteration of this loop,\n",
    "    # the last element of `context` will be DRB(k)\n",
    "    for k in range(3,n+1):\n",
    "        # make sure `context` has the right length\n",
    "        if len(context) > len(str(k))+2:\n",
    "            context = context[1:]\n",
    "        # Note: sum(L) returns sum of list items, which is useful\n",
    "        # (But we could just as well use a for loop)\n",
    "        context.append(sum(context))\n",
    "    return context[-1]"
   ]
  },
  {
   "cell_type": "code",
   "execution_count": 11,
   "metadata": {},
   "outputs": [
    {
     "data": {
      "text/plain": [
       "[1, 1, 1, 3, 5, 9, 17, 31, 57, 105, 210, 403, 775, 1493, 2881]"
      ]
     },
     "execution_count": 11,
     "metadata": {},
     "output_type": "execute_result"
    }
   ],
   "source": [
    "[DRB_iterative(n) for n in range(15)]"
   ]
  },
  {
   "cell_type": "markdown",
   "metadata": {},
   "source": [
    "## Problem 4C"
   ]
  },
  {
   "cell_type": "code",
   "execution_count": 12,
   "metadata": {},
   "outputs": [
    {
     "name": "stdout",
     "output_type": "stream",
     "text": [
      "  n   rec  iter\n",
      "  0     1     1\n",
      "  1     1     1\n",
      "  2     1     1\n",
      "  3     3     3\n",
      "  4     5     5\n",
      "  5     9     9\n",
      "  6    17    17\n",
      "  7    31    31\n",
      "  8    57    57\n",
      "  9   105   105\n",
      " 10   210   210\n",
      " 11   403   403\n",
      " 12   775   775\n",
      " 13  1493  1493\n",
      " 14  2881  2881\n",
      " 15  5552  5552\n",
      " 16 10701 10701\n",
      " 17 20627 20627\n",
      " 18 39761 39761\n",
      " 19 76641 76641\n",
      "\n",
      "All computed values agree.\n"
     ]
    }
   ],
   "source": [
    "agree = True\n",
    "print(\"{:>3} {:>5} {:>5}\".format(\"n\",\"rec\",\"iter\"))\n",
    "for n in range(20):\n",
    "    xrec = DRB(n)\n",
    "    xiter = DRB_iterative(n)\n",
    "    print(\"{:3d} {:5d} {:5d}\".format(n,xrec,xiter))\n",
    "    assert xrec==xiter\n",
    "\n",
    "print(\"\\nAll computed values agree.\")"
   ]
  },
  {
   "cell_type": "markdown",
   "metadata": {},
   "source": [
    "### Revision history\n",
    "\n",
    "* 2024-02-09 Initial publication"
   ]
  }
 ],
 "metadata": {
  "kernelspec": {
   "display_name": "Python 3 (ipykernel)",
   "language": "python",
   "name": "python3"
  },
  "language_info": {
   "codemirror_mode": {
    "name": "ipython",
    "version": 3
   },
   "file_extension": ".py",
   "mimetype": "text/x-python",
   "name": "python",
   "nbconvert_exporter": "python",
   "pygments_lexer": "ipython3",
   "version": "3.10.12"
  }
 },
 "nbformat": 4,
 "nbformat_minor": 4
}
