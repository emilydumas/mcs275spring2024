{
 "cells": [
  {
   "cell_type": "markdown",
   "metadata": {},
   "source": [
    "# MCS 275 Spring 2024 Homework 12\n",
    "\n",
    "* Course Instructor: Emily Dumas\n"
   ]
  },
  {
   "cell_type": "markdown",
   "metadata": {},
   "source": [
    "### Deadline\n",
    "This homework assignment must be submitted in Gradescope by **Noon central time on Tuesday April 9, 2024**.\n",
    "\n",
    "### Collaboration\n",
    "\n",
    "**Collaboration is prohibited**, and while working on this you should only consult the resources (books, online, etc.) listed below.\n",
    "\n",
    "### Content\n",
    "\n",
    "This assignment corresponds to Worksheet 12 and is about Flask web applications.\n",
    "\n",
    "### Resources you may consult\n",
    "\n",
    "The materials you may refer to for this homework are:\n",
    "* **Most likely useful**\n",
    "    * [Worksheet 12](https://www.dumas.io/teaching/2024/spring/mcs275/nbview/worksheets/worksheet12.html)\n",
    "    * [Worksheet 12 Solutions](https://www.dumas.io/teaching/2024/spring/mcs275/nbview/worksheets/worksheet12soln.html) - This link will work once the solutions are posted\n",
    "    * [Lecture 29 - HTML and CSS](http://dumas.io/teaching/2024/spring/mcs275/slides/lecture29.html)\n",
    "    * [Lecture 30 - Planning our web app](http://dumas.io/teaching/2024/spring/mcs275/slides/lecture30.html)\n",
    "    * [Lecture 31 - HTTP servers and Flask](http://dumas.io/teaching/2024/spring/mcs275/slides/lecture31.html)\n",
    "    * [Lecture 32 - Using Flask](http://dumas.io/teaching/2024/spring/mcs275/slides/lecture32.html)\n",
    "    * [Lecture 33 - Redirects and forms](http://dumas.io/teaching/2024/spring/mcs275/slides/lecture33.html)\n",
    "    * Other online resources:\n",
    "        * **[Flask tutorial](https://flask.palletsprojects.com/en/3.0.x/tutorial/)**\n",
    "        * **[Flask documentation](https://flask.palletsprojects.com/en/3.0.x/)**\n",
    "        * [w3schools HTML tutorial](https://www.w3schools.com/html/)\n",
    "        * [w3schools CSS tutorial](https://www.w3schools.com/css/)\n",
    "        * [JSFiddle](https://jsfiddle.net/) - place to quickly test HTML+CSS without leaving your browser\n",
    "    * [Course sample code repo](https://github.com/emilydumas/mcs275spring2024/blob/main/samplecode/)\n",
    "        * Especially [/web/](https://github.com/emilydumas/mcs275spring2024/blob/main/samplecode/web/)\n",
    "* **Allowed, but less likely to be useful:**\n",
    "    * Any of the MCS 275 lecture materials, worksheets, previous homework assignments, or solutions to these, if posted on the course Blackboard site.\n",
    "    * Slides from any lecture of my [MCS 260 course from Fall 2021](https://www.dumas.io/teaching/2021/fall/mcs260/).\n",
    "    * Any lecture video posted on the [MCS 275 Blackboard site](https://uic.blackboard.com/ultra/courses/_267469_1/outline)\n",
    "    * Any textbook listed on the course blackboard site under \"Textbooks\"\n",
    "\n",
    "\n",
    "### Point distribution\n",
    "\n",
    "This homework assignment has a single problem.  The grading breakdown is:\n",
    "\n",
    "| Points | Item |\n",
    "| --- | --- |\n",
    "| 4 | Autograder syntax checks (problem 1) |\n",
    "| 10 | Problem 2 |\n",
    "| **14** | Total |\n",
    "\n",
    "### What to do if you're stuck\n",
    "\n",
    "Ask your instructor or TA a question by email, in office hours, or on discord."
   ]
  },
  {
   "cell_type": "markdown",
   "metadata": {},
   "source": [
    "## Advisory note\n",
    "\n",
    "You'll need to have **Flask** installed, and you will work with **SQLite** in this assignment.\n",
    "\n",
    "As a reminder, most people can install Flask using\n",
    "```\n",
    "python3 -m pip install Flask\n",
    "```\n",
    "in the terminal.\n",
    "\n",
    "The fact that we are using SQLite means it is more important than ever to run your programs in the terminal, after manually changing to the directory containing your script (with `cd`).  Using the \"run\" button in VS code is likely to cause problems and unexpected behavior."
   ]
  },
  {
   "cell_type": "markdown",
   "metadata": {},
   "source": [
    "## 2.  First come, first served\n",
    "\n",
    "Write a Flask web application that supports the following URLs and behaviors.  (When I list a URL as e.g. `/asdf/` it is an abbreviation for the full URL that would look something like `http://localhost:5000/asdf/`.)\n",
    "\n",
    "* `/<n>/` where `n` is any positive integer - If this URL has never been visited before (see below for how to determine this), displays a HTML document with a large header reading \"Congratulations, you were first!\".  But if this URL has been visited before, it instead displays a message like \"Sorry, this integer was claimed at 10:38AM on April 04, 2024.\"  Of course, the date/time in this example message is replaced with the actual time of the first visit to that URL.\n",
    "\n",
    "* `/` - The front page of the application is an HTML document that has a header reading \"First come, first served\", followed by an explanation that the user can visit `/<n>/` for any integer `n` to attempt to claim that number.  It should then say that the user can also try one of the sample integers below, followed by a bulleted list similar to this:\n",
    "\n",
    "    * `/5782/`\n",
    "    * `/1729/`\n",
    "    * `/42/`\n",
    "    * `/9718/`\n",
    "    * `/210/`\n",
    "\n",
    "    but these numbers should be replaced by five random integers less than 10000, chosen again each time the front page is served.  **Each item in the list should link to the corresponding page in the application.**\n",
    "\n",
    "In other words, this application treats positive integers as things you can 'claim' by visiting a url like `/2752024/`.  The first such visit stakes a claim, and anyone else visiting the URL from then onward will be told it is already taken.  The front page just gives you an easy way to visit a few randomly chosen URLs of that form.\n",
    "\n",
    "**Requirements for how the application does this:**\n",
    "\n",
    "* This application must use a **SQLite database** table to keep track of which integers have been visited, and when the first visit happened.  The application should create the database and table if it doesn't exist when the program is first run.  If it does exist, though, the application should use (and add to) the data already in the table.  That means the application can tell whether a URL has been visited even if it happened during a previous time the program was run.\n",
    "\n",
    "* The only mutable global variable you are allowed to create is the `flask.Flask` object representing your application.  (We usually call it `app`.)  Any data that needs to remain available from one request to the next needs to be stored in the database.\n",
    "\n",
    "* Every function that handles HTTP requests should establish, use, and close its own database connection."
   ]
  },
  {
   "cell_type": "markdown",
   "metadata": {},
   "source": [
    "### Revision history\n",
    "\n",
    "* 2024-04-04 Initial publication"
   ]
  }
 ],
 "metadata": {
  "kernelspec": {
   "display_name": "Python 3 (ipykernel)",
   "language": "python",
   "name": "python3"
  },
  "language_info": {
   "codemirror_mode": {
    "name": "ipython",
    "version": 3
   },
   "file_extension": ".py",
   "mimetype": "text/x-python",
   "name": "python",
   "nbconvert_exporter": "python",
   "pygments_lexer": "ipython3",
   "version": "3.10.12"
  }
 },
 "nbformat": 4,
 "nbformat_minor": 4
}
