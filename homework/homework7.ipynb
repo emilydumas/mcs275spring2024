{
 "cells": [
  {
   "cell_type": "markdown",
   "metadata": {},
   "source": [
    "# MCS 275 Spring 2024 Homework 7\n",
    "\n",
    "* Course Instructor: Emily Dumas\n"
   ]
  },
  {
   "cell_type": "markdown",
   "metadata": {},
   "source": [
    "### Deadline\n",
    "This homework assignment must be submitted in Gradescope by **Noon central time on Tuesday February 27, 2024**.\n",
    "\n",
    "### Collaboration\n",
    "\n",
    "**Collaboration is prohibited**, and while working on this you should only consult the resources (books, online, etc.) listed below.\n",
    "\n",
    "### Content\n",
    "This assignment corresponds to Worksheet 7, which is about trees.\n",
    "\n",
    "### Resources you may consult\n",
    "\n",
    "The materials you may refer to for this homework are:\n",
    "* **Most likely useful**\n",
    "    * [Worksheet 7](https://www.dumas.io/teaching/2024/spring/mcs275/nbview/worksheets/worksheet7.html)\n",
    "    * [Worksheet 7 Solutions](https://www.dumas.io/teaching/2024/spring/mcs275/nbview/worksheets/worksheet7soln.html) - This link will work once the solutions are posted\n",
    "    * [Lecture 15 - Trees](http://dumas.io/teaching/2024/spring/mcs275/slides/lecture15.html)\n",
    "    * [Lecture 16 - BST search](http://dumas.io/teaching/2024/spring/mcs275/slides/lecture16.html)\n",
    "    * [Lecture 17 - BST insert](http://dumas.io/teaching/2024/spring/mcs275/slides/lecture17.html)\n",
    "    * [trees.py](https://github.com/emilydumas/mcs275spring2024/blob/main/samplecode/datastructures/trees.py)\n",
    "    * Programs in the course [sample code repository](https://github.com/emilydumas/mcs275spring2024/tree/main/samplecode).\n",
    "* **Allowed, but less likely to be useful:**\n",
    "    * Any of the MCS 275 lecture materials, worksheets, previous homework assignments, or solutions to these, if posted on the course Blackboard site.\n",
    "    * Slides from any lecture of my [MCS 260 course from Fall 2021](https://www.dumas.io/teaching/2021/fall/mcs260/).\n",
    "    * Any lecture video posted on the [MCS 275 Blackboard site](https://uic.blackboard.com/ultra/courses/_267469_1/outline)\n",
    "    * Any textbook listed on the course blackboard site under \"Textbooks\"\n",
    "\n",
    "\n",
    "### Point distribution\n",
    "\n",
    "This homework assignment has two problems.  The grading breakdown is:\n",
    "\n",
    "| Points | Item |\n",
    "| --- | --- |\n",
    "| 4 | Autograder syntax checks (problem 1) |\n",
    "| 5 | Problem 2 |\n",
    "| 5 | Problem 3 |\n",
    "| **14** | Total |\n",
    "\n",
    "### What to do if you're stuck\n",
    "\n",
    "Ask your instructor or TA a question by email, in office hours, or on discord."
   ]
  },
  {
   "cell_type": "markdown",
   "metadata": {},
   "source": [
    "## Advisory\n",
    "\n",
    "You'll need to have a copy of [trees.py](https://github.com/emilydumas/mcs275spring2024/blob/main/samplecode/datastructures/trees.py) in the directory where you do the work on this assignment."
   ]
  },
  {
   "cell_type": "markdown",
   "metadata": {},
   "source": [
    "## Problem 2: Roots of the forest\n",
    "\n",
    "Work in `hwk7prob2.py`.  Import the module `trees` ([trees.py](https://github.com/emilydumas/mcs275spring2024/blob/main/samplecode/datastructures/trees.py)).\n",
    "\n",
    "Write a function `forest_roots(...)` that takes one argument, `node_list`, which is a list of `Node`s.  These nodes might all be in the same binary tree, or they may be scattered across several different trees.  The function should return a list of the root nodes of all the trees that contain some node from `node_list`.  Each root node should only be listed once.\n",
    "\n",
    "Example behavior:\n",
    "\n",
    "* If `node_list` is empty:  returns `[]` (empty list)\n",
    "\n",
    "* If all nodes in `node_list` lie in the same binary tree:  returns `[ R ]` where `R` is the root node of that tree.\n",
    "\n",
    "* If `node_list = [A1,A2,B]` where `A1` and `A2` are siblings and `B` lies in a different binary tree, returns `[ RA, RB ]` where `RA` is the root of the tree containing `A1` and `A2` and `RB` is the root of the tree containing `B`.\n",
    "\n",
    "**Make sure to give the function a descriptive docstring.**"
   ]
  },
  {
   "cell_type": "markdown",
   "metadata": {},
   "source": [
    "## Problem 3: Counting increment edges\n",
    "\n",
    "Work in `hwk7prob3.py`.  Import the module `trees` ([trees.py](https://github.com/emilydumas/mcs275spring2024/blob/main/samplecode/datastructures/trees.py)).\n",
    "\n",
    "The *edges* of a tree are all the pairs of nodes `(p,c)` where `p` is the parent of `c`.  (If you draw a picture of the tree, then there is one straight line in your picture for each such pair.)\n",
    "\n",
    "Suppose you have a binary search tree (BST) with keys that are integers.  Let's say that an edge `(p,c)` is an **increment edge** if the keys of `p` and `c` differ by one.  That is, either `c` is the left child of `p` and `c.key+1 == p.key` or `c` is the right child of `p` and `p.key+1 == c.key`.\n",
    "\n",
    "Write a function `num_increment_edges(T)` that takes the root node `T` of such a BST and returns the number of increment edges.  You can use any method you like (e.g. recursion or iteration).\n",
    "\n",
    "**Make sure to give the function a descriptive docstring.**"
   ]
  },
  {
   "cell_type": "markdown",
   "metadata": {},
   "source": [
    "### Revision history\n",
    "\n",
    "* 2024-02-23 Initial publication\n",
    "* 2024-02-26 Fix deadline (previously indicated an impossible date)"
   ]
  }
 ],
 "metadata": {
  "kernelspec": {
   "display_name": "Python 3 (ipykernel)",
   "language": "python",
   "name": "python3"
  },
  "language_info": {
   "codemirror_mode": {
    "name": "ipython",
    "version": 3
   },
   "file_extension": ".py",
   "mimetype": "text/x-python",
   "name": "python",
   "nbconvert_exporter": "python",
   "pygments_lexer": "ipython3",
   "version": "3.10.12"
  }
 },
 "nbformat": 4,
 "nbformat_minor": 4
}
