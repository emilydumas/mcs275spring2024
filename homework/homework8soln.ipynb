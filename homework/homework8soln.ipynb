{
 "cells": [
  {
   "cell_type": "markdown",
   "metadata": {},
   "source": [
    "# MCS 275 Spring 2024 Homework 8 Solutions\n",
    "\n",
    "* Course Instructor: David Dumas"
   ]
  },
  {
   "cell_type": "markdown",
   "metadata": {},
   "source": [
    "## Problem 2: \n",
    "\n",
    "Work in `hwk8prob2.py`.\n",
    "\n",
    "You will need to save the following PNG file in the directory where you do your work. All the links below take you to the same PNG file, so use whichever one makes it easiest for you to save it to a known location on your computer.\n",
    "\n",
    "* Link to the file: <a href=\"https://www.dumas.io/teaching/2024/spring/mcs275/data/hwk8-campus-circle.png\" download>hwk8-campus-circle.png</a>\n",
    "\n",
    "* Directory where you can find it on github: [worksheets/images/](https://github.com/daviddumas/mcs275spring2024/tree/main/homework/images)\n",
    "\n",
    "* The image itself (which you may be able to right-click and \"save as\"):\n",
    "\n",
    "![UIC circle logo](images/hwk8-campus-circle.png)\n",
    "\n",
    "This is an image of the UIC campus logo, a red circle with \"UIC\" written inside it in bold white sans-serif letters.\n",
    "\n",
    "Write a Python program that uses Pillow (i.e. the `PIL` module) to open this image file, analyze it, and print a report that answers these questions:\n",
    "\n",
    "1. Exactly what RGB color is the shade of red used in this UIC logo image?  Many colors are used in this image because of blending between red and white at the edges.  But there are only two \"popular\" colors, used in tens of thousands of pixels: white (i.e. `(255,255,255)`) and one other color (that we're asking for).\n",
    "1. How many pixels in the image have the exact color that was the answer to question #1?  (Let's call these \"UIC red pixels\".)\n",
    "1. What fraction of the area of this image is accounted for by UIC red pixels?  Assume the pixels are square.  Print the answer as a percentage, with one digit after the decimal point.\n",
    "\n",
    "Here's an example of what the output should look like, but using different colors and numbers than the actual answer:\n",
    "\n",
    "```text\n",
    "UIC red is: (105,21,17)\n",
    "Number of pixels of that color: 28055\n",
    "Fraction of the area they account for: 38.5%\n",
    "```\n",
    "\n",
    "**ALSO, please run your program and paste its output as a series of comment lines at the bottom of `hwk8prob2.py`.**  That way we can see its output while reading the code during grading."
   ]
  },
  {
   "cell_type": "code",
   "execution_count": 4,
   "metadata": {},
   "outputs": [
    {
     "name": "stdout",
     "output_type": "stream",
     "text": [
      "UIC red is:  (213, 31, 53)\n",
      "Number of pixels of that color: 31046\n",
      "Fraction of the area they account for: 42.6%\n"
     ]
    }
   ],
   "source": [
    "from PIL import Image\n",
    "from collections import defaultdict\n",
    "\n",
    "# Make a histogram of the image (dict mapping color to # pixels)\n",
    "hist = defaultdict(int)\n",
    "img = Image.open(\"images/hwk8-campus-circle.png\")\n",
    "for x in range(img.size[0]):\n",
    "    for y in range(img.size[1]):\n",
    "        hist[img.getpixel((x,y))] += 1\n",
    "\n",
    "# Convert this to a list of tuples (# pixels, color)\n",
    "pairs = [ (v,k) for k,v in hist.items() ]\n",
    "# Sort to put in order of increasing freq\n",
    "pairs.sort()\n",
    "\n",
    "# Last color should be white\n",
    "most_common_color_pixels, most_common_color = pairs[-1]\n",
    "assert most_common_color == (255,255,255)\n",
    "\n",
    "# Second last is \"UIC red\"\n",
    "uic_red_pixels, uic_red = pairs[-2]\n",
    "\n",
    "# Convert this info into the output requested\n",
    "print(\"UIC red is: \",uic_red)\n",
    "print(\"Number of pixels of that color:\",uic_red_pixels)\n",
    "print(\"Fraction of the area they account for: {:.1f}%\".format(100.0 * uic_red_pixels / (img.size[0]*img.size[1])))"
   ]
  },
  {
   "cell_type": "markdown",
   "metadata": {},
   "source": [
    "## Problem 3: Save tree as CSV file\n",
    "\n",
    "Work in `hwk8prob3.py`.  You'll need to import and use [`trees.py`](https://github.com/daviddumas/mcs275spring2024/blob/main/samplecode/datastructures/trees.py), and I suggest you download a fresh copy because it has been updated include the methods you were asked to write in Worksheets 7 and 8.  (You don't necessarily need to use those new methods, but their code may be a handy source of inspiration.)\n",
    "\n",
    "Write a function `save_tree_as_csv` that takes two arguments:\n",
    "* `T`, a `Node` or `BST` object that is the root of a tree\n",
    "* `filename`, a string specifying the name of the desired output file\n",
    "\n",
    "This function should create a CSV file with two columns: `location` and `key`.  After the header row, there should be one row for each node in the tree.  In the row corresponding to a node, the value in column `key` should be the key of the node, and the value in column `location` should be a string containing only the letters `L` and `R` that, when read from left to right, indicates how to get to the node from the root (`T`).  For example, the string `\"LRL\"` would mean: \"To get to this node, start at the root, go to its Left child, then the Right child of that, then the Left child of that.\"  The empty string `\"\"` would be the location of the root node itself.\n",
    "\n",
    "For example, the tree\n",
    "```text\n",
    "-           <True>\n",
    "-           /    \\\n",
    "-    <\"Alice\">  <False>\n",
    "-     /     \\\n",
    "-  <5.8>   <5.5>\n",
    "```\n",
    "might generate a CSV file with the following contents:\n",
    "```text\n",
    "location,key\n",
    ",True\n",
    "L,Alice\n",
    "LL,5.8\n",
    "LR,5.5\n",
    "R,False\n",
    "```\n",
    "\n",
    "Use the following function definition line:"
   ]
  },
  {
   "cell_type": "code",
   "execution_count": null,
   "metadata": {},
   "outputs": [],
   "source": [
    "def save_tree_as_csv(T,filename):"
   ]
  },
  {
   "cell_type": "markdown",
   "metadata": {},
   "source": [
    "Notes:\n",
    "\n",
    "* After the header row, the other rows are allowed to appear in any order.  What's important is that there is exactly one row for each node in the tree.\n",
    "* Feel free to write and use helper functions if you like.\n",
    "* You can do this by recursion or iteration according to your preference.  If you're not sure I'd try recursion."
   ]
  },
  {
   "cell_type": "code",
   "execution_count": 17,
   "metadata": {},
   "outputs": [],
   "source": [
    "import csv\n",
    "\n",
    "def tagged_preorder(T,prefix=\"\"):\n",
    "    \"\"\"\n",
    "    Perform a preorder traversal of tree with root T,\n",
    "    returning a list of pairs (tag, key) where tag\n",
    "    is a string consisting of L and R characters\n",
    "    indicating how to get to the node from the root\n",
    "    \"\"\"\n",
    "    if T is None:\n",
    "        return []\n",
    "    return [(prefix,T.key)] + tagged_preorder(T.left,prefix+\"L\") + tagged_preorder(T.right,prefix+\"R\")\n",
    "\n",
    "def save_tree_as_csv(T,filename):\n",
    "    \"Export tree as CSV with one node position code and key on each line\"\n",
    "    with open(filename,\"w\",newline=\"\",encoding=\"UTF-8\") as fp:\n",
    "        writer = csv.writer(fp)\n",
    "        writer.writerow([\"location\",\"key\"])\n",
    "        for location,key in tagged_preorder(T):\n",
    "            writer.writerow([location,key])"
   ]
  },
  {
   "cell_type": "markdown",
   "metadata": {},
   "source": [
    "Why don't we test that it works on a random tree?"
   ]
  },
  {
   "cell_type": "code",
   "execution_count": 29,
   "metadata": {},
   "outputs": [
    {
     "name": "stdout",
     "output_type": "stream",
     "text": [
      "The tree:\n",
      "              <11>\n",
      "\n",
      "      <6>             <14>\n",
      "\n",
      "  <4>     <8>      .       .\n",
      "\n",
      "<3>  .   .   .   .   .   .   .\n",
      "\n",
      "\n",
      "As a CSV:\n",
      "\n",
      "location,key\n",
      ",11\n",
      "L,6\n",
      "LL,4\n",
      "LLL,3\n",
      "LR,8\n",
      "R,14\n"
     ]
    }
   ],
   "source": [
    "import treeutil\n",
    "import treevis\n",
    "T = treeutil.random_bst(6)\n",
    "print(\"The tree:\")\n",
    "treevis.treeprint(T)\n",
    "save_tree_as_csv(T,\"test_tree_to_csv.csv\")\n",
    "print(\"\\nAs a CSV:\\n\")\n",
    "with open(\"test_tree_to_csv.csv\",\"r\") as fp:\n",
    "    for line in fp:\n",
    "        print(line,end=\"\")\n"
   ]
  },
  {
   "cell_type": "markdown",
   "metadata": {},
   "source": [
    "### Revision history\n",
    "\n",
    "* 2024-04-01 Initial publication"
   ]
  }
 ],
 "metadata": {
  "kernelspec": {
   "display_name": "Python 3 (ipykernel)",
   "language": "python",
   "name": "python3"
  },
  "language_info": {
   "codemirror_mode": {
    "name": "ipython",
    "version": 3
   },
   "file_extension": ".py",
   "mimetype": "text/x-python",
   "name": "python",
   "nbconvert_exporter": "python",
   "pygments_lexer": "ipython3",
   "version": "3.10.12"
  }
 },
 "nbformat": 4,
 "nbformat_minor": 4
}
