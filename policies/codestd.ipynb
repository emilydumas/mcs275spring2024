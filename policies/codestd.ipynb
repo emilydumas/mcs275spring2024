{
 "cells": [
  {
   "cell_type": "markdown",
   "id": "3e3e41b4",
   "metadata": {},
   "source": [
    "# MCS 275 - Spring 2024 - Emily Dumas\n",
    "## Coding standards"
   ]
  },
  {
   "cell_type": "markdown",
   "id": "2811c1cd",
   "metadata": {},
   "source": [
    "## Enforcement\n",
    "\n",
    "To receive full credit, Python code submitted for a graded MCS 275 assignment must follow the rules in this document.\n",
    "\n",
    "There are several rules, and we know it may take time to learn them. The level of enforcement will be increased over time, with feedback but no point deduction for most infractions of these rules on the first\n",
    "homework."
   ]
  },
  {
   "cell_type": "markdown",
   "id": "aa42eb5d",
   "metadata": {},
   "source": [
    "## Requirements\n",
    "\n",
    "This is the only section of the document you absolutely need to read.  The rest of the document might help you understand these rules better, but the rules themselves are just:\n",
    "\n",
    "* **CS1 - Header:** The first three lines of the main Python file of any assignment must be comment lines (i.e. must start with `#`), and these lines must contain this information:\n",
    "    * Line 1: The course and assignment (e.g. MCS 275 Spring 2024 Homework 5)\n",
    "    * Line 2: Your full name\n",
    "    * Line 3: A statement accurately describing the authorship and/or sources of the work (which under the course rules should either be that you wrote it from scratch, or that we provided some template and that you are the sole author of the changes made to that template).\n",
    "\n",
    "* **CS2 - Comments and docstrings:** Explanatory text is included, when appropriate, in the form of comment lines (starting with `#`) and not in any other way.  For example, including string literals with explanatory text is not acceptable unless the string literal is a docstring.  Comments are appropriate to clarify *why* and *how* things are done.  Docstrings (meaning a string literal that appears as the first statement inside a function, module, method, or class definition, and which describes the purpose of that object) should be included for all classes, for any function of significant complexity, and for any method other than special methods (whose names begin and end with `__`).\n",
    "\n",
    "* **CS3 - Informative names:** Names of functions, variables, and classes should be descriptive and not abbreviated to the point of incomprehensibility.  For example, single-letter names should be avoided except for variables that have a very short scope and obvious purpose (e.g. an iterator in a short loop or a comprehension expression)\n",
    "\n",
    "* **CS4 - Indenting:** Use at least two spaces to indent a block of code relative to its parent.  Use that same number of spaces for all indented blocks.\n",
    "\n",
    "* **CS5 - Avoid pointless conversions:** Don’t use `str()` on something that is already a string, don't use `int()` on something that is already an integer, don’t convert a string to a list just to index it (strings already support indexing!), etc.\n",
    "\n",
    "* **CS6 - Avoid manual indexing:** Any time you need perform some operation for every element of a list or other data structure, use Python's iterator protocol (e.g. `for x in L:`, followed by use of `x`) rather than manual indexing (e.g. `for i in range(len(L)):`, followed by use of `L[i]`).  If you believe `range(len(...)))` and manual indexing is the natural way to approach a task you are given in this course, ask the instructor or TA for confirmation."
   ]
  },
  {
   "cell_type": "markdown",
   "id": "ec751ecb",
   "metadata": {},
   "source": [
    "## Examples and discussion\n",
    "\n",
    "**The list of requirements from the previous section is duplicated here, with additional explanation and examples.**\n"
   ]
  },
  {
   "cell_type": "markdown",
   "id": "9d715d35",
   "metadata": {},
   "source": [
    "### CS1 - Header\n",
    "\n",
    "> The first three lines of the main Python file of any assignment must be\n",
    "> comment lines (i.e. must start with `#`), and these lines must contain this information:\n",
    ">    * Line 1: The course and assignment (e.g. MCS 275 Spring 2024 Homework 5)\n",
    ">    * Line 2: Your full name\n",
    ">    * Line 3: A statement accurately describing the authorship and/or sources of the work \n",
    ">(which under the course rules should either be that you wrote it from scratch, or that we \n",
    ">provided some template and that you are the sole author of the changes made to that \n",
    ">template)."
   ]
  },
  {
   "cell_type": "markdown",
   "id": "73457066",
   "metadata": {},
   "source": [
    "#### Why we have this rule\n",
    "\n",
    "Several reasons:\n",
    "\n",
    "* It is helpful to have this header in your source file to avoid any accidental confusion between different students' submissions during the grading and testing process.  We take other steps to avoid that as well, but this label is an extra layer of protection against mistakes.\n",
    "\n",
    "* We want the existence of rules about collaboration, use of external resources, etc., to be evident in every aspect of the course, to avoid surprises.  Asking you to write a statement about following those rules builds a quick reminder of this into each assignement."
   ]
  },
  {
   "cell_type": "markdown",
   "id": "e8b4b483",
   "metadata": {},
   "source": [
    "#### <span style=\"color: green\">Compliant example</span>\n",
    "For a Python file written by a student from scratch.  It includes a docstring after the header, too, and while the header includes \"metadata\" like the student name and assignment number, the docstring is the only part that is a description of the file contents."
   ]
  },
  {
   "cell_type": "code",
   "execution_count": null,
   "id": "3879bdd0",
   "metadata": {},
   "outputs": [],
   "source": [
    "# MCS 275 Spring 2024 Homework 6\n",
    "# Marie Curie\n",
    "# I am the sole author of this program, and I followed the rules given\n",
    "# in the assignment and in the course syllabus.\n",
    "\"\"\"\n",
    "Program to convert electrical discharge measurements into\n",
    "estimate of radioactivity of a sample.\n",
    "\"\"\""
   ]
  },
  {
   "cell_type": "markdown",
   "id": "cb77ea48",
   "metadata": {},
   "source": [
    "#### <span style=\"color: green\">Compliant example</span>\n",
    "For an assignment where the course staff provide\n",
    "some kind of template code that students are expected to modify or add to."
   ]
  },
  {
   "cell_type": "code",
   "execution_count": null,
   "id": "a04482b9",
   "metadata": {},
   "outputs": [],
   "source": [
    "# MCS 275 Spring 2024 Homework 6\n",
    "# Emmy Noether\n",
    "# I am the sole author of the changes to the template that was provided\n",
    "# by course staff, and I followed the rules in the course syllabus and assignment.\n",
    "\"\"\"\n",
    "Given a symmetry of a physical system, find an expression for the\n",
    "corresponding conserved quantity.\n",
    "\"\"\""
   ]
  },
  {
   "cell_type": "markdown",
   "id": "ea82eaf8",
   "metadata": {},
   "source": [
    "### CS2 - Comments and docstrings\n",
    "\n",
    ">Explanatory text is included, when appropriate, in the form of comment lines (starting \n",
    ">with `#`) and not in any other way.  For example, including string literals with \n",
    ">explanatory text is not acceptable unless the string literal is a docstring.  Comments are \n",
    ">appropriate to clarify *why* and *how* things are done.  Docstrings (meaning a string \n",
    ">literal that appears as the first statement inside a function, module, method, or class \n",
    ">definition, and which describes the purpose of that object) should be included for all \n",
    ">classes, for any function of significant complexity, and for any method other than special \n",
    ">methods (whose names begin and end with `__`)."
   ]
  },
  {
   "cell_type": "markdown",
   "id": "2b1ac15a",
   "metadata": {},
   "source": [
    "#### Why we have this rule\n",
    "\n",
    "Documentation is extremely important in computer programming.  Comments are one kind of documentation, and provide an important aid to reading code.  Being able to explain your work and ideas in written form is broadly important throughout computer science (indeed all of science).\n",
    "\n",
    "Python also has a dedicated feature for connecting a short documentation string (docstring) with logical units of a program (modules, classes, functions) in a way that is understood and used by the Python interpreter.  For example, the docstring of a module, class, or function will be shown if you ask the interpreter for `help()` on an object.  Always including docstrings is a good practice, and one that is helpful for anyone who reads your code (e.g. course staff)."
   ]
  },
  {
   "cell_type": "markdown",
   "id": "5ec102d7",
   "metadata": {},
   "source": [
    "#### <span style=\"color: red\">Non-compliant example</span>\n",
    "\n",
    "This class definition lacks docstrings for the class and its methods.  (Note: This example isn't fully self-contained as it makes reference to another class called `Vector2`.  See [the full source code for this example module](https://github.com/daviddumas/mcs275spring2023/blob/main/samplecode/oop/plane.py) for a self-contained version.)"
   ]
  },
  {
   "cell_type": "code",
   "execution_count": null,
   "id": "24a5d269",
   "metadata": {},
   "outputs": [],
   "source": [
    "class Point2:\n",
    "    def __init__(self, x, y):\n",
    "        self.x = x\n",
    "        self.y = y\n",
    "\n",
    "    def __eq__(self, other):\n",
    "        if isinstance(other, Point2):\n",
    "            return (self.x == other.x) and (self.y == other.y)\n",
    "        else:\n",
    "            return False\n",
    "\n",
    "    def __add__(self, other):\n",
    "        if isinstance(other, Vector2):\n",
    "            # we have been asked to add this Point2 to another Vector2\n",
    "            return Point2(self.x + other.x, self.y + other.y)\n",
    "        else:\n",
    "            # we have been asked to add this Point2 to some other object\n",
    "            # we don't want to allow this\n",
    "            return NotImplemented  # return this to forbid the requested operation\n",
    "\n",
    "    def __sub__(self, other):\n",
    "        if isinstance(other, Point2):\n",
    "            #                 Q.x - P.x        Q.y - P.y\n",
    "            return Vector2(self.x - other.x, self.y - other.y)\n",
    "        else:\n",
    "            return NotImplemented\n",
    "\n",
    "    def __str__(self):\n",
    "        return \"Point2({},{})\".format(self.x, self.y)\n",
    "\n",
    "    def __repr__(self):\n",
    "        return str(self) # use the same string for interactive mode as with print()\n",
    "\n",
    "    def distance_to(self, other):\n",
    "        if isinstance(other, Point2):\n",
    "            return abs(self - other)\n",
    "        else:\n",
    "            raise TypeError(\"distance_to requires argument of type Point2\")"
   ]
  },
  {
   "cell_type": "markdown",
   "id": "19781122",
   "metadata": {},
   "source": [
    "#### <span style=\"color: green\">Compliant example</span>\n",
    "This modified version is acceptable.  It includes docstrings for some of the special methods as well, which is appropriate in this case but not required by this rule."
   ]
  },
  {
   "cell_type": "code",
   "execution_count": null,
   "id": "d4217bf8",
   "metadata": {},
   "outputs": [],
   "source": [
    "class Point2:\n",
    "    \"Point in the plane\"\n",
    "\n",
    "    def __init__(self, x, y):\n",
    "        \"Initialize new point from x and y coordinates\"     \n",
    "        self.x = x\n",
    "        self.y = y\n",
    "\n",
    "    def __eq__(self, other):\n",
    "        \"points are equal if and only if they have same coordinates\"\n",
    "        if isinstance(other, Point2):\n",
    "            return (self.x == other.x) and (self.y == other.y)\n",
    "        else:\n",
    "            return False\n",
    "\n",
    "    def __add__(self, other):\n",
    "        \"point+vector addition\"\n",
    "        if isinstance(other, Vector2):\n",
    "            # we have been asked to add this Point2 to another Vector2\n",
    "            return Point2(self.x + other.x, self.y + other.y)\n",
    "        else:\n",
    "            # we have been asked to add this Point2 to some other object\n",
    "            # we don't want to allow this\n",
    "            return NotImplemented  # return this to forbid the requested operation\n",
    "\n",
    "    def __sub__(self, other):\n",
    "        \"point-point subtraction, gives displacement vector\"\n",
    "        if isinstance(other, Point2):\n",
    "            #                 Q.x - P.x        Q.y - P.y\n",
    "            return Vector2(self.x - other.x, self.y - other.y)\n",
    "        else:\n",
    "            return NotImplemented\n",
    "\n",
    "    def __str__(self):\n",
    "        return \"Point2({},{})\".format(self.x, self.y)\n",
    "\n",
    "    def __repr__(self):\n",
    "        return str(self) # use the same string for interactive mode as with print()\n",
    "\n",
    "    def distance_to(self, other):\n",
    "        \"get distance between two points\"\n",
    "        if isinstance(other, Point2):\n",
    "            return abs(self - other)\n",
    "        else:\n",
    "            raise TypeError(\"distance_to requires argument of type Point2\")"
   ]
  },
  {
   "cell_type": "markdown",
   "id": "540d4ae9",
   "metadata": {},
   "source": [
    "#### <span style=\"color: red\">Non-compliant example</span>\n",
    "\n",
    "This loop is not acceptable, because it uses a string literal instead of a\n",
    "comment. (It isn’t a docstring, because loops do not have docstrings.)"
   ]
  },
  {
   "cell_type": "code",
   "execution_count": null,
   "id": "17407eda",
   "metadata": {},
   "outputs": [],
   "source": [
    "for item in container:\n",
    "    \"\"\"Display the weight of this item (units will be added by the item.weight object)\"\"\"  # <-- PROBLEM HERE\n",
    "    print(item.weight)"
   ]
  },
  {
   "cell_type": "markdown",
   "id": "1d9322e2",
   "metadata": {},
   "source": [
    "#### <span style=\"color: green\">Compliant example</span>\n",
    "This modified version is acceptable."
   ]
  },
  {
   "cell_type": "code",
   "execution_count": null,
   "id": "bf65eb75",
   "metadata": {},
   "outputs": [],
   "source": [
    "for item in container:\n",
    "    # Display the weight of this item (units will be added by the item.weight object)\n",
    "    print(item.weight)"
   ]
  },
  {
   "cell_type": "markdown",
   "id": "3860eced",
   "metadata": {},
   "source": [
    "### CS3 - Informative names\n",
    "> Names of functions, variables, and classes should be descriptive and not abbreviated to \n",
    "> the point of incomprehensibility.  For example, single-letter names should be avoided \n",
    "> except for variables that have a very short scope and obvious purpose (e.g. an iterator \n",
    ">in a short loop or a comprehension expression)"
   ]
  },
  {
   "cell_type": "markdown",
   "id": "dd95fc4d",
   "metadata": {},
   "source": [
    "#### Why we have this rule\n",
    "\n",
    "It is immensely more difficult to understand and evaluate programs where objects have non-descriptive names.  Moreover, it is easier to make mistakes while writing or modifying programs that use poor names."
   ]
  },
  {
   "cell_type": "markdown",
   "id": "ba176d7a",
   "metadata": {},
   "source": [
    "#### <span style=\"color: red\">Non-compliant example</span>\n",
    "\n",
    "This code defines two variables (presumably for later use) whose names give no clear indication of their purpose or contents."
   ]
  },
  {
   "cell_type": "code",
   "execution_count": null,
   "id": "569218af",
   "metadata": {},
   "outputs": [],
   "source": [
    "L1 = [ i+1 for i in range(8) ] # <-- PROBLEM HERE\n",
    "LL = [ i-4 for i in L1 ]       # <-- PROBLEM HERE\n",
    "Lsp1 = [ x*x+1 for x in L1 ]   # <-- PROBLEM HERE"
   ]
  },
  {
   "cell_type": "markdown",
   "id": "a575858b",
   "metadata": {},
   "source": [
    "#### <span style=\"color: green\">Compliant example</span>\n",
    "This modified version is acceptable."
   ]
  },
  {
   "cell_type": "code",
   "execution_count": null,
   "id": "5eadfdd3",
   "metadata": {},
   "outputs": [],
   "source": [
    "whole_number_range = [ i+1 for i in range(8) ]\n",
    "shifted_range = [ i-4 for i in whole_number_range ]\n",
    "squares_plus_one = [ x*x+1 for x in whole_number_range ]"
   ]
  },
  {
   "cell_type": "markdown",
   "id": "21d83448",
   "metadata": {},
   "source": [
    "#### <span style=\"color: green\">Compliant example</span>\n",
    "This modified version is also acceptable, and uses list comprehensions to make the code shorter and more readable."
   ]
  },
  {
   "cell_type": "code",
   "execution_count": null,
   "id": "b86da80b",
   "metadata": {},
   "outputs": [],
   "source": [
    "shifted_range = [ i-3 for i in range(8) ]\n",
    "squares_plus_one = [ (i+1)*(i+1)+1 for i in range(8) ]"
   ]
  },
  {
   "cell_type": "markdown",
   "id": "3b813b4e",
   "metadata": {},
   "source": [
    "### CS4 - Indenting\n",
    "> Use at least two spaces to indent a block of code relative to its parent.  Use that same \n",
    "> number of spaces for all indented blocks.\n"
   ]
  },
  {
   "cell_type": "markdown",
   "id": "375df1bc",
   "metadata": {},
   "source": [
    "#### Why we have this rule\n",
    "\n",
    "Inconsistently indented code, or code that uses only one space to indent blocks, is difficult to read.  Also, some variations in indenting constitute Python syntax errors."
   ]
  },
  {
   "cell_type": "markdown",
   "id": "ef530015",
   "metadata": {},
   "source": [
    "#### <span style=\"color: red\">Non-compliant example</span>\n",
    "\n",
    "This code example uses various indent lengths, including one below 2 spaces."
   ]
  },
  {
   "cell_type": "code",
   "execution_count": null,
   "id": "fdef7d1e",
   "metadata": {},
   "outputs": [],
   "source": [
    "# The problem in this example is the *different* indent lengths in various blocks\n",
    "\n",
    "def is_alien_invasion():\n",
    "  \"Determine whether aliens appear to be invading\"   # <-- indented 2 spaces\n",
    "  return infrastructure_compromised() and unrecognized_life_forms()\n",
    "\n",
    "if is_alien_invasion:\n",
    " print(\"Welcome, space wasp overlords!\")  # <-- indented 1 space\n",
    "else:\n",
    "     print(\"Welcome to MCS 275.\")  # <-- indented 5 spaces"
   ]
  },
  {
   "cell_type": "markdown",
   "id": "9c132fe6",
   "metadata": {},
   "source": [
    "#### <span style=\"color: green\">Compliant example</span>\n",
    "Make all indent lengths 4 spaces."
   ]
  },
  {
   "cell_type": "code",
   "execution_count": null,
   "id": "343ef4a3",
   "metadata": {},
   "outputs": [],
   "source": [
    "def is_alien_invasion():\n",
    "    \"Determine whether aliens appear to be invading\"\n",
    "    return infrastructure_compromised() and unrecognized_life_forms()\n",
    "\n",
    "if is_alien_invasion:\n",
    "    print(\"Welcome, space wasp overlords!\")\n",
    "else:\n",
    "    print(\"Welcome to MCS 275.\")"
   ]
  },
  {
   "cell_type": "markdown",
   "id": "9a3fe6ba",
   "metadata": {},
   "source": [
    "### CS5 - Avoid pointless conversions\n",
    "> Don’t use `str()` on something that is already a string, don't use `int()` on something \n",
    "> that is already an integer, don’t convert a string to a list just to index it (strings \n",
    "> already support indexing!), etc.\n"
   ]
  },
  {
   "cell_type": "markdown",
   "id": "e7b53077",
   "metadata": {},
   "source": [
    "### Why we have this rule\n",
    "\n",
    "Pointless conversions perpetuate uncertainty about return types and allowed operations that are benficial to resolve early in the process of learning a programming language.  Also, removing pointless conversions makes programs easier to read and understand."
   ]
  },
  {
   "cell_type": "markdown",
   "id": "4ffeb8fa",
   "metadata": {},
   "source": [
    "#### <span style=\"color: red\">Non-compliant example</span>\n",
    "\n",
    "The return value of `input()` is already a string, so there's no need to convert it."
   ]
  },
  {
   "cell_type": "code",
   "execution_count": null,
   "id": "8771153d",
   "metadata": {},
   "outputs": [],
   "source": [
    "s = str(input(\"Enter a line of text: \"))"
   ]
  },
  {
   "cell_type": "markdown",
   "id": "7653d5be",
   "metadata": {},
   "source": [
    "#### <span style=\"color: green\">Compliant example</span>"
   ]
  },
  {
   "cell_type": "code",
   "execution_count": null,
   "id": "c3dfcb95",
   "metadata": {},
   "outputs": [],
   "source": [
    "s = input(\"Enter a line of text: \")"
   ]
  },
  {
   "cell_type": "markdown",
   "id": "af297014",
   "metadata": {},
   "source": [
    "#### <span style=\"color: red\">Non-compliant example</span>\n",
    "\n",
    "Strings support indexing, so there is no need to convert to a list just to get a character by index."
   ]
  },
  {
   "cell_type": "code",
   "execution_count": null,
   "id": "9ed9cbfb",
   "metadata": {},
   "outputs": [],
   "source": [
    "s = \"Python strings support indexing!\"\n",
    "L = list(s) # <-- PROBLEM HERE\n",
    "print(L[5],L[11])"
   ]
  },
  {
   "cell_type": "markdown",
   "id": "240fedc3",
   "metadata": {},
   "source": [
    "#### <span style=\"color: green\">Compliant example</span>"
   ]
  },
  {
   "cell_type": "code",
   "execution_count": null,
   "id": "363a636e",
   "metadata": {},
   "outputs": [],
   "source": [
    "s = \"Python strings support indexing!\"\n",
    "print(s[5],s[11])"
   ]
  },
  {
   "cell_type": "markdown",
   "id": "b91aeaf4",
   "metadata": {},
   "source": [
    "\n",
    "In most cases, if `range(len(...))` appears in your code, there is a preferred alternative that uses Python's iteration features in a more natural way that you must use instead.  If you think you are in one of the rare situations where `range(len(...))` should appear, ask the instructor or TA for advice before proceeding."
   ]
  },
  {
   "cell_type": "markdown",
   "id": "2258c7f2",
   "metadata": {},
   "source": [
    "### CS6 - Avoid manual indexing\n",
    "> Any time you need perform some operation for every element of a list or other data \n",
    "> structure, use Python's iterator protocol (e.g. `for x in L:`, followed by use of `x`) \n",
    "> rather than manual indexing (e.g. `for i in range(len(L)):`, followed by use of `L[i]`).  > If you believe `range(len(...)))` and manual indexing is the natural way to approach a \n",
    "> task you are given in this course, ask the instructor or TA for confirmation."
   ]
  },
  {
   "cell_type": "markdown",
   "id": "3ea83e40",
   "metadata": {},
   "source": [
    "#### Why we have this rule\n",
    "\n",
    "Python has features that make it easy to iterate over all the values in a container (such as a `list`, `set`, or all the keys of a `dict`) without using explicit integer indices.  Using these features is not just a convenience, but a good design practice, because it allows the container to control the iteration process.  It also usually results in code that is shorter, easier to read, and less prone to bugs related to incorrect index math."
   ]
  },
  {
   "cell_type": "markdown",
   "id": "a7033ba8",
   "metadata": {},
   "source": [
    "#### <span style=\"color: red\">Non-compliant example</span>\n",
    "\n",
    "Using `range(len(...))` to generate integer indices just so we can visit each element of a list using a `for` loop."
   ]
  },
  {
   "cell_type": "code",
   "execution_count": null,
   "id": "52d1a279",
   "metadata": {},
   "outputs": [],
   "source": [
    "for i in range(len(users)):   #<-- PROBLEM HERE\n",
    "    print(\"Username:\",users[i])"
   ]
  },
  {
   "cell_type": "markdown",
   "id": "f73ba11a",
   "metadata": {},
   "source": [
    "#### <span style=\"color: green\">Compliant example</span>\n",
    "\n",
    "This correction instead uses the fact that Python `list` objects are iterable---they can appear after `in` in a for loop, and yield each of their elements in order."
   ]
  },
  {
   "cell_type": "code",
   "execution_count": null,
   "id": "baf80b6a",
   "metadata": {},
   "outputs": [],
   "source": [
    "for user in users:\n",
    "    print(\"Username:\",user)"
   ]
  },
  {
   "cell_type": "markdown",
   "id": "40c74a0b",
   "metadata": {},
   "source": [
    "#### <span style=\"color: red\">Non-compliant example</span>"
   ]
  },
  {
   "cell_type": "code",
   "execution_count": null,
   "id": "b6a09a99",
   "metadata": {},
   "outputs": [],
   "source": [
    "for i in range(len(users)):  #<-- PROBLEM HERE\n",
    "    print(\"User\",i,\"has username\",users[i])"
   ]
  },
  {
   "cell_type": "markdown",
   "id": "80e49456",
   "metadata": {},
   "source": [
    "#### <span style=\"color: green\">Compliant example</span>\n",
    "\n",
    "One way to fix this example is to use `enumerate` to generate a sequence of pairs `index, item` from the list.  This brings the benefit that an ordered container (like `list`) could be replaced by an unordered one (like `set`) and the loop would still work."
   ]
  },
  {
   "cell_type": "code",
   "execution_count": null,
   "id": "4b99b990",
   "metadata": {},
   "outputs": [],
   "source": [
    "for i,username in enumerate(users):\n",
    "    print(\"User\",i,\"has username\",username)"
   ]
  },
  {
   "cell_type": "markdown",
   "id": "34b400e2",
   "metadata": {},
   "source": [
    "## Additional code style requests\n",
    "\n",
    "These are suggestions, not requirements, but they encourage some good habits and code style.\n",
    "* Use exactly four spaces for indenting code blocks.\n",
    "* Use either `\"` or `\"\"\"` to delimit a string, unless the string itself contains the double quote character.  (In general, using one string delimiter consistently is more important than whether you use single or double quote characters.)\n",
    "* Limit lines of code to a length of 100 characters.\n",
    "* Avoid the single-letter variable names `l` (lower case letter ell), `O` (upper case letter oh), `I` (upper case letter eye) which are easy to confuse with other symbols in some typefaces.\n",
    "* Rather than relying on your memory of the rules, before your final submission of any assignment, look through your code with this document open and check each rule in sequence, e.g. read through to check for (CS1), then (CS2), etc."
   ]
  },
  {
   "cell_type": "markdown",
   "id": "a3b66af5",
   "metadata": {},
   "source": [
    "## Note about future changes to this document\n",
    "\n",
    "Most likely, this document will not change during the course. However, if this document is updated, an\n",
    "announcement will be made on the course web page and in lecture. Rules added or changed will only apply to\n",
    "assignments or projects published after the update to this document appears. The list of changes made to this document and the dates they appeared can be found below."
   ]
  },
  {
   "cell_type": "markdown",
   "id": "c58318fa",
   "metadata": {},
   "source": [
    "## Revision history\n",
    "\n",
    "* 2024-01-04 Initial publication\n",
    "* 2024-05-14 Update Dumas name"
   ]
  }
 ],
 "metadata": {
  "kernelspec": {
   "display_name": "Python 3 (ipykernel)",
   "language": "python",
   "name": "python3"
  },
  "language_info": {
   "codemirror_mode": {
    "name": "ipython",
    "version": 3
   },
   "file_extension": ".py",
   "mimetype": "text/x-python",
   "name": "python",
   "nbconvert_exporter": "python",
   "pygments_lexer": "ipython3",
   "version": "3.10.12"
  }
 },
 "nbformat": 4,
 "nbformat_minor": 5
}
