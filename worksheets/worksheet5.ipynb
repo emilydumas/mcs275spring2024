{
 "cells": [
  {
   "cell_type": "markdown",
   "metadata": {},
   "source": [
    "# MCS 275 Spring 2024 Worksheet 5\n",
    "\n",
    "* Course instructor: Emily Dumas"
   ]
  },
  {
   "cell_type": "markdown",
   "metadata": {},
   "source": [
    "## Topics\n",
    "\n",
    "The main topic of this worksheet is **recursion with backtracking**, building on the maze-solving example from lecture."
   ]
  },
  {
   "cell_type": "markdown",
   "metadata": {},
   "source": [
    "## Resources\n",
    "\n",
    "These things might be helpful while working on the problems.  Remember that for worksheets,  we don't strictly limit what resources you can consult, so these are only suggestions.\n",
    "\n",
    "\n",
    "* [Lecture 9 - Recursion vs iteration](http://dumas.io/teaching/2024/spring/mcs275/slides/lecture9.html)\n",
    "* [Lecture 10 - Recursion vs iteration II](http://dumas.io/teaching/2024/spring/mcs275/slides/lecture10.html)\n",
    "* [Lecture 11 - Recursion with backtracking](http://dumas.io/teaching/2024/spring/mcs275/slides/lecture11.html)\n",
    "* [maze.py](https://github.com/daviddumas/mcs275spring2024/blob/main/samplecode/recursion/maze.py)\n",
    "    * which uses [plane.py](https://github.com/daviddumas/mcs275spring2024/blob/main/samplecode/recursion/plane.py) , the old Point2/Vector2 module\n",
    "* [solvemaze.py](https://github.com/daviddumas/mcs275spring2024/blob/main/samplecode/recursion/solvemaze.py)\n",
    "* [Downey's book, *Think Python*](https://greenteapress.com/thinkpython2/html/)\n",
    "* MCS 260 course materials from Fall 2021:\n",
    "    * [Slides, homework, worksheets, and projects](https://www.dumas.io/teaching/2021/fall/mcs260/)\n",
    "    * [MCS 260 Sample programs](https://github.com/daviddumas/mcs260fall2021/tree/main/samplecode)"
   ]
  },
  {
   "cell_type": "markdown",
   "metadata": {},
   "source": [
    "## Reminder about images\n",
    "\n",
    "The `maze` module supports saving a maze as an image file, of type `SVG` or `PNG`.  However, `PNG` images require the module [Pillow](https://pypi.org/project/pillow/) to be installed.  The following command should install it:\n",
    "```\n",
    "python3 -m pip install pillow\n",
    "```"
   ]
  },
  {
   "cell_type": "markdown",
   "metadata": {},
   "source": [
    "## 1. Get `solvemaze.py` working\n",
    "\n",
    "Get `plane.py`, `maze.py`, and `solvemaze.py` from the [course sample code repository](https://github.com/daviddumas/mcs275spring2024/tree/main/samplecode/recursion)\n",
    "\n",
    "Test out `solvemaze.py` and make sure you can run it in the terminal and find/open the image files it creates.\n",
    "\n",
    "Note that when run as a script, `solvemaze.py` now takes command line arguments (which are optional).  If given:\n",
    "* The first command line argument is the maze size (defaulting to 51x51)\n",
    "* The second command line argument is the template for the output image file\n",
    "\n",
    "For example,\n",
    "```\n",
    "python3 solvemaze.py 13 mazeimage\n",
    "```\n",
    "will create two files: `mazeimage.svg` (which you can open in a browser) and `mazeimage.png` (which you can open in VS code, a browser, or various other programs for viewing images).  Each image will show a 13x13 maze and its solution."
   ]
  },
  {
   "cell_type": "markdown",
   "metadata": {},
   "source": [
    "## 2. Solution history\n",
    "\n",
    "Add a new function `depth_first_maze_solution_history()` to `solvemaze.py` that works similarly to `depth_first_maze_solution()` but which returns a list of every path considered (rather than just a single path that is a solution).  This means the returned value will be a list of lists of `Point2` objects.\n",
    "\n",
    "Thus the last item in the returned list will be a solution, if a solution exists.\n",
    "\n",
    "Then, write a script that uses `depth_first_maze_solution_history` to do the following:\n",
    "* Take a command line argument, an odd integer `n`\n",
    "* Generate a random `n` by `n` maze\n",
    "* Solve the maze, keeping track of the history of paths considered\n",
    "* Save a sequence of output image files with names like `dfs001.png`, `dfs002.png`, etc., that highlight all paths considered by the solver\n",
    "\n",
    "Run this on a maze of moderate size (e.g. 9x9) and flip through the resulting images in your platform's image viewer to make a crude animation of the recursive process."
   ]
  },
  {
   "cell_type": "markdown",
   "metadata": {},
   "source": [
    "## Project questions?\n",
    "\n",
    "Remember project 1 is due on Fri Feb 9 at 11:59pm central.  If you have questions, this is the perfect time to discuss them with your TA.  The worksheet was made a little shorter than usual to allow time for this."
   ]
  },
  {
   "cell_type": "markdown",
   "metadata": {},
   "source": [
    "## Bonus round\n",
    "\n",
    "Work on these if you have extra time and have no need to ask questions about the project."
   ]
  },
  {
   "cell_type": "markdown",
   "metadata": {},
   "source": [
    "### A. Simple custom mazes\n",
    "\n",
    "Instead of using the `PrimRandomMaze` class to generate a maze, write your own subclass of `Maze` that creates a maze in which `start` and `goal` are set, the border is fully blocked, and so that it is possible to get from `start` to `goal`.  The constructor should create some obstacles between the start and goal, to make the maze more interesting.\n",
    "\n",
    "For example, you might make a class that simply places a large rectangle of blocked squares in the middle of the maze, so that a solution must either go along the top and right, or bottom and left.  Or you might make some walls coming out of the sides, so that a solution needs to turn back and forth several times.  Or you could make the start at the center, and surround it by walls that force any solution to take a spiral path out to a goal on the edge.\n",
    "\n",
    "The key characteristics you are looking for are:\n",
    "\n",
    "* Ability to generate a maze of a given size (specified as arguments to the constructor)\n",
    "* Certainty that the maze always has a solution\n",
    "\n",
    "It's OK for the constructor to decide a size is too small or is otherwise unacceptable, and raise an exception.  But to keep things interesting, it *should* allow arbitrarily large mazes.\n",
    "\n",
    "Write a script that instantiates your class and then uses `solvemaze` to find a solution.  Save the solved maze to a SVG file."
   ]
  },
  {
   "cell_type": "markdown",
   "metadata": {},
   "source": [
    "### Revision history\n",
    "\n",
    "* 2024-02-05 Initial publication"
   ]
  }
 ],
 "metadata": {
  "kernelspec": {
   "display_name": "Python 3 (ipykernel)",
   "language": "python",
   "name": "python3"
  },
  "language_info": {
   "codemirror_mode": {
    "name": "ipython",
    "version": 3
   },
   "file_extension": ".py",
   "mimetype": "text/x-python",
   "name": "python",
   "nbconvert_exporter": "python",
   "pygments_lexer": "ipython3",
   "version": "3.10.12"
  }
 },
 "nbformat": 4,
 "nbformat_minor": 4
}
