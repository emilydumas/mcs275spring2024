{
 "cells": [
  {
   "cell_type": "markdown",
   "metadata": {},
   "source": [
    "# MCS 275 Spring 2024 Worksheet 13\n",
    "\n",
    "* Course instructor: David Dumas"
   ]
  },
  {
   "cell_type": "markdown",
   "metadata": {},
   "source": [
    "## Topics\n",
    "\n",
    "\n",
    "This worksheet focuses on **Flask web applications**, **anonymous functions**, and **decorators**.\n"
   ]
  },
  {
   "cell_type": "markdown",
   "metadata": {},
   "source": [
    "\n",
    "## Resources\n",
    "\n",
    "These things might be helpful while working on the problems.  Remember that for worksheets,  we don't strictly limit what resources you can consult, so these are only suggestions.\n",
    "\n",
    "* [Lecture 29 - HTML and CSS](http://dumas.io/teaching/2024/spring/mcs275/slides/lecture29.html)\n",
    "* [Lecture 30 - Planning our web app](http://dumas.io/teaching/2024/spring/mcs275/slides/lecture30.html)\n",
    "* [Lecture 31 - HTTP servers and Flask](http://dumas.io/teaching/2024/spring/mcs275/slides/lecture31.html)\n",
    "* [Lecture 32 - Using Flask](http://dumas.io/teaching/2024/spring/mcs275/slides/lecture32.html)\n",
    "* [Lecture 33 - Redirects and forms](http://dumas.io/teaching/2024/spring/mcs275/slides/lecture33.html)\n",
    "* [Lecture 34 - Web app wrap-up](http://dumas.io/teaching/2024/spring/mcs275/slides/lecture34.html)\n",
    "* [Lecture 35 - Functions and decorators](http://dumas.io/teaching/2024/spring/mcs275/slides/lecture35.html)\n",
    "* Other online resources:\n",
    "    * [w3schools HTML tutorial](https://www.w3schools.com/html/)\n",
    "    * [w3schools CSS tutorial](https://www.w3schools.com/css/)\n",
    "    * [JSFiddle](https://jsfiddle.net/) - place to quickly test HTML+CSS without leaving your browser\n",
    "* Course sample code:\n",
    "    * [web app examples](https://github.com/daviddumas/mcs275spring2024/tree/main/samplecode/web)\n",
    "* [Downey's book, *Think Python*](https://greenteapress.com/thinkpython2/html/)\n",
    "* MCS 260 course materials from Fall 2021:\n",
    "    * [Slides, homework, worksheets, and projects](https://www.dumas.io/teaching/2021/fall/mcs260/)\n",
    "    * [MCS 260 Sample programs](https://github.com/daviddumas/mcs260fall2021/tree/main/samplecode)"
   ]
  },
  {
   "cell_type": "markdown",
   "metadata": {},
   "source": [
    "## 1. Get TaskGain or ActiveTask running locally\n",
    "\n",
    "The Flask application written in lecture was called TaskGain or ActiveTask, depending on which section of MCS 275 you are in.  The applications are quite similar, and use a SQLite database to manage a collection of tasks that have owners, privacy settings, state (e.g. \"in progress\"), and a timestamp of creation or update.\n",
    "\n",
    "To prepare for the next problem, download a copy of the Flask application for your section and get it running on your computer.\n",
    "\n",
    "### A. Download\n",
    "\n",
    "The application has a number of files, so you can do it in either of these ways:\n",
    "* **Recommended:** Download and extract the ZIP file linked below, which contains a snapshot of the application as it was on April 7, 2024.\n",
    "    * [taskgain-1.0.zip](https://www.dumas.io/teaching/2024/spring/mcs275/data/taskgain-1.0.zip)\n",
    "    * [activetask-1.0.zip](https://www.dumas.io/teaching/2024/spring/mcs275/data/activetask-1.0.zip)\n",
    "* Or if you prefer you can download the files one by one from the course sample code repository (see below for the list of files you need)\n",
    "    * [samplecode/web/taskgain](https://github.com/daviddumas/mcs275spring2024/tree/main/samplecode/web/taskgain) in course code repo\n",
    "    * [samplecode/web/activetask](https://github.com/daviddumas/mcs275spring2024/tree/main/samplecode/web/activetask) in course code repo\n",
    "    \n",
    "\n",
    "#### List of files for TaskGain\n",
    "\n",
    "* `taskgain.py` - Main program\n",
    "* `add_sample_tasks.py` - Utility to add sample tasks\n",
    "* `timefmt.py` - Module for time formatting\n",
    "* `static/` - Subdirectory for static files\n",
    "* `static/taskgain.css` - Main stylesheet\n",
    "* `templates/` - Subdirectory for templates\n",
    "* `templates/task_list_view.html` - Template for task list\n",
    "* `templates/add_task_form.html` - Template for new task form\n",
    "* `templates/front.html` - Template for front page\n",
    "\n",
    "#### List of files for ActiveTask\n",
    "\n",
    "* `activetask.py` - Main program\n",
    "* `add_sample_tasks.py` - Utility to add sample tasks\n",
    "* `timefmt.py` - Module for time formatting\n",
    "* `static/` - Subdirectory for static files\n",
    "* `static/activetask.css` - Main stylesheet\n",
    "* `templates/` - Subdirectory for templates\n",
    "* `templates/task_list_view.html` - Template for task list\n",
    "* `templates/add_task.html` - Template for new task form\n",
    "* `templates/front.html` - Template for front page"
   ]
  },
  {
   "cell_type": "markdown",
   "metadata": {},
   "source": [
    "### B. Test it out\n",
    "\n",
    "Open a terminal and `cd` to the location of the main `.py` script (`taskgain.py` or `activetask.py`).  Run that script with Python, e.g. using a command\n",
    "```bash\n",
    "python3 taskgain.py\n",
    "```\n",
    "or similarly with your interpreter name and possibly replacing `taskgain` with `activetask`.\n",
    "\n",
    "You should see output similar to this:\n",
    "\n",
    "```text\n",
    " * Serving Flask app 'taskgain'\n",
    " * Debug mode: off\n",
    "WARNING: This is a development server. Do not use it in a production deployment. Use a production WSGI server instead.\n",
    " * Running on http://127.0.0.1:5000\n",
    "Press CTRL+C to quit\n",
    "\n",
    "```\n",
    "\n",
    "Notice the port number `5000` on the second-to-last line.  It might not be `5000` for you, but you need to know it.\n",
    "\n",
    "Now, open a browser and visit `http://localhost:5000/`, replacing `5000` with the port number as needed.\n",
    "\n",
    "You should see a fronty page which lets you enter a username (and which directs you to that user's task list.)  Try logging in, modifying tasks, and making a new task.  (You'll need to manually enter the URL `localhost:5000/task/new/` to make a new task.)"
   ]
  },
  {
   "cell_type": "markdown",
   "metadata": {},
   "source": [
    "## 2. New features\n",
    "\n",
    "Modify the sample application to add these new features.  Test them to make sure they work."
   ]
  },
  {
   "cell_type": "markdown",
   "metadata": {},
   "source": [
    "### A. Single task view\n",
    "\n",
    "Make a new route `/task/<taskid>/` that does the following:\n",
    "* Performs a DB query to get data about the task with id `taskid`\n",
    "* If this query fails, returns a 400 Bad Request error\n",
    "* If the query succeeds, it renders a template called `task_view.html` that you create in the `templates/` subdirectory which displays a page listing all the information about that task in a nice format (e.g. with labels for the different fields and proper formatting for the dates/times)\n",
    "* In that page, any time a username is displayed, it is actually a link to that user's task list view.\n",
    "\n",
    "Then, modify the `/task/new/submit` route so that when a new task is created, the redirect goes to the single task view page for the newly-created task.  To do this, you'll need to know this neat trick: The query\n",
    "```\n",
    "SELECT last_insert_rowid();\n",
    "```\n",
    "will return the primary key of the most recently inserted row.  So calling this immediately after an SQL `INSERT` is the proper way to find the unique identifier of the added row.\n"
   ]
  },
  {
   "cell_type": "markdown",
   "metadata": {},
   "source": [
    "### B. On this day\n",
    "\n",
    "Here's a function that can take a day described by its year, month, and day numbers and return two time stamps `ts0,ts1` so that a timestamp `x` lies within that day if and only if `ts0 <= x < ts1`."
   ]
  },
  {
   "cell_type": "code",
   "execution_count": null,
   "metadata": {},
   "outputs": [],
   "source": [
    "import datetime\n",
    "\n",
    "def timestamp_range_for_day(year,month,day):\n",
    "    \"\"\"\n",
    "    Return the timestamps when a calendar day\n",
    "    begins and ends.\n",
    "    \"\"\"\n",
    "    ts0 = datetime.datetime(year,month,day).timestamp()\n",
    "    ts1 = (datetime.datetime(year,month,day)+datetime.timedelta(days=1)).timestamp()\n",
    "    return ts0,ts1"
   ]
  },
  {
   "cell_type": "markdown",
   "metadata": {},
   "source": [
    "Use this to add the following feature to the task list management application:  Visiting a URL of the form `/reports/day/2024/04/09/` will show a page with two sections:\n",
    "* Tasks created on that day\n",
    "* Tasks that were last updated on that day\n",
    "\n",
    "Each section should contain a list of tasks with the described property.\n",
    "\n",
    "As with the previous feature, this one should use a new template.  It is recommended to base your work on the task list view template, since that one also involves a task list."
   ]
  },
  {
   "cell_type": "markdown",
   "metadata": {},
   "source": [
    "## 3. Custom sorts and max/min\n",
    "\n",
    "Use anonymous functions (`lambda`) with Python's `sorted()`, `max()`, or `min()` functions to answer these questions."
   ]
  },
  {
   "cell_type": "markdown",
   "metadata": {},
   "source": [
    "### A. \n",
    "\n",
    "Generate the first 20 powers of 7 (meaning $7^1$ to $7^{20}$) and sort them according to how many different decimal digits they use.  That is, 343 would appear near the start of the list since it uses only two distinct digits, while 1628413597910449 would appear near the end, as it uses all 10 digits."
   ]
  },
  {
   "cell_type": "markdown",
   "metadata": {},
   "source": [
    "### B. \n",
    "\n",
    "Here's a text file with 10000 English words, one per line:\n",
    "* [https://www.mit.edu/~ecprice/wordlist.10000](https://www.mit.edu/~ecprice/wordlist.10000)\n",
    "\n",
    "Let's say the *endscore* of a word is the number of times its last letter appears in the word.  For example,\n",
    "\"plasma\" has an endscore of 2 because the last letter, a, appears twice.  And \"associates\" has an endscope of 3 because it contains 3 copies of the last letter, s.\n",
    "\n",
    "Using custom sorting and `lambda`, find 20 words with the highest endscores in this list."
   ]
  },
  {
   "cell_type": "markdown",
   "metadata": {},
   "source": [
    "### C. \n",
    "\n",
    "Use the same word list as the last problem.  Suppose we say the *variety* of a word is the ratio of the number of distinct letters to the length of the word.  For example, \"cameras\" has 6 distinct letters and has a length of 7, so its variety is $\\frac67 \\approx 0.85714$.\n",
    "\n",
    "Among words with at least four letters, find one that has the lowest variety."
   ]
  },
  {
   "cell_type": "markdown",
   "metadata": {},
   "source": [
    "### Revision history\n",
    "\n",
    "* 2024-04-07 Initial release"
   ]
  }
 ],
 "metadata": {
  "kernelspec": {
   "display_name": "Python 3 (ipykernel)",
   "language": "python",
   "name": "python3"
  },
  "language_info": {
   "codemirror_mode": {
    "name": "ipython",
    "version": 3
   },
   "file_extension": ".py",
   "mimetype": "text/x-python",
   "name": "python",
   "nbconvert_exporter": "python",
   "pygments_lexer": "ipython3",
   "version": "3.10.12"
  }
 },
 "nbformat": 4,
 "nbformat_minor": 4
}
