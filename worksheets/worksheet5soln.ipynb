{
 "cells": [
  {
   "cell_type": "markdown",
   "metadata": {},
   "source": [
    "# MCS 275 Spring 2024 Worksheet 5 Solutions\n",
    "\n",
    "* Course instructor: Emily Dumas\n",
    "* Solutions prepared by: Karoline Dubin, Jennifer Vaccaro, Johnny Joyce, Kylash Viswanathan"
   ]
  },
  {
   "cell_type": "markdown",
   "metadata": {},
   "source": [
    "## Topics\n",
    "\n",
    "The main topic of this worksheet is **recursion with backtracking**, building on the maze-solving example from lecture."
   ]
  },
  {
   "cell_type": "markdown",
   "metadata": {},
   "source": [
    "## Resources\n",
    "\n",
    "These things might be helpful while working on the problems.  Remember that for worksheets,  we don't strictly limit what resources you can consult, so these are only suggestions.\n",
    "\n",
    "\n",
    "* [Lecture 9 - Recursion vs iteration](http://dumas.io/teaching/2024/spring/mcs275/slides/lecture9.html)\n",
    "* [Lecture 10 - Recursion vs iteration II](http://dumas.io/teaching/2024/spring/mcs275/slides/lecture10.html)\n",
    "* [Lecture 11 - Recursion with backtracking](http://dumas.io/teaching/2024/spring/mcs275/slides/lecture11.html)\n",
    "* [maze.py](https://github.com/daviddumas/mcs275spring2024/blob/main/samplecode/recursion/maze.py)\n",
    "    * which uses [plane.py](https://github.com/daviddumas/mcs275spring2024/blob/main/samplecode/recursion/plane.py) , the old Point2/Vector2 module\n",
    "* [solvemaze.py](https://github.com/daviddumas/mcs275spring2024/blob/main/samplecode/recursion/solvemaze.py)\n",
    "* [Downey's book, *Think Python*](https://greenteapress.com/thinkpython2/html/)\n",
    "* MCS 260 course materials from Fall 2021:\n",
    "    * [Slides, homework, worksheets, and projects](https://www.dumas.io/teaching/2021/fall/mcs260/)\n",
    "    * [MCS 260 Sample programs](https://github.com/daviddumas/mcs260fall2021/tree/main/samplecode)"
   ]
  },
  {
   "cell_type": "markdown",
   "metadata": {},
   "source": [
    "## Reminder about images\n",
    "\n",
    "The `maze` module supports saving a maze as an image file, of type `SVG` or `PNG`.  However, `PNG` images require the module [Pillow](https://pypi.org/project/pillow/) to be installed.  The following command should install it:\n",
    "```\n",
    "python3 -m pip install pillow\n",
    "```"
   ]
  },
  {
   "cell_type": "markdown",
   "metadata": {},
   "source": [
    "## 2. Solution history\n",
    "\n",
    "Add a new function `depth_first_maze_solution_history()` to `solvemaze.py` that works similarly to `depth_first_maze_solution()` but which returns a list of every path considered (rather than just a single path that is a solution).  This means the returned value will be a list of lists of `Point2` objects.\n",
    "\n",
    "Thus the last item in the returned list will be a solution, if a solution exists.\n",
    "\n",
    "Then, write a script that uses `depth_first_maze_solution_history` to do the following:\n",
    "* Take a command line argument, an odd integer `n`\n",
    "* Generate a random `n` by `n` maze\n",
    "* Solve the maze, keeping track of the history of paths considered\n",
    "* Save a sequence of output image files with names like `dfs001.png`, `dfs002.png`, etc., that highlight all paths considered by the solver\n",
    "\n",
    "Run this on a maze of moderate size (e.g. 9x9) and flip through the resulting images in your platform's image viewer to make a crude animation of the recursive process."
   ]
  },
  {
   "cell_type": "markdown",
   "metadata": {},
   "source": [
    "## Solution"
   ]
  },
  {
   "cell_type": "markdown",
   "metadata": {},
   "source": [
    "The script below contains the requested function and the demonstration code as well."
   ]
  },
  {
   "cell_type": "code",
   "execution_count": null,
   "metadata": {},
   "outputs": [],
   "source": [
    "import maze\n",
    "\n",
    "# Adapted from the 2023 worksheet\n",
    "def depth_first_maze_solution_history(M,path_list=None,verbose=False):\n",
    "    \"\"\"\n",
    "    Functions similarly to `solvemaze`, but returns a list of all paths\n",
    "    considered throughout solving process.\n",
    "    \"\"\"\n",
    "    if path_list == None:\n",
    "        # no path was specified, initialize it with [M.start]\n",
    "        path_list = [[M.start]] # Use a list of lists for path_list - one list for each path.\n",
    "    else:\n",
    "        print(\"Called with path={}\".format(path_list[-1]))\n",
    "    path = path_list[-1]\n",
    "\n",
    "    if verbose:\n",
    "        print(\"Considering:\",path)\n",
    "\n",
    "    if path[-1] == M.goal:\n",
    "        # path ends with goal, meaning it's a solution\n",
    "        return path_list, True # Set the \"solved\" variable to True\n",
    "\n",
    "    path = path_list[-1]\n",
    "    possible_next_locations = M.free_neighbors(path[-1])\n",
    "    for x in possible_next_locations:\n",
    "        if x in path:\n",
    "            # skip x\n",
    "            continue # do not execute the rest of the loop body\n",
    "                     # immediately begin the next iteration.\n",
    "        # x should be considered\n",
    "        new_path = path + [x]\n",
    "        # Ask for a solution that continues from new_path\n",
    "        path_list.append(new_path)\n",
    "        soln, solved = depth_first_maze_solution_history(M,path_list)\n",
    "        if solved: \n",
    "            return soln, True\n",
    "        \n",
    "    # What now? If we end up here, it means no next step leads to a solution\n",
    "    # Hence `path` leads to only dead ends\n",
    "    # We therefore BACKTRACK\n",
    "    if verbose:\n",
    "        print(\"GIVING UP ON:\",path)\n",
    "    # Still need to return path_list so we can visualize it later\n",
    "    return path_list, False # Keep the \"solved\" variable as False.\n",
    "\n",
    "if __name__ == \"__main__\":\n",
    "    # Run as a script, so make the images of a maze's solution\n",
    "    # as requested in the problem.\n",
    "    import sys\n",
    "\n",
    "    if len(sys.argv) > 1:\n",
    "        n = int(sys.argv[1])\n",
    "        if n % 2 != 1: \n",
    "            print(\"Integer n must be odd.\")\n",
    "            exit()\n",
    "    else:\n",
    "        print(\"No command line argument detected. Defaulting to 11.\")\n",
    "        n = 11\n",
    "\n",
    "    # Make a random maze\n",
    "    M = maze.PrimRandomMaze(n,n)\n",
    "    # Find solution and history\n",
    "    path_list, _ = depth_first_maze_solution_history(M) # `_` represents a boolean variable we don't need anymore\n",
    "    # Save image files (could also do SVG to avoid Pillow dependency)\n",
    "    for i,p in enumerate(path_list):\n",
    "        M.save_png(\"dfs{:03d}.png\".format(i),scale=30,highlight=p)\n",
    "    print(\"Saved {} image files ('dfs000.png' to 'dfs{:03d}.png')\".format(\n",
    "        len(path_list),\n",
    "        len(path_list)-1,\n",
    "    ))"
   ]
  },
  {
   "cell_type": "markdown",
   "metadata": {},
   "source": [
    "### Revision history\n",
    "\n",
    "* 2024-02-09 Initial publication"
   ]
  }
 ],
 "metadata": {
  "kernelspec": {
   "display_name": "Python 3 (ipykernel)",
   "language": "python",
   "name": "python3"
  },
  "language_info": {
   "codemirror_mode": {
    "name": "ipython",
    "version": 3
   },
   "file_extension": ".py",
   "mimetype": "text/x-python",
   "name": "python",
   "nbconvert_exporter": "python",
   "pygments_lexer": "ipython3",
   "version": "3.10.12"
  }
 },
 "nbformat": 4,
 "nbformat_minor": 4
}
