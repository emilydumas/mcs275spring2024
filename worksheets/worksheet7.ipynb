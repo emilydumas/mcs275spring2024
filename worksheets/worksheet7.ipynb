{
 "cells": [
  {
   "cell_type": "markdown",
   "metadata": {},
   "source": [
    "# MCS 275 Spring 2024 Worksheet 7\n",
    "\n",
    "* Course instructor: Emily Dumas"
   ]
  },
  {
   "cell_type": "markdown",
   "metadata": {},
   "source": [
    "## Topics\n",
    "\n",
    "The main topics of this worksheet are:\n",
    "* Trees\n",
    "* Binary search trees\n",
    "\n",
    "**Project 3 will focus on tree-like data structures, so it is very important to get practice with this material!**"
   ]
  },
  {
   "cell_type": "markdown",
   "metadata": {},
   "source": [
    "## Resources\n",
    "\n",
    "These things might be helpful while working on the problems.  Remember that for worksheets,  we don't strictly limit what resources you can consult, so these are only suggestions.\n",
    "\n",
    "* [Lecture 15 - Trees](http://dumas.io/teaching/2024/spring/mcs275/slides/lecture15.html)\n",
    "* [Lecture 16 - BST search](http://dumas.io/teaching/2024/spring/mcs275/slides/lecture16.html)\n",
    "* [Lecture 17 - BST insert](http://dumas.io/teaching/2024/spring/mcs275/slides/lecture17.html)\n",
    "* [trees.py](https://github.com/emilydumas/mcs275spring2024/blob/main/samplecode/datastructures/trees.py)\n",
    "* [Downey's book, *Think Python*](https://greenteapress.com/thinkpython2/html/)\n",
    "* MCS 260 course materials from Fall 2021:\n",
    "    * [Slides, homework, worksheets, and projects](https://www.dumas.io/teaching/2021/fall/mcs260/)\n",
    "    * [MCS 260 Sample programs](https://github.com/emilydumas/mcs260fall2021/tree/main/samplecode)"
   ]
  },
  {
   "cell_type": "markdown",
   "metadata": {},
   "source": [
    "## 1.  Node relationship\n",
    "\n",
    "Suppose you have two `Node` objects (or objects of a subclass of `Node`) as defined in [trees.py](https://github.com/emilydumas/mcs275spring2024/blob/main/samplecode/datastructures/trees.py).  Let's call them `x` and `y`.  You might ask how they are related to one another, if it all.  In general, exactly one of the following statements will be true:\n",
    "1. The nodes do not lie in the same tree\n",
    "1. The nodes are equal\n",
    "1. One of the nodes is an ancestor of the other\n",
    "1. The nodes lie in the same tree, but neither is an ancestor of the other\n",
    "\n",
    "Write a function `node_relationship(x,y)` that takes two nodes and returns one of these strings:\n",
    "1. `\"unrelated\"`\n",
    "1. `\"equal\"`\n",
    "1. `\"ancestor\"`\n",
    "1. `\"cousin\"`\n",
    "\n",
    "according to which of the cases listed above describes the relationship between `x` and `y`.\n",
    "\n",
    "(Note that the use of \"cousin\" to describe case (3) doesn't fit the genealogical analogy perfectly, as it would also include the case of siblings.)\n",
    "\n",
    "Also, make test cases for your function that generate each of the possible answers."
   ]
  },
  {
   "cell_type": "markdown",
   "metadata": {},
   "source": [
    "## Get ready to edit `trees.py`\n",
    "\n",
    "The rest of the worksheet focuses on adding features to the module `trees.py` from lecture.  To prepare for that, download these files and save them in a directory where you'll work on worksheet 8.\n",
    "* [trees.py](https://github.com/emilydumas/mcs275spring2024/blob/main/samplecode/datastructures/trees.py)\n",
    "* [treevis.py](https://github.com/emilydumas/mcs275spring2024/blob/main/samplecode/datastructures/treevis.py)\n",
    "* [treeutil.py](https://github.com/emilydumas/mcs275spring2024/blob/main/samplecode/datastructures/treeutil.py)"
   ]
  },
  {
   "cell_type": "markdown",
   "metadata": {},
   "source": [
    "### Know how to test your code\n",
    "\n",
    "It will be hard to test your code if you don't have any search trees to test it with.  To that end, I created a module `treeutil.py` (which you were asked to download above) that will generate random binary search trees on request.  It can also give a random node of the tree, or a random pair of nodes.\n",
    "\n",
    "Open the full documentation of the module in a separate browser tab, and keep it open as you work:\n",
    "* [treeutil documentation](https://github.com/emilydumas/mcs275spring2024/blob/main/samplecode/datastructures/treeutil.md)\n",
    "\n",
    "The main things you'll be doing in such tests are:\n",
    "* Using `treeutil` functions to make trees to test your code on\n",
    "* Using `treevis.treeprint` to display trees for manual inspection\n"
   ]
  },
  {
   "cell_type": "markdown",
   "metadata": {},
   "source": [
    "## 2. Minimum and maximum\n",
    "\n",
    "Add two new methods, `minimum` and `maximum` to the `BST` class for finding the node with the smallest or largest key in the subtree that has this node as its root.  Use these function definition lines and docstrings:"
   ]
  },
  {
   "cell_type": "code",
   "execution_count": null,
   "metadata": {},
   "outputs": [],
   "source": [
    "    # These should go inside class `BST` in `trees.py`\n",
    "    def minimum(self):\n",
    "        \"\"\"\n",
    "        In the subtree that this node is the root of, find and\n",
    "        return the the smallest key.\n",
    "        \"\"\"\n",
    "        \n",
    "    def maximum(self):\n",
    "        \"\"\"\n",
    "        In the subtree that this node is the root of, find and\n",
    "        return the the largest key.\n",
    "        \"\"\""
   ]
  },
  {
   "cell_type": "markdown",
   "metadata": {},
   "source": [
    "## 3. Depth\n",
    "\n",
    "Add a method `depth` to the `BST` class that computes the depth of the tree. (That is, when you call `A.depth()` on a node `A`, you get the maximum number of descending edges that you can follow in the tree that has `A` as its root).\n",
    "\n",
    "Note that both an empty `BST` and a 1-node `BST` are considered to have depth zero by this convention.\n",
    "\n",
    "Use these function definition lines and docstrings:"
   ]
  },
  {
   "cell_type": "code",
   "execution_count": null,
   "metadata": {},
   "outputs": [],
   "source": [
    "    # This should go inside class `BST` in `trees.py`\n",
    "    def depth(self):\n",
    "        \"\"\"\n",
    "        Return the length (in number of edges) of the longest descending\n",
    "        path starting from this node.\n",
    "        \"\"\""
   ]
  },
  {
   "cell_type": "markdown",
   "metadata": {},
   "source": [
    "## 4. Interval of a node\n",
    "\n",
    "Suppose you are given a binary search tree `T` and a node `x` that has no children.  If you change the key of `x`, the tree may or may not be a binary search tree.\n",
    "\n",
    "Here's an example to illustrate this.  Consider this BST:\n",
    "```\n",
    "       [15]\n",
    "\n",
    "   [9]      [29]\n",
    "\n",
    "[5]  [12]\n",
    "```\n",
    "If `x` is the node with key 12, then changing the key to 13 still gives a binary search tree:\n",
    "```\n",
    "       [15]\n",
    "\n",
    "   [9]      [29]\n",
    "\n",
    "[5]  [13]\n",
    "```\n",
    "But if we change the key to 6, the result is not a binary search tree; the right subtree of the node with key 9 contains keys smaller than 9:\n",
    "```\n",
    "❌THIS IS NOT A BST❌\n",
    "       [15]\n",
    "\n",
    "   [9]      [29]\n",
    "\n",
    "[5]  [6]\n",
    "```\n",
    "And if we change the key to 18, the result is not a binary search tree.  The left subtree of the root node contains a node with key larger than 15:\n",
    "```\n",
    "❌THIS IS NOT A BST❌\n",
    "       [15]\n",
    "\n",
    "   [9]      [29]\n",
    "\n",
    "[5]  [18]\n",
    "```\n",
    "\n",
    "Now, if you look more closely at this example, you can convince yourself that the key 12 can be changed to any number in the closed interval $[9,15]$ while keeping the BST condition, but that anything outside of this range will result in a non-BST.  This is called the **interval** of the node.\n",
    "\n",
    "Add a method to `BST` that can be called whenever the node has no children, and which returns a tuple `(kmin,kmax)` where `kmin` and `kmax` are the smallest and largest values (respectively) that the key of that node could be changed to while keeping the BST condition.  In some cases, there may be no lower or upper limit, in which case the value `None` should be returned for `kmin`, `kmax`, or both.  If called on a node that has children, it should raise an exception.\n",
    "\n",
    "Use this method definition:"
   ]
  },
  {
   "cell_type": "code",
   "execution_count": null,
   "metadata": {},
   "outputs": [],
   "source": [
    "    # This should go inside class `BST` in `trees.py`\n",
    "    def interval(self):\n",
    "        \"\"\"\n",
    "        If this node has no children, return the minimum and maximum key values that\n",
    "        could be given to this node without violating the BST condition.  The value None\n",
    "        is used to indicate that the range of allowable values has no upper or lower\n",
    "        bound.\n",
    "\n",
    "        If the given node has children, raises ValueError.\n",
    "        \"\"\""
   ]
  },
  {
   "cell_type": "markdown",
   "metadata": {},
   "source": [
    "## Challenge\n",
    "\n",
    "If you have extra time and do not have questions about project 2, try these:\n",
    "\n",
    "* Write an iterative version of `BST.search`, i.e. one that never recursively calls the `search` method of that node of any other node.\n",
    "\n",
    "* Write an iterative version of `BST.insert`, i.e. one that never recursively calls the `insert` method of that node of any other node."
   ]
  },
  {
   "cell_type": "markdown",
   "metadata": {},
   "source": [
    "### Revision history\n",
    "\n",
    "* 2024-02-18 Initial publication"
   ]
  }
 ],
 "metadata": {
  "kernelspec": {
   "display_name": "Python 3 (ipykernel)",
   "language": "python",
   "name": "python3"
  },
  "language_info": {
   "codemirror_mode": {
    "name": "ipython",
    "version": 3
   },
   "file_extension": ".py",
   "mimetype": "text/x-python",
   "name": "python",
   "nbconvert_exporter": "python",
   "pygments_lexer": "ipython3",
   "version": "3.10.12"
  }
 },
 "nbformat": 4,
 "nbformat_minor": 4
}
