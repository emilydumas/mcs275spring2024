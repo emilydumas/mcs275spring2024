{
 "cells": [
  {
   "cell_type": "markdown",
   "metadata": {},
   "source": [
    "# MCS 275 Spring 2024 Worksheet 4\n",
    "\n",
    "* Course instructor: Emily Dumas"
   ]
  },
  {
   "cell_type": "markdown",
   "metadata": {},
   "source": [
    "## Topics\n",
    "\n",
    "This worksheet focuses on the Jupyter notebook interface, context managers, and the start of our unit on recursion."
   ]
  },
  {
   "cell_type": "markdown",
   "metadata": {},
   "source": [
    "## Resources\n",
    "\n",
    "These things might be helpful while working on the problems.  Remember that for worksheets,  we don't strictly limit what resources you can consult, so these are only suggestions.\n",
    "\n",
    "* [Lecture 7 - notebooks and context managers](https://www.dumas.io/teaching/2024/spring/mcs275/slides/lecture7.html)\n",
    "* [Lecture 8 - recursion](https://www.dumas.io/teaching/2024/spring/mcs275/slides/lecture8.html)\n",
    "* [Lecture 9 - recursion and iteration](https://www.dumas.io/teaching/2024/spring/mcs275/slides/lecture9.html)\n",
    "* [MCS 275 Python Tour](https://www.dumas.io/teaching/2024/spring/mcs275/nbview/samplecode/python_tour.html)\n",
    "* [MCS 275 sample code repository](https://github.com/daviddumas/mcs275spring2024/tree/main/samplecode)\n",
    "* [Downey's book, *Think Python*](https://greenteapress.com/thinkpython2/html/)\n",
    "* MCS 260 course materials from Fall 2021:\n",
    "    * [Slides, homework, worksheets, and projects](https://www.dumas.io/teaching/2021/fall/mcs260/)\n",
    "    * [MCS 260 Sample programs](https://github.com/daviddumas/mcs260fall2021/tree/main/samplecode)"
   ]
  },
  {
   "cell_type": "markdown",
   "metadata": {},
   "source": [
    "## 1. Get the Project 1 starter pack\n",
    "\n",
    "\n",
    "[Project 1](https://www.dumas.io/teaching/2024/spring/mcs275/nbview/projects/project1.html) is due on Friday February 9 at 11:59pm central time.  To prepare for working on it, please download and extract ths starter pack, which is a ZIP file:\n",
    "\n",
    "* [mcs275proj1start.zip](https://www.dumas.io/teaching/2024/spring/mcs275/data/mcs275proj1start.zip)\n",
    "\n",
    "You don't just want to view the contents of the ZIP file in Windows explorer or a Finder window; it's important to actually extract the files so they exist in a directory where you can do your project work.  You'll know you've done this if you can find and list those files (e.g. `simulation.py`, `routing.py`) in a terminal.\n",
    "\n",
    "The point of asking you to do it during lab is to ensure the TA can help you if you run into any problems."
   ]
  },
  {
   "cell_type": "markdown",
   "metadata": {},
   "source": [
    "## 2. Open a notebook in which you'll write your solutions\n",
    "\n",
    "To get some experience using the notebook interface, work on this assignment in a notebook. (Similarly, Homework 4 will require you to submit a notebook.)\n",
    "\n",
    "For this problem, just get that set up as follows:\n",
    "* If you plan to work locally (on your own computer):\n",
    "    * Install the notebook interface (usually `python3 -m pip install notebook` will do it)\n",
    "    * Check that you can start it up (usually `python3 -m notebook` in the directory where you want your notebook files to go)\n",
    "    * Create a new Python 3 notebook, giving it a name like `lab4.ipynb`\n",
    "* If you want to avoid installing anything:\n",
    "    * Log in to [Google Colab](https://colab.research.google.com/) with your `netid@uic.edu` account (or any other google account)\n",
    "    * Create a new Python 3 notebook in Colab, giving it a name like `lab5`\n",
    "    \n",
    "These instructions will have you start with a blank notebook.  If you'd instead like to start with a copy of the worksheet notebook, you can do that by downloading the `.ipynb` file of the worksheet (from github or using the \"notebook file\" link at the very top if this is the web page).  If you use Colab, you will also need to upload that file to Colab after you save it to your computer.\n",
    "\n",
    "**But if you prepare your solutions in a copy of this worksheet notebook, please delete all the cells except the numbered problems and your answers.**"
   ]
  },
  {
   "cell_type": "markdown",
   "metadata": {},
   "source": [
    "## 3. Sequence\n",
    "\n",
    "There is a sequence of integers $T_n$ defined by the conditions\n",
    "\n",
    "$$\\begin{split}\n",
    "T_0 &= 0\\\\\n",
    "T_1 &= 1\\\\\n",
    "T_2 &= 2\\\\\n",
    "T_{n} &= T_{n-1} + T_{n-2} + T_{n-3} \\text{ if } n \\geq 3\\end{split}$$\n",
    "\n",
    "This sequence begins $0, 1, 2, 3, 6, 11, 20, 37, 68, 125, 230, 423, 778, 1431, 2632, \\ldots$.\n",
    "\n",
    "### A. Recursive implementation\n",
    "\n",
    "Write a recursive function that calculates $T_n$.\n",
    "\n",
    "### B. Iterative implementation\n",
    "\n",
    "Write an iterative function that calculates $T_n$.\n",
    "\n",
    "### C. Call counts\n",
    "\n",
    "Add code to the recursive function that will allow you to count how many times the function is called in any single computation.  (You probably want to have a global dictionary in which every function call changes the value associated with a certain key.)\n",
    "\n",
    "Make a table of how many calls are involved for $n=1,2,3,\\ldots,15$."
   ]
  },
  {
   "cell_type": "markdown",
   "metadata": {},
   "source": [
    "## 3. Lockfile context manager\n",
    "\n",
    "### The idea\n",
    "\n",
    "Sometimes, a program will read or write a data file which might also be accessed by another program at the same time.  In such cases, it may be necessary for one program to have exclusive access to the file at certain times (e.g. to make changes without fear another program will read partially updated or corrupted data).\n",
    "\n",
    "There are a lot of mechanisms for handling this situation. One of the oldest approaches is to use a second file, a **lockfile**, that will be created when a program needs exclusive access to the data file and removed when the period of exclusive access ends.\n",
    "\n",
    "To make this precise, imagine there might be a file called `keyring.dat` that is used by a password manager system.  It might be used by a Python program that lets you view or edit passwords stored there, and by a web application that integrates the password database with a browser.  Each of these programs may need exclusive access to `keyring.dat` at various times. A lockfile system for this purpose might look like this:\n",
    "* When any program wants exclusive access to `keyring.dat`, it checks to see whether a different file named `locked-keyring.dat` already exists\n",
    "    * If so, the program pauses for 0.1 seconds and tries again\n",
    "    * If not, the program creates an empty file named `locked-keyring.dat` and considers its exclusive access to `keyring.dat` to be obtained\n",
    "* When a program that is exclusively using `keyring.dat` is finished using it, it removes `locked-keyring.dat`, allowing other programs to claim exclusive use of it.\n",
    "\n",
    "While there can be problems with lock files in general, this structure is a good candidate for implementation using a context manager.\n",
    "\n",
    "### Your task\n",
    "\n",
    "Make a context manager class `OpenWithLock` whose constructor accepts a filename `fn` (such as `keyring.dat`) and a `mode` (such as `\"w\"` or `\"r\"` or `\"a\"`, specifying the type of access to a file).  When entering an associated `with`-block, this context manager will\n",
    "* Wait 0.1 seconds repeatedly until there is no file named `\"locked-\"+fn` exists\n",
    "* Create (i.e. open and then close) an empty file called `\"locked-\"+fn`\n",
    "* Open the file named `fn` in mode `mode` and return the file object\n",
    "\n",
    "And when exiting the `with`-block, this context manager will\n",
    "* Close `fn`\n",
    "* Delete `\"locked-\"+fn`\n",
    "\n",
    "You might use this context manager as follows:"
   ]
  },
  {
   "cell_type": "code",
   "execution_count": null,
   "metadata": {},
   "outputs": [],
   "source": [
    "print(\"I'm about to attempt to open reserved-seats.txt for exclusive use.\")\n",
    "print(\"If another process already has it locked, there may be a delay.\")\n",
    "\n",
    "with OpenWithLock(\"reserved-seats.txt\",\"r\") as fp:\n",
    "    print(\"Ok, I have exclusive access to reserved-seats.txt\")\n",
    "    print(\"A lock file named 'locked-reserved-seats.txt' was created so other programs know that.\")\n",
    "    x = fp.read()\n",
    "    # maybe do things with x...\n",
    "    \n",
    "print(\"I have relinquished my exclusive access to reserved-seats.txt\")\n",
    "print(\"The lock file has been removed.\")"
   ]
  },
  {
   "cell_type": "markdown",
   "metadata": {},
   "source": [
    "#### Something to think about\n",
    "\n",
    "How can you test that this context manager behaves as expected?  If you haven't tested the behavior when the lock file already exists, it is hard to know whether the context manager is working!\n"
   ]
  },
  {
   "cell_type": "markdown",
   "metadata": {},
   "source": [
    "## 4. Parentheses\n",
    "\n",
    "If we write `a+b+c+d`, then we are using the associativity of addition to avoid the need for any parentheses.\n",
    "\n",
    "There are lots of ways to put parentheses into the expression so that each time we use addition, it is a binary operation.  For example:\n",
    "* `((a+b)+(c+d))`  (i.e. first add `a+b`, then add `c+d`, then sum the results)\n",
    "* `(a+(b+(c+d)))`  (i.e. first add `c+d`, then add `b` to that, then add `a` to that)\n",
    "* and more\n",
    "\n",
    "Write a Python function that takes a list of integers and returns all possible ways of parenthesizing the sum fully.\n",
    "\n",
    "This requires a choice of how to represent the input sum and output parenthesized sums.  Instead of using strings, make your function so it expects a list of summands as input and returns a list of possible parenthesized versions that use nested Python lists to represent the parentheses, as in the following example:"
   ]
  },
  {
   "cell_type": "code",
   "execution_count": 2,
   "metadata": {},
   "outputs": [
    {
     "data": {
      "text/plain": [
       "[[2, [1, [5, 8]]],\n",
       " [2, [[1, 5], 8]],\n",
       " [[2, 1], [5, 8]],\n",
       " [[2, [1, 5]], 8],\n",
       " [[[2, 1], 5], 8]]"
      ]
     },
     "execution_count": 2,
     "metadata": {},
     "output_type": "execute_result"
    }
   ],
   "source": [
    "put_parens([2,1,5,8]) # find all ways to put parentheses in the expression 2+1+5+8"
   ]
  },
  {
   "cell_type": "markdown",
   "metadata": {},
   "source": [
    "The return value is a list of length 5, which means there are five ways to add parentheses.  Each item in the list describes one of the ways in to add parentheses, with nested lists instead of nested parentheses.  So the five items shown above represent the expressions:\n",
    "```\n",
    "(2+(1+(5+8)))\n",
    "(2+((1+5)+8))\n",
    "(2+1)+(5+8)\n",
    "((2+(1+5))+8)\n",
    "(((2+1)+5)+8)\n",
    "```\n",
    "\n",
    "### Hints\n",
    "\n",
    "1. Why is this a natural candidate for recursion?\n",
    "2. Unlike the recursion examples in Lecture 9, this one will involve a *loop* of recursive calls.  That is, the function `put_parens` may call itself many times, with the exact number of times depending on its argument."
   ]
  },
  {
   "cell_type": "markdown",
   "metadata": {},
   "source": [
    "## Bonus round\n",
    "\n",
    "Work on this if you have extra time.  No solutions will be given.  Feel free to ask the instructor if you work on this outside of lab and have questions!\n",
    "\n",
    "### Bonus 1. Refined version of the lockfile context manager\n",
    "\n",
    "It would be nice if the lock file created by the context manager from problem didn't just capture the fact that *some* program was using a file, but also *which* program.\n",
    "\n",
    "The module `os` contains a function `os.getpid()` which returns a numerical identifier (process ID or PID) that the operating system gives to the currently-running program, like so:"
   ]
  },
  {
   "cell_type": "code",
   "execution_count": 1,
   "metadata": {},
   "outputs": [
    {
     "data": {
      "text/plain": [
       "21256"
      ]
     },
     "execution_count": 1,
     "metadata": {},
     "output_type": "execute_result"
    }
   ],
   "source": [
    "import os\n",
    "os.getpid()"
   ]
  },
  {
   "cell_type": "markdown",
   "metadata": {},
   "source": [
    "Modify the `OpenWithLock` class so that the lock file's name is not fixed, but instead incorporates the PID of the program that locked it.  Thus if process `21256` locks `keyring.dat`, it would do so by creating a file named `locked-21256-keyring.dat`\n",
    "\n",
    "But when the class is checking whether or not the file is already locked, it needs to look for any file whose name begins with `\"locked-\"` and ends with `\"-keyring.dat\"`.  If any such file exists, then it waits until that file is gone before creating its own lock file.\n",
    "\n",
    "To check whether a file whose name matches a certain pattern exists, you have a couple of choices:\n",
    "* Use `glob.glob`, a function built for enumerating all files whose names match a pattern; read how to use it in [Python documentation of the `glob` module](https://docs.python.org/3/library/glob.html)\n",
    "* Use `os.listdir` to get a listing of all files, and then check them one by one to see if they start with `\"locked-\"` and end with `\"-\" + fn`."
   ]
  },
  {
   "cell_type": "markdown",
   "metadata": {},
   "source": [
    "### Bonus 2. Theoretical analysis of call counts\n",
    "\n",
    "This continues the work from problem 3.\n",
    "\n",
    "Suppose we define a new sequence $c_n$ as follows:  $c_n$ is the number of function calls that occur when calculating $T_n$ recursively.  That is, $c_n$ is ths sequence of call counts you saw in part C of problem 3.\n",
    "\n",
    "Can you determine a formula that gives $c_n$, perhaps as a sum of previous terms?"
   ]
  },
  {
   "cell_type": "markdown",
   "metadata": {},
   "source": [
    "### Revision history\n",
    "\n",
    "* 2024-01-28 Initial publication\n",
    "* 2024-02-06 Corrected project deadline"
   ]
  }
 ],
 "metadata": {
  "kernelspec": {
   "display_name": "Python 3 (ipykernel)",
   "language": "python",
   "name": "python3"
  },
  "language_info": {
   "codemirror_mode": {
    "name": "ipython",
    "version": 3
   },
   "file_extension": ".py",
   "mimetype": "text/x-python",
   "name": "python",
   "nbconvert_exporter": "python",
   "pygments_lexer": "ipython3",
   "version": "3.10.12"
  }
 },
 "nbformat": 4,
 "nbformat_minor": 4
}
