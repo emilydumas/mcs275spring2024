{
 "cells": [
  {
   "cell_type": "markdown",
   "metadata": {},
   "source": [
    "# MCS 275 Spring 2024 Worksheet 1 Solutions\n",
    "\n",
    "* Course instructor: Emily Dumas\n",
    "* Contributors to this document: Emily Dumas, Patrick Ward"
   ]
  },
  {
   "cell_type": "markdown",
   "metadata": {},
   "source": [
    "## Topics\n",
    "\n",
    "This worksheet covers some initial setup and installation of software, followed by some coding exercises that use material from prerequisite courses."
   ]
  },
  {
   "cell_type": "markdown",
   "metadata": {},
   "source": [
    "## Instructions\n",
    "* This isn't collected or graded.  Work on it during your lab on Jan 9 or Jan 11.\n",
    "* If you took MCS 260 recently you may have some or all of the necessary tools installed already.  That's fine.  **Be sure to test them out as outlined below** and read through the worksheet to be sure you know what is assumed from now on."
   ]
  },
  {
   "cell_type": "markdown",
   "metadata": {},
   "source": [
    "## Part I: Setting up a development enviroment"
   ]
  },
  {
   "cell_type": "markdown",
   "metadata": {},
   "source": [
    "No solutions are needed for this part, as it asked you to complete tasks rather than solve problems."
   ]
  },
  {
   "cell_type": "markdown",
   "metadata": {},
   "source": [
    "## Part II: Python Calisthenics\n",
    "\n",
    "This section gives a series of exercises in which you'll write programs that are based on things you are expected to have seen in a prerequisite course.  We'll talk about these in Lectures 2-3 as well, and the first quiz will cover the same kind of review material.\n",
    "\n",
    "These start very easy and build up."
   ]
  },
  {
   "cell_type": "markdown",
   "metadata": {},
   "source": [
    "### 8. Squares\n",
    "\n",
    "Create a simple program `squares.py` that prints the squares of the first 10 positive integers, so its output should look like\n",
    "```\n",
    "1\n",
    "4\n",
    "9\n",
    "...\n",
    "100\n",
    "```\n",
    "\n",
    "Then, add a feature to this program where it accepts an optional command line argument which is the largest integer whose square should be printed (while 10 remains the default if no argument is given).  Recall that command line arguments appear in the list `sys.argv` which is accessible after you import the `sys` module, and the items in this list are strings.  So `sys.argv[1]` would be a string containing the first word or number on the command line after the name of the script.\n",
    "\n",
    "Thus, for example, if you run the modified script as\n",
    "```\n",
    "python3 squares.py 3\n",
    "```\n",
    "then it would be expected to produce the output\n",
    "```\n",
    "1\n",
    "4\n",
    "9\n",
    "```"
   ]
  },
  {
   "cell_type": "markdown",
   "metadata": {},
   "source": [
    "# Solution"
   ]
  },
  {
   "cell_type": "code",
   "execution_count": null,
   "metadata": {},
   "outputs": [],
   "source": [
    "import sys\n",
    "\n",
    "if len(sys.argv) == 1:\n",
    "    #use default length of 10\n",
    "    max_len = 10\n",
    "else:\n",
    "    #use first argument as length\n",
    "    max_len = int(sys.argv[1])\n",
    "\n",
    "#print the squares\n",
    "\n",
    "for i in range(1,max_len+1):\n",
    "    print(i**2)"
   ]
  },
  {
   "cell_type": "markdown",
   "metadata": {},
   "source": [
    "### 9. Getting to know our coding standards\n",
    "\n",
    "Now that you've written a simple program from scratch, and have a full Python setup working, it's time to get acquainted with some code style rules.\n",
    "\n",
    "All code you submit for credit needs to follow the rules described in the \n",
    "* [MCS 275 Spring 2024 Coding Standards](https://www.dumas.io/teaching/2024/spring/mcs275/nbview/policies/codestd.html)\n",
    "\n",
    "These rules enforce good coding practices and ensure your programs are readable to both humans and computers.\n",
    "\n",
    "**Read the list of rules now.**  If any of the rules seem unclear on a first reading, check the section later in the document that gives examples of compliant and non-compliant code for that rule.\n",
    "\n",
    "Then, take the program below (which works!) and fix it so that it does the same thing but complies with the MCS 275 rules.  (Note: The rules say you need to add a declaration stating that the program is your own work, or that it is derived solely from a template provided by the instructor.  That's because all graded work in MCS 275 is done individually.  Since this is a worksheet, collaboration is allowed and if you work with others you should instead list your collaborators.)\n",
    "\n",
    "```\n",
    "# I am a program that doesn't follow MCS 275 coding guidelines\n",
    "# Please fix me.\n",
    "def thing(x):\n",
    " return \"{} is one greater than {}\".format(x,x-1)\n",
    "\n",
    "def thing2(x):\n",
    "  return \"{} is one less than {}\".format(x,x+1)\n",
    "\n",
    "s = str(input(\"Please enter your name\"))\n",
    "print(\"Hello\",s,\", this is a sample Python program.\")\n",
    "\n",
    "ss = list(range(5))\n",
    "sss = [ x+5 for x in ss ]\n",
    "ssss = [ 10*x for x in sss ]\n",
    "\n",
    "for i in range(len(ssss)):\n",
    "      sssss = 'Some things that are true:\\n' + thing(ssss[i]) + \"\\n\" + thing2(ssss[i]) + '\\n\\n'\n",
    "      print(sssss)\n",
    "```"
   ]
  },
  {
   "cell_type": "markdown",
   "metadata": {},
   "source": [
    "# Solution \n",
    "The following modifications were made to update the code to course standards\n",
    "* A header was added\n",
    "* Explanations for each of the functions was added\n",
    "* Comments were added\n",
    "* Variables and function names were changed to become more clear\n",
    "* Removed pointless conversation str() for the name variable\n",
    "* Removed manual indexing in the last for loop\n",
    "* Condensed the numbers list into one list comprehension (optional; the alternative is renaming all three lists)"
   ]
  },
  {
   "cell_type": "code",
   "execution_count": null,
   "metadata": {},
   "outputs": [],
   "source": [
    "#MCS 275 Spring 2024 Worksheet 1\n",
    "#Patrick Ward\n",
    "#Code copied from worksheet and modified\n",
    "\n",
    "\n",
    "\n",
    "def onegreater(x):\n",
    "    \"given an integer, output a sentence which says x is one greater than x-1\"\n",
    "    return \"{} is one greater than {}\".format(x,x-1)\n",
    "\n",
    "def oneless(x):\n",
    "    \"given an integer, output a sentence which says x is one less than x+1\"\n",
    "    return \"{} is one less than {}\".format(x,x+1)\n",
    "\n",
    "#gather the user's name and print a sentence which their name \n",
    "name = input(\"Please enter your name\")\n",
    "print(\"Hello\",name,\", this is a sample Python program.\")\n",
    "\n",
    "#create a list of numbers\n",
    "numbers = [10*(x+5) for x in range(5)]\n",
    "\n",
    "for i in numbers:\n",
    "    sentence = 'Some things that are true:\\n' + onegreater(i) + \"\\n\" + oneless(i) + '\\n\\n'\n",
    "    print(sentence)"
   ]
  },
  {
   "cell_type": "markdown",
   "metadata": {},
   "source": [
    "### 10. Thinking inside the box\n",
    "\n",
    "One of the nice things about Python is that strings can contain any Unicode character (as opposed to strings in some other programming languages where the set of available characters is much more limited).\n",
    "\n",
    "Some Unicode characters are made for drawing \"text graphics\" boxes, like this:\n",
    "```\n",
    "╔══════════╗ \n",
    "║  Look,   ║\n",
    "║  a box!  ║\n",
    "╚══════════╝ \n",
    "```\n",
    "The box drawing characters used above are:\n",
    "* `\\u2550`  or `═`\n",
    "* `\\u2551`  or `║`\n",
    "* `\\u2554` or `╔`\n",
    "* `\\u2557` or `╗`\n",
    "* `\\u255a`  or `╚`\n",
    "* `\\u255d`  or `╝`\n",
    "\n",
    "Write a program `box.py` that prints a unicode text box of specified width and height.  It should expect at least two command line arguments, giving the width and height of the box.  If only those are given, the box should be printed to the screen.  If a third argument is given, it should be a filename and the box should be written to that text file instead of being printed to the screen.\n",
    "\n",
    "So, for example, the command\n",
    "```\n",
    "python box.py 3 4\n",
    "```\n",
    "should result the following text being printed, exactly:\n",
    "```\n",
    "╔═╗\n",
    "║ ║\n",
    "║ ║\n",
    "╚═╝\n",
    "```\n",
    "(This box has a width of 3 characters and a height of 4 lines).\n",
    "Similarly, the command\n",
    "```\n",
    "python box.py 12 2 box.txt\n",
    "```\n",
    "should not print anything to the screen, but should result in a file `box.txt` being created that contains the following text, exactly:\n",
    "```\n",
    "╔══════════╗\n",
    "╚══════════╝\n",
    "```\n",
    "\n",
    "Recommended structure of your program:\n",
    "\n",
    "There are at most three different lines of text that appear in a box: The top of the box, the line that repeats some number of times to make the vertical sides of the box, and the bottom of the box.\n",
    "\n",
    "I suggest you generate these three lines and store them in strings, and then assemble them into one bigger string that has all the lines and line breaks (`\\n` characters) that you need.\n",
    "\n",
    "To generate the strings, you can use the fact that multiplication of a string by an integer will repeat the string a certain number of times.  For example, `\"foo\"*3` evaluates to `\"foofoofoo\"`. \n",
    "\n",
    "It would be a good idea to put the part of the program that writes the box to a file into a function and have the rest of the program create a string that contains the box.  Then you can decide whether to print the string or call the function to write it to a file based on whether there is a third command line argument."
   ]
  },
  {
   "cell_type": "markdown",
   "metadata": {},
   "source": [
    "# Solution"
   ]
  },
  {
   "cell_type": "code",
   "execution_count": null,
   "metadata": {},
   "outputs": [],
   "source": [
    "import sys\n",
    "\n",
    "#read the inputs\n",
    "\n",
    "length = int(sys.argv[1])\n",
    "height = int(sys.argv[2])\n",
    "\n",
    "#create the top, middle and bottom lines of the box\n",
    "\n",
    "top = \"\\u2554\"+\"\\u2550\"*(length-2)+\"\\u2557\"\n",
    "mid = \"\\u2551\"+\" \"*(length-2)+\"\\u2551\"\n",
    "bottom = \"\\u255a\"+\"\\u2550\"*(length-2)+\"\\u255d\"\n",
    "\n",
    "#create the box\n",
    "\n",
    "box = top + (\"\\n\" + mid)*(height-2) + \"\\n\" + bottom\n",
    "\n",
    "\n",
    "if len(sys.argv) == 3:\n",
    "    #no filename is given, print box\n",
    "    print(box)\n",
    "else:\n",
    "    #write box to the filename given as third argument\n",
    "    f = open(sys.argv[3], \"w\", encoding=\"UTF-8\") #encoding allows writing the unicode to the text file\n",
    "    f.write(box+\"\\n\")\n",
    "    f.close()"
   ]
  },
  {
   "cell_type": "markdown",
   "metadata": {},
   "source": [
    "## Bonus round"
   ]
  },
  {
   "cell_type": "markdown",
   "metadata": {},
   "source": [
    "Work on this more challenging exercise if you finish the rest of the worksheet before discussion ends.  The solutions to the worksheet won't include solutions for the bonus problem, but it's still good practice!"
   ]
  },
  {
   "cell_type": "markdown",
   "metadata": {},
   "source": [
    "### 11. Digits to word lengths\n",
    "\n",
    "Consider this process:  Start with a positive integer like \n",
    "> 2781\n",
    "\n",
    "Write out each digit as an english word:\n",
    "> two, seven, eight, one\n",
    "\n",
    "Then replace each word with its number of letters (e.g. \"two\" has 3 letters, \"seven\" as 5, etc.):\n",
    "> 3 5 5 3\n",
    "\n",
    "Use these numbers as digits of a new integer\n",
    "> 3553\n",
    "\n",
    "Finally, take the average of the new integer and the old one, and if the result is not an integer, round it down to the nearest integer:\n",
    "> (2781 + 3553) // 2 = 3167 (no rounding happened in this case)\n",
    "\n",
    "(Why are there two slashes there?  That's how you perform [integer division](https://pythonexamples.org/python-division/#python_integer_division).)\n",
    "\n",
    "**Write a Python function** `dwl(n)` that takes an integer `n` and returns the integer that results from this process.  So, for example we have:"
   ]
  },
  {
   "cell_type": "code",
   "execution_count": 3,
   "metadata": {},
   "outputs": [
    {
     "data": {
      "text/plain": [
       "3167"
      ]
     },
     "execution_count": 3,
     "metadata": {},
     "output_type": "execute_result"
    }
   ],
   "source": [
    "dwl(2781)"
   ]
  },
  {
   "cell_type": "markdown",
   "metadata": {},
   "source": [
    "Now, consider what happens when you apply this function over and over again, e.g. start with `n`, compute `dwl(n)`, then `dwl(dwl(n))`, then `dwl(dwl(dwl(n)))`, etc., to get a sequence.  For `2781` this sequence looks \n",
    "like:\n",
    "> 2781, 3167, 4251, 4297, 4321, 4427, 4431, 4442, 4442, 4442, 4442, ...\n",
    "\n",
    "It continues with `4442` repeating forever.\n",
    "\n",
    "That's what happened when starting with `2781`, but what happens when you do the same thing but start with a different value of `n`, like `7847`?  Does it always seem to end up repeating some number over and over again?\n",
    "\n",
    "Write a program to explore this more systematically, for example by searching for a repeating pattern (or lack thereof) for every 4-digit starting number."
   ]
  },
  {
   "cell_type": "markdown",
   "metadata": {},
   "source": [
    "# Solution"
   ]
  },
  {
   "cell_type": "code",
   "execution_count": 15,
   "metadata": {},
   "outputs": [
    {
     "name": "stdout",
     "output_type": "stream",
     "text": [
      "Applying dwl to 1000 reaches a repeating pattern after 12 steps\n",
      "Applying dwl to 1500 reaches a repeating pattern after 11 steps\n",
      "Applying dwl to 2000 reaches a repeating pattern after 11 steps\n",
      "Applying dwl to 2500 reaches a repeating pattern after 10 steps\n",
      "Applying dwl to 3000 reaches a repeating pattern after 9 steps\n",
      "Applying dwl to 3500 reaches a repeating pattern after 7 steps\n",
      "Applying dwl to 4000 reaches a repeating pattern after 9 steps\n",
      "Applying dwl to 4500 reaches a repeating pattern after 7 steps\n",
      "Applying dwl to 5000 reaches a repeating pattern after 10 steps\n",
      "Applying dwl to 5500 reaches a repeating pattern after 10 steps\n",
      "Applying dwl to 6000 reaches a repeating pattern after 10 steps\n",
      "Applying dwl to 6500 reaches a repeating pattern after 10 steps\n",
      "Applying dwl to 7000 reaches a repeating pattern after 11 steps\n",
      "Applying dwl to 7500 reaches a repeating pattern after 11 steps\n",
      "Applying dwl to 8000 reaches a repeating pattern after 12 steps\n",
      "Applying dwl to 8500 reaches a repeating pattern after 12 steps\n",
      "Applying dwl to 9000 reaches a repeating pattern after 12 steps\n",
      "Applying dwl to 9500 reaches a repeating pattern after 12 steps\n"
     ]
    }
   ],
   "source": [
    "#define a dictionary to convert a digit to its spelling\n",
    "\n",
    "num2words1 = {0: 'Zero', 1: 'One', 2: 'Two', 3: 'Three', 4: 'Four', 5: 'Five', 6: 'Six', 7: 'Seven', 8: 'Eight', 9: 'Nine'}\n",
    "\n",
    "def dwl(n):\n",
    "    \"takes and integer and outputs the average of the original integer and an integer based on word lengths\"\n",
    "\n",
    "    #write out digits and replace each word with the length of the word\n",
    "    numlist = [int(d) for d in str(n)]\n",
    "    #create a new number with the lengths\n",
    "    newnum = int(\"\".join([str(len(num2words1[d])) for d in numlist]))\n",
    "    \n",
    "    # alternative way to compute newnum, same output\n",
    "    #newnum = sum(len(num2words1[d]) * 10**i for i, d in enumerate(numlist[::-1]))\n",
    "    \n",
    "    avg = (newnum + n) // 2\n",
    "    return avg\n",
    "\n",
    "def findpattern(n):\n",
    "    \"takes an integer and returns the pattern from applying dwl() many times\"\n",
    "    \n",
    "    visited = [n]\n",
    "    next = dwl(n)\n",
    "    while next not in visited:\n",
    "        visited.append(next)\n",
    "        next = dwl(next)\n",
    "    visited.append(next)\n",
    "    return visited\n",
    "\n",
    "#to avoid too much text in the solutions document, let's only check multiples of 500\n",
    "check_start = 1000\n",
    "check_end = 9999\n",
    "check_step = 500\n",
    "\n",
    "#uncomment these to check all 4-digit numbers\n",
    "#check_start = 1000\n",
    "#check_end = 9999\n",
    "#check_step = 1\n",
    "\n",
    "for k in range(check_start,check_end+1,check_step):\n",
    "    print(\"Applying dwl to {} reaches a repeating pattern after {} steps\".format(k,len(findpattern(k))))\n"
   ]
  }
 ],
 "metadata": {
  "kernelspec": {
   "display_name": "Python 3 (ipykernel)",
   "language": "python",
   "name": "python3"
  },
  "language_info": {
   "codemirror_mode": {
    "name": "ipython",
    "version": 3
   },
   "file_extension": ".py",
   "mimetype": "text/x-python",
   "name": "python",
   "nbconvert_exporter": "python",
   "pygments_lexer": "ipython3",
   "version": "3.10.12"
  }
 },
 "nbformat": 4,
 "nbformat_minor": 4
}
