{
 "cells": [
  {
   "cell_type": "markdown",
   "metadata": {},
   "source": [
    "# MCS 275 Spring 2024 Worksheet 8\n",
    "\n",
    "* Course instructor: Emily Dumas"
   ]
  },
  {
   "cell_type": "markdown",
   "metadata": {},
   "source": [
    "## Topics\n",
    "\n",
    "We've covered a lot of small topics lately; this worksheet includes:\n",
    "* `set` and `defaultdict`\n",
    "* CSV and JSON\n",
    "* Bitmap images using Pillow"
   ]
  },
  {
   "cell_type": "markdown",
   "metadata": {},
   "source": [
    "## Resources\n",
    "\n",
    "These things might be helpful while working on the problems.  Remember that for worksheets,  we don't strictly limit what resources you can consult, so these are only suggestions.\n",
    "\n",
    "* [Lecture 18 - traversals; set and defaultdict](http://dumas.io/teaching/2024/spring/mcs275/slides/lecture18.html)\n",
    "* [Lecture 19 - CSV and JSON](http://dumas.io/teaching/2024/spring/mcs275/slides/lecture19.html)\n",
    "* [Lecture 20 - Pillow](http://dumas.io/teaching/2024/spring/mcs275/slides/lecture20.html)\n",
    "* [Downey's book, *Think Python*](https://greenteapress.com/thinkpython2/html/)\n",
    "* MCS 260 course materials from Fall 2021:\n",
    "    * [Slides, homework, worksheets, and projects](https://www.dumas.io/teaching/2021/fall/mcs260/)\n",
    "    * [MCS 260 Sample programs](https://github.com/emilydumas/mcs260fall2021/tree/main/samplecode)"
   ]
  },
  {
   "cell_type": "markdown",
   "metadata": {},
   "source": [
    "## Make sure to get some practice on all the topics\n",
    "\n",
    "If one of these problems ends up taking a lot of time, it might make sense to skip to another one or move on to another aspect of the problem so that you spend at least a little time working with each topic (set/defaultdict, CSV/JSON, Pillow) during lab."
   ]
  },
  {
   "cell_type": "markdown",
   "metadata": {},
   "source": [
    "## 1. Save and load trees as JSON files\n",
    "\n",
    "*Involves recursion, trees, and JSON*\n",
    "\n",
    "Recall that we have two classes for building trees:\n",
    "* `Node`, for generic binary trees\n",
    "* `BST`, a subclass for binary search trees\n",
    "\n",
    "Consider the following binary tree, made of `Node` objects:\n",
    "```text\n",
    "          <True>\n",
    "          /    \\\n",
    "   <\"Alice\">  <False>\n",
    "    /     \\\n",
    " <5.8>   <5.5>\n",
    "```\n",
    "If we wanted to save the tree to a file, JSON would be a natural choice as it allows nesting of data structures.  You can't write an arbitrary object (like `Node` or `BST`) to a JSOn file, but the tree above might be saved to a JSON file by creating a nested dictionary such as\n",
    "```python\n",
    "{\n",
    "    \"class\": \"Node\",\n",
    "    \"tree\": {\n",
    "        \"key\": True,\n",
    "        \"left\": {\n",
    "            \"key\": \"Alice\",\n",
    "            \"left\": {\n",
    "                \"key\": 5.8,\n",
    "                \"left\": None,\n",
    "                \"right\": None\n",
    "            },\n",
    "            \"right\": {\n",
    "                \"key\": 5.5,\n",
    "                \"left\": None,\n",
    "                \"right\": None\n",
    "            }\n",
    "        },\n",
    "        \"right\": {\n",
    "            \"key\": False,\n",
    "            \"left\": None,\n",
    "            \"right\": None\n",
    "        }\n",
    "    }\n",
    "}\n",
    "```\n",
    "and then writing *that* to a file.\n",
    "\n",
    "That would result in a JSON file with two top-level keys: `\"class\"` indicates what kind of tree it is (`BST` or `Node`), and `\"tree\"` maps to a hierarchy of objects that represent the nodes of the tree.\n",
    "\n",
    "The same general approach could be applied to binary search trees, too.  This BST:\n",
    "```text\n",
    "          <6>          \n",
    "         /   \\         \n",
    "        /     \\        \n",
    "     <5>     <14>      \n",
    "     /        /  \\     \n",
    "  <4>       <10>  <16> \n",
    "```\n",
    "Could be saved to a JSON file as the dictionary\n",
    "```python\n",
    "{\n",
    "    \"class\": \"BST\",\n",
    "    \"tree\": {\n",
    "        \"key\": 6,\n",
    "        \"left\": {\n",
    "            \"key\": 5,\n",
    "            \"left\": {\n",
    "                \"key\": 4,\n",
    "                \"left\": None,\n",
    "                \"right\": None\n",
    "            },\n",
    "            \"right\": None\n",
    "        },\n",
    "        \"right\": {\n",
    "            \"key\": 14,\n",
    "            \"left\": {\n",
    "                \"key\": 10,\n",
    "                \"left\": None,\n",
    "                \"right\": None\n",
    "            },\n",
    "            \"right\": {\n",
    "                \"key\": 16,\n",
    "                \"left\": None,\n",
    "                \"right\": None\n",
    "            }\n",
    "        }\n",
    "    }\n",
    "}\n",
    "```\n",
    "\n",
    "Add a method `save(fp)` to class `Node` in `trees.py` that will save a tree as JSON, writing it to an open file object `fp`.\n",
    "\n",
    "Then, add a function to the module `trees.py` called `load(fp)` that takes an open file object, reads a JSON object from it, and then builds and returns the corresponding tree.  The return type should be either `Node` or `BST` depending on what is found in the JSON file.\n",
    "\n",
    "Suggestions / hints:\n",
    "* At first, ignore the `BST` case and build a version that works for `Node` objects.  In fact, ignore the `BST` case entirely unless you have time to add that at the end.\n",
    "* A key step is converting a tree to a collection of nested dictionaries.  I suggest making a separate method of `Node` called `as_dict_tree()` that handles this naturally recursive operation.  Then you can handle the top-level object creation (with `\"class\"` and `\"tree\"` keys) in the method `save` itself.\n",
    "* A dictionary like `{\"Node\": Node, \"BST\": BST}` can be used to map names of classes to actual classes.  That allows you to build a `Node` or `BST` object depending on a string, e.g."
   ]
  },
  {
   "cell_type": "code",
   "execution_count": null,
   "metadata": {},
   "outputs": [],
   "source": [
    "node_classes = {\"Node\": Node, \"BST\": BST}\n",
    "\n",
    "k = \"Node\"\n",
    "A = node_classes[k](key=5)\n",
    "# Now A is a Node object\n",
    "\n",
    "k = \"BST\"\n",
    "B = node_classes[k](key=11)\n",
    "# Now B is a BST object"
   ]
  },
  {
   "cell_type": "markdown",
   "metadata": {},
   "source": [
    "When you're done, the following code should build a BST, save it to a file, and load it back again."
   ]
  },
  {
   "cell_type": "code",
   "execution_count": null,
   "metadata": {},
   "outputs": [],
   "source": [
    "from trees import load, BST\n",
    "from treevis import treeprint\n",
    "\n",
    "T = BST()\n",
    "T.insert(8)\n",
    "T.insert(12)\n",
    "T.insert(2)\n",
    "T.insert(3)\n",
    "\n",
    "with open(\"tree.json\",\"w\",encoding=\"UTF-8\") as fp:\n",
    "    T.save(fp)\n",
    "    \n",
    "with open(\"tree.json\",\"r\",encoding=\"UTF-8\") as fp:\n",
    "    W = load(fp)\n",
    "    \n",
    "print(\"Tree that was saved:\")\n",
    "treevis.treeprint(T)\n",
    "\n",
    "print(\"Tree that was loaded:\")\n",
    "treevis.treeprint(W)"
   ]
  },
  {
   "cell_type": "markdown",
   "metadata": {},
   "source": [
    "## 2. Pixel art color palette generator\n",
    "\n",
    "*Involves Pillow, CSV, and optionally set and defaultdict.*\n",
    "\n",
    "*I recommend working on this problem in a Python notebook.*\n",
    "\n",
    "Imagine you're a developer working on a project where many pixel art images will be incorporated into an application (e.g. a game, a GUI program, etc.).  A few of these images have already been drawn by various artists, and those artists were free to choose any colors they liked when doing so.  Here are links to those images:\n",
    "\n",
    "* [ws8-pixelart1-med.png](images/ws8-pixelart1-med.png)\n",
    "\n",
    "![](images/ws8-pixelart1-med.png)\n",
    "\n",
    "* [ws8-pixelart2-med.png](images/ws8-pixelart2-med.png)\n",
    "\n",
    "![](images/ws8-pixelart2-med.png)\n",
    "\n",
    "* [ws8-pixelart3-med.png](images/ws8-pixelart3-med.png)\n",
    "\n",
    "![](images/ws8-pixelart3-med.png)\n",
    "\n",
    "But now there is a plan to standardize on a palette of a few colors, and to draw all remaining images using only that color palette.\n",
    "\n",
    "Your task is to analyze the existing images and generate a list of the **distinct** colors that are used in them.  Ideally, the list should be ordered from most-frequently used colors (in terms of number of pixels) to least-frequently used.  However, if sorting by frequency proves to be too complicated, it's acceptable to simply produce a list of distinct colors in arbitrary order.\n",
    "\n",
    "Make a program that does this, and which outputs the list in two ways:\n",
    "1. As a CSV file `palette.csv` that has three columns, named `red`, `green`, and `blue`, and whose rows contain the distinct colors appearing in the sample images.  Its contents might look like this, for example:\n",
    "```text\n",
    "red,green,blue\n",
    "18,210,194\n",
    "241,231,108\n",
    "...\n",
    "```\n",
    "2. An image file `palette.png` that is created by the program in which 32 of the colors are shown in a horizontal strip, with each one represented by a 16x64 (width x height) pixel rectangle filled with that color.  (Thus the image has dimensions 512x64.)  Here's a sample of what it might look like, but this sample doesn't show the colors listed above nor colors that necessarily appear in the sample images.\n",
    "![](images/ws8-sample-palette.png)\n",
    "\n",
    "### Follow-up question\n",
    "\n",
    "Do these images actually have any colors in common, or is this simply a matter of concatenating the color lists from the three images?\n",
    "\n",
    "### Note\n",
    "\n",
    "This problem provides a natural opportunity to use several things:\n",
    "* Either\n",
    "    * `defaultdict` to track how many pixels have each color, OR\n",
    "    * `set` to track the set of distinct colors (without tracking how often they are used)\n",
    "* `csv` module to handle writing the palette to CSV file\n",
    "* Pillow (`PIL` module), to manage loading of the sample images and saving of `palette.png`"
   ]
  },
  {
   "cell_type": "markdown",
   "metadata": {},
   "source": [
    "## 3. Surprisingly slow\n",
    "\n",
    "Here is a function that takes two strings and returns the set of characters that appear in both strings."
   ]
  },
  {
   "cell_type": "code",
   "execution_count": null,
   "metadata": {},
   "outputs": [],
   "source": [
    "def common_chars(s1,s2):\n",
    "    \"\"\"Return a set of all characters that are present in both\n",
    "    strings `s1` and `s2`.\"\"\"\n",
    "    common = set()\n",
    "    for c1 in s1:\n",
    "        if c1 in s2:\n",
    "            common.add(c1)\n",
    "    return common"
   ]
  },
  {
   "cell_type": "markdown",
   "metadata": {},
   "source": [
    "It works.  Here's a simple example:"
   ]
  },
  {
   "cell_type": "code",
   "execution_count": null,
   "metadata": {},
   "outputs": [
    {
     "data": {
      "text/plain": [
       "{'c', 'e', 'i', 'm', 's', 't'}"
      ]
     },
     "metadata": {},
     "output_type": "display_data"
    }
   ],
   "source": [
    "common_chars(\"mathematics\",\"computer science\")"
   ]
  },
  {
   "cell_type": "markdown",
   "metadata": {},
   "source": [
    "However, this function is actually **needlessly slow**.  Here's an example that generates two strings that each have `50,000` characters, runs `common_chars` on them, and prints the total time."
   ]
  },
  {
   "cell_type": "code",
   "execution_count": null,
   "metadata": {},
   "outputs": [
    {
     "name": "stdout",
     "output_type": "stream",
     "text": [
      "Common characters:\n",
      "{'w', 'n', 't', 'f', 'r', 'm', 'z', 'q', 'p', 'e', 'i', 'u', 'l', 'o', 'k', 'd', 'g', 'h', 'v', 's', 'j'}\n",
      "\n",
      "Running time: 15.94 seconds\n"
     ]
    }
   ],
   "source": [
    "import random\n",
    "import time\n",
    "\n",
    "s1 = ''.join([ random.choice([\"edfghijklmnopqrstuvwxyzzzzzzzzzzzzzzzz\"]) for _ in range(50000) ])\n",
    "s2 = ''.join([ random.choice([\"abcedfghijklmnopqrstuvw\"]) for _ in range(50000) ]) + 'z'\n",
    "\n",
    "t_start = time.time()\n",
    "both = common_chars(s1,s2)\n",
    "t_end = time.time()\n",
    "\n",
    "print(\"Common characters:\")\n",
    "print(both)\n",
    "print(\"\\nRunning time: {:.2f} seconds\".format(t_end-t_start))"
   ]
  },
  {
   "cell_type": "markdown",
   "metadata": {},
   "source": [
    "If you try this yourself, you might get a slightly different time, but it will be far from instantaneous.\n",
    "\n",
    "First, what is going on here?  It should be possible to compare millions of characters for equality per second, and there are only 100,000 characters you need to look at, right?\n",
    "\n",
    "Second, can you fix it?  (It is possible to make this function shorter, clearer, and so that it returns an answer in the example above almost instantly.)"
   ]
  },
  {
   "cell_type": "markdown",
   "metadata": {},
   "source": [
    "### Revision history\n",
    "\n",
    "* 2024-02-25 Initial publication"
   ]
  }
 ],
 "metadata": {
  "kernelspec": {
   "display_name": "Python 3 (ipykernel)",
   "language": "python",
   "name": "python3"
  },
  "language_info": {
   "codemirror_mode": {
    "name": "ipython",
    "version": 3
   },
   "file_extension": ".py",
   "mimetype": "text/x-python",
   "name": "python",
   "nbconvert_exporter": "python",
   "pygments_lexer": "ipython3",
   "version": "3.10.12"
  }
 },
 "nbformat": 4,
 "nbformat_minor": 4
}
