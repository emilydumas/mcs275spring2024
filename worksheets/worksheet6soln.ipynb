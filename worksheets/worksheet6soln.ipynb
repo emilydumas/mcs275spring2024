{
 "cells": [
  {
   "cell_type": "markdown",
   "metadata": {},
   "source": [
    "# MCS 275 Spring 2024 Worksheet 6 Solutions\n",
    "\n",
    "* Course instructor: Emily Dumas\n",
    "* Contributors to this document: Johnny Joyce, Kylash Viswanathan, Patrick Ward"
   ]
  },
  {
   "cell_type": "markdown",
   "metadata": {},
   "source": [
    "## Topics\n",
    "\n",
    "The main topic of this worksheet is **sorting**, and the recursive algorithms for sorting we covered in lectures 12 and 13."
   ]
  },
  {
   "cell_type": "markdown",
   "metadata": {},
   "source": [
    "## Resources\n",
    "\n",
    "These things might be helpful while working on the problems.  Remember that for worksheets,  we don't strictly limit what resources you can consult, so these are only suggestions.\n",
    "\n",
    "* [Lecture 12 - Mergesort](http://dumas.io/teaching/2024/spring/mcs275/slides/lecture12.html)\n",
    "* [Lecture 13 - Quicksort](http://dumas.io/teaching/2024/spring/mcs275/slides/lecture13.html)\n",
    "* [Lecture 14 - Comparison sorts](http://dumas.io/teaching/2024/spring/mcs275/slides/lecture14.html)\n",
    "* [sorts.py](https://github.com/daviddumas/mcs275spring2024/blob/main/samplecode/recursion/sorts.py)\n",
    "* [Downey's book, *Think Python*](https://greenteapress.com/thinkpython2/html/)\n",
    "* MCS 260 course materials from Fall 2021:\n",
    "    * [Slides, homework, worksheets, and projects](https://www.dumas.io/teaching/2021/fall/mcs260/)\n",
    "    * [MCS 260 Sample programs](https://github.com/daviddumas/mcs260fall2021/tree/main/samplecode)"
   ]
  },
  {
   "cell_type": "markdown",
   "metadata": {},
   "source": [
    "### 1. Merge sorted stacks\n",
    "\n",
    "Recall that a *stack* is a data structure that mimics a physical stack of items, where the only available operations are to remove the top item (\"pop\") or add a new item to the top (\"push\").\n",
    "\n",
    "In Python, you can simulate a stack using a list by limiting yourself to only calling the methods\n",
    "* `.pop()` for the stack pop operation, and\n",
    "* `.append(x)` for the stack push operation\n",
    "In this way, the end of the list becomes the top of the stack.\n",
    "\n",
    "In mergesort, the main step was to create a function that can merge two sorted lists.  We made a version of this that uses indexing by integers.  However, the algorithm for merging two sorted lists only ever needs to look at the \"next\" item from each of the lists, meaning it can also be implemented using stacks.\n",
    "\n",
    "Make a function `merge_sorted_stacks(A,B,S)` that takes two stacks `A` and `B` whose elements are in sorted order, with the top of each stack being the smallest element, and an initially empty stack `S`.  The function should merge the two stacks into a single reverse-sorted stack `S`.  It can destroy `A` and `B` as it does so.\n",
    "\n",
    "**Remember, `A`, `B`, and `S` will actually be Python list objects.  The only thing that makes them stacks is that you won't use any methods or operations on them except `.pop()` and `.append(x)`.**\n",
    "\n",
    "For example, `merge_sorted_stacks` should function as follows:"
   ]
  },
  {
   "cell_type": "code",
   "execution_count": 3,
   "metadata": {},
   "outputs": [
    {
     "data": {
      "text/plain": [
       "[0, 1, 2, 3, 3, 4, 5, 6]"
      ]
     },
     "execution_count": 3,
     "metadata": {},
     "output_type": "execute_result"
    }
   ],
   "source": [
    "# Example with numbers\n",
    "# A list of numbers is a sorted stack if it is in descending order\n",
    "# meaning the top of stack (last element of the list) is the smallest.\n",
    "A = [5,3,1]\n",
    "B = [6,4,3,2,0]\n",
    "S = []\n",
    "merge_sorted_stacks(A,B,S)\n",
    "S  # will be a reverse sorted stack: top=last element will be largest element"
   ]
  },
  {
   "cell_type": "code",
   "execution_count": 4,
   "metadata": {},
   "outputs": [
    {
     "data": {
      "text/plain": [
       "['aardvark', 'asp', 'kangaroo', 'newt', 'zebra']"
      ]
     },
     "execution_count": 4,
     "metadata": {},
     "output_type": "execute_result"
    }
   ],
   "source": [
    "# Example with strings\n",
    "# A list of strings is a sorted stack if it is in reverse alphabetical order\n",
    "# meaning the top of stack (last element of the list) is the earliest in \n",
    "# the Python string order\n",
    "S = []\n",
    "merge_sorted_stacks(\n",
    "    [\"zebra\",\"kangaroo\",\"aardvark\"],\n",
    "    [\"newt\",\"asp\"],\n",
    "    S)\n",
    "S"
   ]
  },
  {
   "cell_type": "markdown",
   "metadata": {},
   "source": [
    "## Solution"
   ]
  },
  {
   "cell_type": "code",
   "execution_count": 11,
   "metadata": {},
   "outputs": [],
   "source": [
    "def merge_sorted_stacks(A,B,S=[]):\n",
    "    \"\"\"Takes two sorted stacks A and B. Returns merged sorted stack.\"\"\"\n",
    "    # A_next and B_next should represent the next item to be taken off the stack\n",
    "    A_next = A.pop()\n",
    "    B_next = B.pop()\n",
    "    \n",
    "    # Take items from A and B until one list is empty\n",
    "    while True:\n",
    "        \n",
    "        if A_next <= B_next:\n",
    "            S.append(A_next)\n",
    "            if len(A) == 0: # If there's nothing left in A, stop the loop\n",
    "                S.append(B_next) # There's still an item from B that we need to append\n",
    "                break\n",
    "            else:\n",
    "                A_next = A.pop()\n",
    "            \n",
    "        else:\n",
    "            S.append(B_next)\n",
    "            if len(B) == 0:\n",
    "                S.append(A_next) # There's still an item from A that we need to append\n",
    "                break\n",
    "            else:\n",
    "                B_next = B.pop()\n",
    "            \n",
    "    # After the loop has finished, one of the two lists may still have items in it\n",
    "    # So take all the remaining items and put them in S.\n",
    "    while len(A) != 0:\n",
    "        A_next = A.pop()\n",
    "        S.append(A_next)\n",
    "    while len(B) != 0:\n",
    "        B_next = B.pop()\n",
    "        S.append(B_next)\n",
    "    \n",
    "    return S"
   ]
  },
  {
   "cell_type": "markdown",
   "metadata": {},
   "source": [
    "## 2. Quicksort with other pivot strategies\n",
    "\n",
    "The quicksort implementation we discussed in lecture uses the last element of the list as a pivot.  Let's explore other options.\n",
    "\n",
    "Make a new version of `quicksort` that has an optional argument `pivot_strategy` with default value `\"last\"`.  Implement these other behaviors for the following values:\n",
    "* `\"first\"` - Always use the first element as the pivot\n",
    "* `\"middle\"` - Use an element as close as possible to the middle of the list as the pivot\n",
    "* `\"random\"` - Select the pivot position at random\n",
    "\n",
    "(Of course, quicksort is always operating on the part of the list between `start` and `end`, so all instances of \"first\", \"last\", etc., are understood relative to that part.  For example, \"first\" means index `start`.)\n",
    "\n",
    "Test your modified version of quicksort to confirm that it works properly with each strategy.\n",
    "\n",
    "Don't forget that the `pivot_strategy` argument needs to be propagated to the recursive calls!"
   ]
  },
  {
   "cell_type": "markdown",
   "metadata": {},
   "source": [
    "## Solution"
   ]
  },
  {
   "cell_type": "code",
   "execution_count": 2,
   "metadata": {},
   "outputs": [],
   "source": [
    "def partition(L, start, end, verbose=False, pivot_strategy=\"last\"):\n",
    "    \"\"\"\n",
    "    Partition L[start:end] using the\n",
    "    last element (L[end-1]) as the pivot.\n",
    "    Returns the position of the pivot.\n",
    "    \"\"\"\n",
    "    # Choose the index of the pivot\n",
    "    if pivot_strategy == \"last\":\n",
    "        pivot_index = end - 1\n",
    "    elif pivot_strategy == \"first\":\n",
    "        pivot_index = start\n",
    "    elif pivot_strategy == \"middle\":\n",
    "        pivot_index = (start + end) // 2\n",
    "    elif pivot_strategy == \"random\":\n",
    "        pivot_index = random.choice(range(start,end-1))\n",
    "    \n",
    "    # Put the pivot at the end\n",
    "    L[pivot_index], L[end - 1] = L[end - 1], L[pivot_index]\n",
    "\n",
    "    # Define the pivot. Now the rest of the algorithm can proceed without any changes\n",
    "    pivot = L[end - 1]\n",
    "        \n",
    "    dst = start\n",
    "    for src in range(start, end):  # challenge Q: Why can't we use range(start,end-1)\n",
    "        if L[src] < pivot:\n",
    "            # swap L[src], L[dst]\n",
    "            L[src], L[dst] = L[dst], L[src]\n",
    "            dst += 1\n",
    "\n",
    "    # put the pivot into its final place\n",
    "    L[end - 1], L[dst] = L[dst], L[end - 1]\n",
    "    if verbose:\n",
    "        print(\"Partitioned into:\", L[start:dst], \" \", L[dst], \" \", L[dst + 1 : end])\n",
    "    return dst\n",
    "\n",
    "def quicksort(L, start=0, end=None, verbose=False, pivot_strategy=\"last\"):\n",
    "    \"\"\"\n",
    "    Sort L[start:end] in place using\n",
    "    quicksort.  Modifies L, returns nothing.\n",
    "    \"\"\"\n",
    "    if end == None:\n",
    "        # default to end of L\n",
    "        end = len(L)\n",
    "    # Are we done yet?!\n",
    "    if end - start <= 1:\n",
    "        return\n",
    "    # Not done yet, need to partition L\n",
    "    m = partition(L, start, end, verbose, pivot_strategy)\n",
    "    # m is now the pivot position\n",
    "    quicksort(L, start, m, verbose, pivot_strategy)  # orange (less than pivot)\n",
    "    quicksort(L, m + 1, end, verbose, pivot_strategy)  # purple (>= pivot)"
   ]
  },
  {
   "cell_type": "markdown",
   "metadata": {},
   "source": [
    "## 3. Pathological test data generator\n",
    "\n",
    "We discussed in class that `quicksort` with last element pivots behaves poorly (quadratic time) on sorted input.  I mentioned that \"nearly sorted input\" also creates problems.  But the phrase \"nearly sorted\" is not precise, and could have many interpretations.\n",
    "\n",
    "Write the following functions to generate lists that are far from randomly ordered, for testing purposes:\n",
    "* `nearly_sorted1(n,frac=0.1)` - Returns a list of length `n`.  That list should contain consecutive integers, except that `int(frac*n)` of them are replaced with random values chosen from the range `-2*n` to `3*n`.  That is, fraction `frac` of the positions are chosen randomly from a wider range, but the rest are linearly increasing.\n",
    "* `nearly_sorted2(n)` - Returns a list of length `n`.  The difference between any entry and the one before it is a number randomly chosen from these options: `[-1,0,1,2,3,4,5]`.  Since most of these values are positive, the list \"mostly increases\" and so could be considered \"nearly sorted\".  Unlike `nearly_sorted1`, this one doesn't produce lists where an entry is very far from the ones on either side of it.\n",
    "* `nearly_sorted3(n,k=3)` - Returns a list of length `n` obtained from `list(range(n))` as follows:  First, that list is broken into `k` pieces of similar size.  Then, those pieces are reassembled in a random order.  For example, if `n=10` and `k=2` you might get a return value like `[5,6,7,8,9,0,1,2,3,4]` because pieces `[0,1,2,3,4]` and `[5,6,7,8,9]` were reassembled in the opposite order.  Since the resulting list is likely to have long sublists that are in increasing order, it could be considered \"nearly sorted\"."
   ]
  },
  {
   "cell_type": "markdown",
   "metadata": {},
   "source": [
    "## Solution"
   ]
  },
  {
   "cell_type": "code",
   "execution_count": 3,
   "metadata": {},
   "outputs": [
    {
     "name": "stdout",
     "output_type": "stream",
     "text": [
      "[0, 1, 2, -16, 4, 5, 6, 7, 8, 9]\n"
     ]
    }
   ],
   "source": [
    "import random\n",
    "\n",
    "def nearly_sorted1(n, frac=0.1):\n",
    "    \"\"\"Generates list of integers 0 to n-1. Replaces n*frac with random ints\"\"\"\n",
    "    L = list(range(n))\n",
    "    to_replace = random.sample(L, int(frac*n)) # Randomly choose n*frac items to replace\n",
    "    for i in to_replace:\n",
    "        L[i] = random.randint(-2*n, 3*n)\n",
    "    return L\n",
    "\n",
    "print(nearly_sorted1(10))"
   ]
  },
  {
   "cell_type": "code",
   "execution_count": 4,
   "metadata": {},
   "outputs": [
    {
     "name": "stdout",
     "output_type": "stream",
     "text": [
      "[0, 3, 4, 3, 3, 4, 4, 9, 12, 13]\n"
     ]
    }
   ],
   "source": [
    "def nearly_sorted2(n):\n",
    "    \"\"\"List of n items starting at 0. Each successive element randomly differs from the\n",
    "    last by one of: -1,0,1,2,3,4,5\"\"\"\n",
    "    L = [0]\n",
    "    for i in range(n-1):\n",
    "        L.append( L[-1] + random.choice((-1,0,1,2,3,4,5)))\n",
    "    return L\n",
    "\n",
    "print(nearly_sorted2(10))"
   ]
  },
  {
   "cell_type": "code",
   "execution_count": 5,
   "metadata": {},
   "outputs": [
    {
     "name": "stdout",
     "output_type": "stream",
     "text": [
      "[1, 2, 3, 4, 5, 6, 7, 0, 8, 9]\n"
     ]
    }
   ],
   "source": [
    "def nearly_sorted3(n, k=3):\n",
    "    \"\"\"Takes list with numbers 0 to n-1. Breaks into k pieces, shuffles, then re-assembles\"\"\"\n",
    "    L = list(range(n))\n",
    "    \n",
    "    # Choose k-1 indices in ascending order where we'll \"split\" the list.\n",
    "    # Don't choose index 0 or -1 because this will result in one of our pieces\n",
    "    # being empty (i.e. L[0:0] is empty and L[-1:-1] is empty)\n",
    "    indices = sorted(random.sample(L[1:-1], k-1))\n",
    "    \n",
    "    pieces = []\n",
    "    \n",
    "    # First piece is from index 0 up to our first randomly-chosen index\n",
    "    pieces.append(L[:indices[0]])\n",
    "    \n",
    "    # Middle pieces\n",
    "    for i in range(1, k-1):\n",
    "        pieces.append( L[indices[i-1]:indices[i]] )\n",
    "        \n",
    "    # Last piece is from last randomly-chosen index onwards\n",
    "    pieces.append( L[indices[-1]:])\n",
    "    \n",
    "    random.shuffle(pieces)\n",
    "    \n",
    "    \n",
    "    # Put our pieces back into one list\n",
    "    L = []\n",
    "    for piece in pieces:\n",
    "        L.extend(piece)\n",
    "    return L\n",
    "\n",
    "\n",
    "print(nearly_sorted3(10, k=3))\n"
   ]
  },
  {
   "cell_type": "markdown",
   "metadata": {},
   "source": [
    "## 4. Quicksort stress test\n",
    "\n",
    "Do timing studies of `quicksort` with different pivot strategies on the types of nearly sorted lists generated in the previous problem, for `n=1000`, `n=10_000`, and `n=100_000`.  Which ones show a clear difference relative to a randomly shuffled list?  (In class we noticed this was the case for last-element pivots and comparing precisely sorted and randomly shuffled input.)\n",
    "\n",
    "Is there a difference between the strategies?  Between the types of nearly sorted input?"
   ]
  },
  {
   "cell_type": "markdown",
   "metadata": {},
   "source": [
    "## Solution"
   ]
  },
  {
   "cell_type": "markdown",
   "metadata": {},
   "source": [
    "This may take a long time to run!"
   ]
  },
  {
   "cell_type": "code",
   "execution_count": 11,
   "metadata": {},
   "outputs": [],
   "source": [
    "import time\n",
    "import sys\n",
    "import tabulate\n",
    "from tabulate import tabulate #tabulate is a package which prints tables\n",
    "\n",
    "sys.setrecursionlimit(100_000) #change how many recursions are allowed\n",
    "\n",
    "pivot_strategies = [\"last\", \"first\", \"middle\", \"random\"]\n",
    "lengths = [1000, 10_000, 100_000]\n",
    "\n",
    "#create a dictionary for each length\n",
    "len1000 = {strategy:[strategy] for strategy in pivot_strategies}\n",
    "len10000 = {strategy:[strategy] for strategy in pivot_strategies}\n",
    "len100000 = {strategy:[strategy] for strategy in pivot_strategies}\n",
    "lengthdicts = [len1000,len10000,len100000]\n",
    "\n",
    "#create a dictionary of the length dictionaries\n",
    "length_dict = dict(zip(lengths,lengthdicts))\n",
    "nearly_sorted_funcs = [nearly_sorted1, nearly_sorted2, nearly_sorted3]\n",
    "\n",
    "for func in nearly_sorted_funcs:\n",
    "    for length in lengths:\n",
    "        L = func(length) #create a list of the given length with the given generator \n",
    "        for strategy in pivot_strategies:\n",
    "            # Because quicksort operates in-place, we need to make a copy,\n",
    "            # otherwise the list will already be sorted for the next run\n",
    "            L_copy = L.copy()\n",
    "            a = time.time()\n",
    "            quicksort(L_copy, pivot_strategy = strategy)\n",
    "            b = time.time()\n",
    "            length_dict[length][strategy].append(b-a) #add the timing to the appropriate list\n",
    "\n",
    "\n",
    "\n",
    "                "
   ]
  },
  {
   "cell_type": "code",
   "execution_count": 12,
   "metadata": {},
   "outputs": [
    {
     "name": "stdout",
     "output_type": "stream",
     "text": [
      "Length = 1,000\n",
      "Strategy      nearly sorted 1    nearly sorted 2    nearly sorted 3\n",
      "----------  -----------------  -----------------  -----------------\n",
      "last               0.00299907        0.0349188           0.03901\n",
      "first              0.00500798        0.0202539           0.0220072\n",
      "middle             0.00299072        0.000750065         0.00193596\n",
      "random             0.00100088        0.00219584          0.00105667\n",
      "--------------------------------------------------\n",
      "Length = 10,000\n",
      "Strategy      nearly sorted 1    nearly sorted 2    nearly sorted 3\n",
      "----------  -----------------  -----------------  -----------------\n",
      "last                0.0800476          3.50105            4.39366\n",
      "first               0.0640016          1.7971             3.77291\n",
      "middle              0.0159976          0.0129473          0.0149899\n",
      "random              0.0170054          0.019053           0.0170023\n",
      "--------------------------------------------------\n",
      "Length = 100,000\n",
      "Strategy      nearly sorted 1    nearly sorted 2    nearly sorted 3\n",
      "----------  -----------------  -----------------  -----------------\n",
      "last                 0.550946         414.372             52.9173\n",
      "first                0.846028         247.995             46.1735\n",
      "middle               0.332998           0.168922           0.288047\n",
      "random               0.279958           0.231125           0.223828\n"
     ]
    }
   ],
   "source": [
    "#create tables            \n",
    "table1000 = [length_dict[1000][i] for i in pivot_strategies]\n",
    "table10000 = [length_dict[10000][i] for i in pivot_strategies]\n",
    "table100000 = [length_dict[100000][i] for i in pivot_strategies]\n",
    "\n",
    "#display tables    \n",
    "print(\"Length = 1,000\")\n",
    "print(tabulate(table1000,headers=[\"Strategy\",\"nearly sorted 1\", \"nearly sorted 2\", \"nearly sorted 3\"]))\n",
    "print(\"-\"*50)\n",
    "print(\"Length = 10,000\")\n",
    "print(tabulate(table10000,headers=[\"Strategy\",\"nearly sorted 1\", \"nearly sorted 2\", \"nearly sorted 3\"]))\n",
    "print(\"-\"*50)\n",
    "print(\"Length = 100,000\")\n",
    "print(tabulate(table100000,headers=[\"Strategy\",\"nearly sorted 1\", \"nearly sorted 2\", \"nearly sorted 3\"]))"
   ]
  },
  {
   "cell_type": "markdown",
   "metadata": {},
   "source": [
    "### Revision history\n",
    "\n",
    "* 2024-02-15 Initial publication"
   ]
  }
 ],
 "metadata": {
  "kernelspec": {
   "display_name": "Python 3 (ipykernel)",
   "language": "python",
   "name": "python3"
  },
  "language_info": {
   "codemirror_mode": {
    "name": "ipython",
    "version": 3
   },
   "file_extension": ".py",
   "mimetype": "text/x-python",
   "name": "python",
   "nbconvert_exporter": "python",
   "pygments_lexer": "ipython3",
   "version": "3.12.2"
  }
 },
 "nbformat": 4,
 "nbformat_minor": 4
}
