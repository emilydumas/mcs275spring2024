{
 "cells": [
  {
   "cell_type": "markdown",
   "metadata": {},
   "source": [
    "# MCS 275 Spring 2024 Worksheet 4 Solutions\n",
    "\n",
    "* Course instructor: Emily Dumas\n",
    "* Contributors to this document: Karoline Dubin, Johnny Joyce, Kylash Viswanathan"
   ]
  },
  {
   "cell_type": "markdown",
   "metadata": {},
   "source": [
    "## Topics\n",
    "\n",
    "This worksheet focuses on the Jupyter notebook interface, context managers, and the start of our unit on recursion."
   ]
  },
  {
   "cell_type": "markdown",
   "metadata": {},
   "source": [
    "## 3. Sequence\n",
    "\n",
    "There is a sequence of integers $T_n$ defined by the conditions\n",
    "\n",
    "$$\\begin{split}\n",
    "T_0 &= 0\\\\\n",
    "T_1 &= 1\\\\\n",
    "T_2 &= 2\\\\\n",
    "T_{n} &= T_{n-1} + T_{n-2} + T_{n-3} \\text{ if } n \\geq 3\\end{split}$$\n",
    "\n",
    "This sequence begins $0, 1, 2, 3, 6, 11, 20, 37, 68, 125, 230, 423, 778, 1431, 2632, \\ldots$.\n",
    "\n",
    "### A. Recursive implementation\n",
    "\n",
    "Write a recursive function that calculates $T_n$.\n",
    "\n",
    "### B. Iterative implementation\n",
    "\n",
    "Write an iterative function that calculates $T_n$.\n",
    "\n",
    "### C. Call counts\n",
    "\n",
    "Add code to the recursive function that will allow you to count how many times the function is called in any single computation.  (You probably want to have a global dictionary in which every function call changes the value associated with a certain key.)\n",
    "\n",
    "Make a table of how many calls are involved for $n=1,2,3,\\ldots,15$."
   ]
  },
  {
   "cell_type": "markdown",
   "metadata": {},
   "source": [
    "# Solution"
   ]
  },
  {
   "cell_type": "markdown",
   "metadata": {},
   "source": [
    "# A"
   ]
  },
  {
   "cell_type": "code",
   "execution_count": 3,
   "metadata": {},
   "outputs": [],
   "source": [
    "def T(n):\n",
    "    \"\"\"Returns n-th entry in sequence T\"\"\"\n",
    "    if n == 0 or n == 1 or n == 2:\n",
    "        return n\n",
    "    elif n > 0:\n",
    "        return T(n-1) + T(n-2) + T(n-3)\n",
    "    else:\n",
    "        raise ValueError(\"`n` must be nonnegative\")"
   ]
  },
  {
   "cell_type": "markdown",
   "metadata": {},
   "source": [
    "# B"
   ]
  },
  {
   "cell_type": "code",
   "execution_count": 4,
   "metadata": {},
   "outputs": [],
   "source": [
    "def T_iterative(n):\n",
    "    \"\"\"Iterative version of T_n\"\"\"\n",
    "    if n == 0:\n",
    "        return 0\n",
    "    a,b,c = 0,1,2\n",
    "    for line in range(n-2):\n",
    "        a,b,c = b,c,a+b+c\n",
    "    return c"
   ]
  },
  {
   "cell_type": "markdown",
   "metadata": {},
   "source": [
    "# C"
   ]
  },
  {
   "cell_type": "markdown",
   "metadata": {},
   "source": [
    "Here's a version of `T` that records each call."
   ]
  },
  {
   "cell_type": "code",
   "execution_count": 5,
   "metadata": {},
   "outputs": [],
   "source": [
    "call_counts = {}\n",
    "\n",
    "def T_count(n):\n",
    "    \"\"\"Returns n-th entry in sequence T while logging each call\"\"\"\n",
    "    # log\n",
    "    if \"T_count\" not in call_counts:\n",
    "        call_counts[\"T_count\"] = 0\n",
    "    call_counts[\"T_count\"]+=1\n",
    "    # calculate\n",
    "    if n == 0 or n == 1 or n == 2:\n",
    "        return n\n",
    "    else:\n",
    "        return T_count(n-1) + T_count(n-2) + T_count(n-3)"
   ]
  },
  {
   "cell_type": "code",
   "execution_count": 10,
   "metadata": {},
   "outputs": [
    {
     "name": "stdout",
     "output_type": "stream",
     "text": [
      "call counts, using logging\n",
      "0 1\n",
      "1 1\n",
      "2 1\n",
      "3 4\n",
      "4 7\n",
      "5 13\n",
      "6 25\n",
      "7 46\n",
      "8 85\n",
      "9 157\n",
      "10 289\n",
      "11 532\n",
      "12 979\n",
      "13 1801\n",
      "14 3313\n",
      "15 6094\n"
     ]
    }
   ],
   "source": [
    "print(\"call counts, using logging\")\n",
    "for n in range(16):\n",
    "    call_counts.clear()\n",
    "    assert T(n)==T_count(n)\n",
    "    print(n,call_counts[\"T_count\"])\n",
    "    "
   ]
  },
  {
   "cell_type": "markdown",
   "metadata": {},
   "source": [
    "Alteranatively, here's a function that computes the call count using the observation that there is one call for $n=0,1,2$ and for $n>2$ we have `T_call_count(n) = T_call_count(n-1) + T_call_count(n-2) + T_call_count(n-3) + 1`."
   ]
  },
  {
   "cell_type": "code",
   "execution_count": 7,
   "metadata": {},
   "outputs": [],
   "source": [
    "def T_call_count(n):\n",
    "    \"\"\"Returns number of times T calls itself when calculating T_n\"\"\"\n",
    "    if n == 0 or n == 1 or n == 2:\n",
    "        return 1\n",
    "    else:\n",
    "        return T_call_count(n-1) + T_call_count(n-2) + T_call_count(n-3) + 1    "
   ]
  },
  {
   "cell_type": "code",
   "execution_count": 9,
   "metadata": {},
   "outputs": [
    {
     "name": "stdout",
     "output_type": "stream",
     "text": [
      "call counts, using the recursive formula they satisfy\n",
      "0 1\n",
      "1 1\n",
      "2 1\n",
      "3 4\n",
      "4 7\n",
      "5 13\n",
      "6 25\n",
      "7 46\n",
      "8 85\n",
      "9 157\n",
      "10 289\n",
      "11 532\n",
      "12 979\n",
      "13 1801\n",
      "14 3313\n",
      "15 6094\n"
     ]
    }
   ],
   "source": [
    "print(\"call counts, using the recursive formula they satisfy\")\n",
    "for n in range(16):\n",
    "    print(n,T_call_count(n))"
   ]
  },
  {
   "cell_type": "markdown",
   "metadata": {},
   "source": [
    "## 3. Lockfile context manager\n",
    "\n",
    "### The idea\n",
    "\n",
    "Sometimes, a program will read or write a data file which might also be accessed by another program at the same time.  In such cases, it may be necessary for one program to have exclusive access to the file at certain times (e.g. to make changes without fear another program will read partially updated or corrupted data).\n",
    "\n",
    "There are a lot of mechanisms for handling this situation. One of the oldest approaches is to use a second file, a **lockfile**, that will be created when a program needs exclusive access to the data file and removed when the period of exclusive access ends.\n",
    "\n",
    "To make this precise, imagine there might be a file called `keyring.dat` that is used by a password manager system.  It might be used by a Python program that lets you view or edit passwords stored there, and by a web application that integrates the password database with a browser.  Each of these programs may need exclusive access to `keyring.dat` at various times. A lockfile system for this purpose might look like this:\n",
    "* When any program wants exclusive access to `keyring.dat`, it checks to see whether a different file named `locked-keyring.dat` already exists\n",
    "    * If so, the program pauses for 0.1 seconds and tries again\n",
    "    * If not, the program creates an empty file named `locked-keyring.dat` and considers its exclusive access to `keyring.dat` to be obtained\n",
    "* When a program that is exclusively using `keyring.dat` is finished using it, it removes `locked-keyring.dat`, allowing other programs to claim exclusive use of it.\n",
    "\n",
    "While there can be problems with lock files in general, this structure is a good candidate for implementation using a context manager.\n",
    "\n",
    "### Your task\n",
    "\n",
    "Make a context manager class `OpenWithLock` whose constructor accepts a filename `fn` (such as `keyring.dat`) and a `mode` (such as `\"w\"` or `\"r\"` or `\"a\"`, specifying the type of access to a file).  When entering an associated `with`-block, this context manager will\n",
    "* Wait 0.1 seconds repeatedly until there is no file named `\"locked-\"+fn` exists\n",
    "* Create (i.e. open and then close) an empty file called `\"locked-\"+fn`\n",
    "* Open the file named `fn` in mode `mode` and return the file object\n",
    "\n",
    "And when exiting the `with`-block, this context manager will\n",
    "* Close `fn`\n",
    "* Delete `\"locked-\"+fn`\n",
    "\n",
    "You might use this context manager as follows:"
   ]
  },
  {
   "cell_type": "code",
   "execution_count": null,
   "metadata": {},
   "outputs": [],
   "source": [
    "print(\"I'm about to attempt to open reserved-seats.txt for exclusive use.\")\n",
    "print(\"If another process already has it locked, there may be a delay.\")\n",
    "\n",
    "with OpenWithLock(\"reserved-seats.txt\",\"r\") as fp:\n",
    "    print(\"Ok, I have exclusive access to reserved-seats.txt\")\n",
    "    print(\"A lock file named 'locked-reserved-seats.txt' was created so other programs know that.\")\n",
    "    x = fp.read()\n",
    "    # maybe do things with x...\n",
    "    \n",
    "print(\"I have relinquished my exclusive access to reserved-seats.txt\")\n",
    "print(\"The lock file has been removed.\")"
   ]
  },
  {
   "cell_type": "markdown",
   "metadata": {},
   "source": [
    "# Solution"
   ]
  },
  {
   "cell_type": "code",
   "execution_count": null,
   "metadata": {},
   "outputs": [],
   "source": [
    "# Based on solution prepared for MCS 275 Spring 2023\n",
    "\n",
    "class OpenWithLock:\n",
    "    \"\"\"Context manager for locking a file when in use\"\"\"\n",
    "    \n",
    "    def __init__(self, fn, mode):\n",
    "        \"\"\"Save file name and file opening mode as attributes\"\"\"\n",
    "        self.fn = fn\n",
    "        self.mode = mode\n",
    "    \n",
    "    def __enter__(self):\n",
    "        \"\"\"Wait until lockfile no longer exists, then create lockfile and open given file\"\"\"\n",
    "        \n",
    "        # Wait until lockfile no longer exists\n",
    "        while os.path.exists(\"locked-\" + self.fn):\n",
    "            time.sleep(0.1)\n",
    "            \n",
    "        # Create lockfile by opening and closing\n",
    "        open(\"locked-\" + self.fn, \"a\").close()\n",
    "        \n",
    "        self.file = open(self.fn, self.mode)\n",
    "        return self.file\n",
    "        \n",
    "    def __exit__(self, exc_type, exc, tb):\n",
    "        \"\"\"When finished, close file and remove lockfile.\"\"\"\n",
    "        self.file.close()\n",
    "        os.remove(\"locked-\" + self.fn)"
   ]
  },
  {
   "cell_type": "markdown",
   "metadata": {},
   "source": [
    "#### Something to think about\n",
    "\n",
    "How can you test that this context manager behaves as expected?  If you haven't tested the behavior when the lock file already exists, it is hard to know whether the context manager is working!\n"
   ]
  },
  {
   "cell_type": "markdown",
   "metadata": {},
   "source": [
    "## 4. Parentheses\n",
    "\n",
    "If we write `a+b+c+d`, then we are using the associativity of addition to avoid the need for any parentheses.\n",
    "\n",
    "There are lots of ways to put parentheses into the expression so that each time we use addition, it is a binary operation.  For example:\n",
    "* `((a+b)+(c+d))`  (i.e. first add `a+b`, then add `c+d`, then sum the results)\n",
    "* `(a+(b+(c+d)))`  (i.e. first add `c+d`, then add `b` to that, then add `a` to that)\n",
    "* and more\n",
    "\n",
    "Write a Python function that takes a list of integers and returns all possible ways of parenthesizing the sum fully.\n",
    "\n",
    "This requires a choice of how to represent the input sum and output parenthesized sums.  Instead of using strings, make your function so it expects a list of summands as input and returns a list of possible parenthesized versions that use nested Python lists to represent the parentheses, as in the following example:"
   ]
  },
  {
   "cell_type": "code",
   "execution_count": 2,
   "metadata": {},
   "outputs": [
    {
     "data": {
      "text/plain": [
       "[[2, [1, [5, 8]]],\n",
       " [2, [[1, 5], 8]],\n",
       " [[2, 1], [5, 8]],\n",
       " [[2, [1, 5]], 8],\n",
       " [[[2, 1], 5], 8]]"
      ]
     },
     "execution_count": 2,
     "metadata": {},
     "output_type": "execute_result"
    }
   ],
   "source": [
    "put_parens([2,1,5,8]) # find all ways to put parentheses in the expression 2+1+5+8"
   ]
  },
  {
   "cell_type": "markdown",
   "metadata": {},
   "source": [
    "The return value is a list of length 5, which means there are five ways to add parentheses.  Each item in the list describes one of the ways in to add parentheses, with nested lists instead of nested parentheses.  So the five items shown above represent the expressions:\n",
    "```\n",
    "(2+(1+(5+8)))\n",
    "(2+((1+5)+8))\n",
    "(2+1)+(5+8)\n",
    "((2+(1+5))+8)\n",
    "(((2+1)+5)+8)\n",
    "```\n",
    "\n",
    "### Hints\n",
    "\n",
    "1. Why is this a natural candidate for recursion?\n",
    "2. Unlike the recursion examples in Lecture 9, this one will involve a *loop* of recursive calls.  That is, the function `put_parens` may call itself many times, with the exact number of times depending on its argument."
   ]
  },
  {
   "cell_type": "markdown",
   "metadata": {},
   "source": [
    "# Solution"
   ]
  },
  {
   "cell_type": "code",
   "execution_count": 2,
   "metadata": {},
   "outputs": [],
   "source": [
    "# Based on solution prepared for MCS 275 Spring 2023\n",
    "\n",
    "def put_parens(L):\n",
    "    \"\"\"Finds all ways to put parentheses\"\"\"\n",
    "    \n",
    "    if len(L) == 1: # No way to put parentheses\n",
    "        return L\n",
    "    if len(L) == 2: # Only one way to put parentheses\n",
    "        return [L]\n",
    "    \n",
    "    output = []\n",
    "    \n",
    "    # At each index `i`, split the list into two halves\n",
    "    for i in range(1, len(L)):\n",
    "        \n",
    "        # Make a recursive call on each half\n",
    "        first_halves = put_parens(L[:i])\n",
    "        second_halves = put_parens(L[i:])\n",
    "        \n",
    "        # Then for every possible combination of parentheses from the first half, ...\n",
    "        # ... match them with a possible combination from the second half.\n",
    "        # This gives us every combination of parentheses for the whole list `L`.\n",
    "        for first in first_halves:\n",
    "            for second in second_halves:\n",
    "                output.append([first, second])\n",
    "    \n",
    "    return output"
   ]
  },
  {
   "cell_type": "markdown",
   "metadata": {},
   "source": [
    "## Bonus round\n",
    "\n",
    "Work on this if you have extra time.  No solutions will be given.  Feel free to ask the instructor if you work on this outside of lab and have questions!\n",
    "\n",
    "### Bonus 1. Refined version of the lockfile context manager\n",
    "\n",
    "It would be nice if the lock file created by the context manager from problem didn't just capture the fact that *some* program was using a file, but also *which* program.\n",
    "\n",
    "The module `os` contains a function `os.getpid()` which returns a numerical identifier (process ID or PID) that the operating system gives to the currently-running program, like so:"
   ]
  },
  {
   "cell_type": "code",
   "execution_count": 1,
   "metadata": {},
   "outputs": [
    {
     "data": {
      "text/plain": [
       "21256"
      ]
     },
     "execution_count": 1,
     "metadata": {},
     "output_type": "execute_result"
    }
   ],
   "source": [
    "import os\n",
    "os.getpid()"
   ]
  },
  {
   "cell_type": "markdown",
   "metadata": {},
   "source": [
    "Modify the `OpenWithLock` class so that the lock file's name is not fixed, but instead incorporates the PID of the program that locked it.  Thus if process `21256` locks `keyring.dat`, it would do so by creating a file named `locked-21256-keyring.dat`\n",
    "\n",
    "But when the class is checking whether or not the file is already locked, it needs to look for any file whose name begins with `\"locked-\"` and ends with `\"-keyring.dat\"`.  If any such file exists, then it waits until that file is gone before creating its own lock file.\n",
    "\n",
    "To check whether a file whose name matches a certain pattern exists, you have a couple of choices:\n",
    "* Use `glob.glob`, a function built for enumerating all files whose names match a pattern; read how to use it in [Python documentation of the `glob` module](https://docs.python.org/3/library/glob.html)\n",
    "* Use `os.listdir` to get a listing of all files, and then check them one by one to see if they start with `\"locked-\"` and end with `\"-\" + fn`."
   ]
  },
  {
   "cell_type": "markdown",
   "metadata": {},
   "source": [
    "### Bonus 2. Theoretical analysis of call counts\n",
    "\n",
    "This continues the work from problem 3.\n",
    "\n",
    "Suppose we define a new sequence $c_n$ as follows:  $c_n$ is the number of function calls that occur when calculating $T_n$ recursively.  That is, $c_n$ is ths sequence of call counts you saw in part C of problem 3.\n",
    "\n",
    "Can you determine a formula that gives $c_n$, perhaps as a sum of previous terms?"
   ]
  },
  {
   "cell_type": "markdown",
   "metadata": {},
   "source": [
    "### Bonus 2 solution note\n",
    "\n",
    "The function `T_call_count` given above is based on the observation that $c_n = c_{n-1} + c_{n-2} + c_{n-3} + 1$."
   ]
  },
  {
   "cell_type": "markdown",
   "metadata": {},
   "source": [
    "### Revision history\n",
    "\n",
    "* 2024-02-02 Initial publication"
   ]
  }
 ],
 "metadata": {
  "kernelspec": {
   "display_name": "Python 3 (ipykernel)",
   "language": "python",
   "name": "python3"
  },
  "language_info": {
   "codemirror_mode": {
    "name": "ipython",
    "version": 3
   },
   "file_extension": ".py",
   "mimetype": "text/x-python",
   "name": "python",
   "nbconvert_exporter": "python",
   "pygments_lexer": "ipython3",
   "version": "3.10.12"
  }
 },
 "nbformat": 4,
 "nbformat_minor": 4
}
