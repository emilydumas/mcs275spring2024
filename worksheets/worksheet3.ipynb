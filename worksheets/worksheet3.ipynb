{
 "cells": [
  {
   "cell_type": "markdown",
   "metadata": {},
   "source": [
    "# MCS 275 Spring 2024 Worksheet 3\n",
    "\n",
    "* Course instructor: Emily Dumas"
   ]
  },
  {
   "cell_type": "markdown",
   "metadata": {},
   "source": [
    "## Topics\n",
    "\n",
    "This worksheet corresponds to material from **lectures 4-5**, which focus on these aspects of object-oriented programming:\n",
    "* Operator overloading\n",
    "* Subclasses and inheritance"
   ]
  },
  {
   "cell_type": "markdown",
   "metadata": {},
   "source": [
    "## Resources\n",
    "\n",
    "These things might be helpful while working on the problems.  Remember that for worksheets,  we don't strictly limit what resources you can consult, so these are only suggestions.\n",
    "\n",
    "* [Lecture 4 - operator overloading](https://www.dumas.io/teaching/2024/spring/mcs275/slides/lecture4.html)\n",
    "* [Lecture 5 - inheritance](https://www.dumas.io/teaching/2024/spring/mcs275/slides/lecture5.html)\n",
    "* [MCS 275 Python Tour](https://www.dumas.io/teaching/2024/spring/mcs275/nbview/samplecode/python_tour.html)\n",
    "* [MCS 275 sample code repository](https://github.com/emilydumas/mcs275spring2024/tree/main/samplecode)\n",
    "* [Downey's book, *Think Python*](https://greenteapress.com/thinkpython2/html/)\n",
    "* MCS 260 course materials from Fall 2021:\n",
    "    * [Slides, homework, worksheets, and projects](https://www.dumas.io/teaching/2021/fall/mcs260/)\n",
    "    * [MCS 260 Sample programs](https://github.com/emilydumas/mcs260fall2021/tree/main/samplecode)"
   ]
  },
  {
   "cell_type": "markdown",
   "metadata": {},
   "source": [
    "## 0. Get ready to work on `plane.py`\n",
    "\n",
    "First, download the `plane.py` module we wrote in lecture and save it somewhere you can find in the terminal and in VS code:\n",
    "\n",
    "* [plane.py](https://raw.githubusercontent.com/daviddumas/mcs275spring2024/main/samplecode/oop/plane.py) - download from the course sample code repo\n",
    "\n",
    "The `Point2` and `Vector2` classes in this module provide lots of examples of operator overloading.  In case you need a refesher on what they are all about, you can take a look at:\n",
    "* [This one slide summary of what `Point2` and `Vector2` classes can do](https://www.dumas.io/teaching/2024/spring/mcs275/slides/lecture4.html#/6)\n",
    "* [The rest of Lecture 4](https://www.dumas.io/teaching/2024/spring/mcs275/slides/lecture4.html) which explains it in detail"
   ]
  },
  {
   "cell_type": "markdown",
   "metadata": {},
   "source": [
    "## 1. Boolean coercion \n",
    "\n",
    "At the moment, if you use a `Vector2` object in an `if` statement or any other place that a boolean is expected, it will always be considered `True`:"
   ]
  },
  {
   "cell_type": "code",
   "execution_count": 11,
   "metadata": {},
   "outputs": [
    {
     "name": "stdout",
     "output_type": "stream",
     "text": [
      "Vector of zeros (integer) is considered True\n",
      "Vector of zeros (float) is considered True\n",
      "Vector2(1,1) is considered True\n",
      "Vector2(0,2) is considered True\n"
     ]
    }
   ],
   "source": [
    "vzero = plane.Vector2(0,0)\n",
    "vzerofloat = plane.Vector2(0.0,0.0)\n",
    "v = plane.Vector2(1,1)\n",
    "w = plane.Vector2(0,2)\n",
    "\n",
    "if vzero:\n",
    "    print(\"Vector of zeros (integer) is considered True\")\n",
    "if vzerofloat:\n",
    "    print(\"Vector of zeros (float) is considered True\")\n",
    "if v:\n",
    "    print(v,\"is considered True\")    \n",
    "if w:\n",
    "    print(w,\"is considered True\")"
   ]
  },
  {
   "cell_type": "markdown",
   "metadata": {},
   "source": [
    "That's not because of anything we put in the class definition, but because it's Python's default behavior.  If a class doesn't specify how it should be coerced to a boolean, then it will always be considered True.\n",
    "\n",
    "A more reasonable behavior for `Vector2` is to **consider it `False` if both components are equal to zero, and `True` otherwise.**  You can implement that behavior by adding a method `__bool__` to `Vector2` that takes no arguments and returns the boolean that represents the value of `self`.\n",
    "\n",
    "Add this feature.  If you are successful, the behavior of the same code shown above should change to:"
   ]
  },
  {
   "cell_type": "code",
   "execution_count": 13,
   "metadata": {},
   "outputs": [
    {
     "name": "stdout",
     "output_type": "stream",
     "text": [
      "Vector2(1,1) is considered True\n",
      "Vector2(0,2) is considered True\n"
     ]
    }
   ],
   "source": [
    "vzero = plane.Vector2(0,0)          # now False\n",
    "vzerofloat = plane.Vector2(0.0,0.0) # now False\n",
    "v = plane.Vector2(1,1)              # now True\n",
    "w = plane.Vector2(0,2)              # now True\n",
    "\n",
    "if vzero:\n",
    "    print(\"Vector of zeros (integer) is considered True\")\n",
    "if vzerofloat:\n",
    "    print(\"Vector of zeros (float) is considered True\")\n",
    "if v:\n",
    "    print(v,\"is considered True\")    \n",
    "if w:\n",
    "    print(w,\"is considered True\")"
   ]
  },
  {
   "cell_type": "markdown",
   "metadata": {},
   "source": [
    "## 2. Indexed coordinate access\n",
    "\n",
    "This is another problem about `Point2` and `Vector2`.\n",
    "\n",
    "If instead of using these classes we stored coordinates in a list, e.g."
   ]
  },
  {
   "cell_type": "code",
   "execution_count": 14,
   "metadata": {},
   "outputs": [],
   "source": [
    "a = [5,3]"
   ]
  },
  {
   "cell_type": "markdown",
   "metadata": {},
   "source": [
    "Then we couldn't use `a.x` and `a.y` to get the coordinates.  Instead we'd access them by **index**:"
   ]
  },
  {
   "cell_type": "code",
   "execution_count": 15,
   "metadata": {},
   "outputs": [
    {
     "data": {
      "text/plain": [
       "5"
      ]
     },
     "execution_count": 15,
     "metadata": {},
     "output_type": "execute_result"
    }
   ],
   "source": [
    "a[0] # x coordinate is at index 0"
   ]
  },
  {
   "cell_type": "code",
   "execution_count": 16,
   "metadata": {},
   "outputs": [
    {
     "data": {
      "text/plain": [
       "3"
      ]
     },
     "execution_count": 16,
     "metadata": {},
     "output_type": "execute_result"
    }
   ],
   "source": [
    "a[1] # y coordinate is at index 1"
   ]
  },
  {
   "cell_type": "markdown",
   "metadata": {},
   "source": [
    "Sometimes it is nicer to have named attributes for coordinates, as in `Point2` and `Vector2`, but the ability to refer to coordinates using index can also be convenient (e.g. if a loop needs to do the same thing to each coordinate).\n",
    "\n",
    "To add indexing to `Point2` and `Vector2`, add a special method `__getitem__` to each class so that if `a` is an object of type `Point2` or `Vector2`, then `a[0]` will return the `x` coordinate and `a[1]` will return the `y` coordinate.  The way indexing relates to the special method is that `a[i]` evaluates to `a.__getitem__(i)`.\n",
    "\n",
    "Attempting to get any other index on a `Point2` or `Vector2` object should raise `IndexError`.\n",
    "\n",
    "Here's a demo of the expected behavior:"
   ]
  },
  {
   "cell_type": "code",
   "execution_count": 18,
   "metadata": {},
   "outputs": [
    {
     "name": "stdout",
     "output_type": "stream",
     "text": [
      "v.x = 5\n",
      "v[0] = 5\n",
      "v.y = 7\n",
      "v[1] = 7\n"
     ]
    }
   ],
   "source": [
    "v = plane.Vector2(5,7)\n",
    "print(\"v.x =\",v.x)\n",
    "print(\"v[0] =\",v[0])  # asking for v[0] calls v.__getitem__(0)\n",
    "print(\"v.y =\",v.y)\n",
    "print(\"v[1] =\",v[1])  # asking for v[1] calls v.__getitem__(1)"
   ]
  },
  {
   "cell_type": "code",
   "execution_count": 19,
   "metadata": {},
   "outputs": [
    {
     "ename": "IndexError",
     "evalue": "Index must be 0 or 1",
     "output_type": "error",
     "traceback": [
      "\u001b[0;31m---------------------------------------------------------------------------\u001b[0m",
      "\u001b[0;31mIndexError\u001b[0m                                Traceback (most recent call last)",
      "\u001b[0;32m/tmp/ipykernel_4654/381668737.py\u001b[0m in \u001b[0;36m<module>\u001b[0;34m\u001b[0m\n\u001b[0;32m----> 1\u001b[0;31m \u001b[0mv\u001b[0m\u001b[0;34m[\u001b[0m\u001b[0;34m-\u001b[0m\u001b[0;36m3\u001b[0m\u001b[0;34m]\u001b[0m  \u001b[0;31m# v.__getitem__(-3)\u001b[0m\u001b[0;34m\u001b[0m\u001b[0;34m\u001b[0m\u001b[0m\n\u001b[0m",
      "\u001b[0;32m/tmp/ipykernel_4654/1846116892.py\u001b[0m in \u001b[0;36mg\u001b[0;34m(self, k)\u001b[0m\n\u001b[1;32m      2\u001b[0m     \u001b[0;32mif\u001b[0m \u001b[0mk\u001b[0m \u001b[0;32min\u001b[0m \u001b[0;34m(\u001b[0m\u001b[0;36m0\u001b[0m\u001b[0;34m,\u001b[0m\u001b[0;36m1\u001b[0m\u001b[0;34m)\u001b[0m\u001b[0;34m:\u001b[0m\u001b[0;34m\u001b[0m\u001b[0;34m\u001b[0m\u001b[0m\n\u001b[1;32m      3\u001b[0m         \u001b[0;32mreturn\u001b[0m \u001b[0;34m[\u001b[0m\u001b[0mself\u001b[0m\u001b[0;34m.\u001b[0m\u001b[0mx\u001b[0m\u001b[0;34m,\u001b[0m\u001b[0mself\u001b[0m\u001b[0;34m.\u001b[0m\u001b[0my\u001b[0m\u001b[0;34m]\u001b[0m\u001b[0;34m[\u001b[0m\u001b[0mk\u001b[0m\u001b[0;34m]\u001b[0m\u001b[0;34m\u001b[0m\u001b[0;34m\u001b[0m\u001b[0m\n\u001b[0;32m----> 4\u001b[0;31m     \u001b[0;32mraise\u001b[0m \u001b[0mIndexError\u001b[0m\u001b[0;34m(\u001b[0m\u001b[0;34m\"Index must be 0 or 1\"\u001b[0m\u001b[0;34m)\u001b[0m\u001b[0;34m\u001b[0m\u001b[0;34m\u001b[0m\u001b[0m\n\u001b[0m\u001b[1;32m      5\u001b[0m \u001b[0mplane\u001b[0m\u001b[0;34m.\u001b[0m\u001b[0mVector2\u001b[0m\u001b[0;34m.\u001b[0m\u001b[0m__getitem__\u001b[0m \u001b[0;34m=\u001b[0m \u001b[0mg\u001b[0m\u001b[0;34m\u001b[0m\u001b[0;34m\u001b[0m\u001b[0m\n",
      "\u001b[0;31mIndexError\u001b[0m: Index must be 0 or 1"
     ]
    }
   ],
   "source": [
    "v[-3]  # v.__getitem__(-3)"
   ]
  },
  {
   "cell_type": "code",
   "execution_count": 20,
   "metadata": {},
   "outputs": [
    {
     "ename": "IndexError",
     "evalue": "Index must be 0 or 1",
     "output_type": "error",
     "traceback": [
      "\u001b[0;31m---------------------------------------------------------------------------\u001b[0m",
      "\u001b[0;31mIndexError\u001b[0m                                Traceback (most recent call last)",
      "\u001b[0;32m/tmp/ipykernel_4654/3241521498.py\u001b[0m in \u001b[0;36m<module>\u001b[0;34m\u001b[0m\n\u001b[0;32m----> 1\u001b[0;31m \u001b[0mv\u001b[0m\u001b[0;34m[\u001b[0m\u001b[0;34m\"Irrational Exuberance\"\u001b[0m\u001b[0;34m]\u001b[0m   \u001b[0;31m# v.__getitem__(\"Irrational Exuberance\")\u001b[0m\u001b[0;34m\u001b[0m\u001b[0;34m\u001b[0m\u001b[0m\n\u001b[0m",
      "\u001b[0;32m/tmp/ipykernel_4654/1846116892.py\u001b[0m in \u001b[0;36mg\u001b[0;34m(self, k)\u001b[0m\n\u001b[1;32m      2\u001b[0m     \u001b[0;32mif\u001b[0m \u001b[0mk\u001b[0m \u001b[0;32min\u001b[0m \u001b[0;34m(\u001b[0m\u001b[0;36m0\u001b[0m\u001b[0;34m,\u001b[0m\u001b[0;36m1\u001b[0m\u001b[0;34m)\u001b[0m\u001b[0;34m:\u001b[0m\u001b[0;34m\u001b[0m\u001b[0;34m\u001b[0m\u001b[0m\n\u001b[1;32m      3\u001b[0m         \u001b[0;32mreturn\u001b[0m \u001b[0;34m[\u001b[0m\u001b[0mself\u001b[0m\u001b[0;34m.\u001b[0m\u001b[0mx\u001b[0m\u001b[0;34m,\u001b[0m\u001b[0mself\u001b[0m\u001b[0;34m.\u001b[0m\u001b[0my\u001b[0m\u001b[0;34m]\u001b[0m\u001b[0;34m[\u001b[0m\u001b[0mk\u001b[0m\u001b[0;34m]\u001b[0m\u001b[0;34m\u001b[0m\u001b[0;34m\u001b[0m\u001b[0m\n\u001b[0;32m----> 4\u001b[0;31m     \u001b[0;32mraise\u001b[0m \u001b[0mIndexError\u001b[0m\u001b[0;34m(\u001b[0m\u001b[0;34m\"Index must be 0 or 1\"\u001b[0m\u001b[0;34m)\u001b[0m\u001b[0;34m\u001b[0m\u001b[0;34m\u001b[0m\u001b[0m\n\u001b[0m\u001b[1;32m      5\u001b[0m \u001b[0mplane\u001b[0m\u001b[0;34m.\u001b[0m\u001b[0mVector2\u001b[0m\u001b[0;34m.\u001b[0m\u001b[0m__getitem__\u001b[0m \u001b[0;34m=\u001b[0m \u001b[0mg\u001b[0m\u001b[0;34m\u001b[0m\u001b[0;34m\u001b[0m\u001b[0m\n",
      "\u001b[0;31mIndexError\u001b[0m: Index must be 0 or 1"
     ]
    }
   ],
   "source": [
    "v[\"Irrational Exuberance\"]   # v.__getitem__(\"Irrational Exuberance\")"
   ]
  },
  {
   "cell_type": "markdown",
   "metadata": {},
   "source": [
    "## 3. Additional bots\n",
    "\n",
    "Download these files related to the robot simulation from the course sample code repository and put them in a directory where you'll do your work for this problem.\n",
    "\n",
    "* [plane.py](https://raw.githubusercontent.com/daviddumas/mcs275spring2024/main/samplecode/oop/plane.py)\n",
    "* [bots.py](https://raw.githubusercontent.com/daviddumas/mcs275spring2024/main/samplecode/oop/bots.py)\n",
    "* [botsimulation.py](https://raw.githubusercontent.com/daviddumas/mcs275spring2024/main/samplecode/oop/botsimulation.py)\n",
    "\n",
    "*Note: I recommend you make a copy of the `plane.py` you edited in the previous problems (e.g. rename it `plane2.py`) and download a fresh copy of the original file.  That way, if you accidentally introduced bugs into `plane.py` in your previous work, they won't affect this problem.*\n",
    "\n",
    "Now, open `bots.py` and add these new subclasses of `Bot`:\n",
    "* class `DelayMarchBot`\n",
    "  * The constructor accepts a position, a number of time units (`delay`), a direction.\n",
    "  * The robot that waits in its initial position for `delay` time units.\n",
    "  * After the initial wait, the robot marches forever, taking steps in the given direction.\n",
    "\n",
    "* class `LazyMarchBot`\n",
    "  * The constructor accepts a position and a direction.\n",
    "  * At each time step, the robot chooses one of these two things to do based on a coin flip (random choice):\n",
    "     * Take a step in a direction that was set in the constructor\n",
    "     * Pause for a moment (do nothing)\n",
    "\n",
    "* class `SpiralBot`\n",
    "  * In addition to its starting position, the constructor takes an argument `steps`.\n",
    "  * Initially marching in the direction `Vector2(1,0)`, after `steps` time units it makes a right hand 90-degree turn.\n",
    "  * It continues marching and turning regularly so that it ultimately follows a spiral path like the one shown below.\n",
    "  * When it gets to the end of the spiral, the robot stops moving but remains active.\n",
    "\n",
    "\n",
    "![spiral path](images/ws3-spiral.png)\n",
    "\n",
    "**Add these robots to the simulation and confirm they exhibit the expected behavior.**"
   ]
  },
  {
   "cell_type": "markdown",
   "metadata": {},
   "source": [
    "## Bonus round\n",
    "\n",
    "Work on these open-ended problems if you finish the exercises above.  We don't plan to include solutions to these in the worksheet solutions.\n",
    "\n",
    "### `Vector2` and `Point2` item assignment\n",
    "\n",
    "Add a `__setitem__` method to these classes so you can do things like `a[0] = 15` to set the `x` coordinate (where `a` is a vector or point).  Read about `__setitem__` [here (official Python docs)](https://docs.python.org/3/reference/datamodel.html#object.__setitem__).\n",
    "\n",
    "### `MimicBot`\n",
    "\n",
    "Make a robot class that expects to be given an initial position *and* another bot (its \"target\") as constructor arguments.  It should watch the other bot carefully, and on each time step it should make the same relative movement that the target bot did on the previous time step.  That is, if at time `n` the target bot moved one unit right, then at time `n+1` the `MimicBot` will move one unit right."
   ]
  },
  {
   "cell_type": "markdown",
   "metadata": {},
   "source": [
    "### Revision history\n",
    "\n",
    "* 2024-01-21 Initial release"
   ]
  }
 ],
 "metadata": {
  "kernelspec": {
   "display_name": "Python 3 (ipykernel)",
   "language": "python",
   "name": "python3"
  },
  "language_info": {
   "codemirror_mode": {
    "name": "ipython",
    "version": 3
   },
   "file_extension": ".py",
   "mimetype": "text/x-python",
   "name": "python",
   "nbconvert_exporter": "python",
   "pygments_lexer": "ipython3",
   "version": "3.10.12"
  }
 },
 "nbformat": 4,
 "nbformat_minor": 4
}
