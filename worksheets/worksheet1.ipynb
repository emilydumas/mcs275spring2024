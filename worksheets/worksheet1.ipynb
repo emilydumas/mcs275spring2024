{
 "cells": [
  {
   "cell_type": "markdown",
   "metadata": {},
   "source": [
    "# MCS 275 Spring 2024 Worksheet 1\n",
    "\n",
    "* Course instructor: Emily Dumas"
   ]
  },
  {
   "cell_type": "markdown",
   "metadata": {},
   "source": [
    "## Topics\n",
    "\n",
    "This worksheet covers some initial setup and installation of software, followed by some coding exercises that use material from prerequisite courses."
   ]
  },
  {
   "cell_type": "markdown",
   "metadata": {},
   "source": [
    "## Instructions\n",
    "* This isn't collected or graded.  Work on it during your lab on Jan 9 or Jan 11.\n",
    "* If you took MCS 260 recently you may have some or all of the necessary tools installed already.  That's fine.  **Be sure to test them out as outlined below** and read through the worksheet to be sure you know what is assumed from now on."
   ]
  },
  {
   "cell_type": "markdown",
   "metadata": {},
   "source": [
    "## Part I: Setting up a development enviroment"
   ]
  },
  {
   "cell_type": "markdown",
   "metadata": {},
   "source": [
    "The tasks in this part of the worksheet expand on the Getting Started steps listed in the course web page.\n",
    "\n",
    "If you plan to use your own computer to complete MCS 275 work, you need to make sure some things are installed and that you know how to use them.\n",
    "\n",
    "If you plan to use UIC lab computers to do all of your work, the necessary software should already be installed there (allowing you to skip steps 1 and 4)."
   ]
  },
  {
   "cell_type": "markdown",
   "metadata": {},
   "source": [
    "### 1. Install Python"
   ]
  },
  {
   "cell_type": "markdown",
   "metadata": {},
   "source": [
    "You'll need Python 3, version 3.10 or higher, installed on your computer to develop code for MCS 275.  The recommended method of installation depends on your platform:\n",
    "* Windows:  Install from the Microsoft Store (https://apps.microsoft.com/store/detail/python-310/9PJPW5LDXLZ5)\n",
    "* MacOS: Most likely, Python 3 will be pre-installed, but it may be an older version. Check by running the command `python3` in a terminal.  If it is not already installed, or if the version is too old, we recommend installing it using either Homebrew or using the installer from python.org:\n",
    "    * MacOS option 1: Homebrew-based install instructions https://docs.python-guide.org/starting/install3/osx/\n",
    "    * MacOS option 2: Python.org packages: https://www.python.org/downloads/macos/\n",
    "* Linux: It is probably pre-installed.  If not, use your distribution package manager to find and install the latest version of Python 3, and confirm that it is version 3.10 or higher.  If you're using Linux and not sure how to install software or find your distribution package manager, ask for help."
   ]
  },
  {
   "cell_type": "markdown",
   "metadata": {},
   "source": [
    "### 2. Open a terminal"
   ]
  },
  {
   "cell_type": "markdown",
   "metadata": {},
   "source": [
    "We'll do almost everything in MCS 275 using a text- and keyboard-based interface to your operating system.  This takes the form of a *terminal*.  The exact name will depend on your operating system.  Test that you can find and open this program on your computer:\n",
    "* Windows: The terminal we support for MCS 275 is [**Windows Terminal**](https://apps.microsoft.com/store/detail/windows-terminal/9N0DX20HK701?hl=en-us&gl=us&rtc=1) (available for free from the Microsoft Store) and among the various command interpreters it supports, you always want to select **Powershell**.\n",
    "* MacOS: The terminal application is simply called **Terminal**, and is installed by default.\n",
    "* Linux: The name and method of starting a terminal application depends on the distribution.  In Ubuntu, the application menu will contain an entry simply called **Terminal**.\n",
    "\n",
    "Once you have a terminal open, check that you can list the files in the current directory with the command\n",
    "```\n",
    "ls\n",
    "```\n",
    "\n",
    "Retrieve the name of the current directory with the command\n",
    "```\n",
    "pwd\n",
    "```\n",
    "\n",
    "You can change to a new directory using the command\n",
    "```\n",
    "cd NEWDIRECTORY\n",
    "```\n",
    "replacing `NEWDIRECTORY` with the relative path or full path of the directory you want to move to. Typically, you'll want to move to the directory containing your Python programs as a first step in any work session.\n",
    "\n",
    "(The terminal commands supported by Linux, MacOS, and Windows Powershell are actually quite different, but for the most part we'll stick to commands that work nearly the same way in all three of them.)\n",
    "\n",
    "If you'd like a more detailed review of how files, paths, and directories work, check out these slides from the first lab in MCS 260:\n",
    "* [MCS 260 Fall 2021 Lab 1: Files and directories](https://www.dumas.io/teaching/2021/fall/mcs260/slides/week1discussion.html#/)"
   ]
  },
  {
   "cell_type": "markdown",
   "metadata": {},
   "source": [
    "### 3. Determine your interpreter name\n",
    "\n",
    "Now that you know how to start a terminal, you need to determine how to start Python 3 (version 3.10 or later), which you have installed at this point, from within the terminal.\n",
    "\n",
    "Most likely, the command will just be\n",
    "```\n",
    "python3\n",
    "```\n",
    "But in some cases you may find that Python 3.10+ is installed but the command to open it is just called\n",
    "```\n",
    "python\n",
    "```\n",
    "but it's more likely that this command will start a different programming language (Python 2). It's important to look at what is printed when you run the command and find the one that opens Python 3.  Here is what it looked like in virtual lab last year (when they still had Python 3.9):\n",
    "\n",
    "```\n",
    "PS C:\\windows\\system32\\WindowsPowerShell\\v1.0> python\n",
    "Python 3.9.1 (tags/v3.9.1:1e5d33e, Dec  7 2020, 17:08:21) [MSC v.1927 64 bit (AMD64)] on win32\n",
    "Type \"help\", \"copyright\", \"credits\" or \"license\" for more information.\n",
    ">>>\n",
    "```\n",
    "\n",
    "The `>>>` prompt tells you that you're still in Python, and it's waiting for you to type a line of code that will be executed immediately.  You probably want to just quit Python and go back to the terminal, which you can do by entering\n",
    "```\n",
    "exit()\n",
    "```\n",
    "at the `>>>` prompt and pressing Enter.\n",
    "\n",
    "The command you use to run Python 3 is your **interpreter name**.  Make note of it, because you'll use it a lot.  Since it will be different for each student, the instructions for subsequent tasks require you to know your interpreter name.  That is, any time you see `python` or `python3` appearing in a command that a worksheet suggests you run, you will need to replace it with your interpreter name."
   ]
  },
  {
   "cell_type": "markdown",
   "metadata": {},
   "source": [
    "### 4. Install Microsoft VS Code\n",
    "\n",
    "You'll need a programming text editor to work on MCS 275 assignments.  The one we support directly in the course, and which we ask everyone to install, is\n",
    "\n",
    "* [Microsoft VS Code](https://code.visualstudio.com/)\n",
    "\n",
    "This is a free program available for Windows, MacOS, and Linux.\n",
    "\n",
    "Install it using the instructions at the link above.\n",
    "\n",
    "(It should already be installed in the Virtual Computer Lab.)\n",
    "\n",
    "After installing it, figure out how to start VS code, for example by using an icon on the desktop, the start menu, or whatever method your operating system uses to launch applications."
   ]
  },
  {
   "cell_type": "markdown",
   "metadata": {},
   "source": [
    "### 5. Write a short program in VS code\n",
    "\n",
    "Create a new file in VS code and paste the following text into it:\n",
    "\n",
    "```\n",
    "print(\"Hello world!\")\n",
    "x = 2**2024\n",
    "print(\"2 raised to the power 2024 is equal to\",x)\n",
    "```\n",
    "\n",
    "Save it with a filename `hello.py`.  When you save it, make note of where it ends up.  On Windows or MacOS, the default save location may be the Desktop, or the Documents folder.  Or you can use the save dialog box to select a different destination (e.g. a directory you make for the purpose of storing your MCS 275 work).\n",
    "\n",
    "After you've saved the file, you can get a definitive answer about exactly where the file is stored on your computer as follows:  Right-click on the filename tab in the VS code window, and select \"Copy path\" from the menu that pops up.  Now, you can paste (Control-V) the filename into another application, such as the terminal. Try this.  The filename might look something like\n",
    "```\n",
    "C:\\Users\\ddumas\\Desktop\\hello.py\n",
    "```\n",
    "on Windows, or\n",
    "```\n",
    "/home/ddumas/Desktop/hello.py\n",
    "```\n",
    "on Linux.  The key point is that it shows the full name of the directory (e.g. `C:\\Users\\ddumas\\Desktop\\`) that contains the file.  When you're working in the terminal, you will usually need to know the full name of the directory containing any files you want to use.  Often, you'll want to `cd` to that directory to avoid typing the directory name each time you want to refer to a file."
   ]
  },
  {
   "cell_type": "markdown",
   "metadata": {},
   "source": [
    "### 6. Run your program in the terminal\n",
    "\n",
    "VS code may show you a button that can run a Python program; it's a green triangle in the upper right corner.  **Please, please, PLEASE don't use that button.**  If you do, it will work sometimes but fail in confusing ways at other times, because VS code runs your program with the working directory set to a different directory than the one that contains the source code. We'll also write a lot of programs that deal with command line arguments, which can't be run using that button.\n",
    "\n",
    "Open the terminal and change the working directory to the one containing the file `hello.py` you created in task 5.  The `cd` command is used to do this.  For example, on my Windows computer, the command to change directory is\n",
    "```\n",
    "cd C:\\Users\\ddumas\\Desktop\n",
    "```\n",
    "while on my Linux laptop it is instead\n",
    "```\n",
    "cd /home/ddumas/desktop\n",
    "```\n",
    "In general, the directory will be the initial part of the full path you get from VS code's \"Copy path\" menu option, all the way up to the last \"/\" or \"\\\" that appears in the path.\n",
    "\n",
    "* Potential \"gotcha\":  If the name of a file or directory contains spaces, you need to put the entire thing in quotation marks to use it with a command in the terminal, e.g.\n",
    "```\n",
    "cd C:\\Users\\ddumas\\Desktop\\MCS260   # ok\n",
    "cd C:\\Users\\ddumas\\Desktop\\MCS 260  # NOT OK because of the space\n",
    "cd \"C:\\Users\\ddumas\\Desktop\\MCS 260\" # ok\n",
    "```\n",
    "\n",
    "Confirm that you're in the right directory by asking for a list of files.  The terminal command for this is\n",
    "\n",
    "```\n",
    "ls\n",
    "```\n",
    "\n",
    "You should see `hello.py` in the output of that command.\n",
    "\n",
    "Once you're in the right directory, run the script `hello.py` using a command that consists of the interpreter name followed by the filename `hello.py`.  That means it will probably be one of these:\n",
    "\n",
    "```\n",
    "python3 hello.py\n",
    "python hello.py\n",
    "```\n",
    "\n",
    "If this works, you should see output similar to\n",
    "```\n",
    "Hello world!\n",
    "2 raised to the power 2024 is equal to 1926243667084634739203147690812942502525097290856569053657671536655703493289225750756096924038107005577607033307665468424208137938409502571528443836358087248839788279968559509024035796546319252657655336760524962441730035462535605201830750366358528761302330842735547127895806782933537114179584526963468216986770292126516600991528330730591092675617705347259421471242773870189847123188284654268637811712275571627971148712543359837388894030588963383698683834864693119003005366606165183170149153573926170079092892562190097447338461713096678175819845507525768121215319760765625810900051503098306187879655114031497216\n",
    "```"
   ]
  },
  {
   "cell_type": "markdown",
   "metadata": {},
   "source": [
    "### 7. Download and run the \"python checkup\" script\n",
    "\n",
    "Now that you have your development environment set up, let's run a script that checks to make sure your Python version is as expected (3.10+) and that your process of running scripts in the terminal works.  Download this Python script and save it somewhere that you can find in the terminal:\n",
    "* [checkup.py](https://raw.githubusercontent.com/daviddumas/mcs275spring2024/main/samplecode/checkup.py)\n",
    "\n",
    "Now, open a terminal, `cd` to the directory containing `checkup.py`, and then run that script.  (Perhaps you want to open it in VS code and take a look before running it.  That's generally a good practice.)\n",
    "\n",
    "After you've changed directory, the command to run the checkup script will probably be one of these:\n",
    "```\n",
    "python3 checkup.py\n",
    "python checkup.py\n",
    "```\n",
    "\n",
    "The script will print a bunch of messages to the terminal, and may give `WARNING:` or `ERROR:` messages if something looks wrong.  It will also try to display some emoji, shaded rectangles, and colored text, to check if your terminal supports these.  Here's what the output looks like on my linux computer:\n",
    "![output of checkup.py](images/ws1-checkup-output.png)\n",
    "\n",
    "If the script shows any warnings or errors, try to fix the issues using the suggestions printed to the terminal in consultation with your TA."
   ]
  },
  {
   "cell_type": "markdown",
   "metadata": {},
   "source": [
    "## Part II: Python Calisthenics\n",
    "\n",
    "This section gives a series of exercises in which you'll write programs that are based on things you are expected to have seen in a prerequisite course.  We'll talk about these in Lectures 2-3 as well, and the first quiz will cover the same kind of review material.\n",
    "\n",
    "These start very easy and build up."
   ]
  },
  {
   "cell_type": "markdown",
   "metadata": {},
   "source": [
    "### 8. Squares\n",
    "\n",
    "Create a simple program `squares.py` that prints the squares of the first 10 positive integers, so its output should look like\n",
    "```\n",
    "1\n",
    "4\n",
    "9\n",
    "...\n",
    "100\n",
    "```\n",
    "\n",
    "Then, add a feature to this program where it accepts an optional command line argument which is the largest integer whose square should be printed (while 10 remains the default if no argument is given).  Recall that command line arguments appear in the list `sys.argv` which is accessible after you import the `sys` module, and the items in this list are strings.  So `sys.argv[1]` would be a string containing the first word or number on the command line after the name of the script.\n",
    "\n",
    "Thus, for example, if you run the modified script as\n",
    "```\n",
    "python3 squares.py 3\n",
    "```\n",
    "then it would be expected to produce the output\n",
    "```\n",
    "1\n",
    "4\n",
    "9\n",
    "```"
   ]
  },
  {
   "cell_type": "markdown",
   "metadata": {},
   "source": [
    "### 9. Getting to know our coding standards\n",
    "\n",
    "Now that you've written a simple program from scratch, and have a full Python setup working, it's time to get acquainted with some code style rules.\n",
    "\n",
    "All code you submit for credit needs to follow the rules described in the \n",
    "* [MCS 275 Spring 2024 Coding Standards](https://www.dumas.io/teaching/2024/spring/mcs275/nbview/policies/codestd.html)\n",
    "\n",
    "These rules enforce good coding practices and ensure your programs are readable to both humans and computers.\n",
    "\n",
    "**Read the list of rules now.**  If any of the rules seem unclear on a first reading, check the section later in the document that gives examples of compliant and non-compliant code for that rule.\n",
    "\n",
    "Then, take the program below (which works!) and fix it so that it does the same thing but complies with the MCS 275 rules.  (Note: The rules say you need to add a declaration stating that the program is your own work, or that it is derived solely from a template provided by the instructor.  That's because all graded work in MCS 275 is done individually.  Since this is a worksheet, collaboration is allowed and if you work with others you should instead list your collaborators.)\n",
    "\n",
    "```\n",
    "# I am a program that doesn't follow MCS 275 coding guidelines\n",
    "# Please fix me.\n",
    "def thing(x):\n",
    " return \"{} is one greater than {}\".format(x,x-1)\n",
    "\n",
    "def thing2(x):\n",
    "  return \"{} is one less than {}\".format(x,x+1)\n",
    "\n",
    "s = str(input(\"Please enter your name\"))\n",
    "print(\"Hello\",s,\", this is a sample Python program.\")\n",
    "\n",
    "ss = list(range(5))\n",
    "sss = [ x+5 for x in ss ]\n",
    "ssss = [ 10*x for x in sss ]\n",
    "\n",
    "for i in range(len(ssss)):\n",
    "      sssss = 'Some things that are true:\\n' + thing(ssss[i]) + \"\\n\" + thing2(ssss[i]) + '\\n\\n'\n",
    "      print(sssss)\n",
    "```"
   ]
  },
  {
   "cell_type": "markdown",
   "metadata": {},
   "source": [
    "### 10. Thinking inside the box\n",
    "\n",
    "One of the nice things about Python is that strings can contain any Unicode character (as opposed to strings in some other programming languages where the set of available characters is much more limited).\n",
    "\n",
    "Some Unicode characters are made for drawing \"text graphics\" boxes, like this:\n",
    "```\n",
    "╔══════════╗ \n",
    "║  Look,   ║\n",
    "║  a box!  ║\n",
    "╚══════════╝ \n",
    "```\n",
    "The box drawing characters used above are:\n",
    "* `\\u2550`  or `═`\n",
    "* `\\u2551`  or `║`\n",
    "* `\\u2554` or `╔`\n",
    "* `\\u2557` or `╗`\n",
    "* `\\u255a`  or `╚`\n",
    "* `\\u255d`  or `╝`\n",
    "\n",
    "Write a program `box.py` that prints a unicode text box of specified width and height.  It should expect at least two command line arguments, giving the width and height of the box.  If only those are given, the box should be printed to the screen.  If a third argument is given, it should be a filename and the box should be written to that text file instead of being printed to the screen.\n",
    "\n",
    "So, for example, the command\n",
    "```\n",
    "python box.py 3 4\n",
    "```\n",
    "should result the following text being printed, exactly:\n",
    "```\n",
    "╔═╗\n",
    "║ ║\n",
    "║ ║\n",
    "╚═╝\n",
    "```\n",
    "(This box has a width of 3 characters and a height of 4 lines).\n",
    "Similarly, the command\n",
    "```\n",
    "python box.py 12 2 box.txt\n",
    "```\n",
    "should not print anything to the screen, but should result in a file `box.txt` being created that contains the following text, exactly:\n",
    "```\n",
    "╔══════════╗\n",
    "╚══════════╝\n",
    "```\n",
    "\n",
    "Recommended structure of your program:\n",
    "\n",
    "There are at most three different lines of text that appear in a box: The top of the box, the line that repeats some number of times to make the vertical sides of the box, and the bottom of the box.\n",
    "\n",
    "I suggest you generate these three lines and store them in strings, and then assemble them into one bigger string that has all the lines and line breaks (`\\n` characters) that you need.\n",
    "\n",
    "To generate the strings, you can use the fact that multiplication of a string by an integer will repeat the string a certain number of times.  For example, `\"foo\"*3` evaluates to `\"foofoofoo\"`. \n",
    "\n",
    "It would be a good idea to put the part of the program that writes the box to a file into a function and have the rest of the program create a string that contains the box.  Then you can decide whether to print the string or call the function to write it to a file based on whether there is a third command line argument."
   ]
  },
  {
   "cell_type": "markdown",
   "metadata": {},
   "source": [
    "## Bonus round"
   ]
  },
  {
   "cell_type": "markdown",
   "metadata": {},
   "source": [
    "Work on this more challenging exercise if you finish the rest of the worksheet before discussion ends.  The solutions to the worksheet won't include solutions for the bonus problem, but it's still good practice!"
   ]
  },
  {
   "cell_type": "markdown",
   "metadata": {},
   "source": [
    "### 11. Digits to word lengths\n",
    "\n",
    "Consider this process:  Start with a positive integer like \n",
    "> 2781\n",
    "\n",
    "Write out each digit as an english word:\n",
    "> two, seven, eight, one\n",
    "\n",
    "Then replace each word with its number of letters (e.g. \"two\" has 3 letters, \"seven\" as 5, etc.):\n",
    "> 3 5 5 3\n",
    "\n",
    "Use these numbers as digits of a new integer\n",
    "> 3553\n",
    "\n",
    "Finally, take the average of the new integer and the old one, and if the result is not an integer, round it down to the nearest integer:\n",
    "> (2781 + 3553) // 2 = 3167 (no rounding happened in this case)\n",
    "\n",
    "(Why are there two slashes there?  That's how you perform [integer division](https://pythonexamples.org/python-division/#python_integer_division).)\n",
    "\n",
    "**Write a Python function** `dwl(n)` that takes an integer `n` and returns the integer that results from this process.  So, for example we have:"
   ]
  },
  {
   "cell_type": "code",
   "execution_count": 3,
   "metadata": {},
   "outputs": [
    {
     "data": {
      "text/plain": [
       "3167"
      ]
     },
     "execution_count": 3,
     "metadata": {},
     "output_type": "execute_result"
    }
   ],
   "source": [
    "dwl(2781)"
   ]
  },
  {
   "cell_type": "markdown",
   "metadata": {},
   "source": [
    "Now, consider what happens when you apply this function over and over again, e.g. start with `n`, compute `dwl(n)`, then `dwl(dwl(n))`, then `dwl(dwl(dwl(n)))`, etc., to get a sequence.  For `2781` this sequence looks \n",
    "like:\n",
    "> 2781, 3167, 4251, 4297, 4321, 4427, 4431, 4442, 4442, 4442, 4442, ...\n",
    "\n",
    "It continues with `4442` repeating forever.\n",
    "\n",
    "That's what happened when starting with `2781`, but what happens when you do the same thing but start with a different value of `n`, like `7847`?  Does it always seem to end up repeating some number over and over again?\n",
    "\n",
    "Write a program to explore this more systematically, for example by searching for a repeating pattern (or lack thereof) for every 4-digit starting number."
   ]
  }
 ],
 "metadata": {
  "kernelspec": {
   "display_name": "Python 3 (ipykernel)",
   "language": "python",
   "name": "python3"
  },
  "language_info": {
   "codemirror_mode": {
    "name": "ipython",
    "version": 3
   },
   "file_extension": ".py",
   "mimetype": "text/x-python",
   "name": "python",
   "nbconvert_exporter": "python",
   "pygments_lexer": "ipython3",
   "version": "3.10.12"
  }
 },
 "nbformat": 4,
 "nbformat_minor": 4
}
