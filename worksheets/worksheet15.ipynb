{
 "cells": [
  {
   "cell_type": "markdown",
   "metadata": {},
   "source": [
    "# MCS 275 Spring 2024 Worksheet 15\n",
    "\n",
    "* Course instructor: David Dumas"
   ]
  },
  {
   "cell_type": "markdown",
   "metadata": {},
   "source": [
    "## Topics\n",
    "\n",
    "This worksheet focuses on **version control** and **the Python debugger (`pdb`)**."
   ]
  },
  {
   "cell_type": "markdown",
   "metadata": {},
   "source": [
    "\n",
    "## Resources\n",
    "\n",
    "These things might be helpful while working on the problems.  Remember that for worksheets,  we don't strictly limit what resources you can consult, so these are only suggestions.\n",
    "\n",
    "* [Lecture 39 - Debugging and profiling](http://dumas.io/teaching/2024/spring/mcs275/slides/lecture39.html)\n",
    "* [Lecture 40 - Version control](http://dumas.io/teaching/2024/spring/mcs275/slides/lecture40.html)\n",
    "* [Lecture 41 - git and GitHub](http://dumas.io/teaching/2024/spring/mcs275/slides/lecture41.html)\n",
    "* Other online resources:\n",
    "    * [pdb documentation](https://docs.python.org/3/library/pdb.html)\n",
    "    * [cProfile (Python profiler)](https://docs.python.org/3/library/profile.html)\n",
    "* [Course sample code repo](https://github.com/daviddumas/mcs275spring2024/tree/main/samplecode/)\n",
    "* [Downey's book, *Think Python*](https://greenteapress.com/thinkpython2/html/)\n",
    "* MCS 260 course materials from Fall 2021:\n",
    "    * [Slides, homework, worksheets, and projects](https://www.dumas.io/teaching/2021/fall/mcs260/)\n",
    "    * [MCS 260 Sample programs](https://github.com/daviddumas/mcs260fall2021/tree/main/samplecode)"
   ]
  },
  {
   "cell_type": "markdown",
   "metadata": {},
   "source": [
    "# 1. Install `git`\n",
    "\n",
    "Check to see if you have `git` already by opening a terminal and entering the command `git --version`.  One of three things will happen:\n",
    "\n",
    "1. You'll get an error message (meaning you **do not** have `git`)\n",
    "1. You'll get a one-line message like `git version 2.34.1` (meaning you **do** have `git`)\n",
    "1. You have a Mac and it opens a window asking if you'd like to install something that includes `git`.  (Please do so, then run the test again.)\n",
    "\n",
    "If after this test you conclude that git is not installed, check one of these sets of instructions and attempt to install it:\n",
    "1. [From the git home page](https://git-scm.com/book/en/v2/Getting-Started-Installing-Git)\n",
    "1. [Guide from GitHub](https://github.com/git-guides/install-git)\n",
    "\n",
    "Ask your TA if you run into trouble.  At the end of the process, you should run the terminal test again and confirm that `git` starts and shows its version number."
   ]
  },
  {
   "cell_type": "markdown",
   "metadata": {},
   "source": [
    "# 2. Clone and modify the sample game\n",
    "\n",
    "Recall that we have a simple `pygame` game in the course sample code repo.  Depending on when your lab is held (Tuesday or Thursday), various additional features may have been added to the game.  For this activity, your goals are:\n",
    "* make a local clone of the git repository\n",
    "* add at least one feature to the game (testing it, of course)\n",
    "* commit your changes\n",
    "* view the log of commits\n",
    "\n",
    "To get started, open a terminal and `cd` to a directory (folder) where you want to work.  The repository will end up in a new subfolder.  Now run one of these commands:\n",
    "\n",
    "* Students in 12pm lecture\n",
    "```bash\n",
    "git clone https://github.com/daviddumas/pygame-example-mcs275-spring2024-12pm.git\n",
    "```\n",
    "* Students in 1pm lecture\n",
    "```bash\n",
    "git clone https://github.com/daviddumas/pygame-example-mcs275-spring2024-1pm.git\n",
    "```\n",
    "\n",
    "Now you should have a subfolder with a rather long name, and it should contain everything from the pygame example (images, code, etc.).  Change directory into that one and run `git log` to see the log of commits.  It should show a bunch of commits and their descriptions.\n",
    "\n",
    "Now, add something fun and new, then commit your work with `git add FILE1 FILE2 FILE3 etc` followed by `git commit`.\n",
    "\n",
    "When you're done, `git log` should show your latest commit at the top (with a nice description you wrote after `git commit`).\n",
    "\n",
    "### Feature ideas\n",
    "\n",
    "Now it's time to add a new feature.  You can check the [PyGame home page](https://www.pygame.org/docs/) for some ideas.  I am leaving this open-ended so you can explore whatever interests you for the time you are given in lab.  Looking at what the [pygame examples](https://www.pygame.org/docs/ref/examples.html) do and thinking about how features seen there could be adapted to our game is one way to approach this.  Here are some other ideas to consider:\n",
    "\n",
    "* New keyboard controls: Perhaps `w` should warp the player to a random location.  Or maybe there should be several player avatars/skins (different PNG images) and pressing `/` cycles between them.\n",
    "* Walls: Make a black and white PNG image of the same size as the game window.  Arrange it so the image is loaded at the start and drawn on the display surface during each game loop.  Make it so that the player can only move to a location if the background is white at that position.  Thus, black areas effectively become walls.\n",
    "* Buddy drone: Make a small flying robot that orbits the player slowly.  That means the flying robot is represented by a small sprite and it moves in a circular pattern centered at the player's position (which, you must remember, changes!)\n",
    "\n",
    "Most tasks will involve creating some new image assets.  I suggest making them with a pixel art editor.  Here's a free online one I recommend:\n",
    "* [PIXILART](https://www.pixilart.com/draw)\n",
    "\n",
    "(Use the \"export\" option to download your work as a PNG file.)"
   ]
  },
  {
   "cell_type": "markdown",
   "metadata": {},
   "source": [
    "# 3. Debugging practice\n",
    "\n",
    "I've added a second demo script to the project 3 solution folder.  Download the `bstore.py` module and the new `bstoredemo2.py` script, and save them to some directory where you'll work:\n",
    "\n",
    "* [`bstore.py`](https://github.com/daviddumas/mcs275spring2024/blob/main/projects/proj3soln/bstore.py)\n",
    "* [`bstoredemo2.py`](https://github.com/daviddumas/mcs275spring2024/blob/main/projects/proj3soln/bstoredemo2.py)\n",
    "\n",
    "Run `bstoredemo2.py`.  It should just print a bunch of lines of text, showing that it adds 5000 integers to a tree of `BlockNode` objects.  The integers added and their positions are not random; the same sequence of integers and indices are used every time.\n",
    "\n",
    "Now, open the script in VS Code and add a conditional that detects when the integer 498 is about to be added and prints a message like\n",
    "```\n",
    "Hey, I'm about to add 498 to the tree!\n",
    "```\n",
    "just before that integer is actually inserted.  (It should then continue as usual.)\n",
    "\n",
    "Now, open the program in `pdb` using a command like\n",
    "```\n",
    "python3 -m pdb bstore.py\n",
    "```\n",
    "and set a breakpoint on the line that prints the message about 16 being added.  Then, continue running the program until the breakpoint is reached.\n",
    "\n",
    "Once that happens, use a combination of single-stepping and pretty-printing to walk through the `insert` function and watch it find a place to put `498`.  As you do so, construct a picture of the path it takes through the tree (either on a piece of paper or by taking notes in a text file).  Determine the answers to these questions:\n",
    "* What is the index (value of `idx`) when `498` is added for the first time?\n",
    "* What integers are already stored in the node that contains that data index when the `insert` function is called?  Is the node full?\n",
    "* Does `insert` need to split any nodes when inserting `498` for the first time?\n",
    "* Describe the path from the root to the node containing `498` when the `insert` function is done (e.g. \"left, right, right, left, now it's in `.content[2]`\")"
   ]
  },
  {
   "cell_type": "markdown",
   "metadata": {},
   "source": [
    "## Complete your course evaluations\n",
    "\n",
    "Remember to complete your course evaluations!  Your feedback is helpful to us.\n",
    "\n",
    "If you haven't already done so, you can complete your evaluation in lab today.  Ask your TA when they will set aside a time for you and others attending today's lab to do that.\n"
   ]
  },
  {
   "cell_type": "markdown",
   "metadata": {},
   "source": [
    "### Revision history\n",
    "\n",
    "* 2024-04-21 Initial release"
   ]
  }
 ],
 "metadata": {
  "kernelspec": {
   "display_name": "Python 3 (ipykernel)",
   "language": "python",
   "name": "python3"
  },
  "language_info": {
   "codemirror_mode": {
    "name": "ipython",
    "version": 3
   },
   "file_extension": ".py",
   "mimetype": "text/x-python",
   "name": "python",
   "nbconvert_exporter": "python",
   "pygments_lexer": "ipython3",
   "version": "3.10.12"
  }
 },
 "nbformat": 4,
 "nbformat_minor": 4
}
