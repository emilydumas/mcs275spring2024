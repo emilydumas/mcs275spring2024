{
 "cells": [
  {
   "cell_type": "markdown",
   "metadata": {},
   "source": [
    "# MCS 275 Spring 2024 Worksheet 6\n",
    "\n",
    "* Course instructor: Emily Dumas"
   ]
  },
  {
   "cell_type": "markdown",
   "metadata": {},
   "source": [
    "## Topics\n",
    "\n",
    "The main topic of this worksheet is **sorting**, and the recursive algorithms for sorting we covered in lectures 12 and 13."
   ]
  },
  {
   "cell_type": "markdown",
   "metadata": {},
   "source": [
    "## Resources\n",
    "\n",
    "These things might be helpful while working on the problems.  Remember that for worksheets,  we don't strictly limit what resources you can consult, so these are only suggestions.\n",
    "\n",
    "* [Lecture 12 - Mergesort](http://dumas.io/teaching/2024/spring/mcs275/slides/lecture12.html)\n",
    "* [Lecture 13 - Quicksort](http://dumas.io/teaching/2024/spring/mcs275/slides/lecture13.html)\n",
    "* [Lecture 14 - Comparison sorts](http://dumas.io/teaching/2024/spring/mcs275/slides/lecture14.html)\n",
    "* [sorts.py](https://github.com/emilydumas/mcs275spring2024/blob/main/samplecode/recursion/sorts.py)\n",
    "* [Downey's book, *Think Python*](https://greenteapress.com/thinkpython2/html/)\n",
    "* MCS 260 course materials from Fall 2021:\n",
    "    * [Slides, homework, worksheets, and projects](https://www.dumas.io/teaching/2021/fall/mcs260/)\n",
    "    * [MCS 260 Sample programs](https://github.com/emilydumas/mcs260fall2021/tree/main/samplecode)"
   ]
  },
  {
   "cell_type": "markdown",
   "metadata": {},
   "source": [
    "### 1. Merge sorted stacks\n",
    "\n",
    "Recall that a *stack* is a data structure that mimics a physical stack of items, where the only available operations are to remove the top item (\"pop\") or add a new item to the top (\"push\").\n",
    "\n",
    "In Python, you can simulate a stack using a list by limiting yourself to only calling the methods\n",
    "* `.pop()` for the stack pop operation, and\n",
    "* `.append(x)` for the stack push operation\n",
    "In this way, the end of the list becomes the top of the stack.\n",
    "\n",
    "In mergesort, the main step was to create a function that can merge two sorted lists.  We made a version of this that uses indexing by integers.  However, the algorithm for merging two sorted lists only ever needs to look at the \"next\" item from each of the lists, meaning it can also be implemented using stacks.\n",
    "\n",
    "Make a function `merge_sorted_stacks(A,B,S)` that takes two stacks `A` and `B` whose elements are in sorted order, with the top of each stack being the smallest element, and an initially empty stack `S`.  The function should merge the two stacks into a single reverse-sorted stack `S`.  It can destroy `A` and `B` as it does so.\n",
    "\n",
    "**Remember, `A`, `B`, and `S` will actually be Python list objects.  The only thing that makes them stacks is that you won't use any methods or operations on them except `.pop()` and `.append(x)`.**\n",
    "\n",
    "For example, `merge_sorted_stacks` should function as follows:"
   ]
  },
  {
   "cell_type": "code",
   "execution_count": 8,
   "metadata": {},
   "outputs": [
    {
     "data": {
      "text/plain": [
       "[0, 1, 2, 3, 3, 4, 5, 6]"
      ]
     },
     "execution_count": 8,
     "metadata": {},
     "output_type": "execute_result"
    }
   ],
   "source": [
    "# Example with numbers\n",
    "# A list of numbers is a sorted stack if it is in descending order\n",
    "# meaning the top of stack (last element of the list) is the smallest.\n",
    "A = [5,3,1]\n",
    "B = [6,4,3,2,0]\n",
    "S = []\n",
    "merge_sorted_stacks(A,B,S)\n",
    "S  # will be a reverse sorted stack: top=last element will be largest element"
   ]
  },
  {
   "cell_type": "code",
   "execution_count": 9,
   "metadata": {},
   "outputs": [
    {
     "data": {
      "text/plain": [
       "['aardvark', 'asp', 'kangaroo', 'newt', 'zebra']"
      ]
     },
     "execution_count": 9,
     "metadata": {},
     "output_type": "execute_result"
    }
   ],
   "source": [
    "# Example with strings\n",
    "# A list of strings is a sorted stack if it is in reverse alphabetical order\n",
    "# meaning the top of stack (last element of the list) is the earliest in \n",
    "# the Python string order\n",
    "S = []\n",
    "merge_sorted_stacks(\n",
    "    [\"zebra\",\"kangaroo\",\"aardvark\"],\n",
    "    [\"newt\",\"asp\"],\n",
    "    S)\n",
    "S"
   ]
  },
  {
   "cell_type": "markdown",
   "metadata": {},
   "source": [
    "## 2. Quicksort with other pivot strategies\n",
    "\n",
    "The quicksort implementation we discussed in lecture uses the last element of the list as a pivot.  Let's explore other options.\n",
    "\n",
    "Make a new version of `quicksort` that has an optional argument `pivot_strategy` with default value `\"last\"`.  Implement these other behaviors for the following values:\n",
    "* `\"first\"` - Always use the first element as the pivot\n",
    "* `\"middle\"` - Use an element as close as possible to the middle of the list as the pivot\n",
    "* `\"random\"` - Select the pivot position at random\n",
    "\n",
    "(Of course, quicksort is always operating on the part of the list between `start` and `end`, so all instances of \"first\", \"last\", etc., are understood relative to that part.  For example, \"first\" means index `start`.)\n",
    "\n",
    "Test your modified version of quicksort to confirm that it works properly with each strategy.\n",
    "\n",
    "Don't forget that the `pivot_strategy` argument needs to be propagated to the recursive calls!"
   ]
  },
  {
   "cell_type": "markdown",
   "metadata": {},
   "source": [
    "## 3. Pathological test data generator\n",
    "\n",
    "We discussed in class that `quicksort` with last element pivots behaves poorly (quadratic time) on sorted input.  I mentioned that \"nearly sorted input\" also creates problems.  But the phrase \"nearly sorted\" is not precise, and could have many interpretations.\n",
    "\n",
    "Write the following functions to generate lists that are far from randomly ordered, for testing purposes:\n",
    "* `nearly_sorted1(n,frac=0.1)` - Returns a list of length `n`.  That list should contain consecutive integers, except that `int(frac*n)` of them are replaced with random values chosen from the range `-2*n` to `3*n`.  That is, fraction `frac` of the positions are chosen randomly from a wider range, but the rest are linearly increasing.\n",
    "* `nearly_sorted2(n)` - Returns a list of length `n`.  The difference between any entry and the one before it is a number randomly chosen from these options: `[-1,0,1,2,3,4,5]`.  Since most of these values are positive, the list \"mostly increases\" and so could be considered \"nearly sorted\".  Unlike `nearly_sorted1`, this one doesn't produce lists where an entry is very far from the ones on either side of it.\n",
    "* `nearly_sorted3(n,k=3)` - Returns a list of length `n` obtained from `list(range(n))` as follows:  First, that list is broken into `k` pieces of similar size.  Then, those pieces are reassembled in a random order.  For example, if `n=10` and `k=2` you might get a return value like `[5,6,7,8,9,0,1,2,3,4]` because pieces `[0,1,2,3,4]` and `[5,6,7,8,9]` were reassembled in the opposite order.  Since the resulting list is likely to have long sublists that are in increasing order, it could be considered \"nearly sorted\"."
   ]
  },
  {
   "cell_type": "markdown",
   "metadata": {},
   "source": [
    "## 4. Quicksort stress test\n",
    "\n",
    "Do timing studies of `quicksort` with different pivot strategies on the types of nearly sorted lists generated in the previous problem, for `n=1000`, `n=10_000`, and `n=100_000`.  Which ones show a clear difference relative to a randomly shuffled list?  (In class we noticed this was the case for last-element pivots and comparing precisely sorted and randomly shuffled input.)\n",
    "\n",
    "Is there a difference between the strategies?  Between the types of nearly sorted input?"
   ]
  },
  {
   "cell_type": "markdown",
   "metadata": {},
   "source": [
    "### Revision history\n",
    "\n",
    "* 2024-02-11 Initial publication"
   ]
  }
 ],
 "metadata": {
  "kernelspec": {
   "display_name": "Python 3 (ipykernel)",
   "language": "python",
   "name": "python3"
  },
  "language_info": {
   "codemirror_mode": {
    "name": "ipython",
    "version": 3
   },
   "file_extension": ".py",
   "mimetype": "text/x-python",
   "name": "python",
   "nbconvert_exporter": "python",
   "pygments_lexer": "ipython3",
   "version": "3.10.12"
  }
 },
 "nbformat": 4,
 "nbformat_minor": 4
}
