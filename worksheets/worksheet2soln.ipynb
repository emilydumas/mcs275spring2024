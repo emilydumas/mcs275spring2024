{
 "cells": [
  {
   "cell_type": "markdown",
   "metadata": {},
   "source": [
    "# MCS 275 Spring 2024 Worksheet 2 Solutions\n",
    "\n",
    "* Course instructor: Emily Dumas\n",
    "* Contributors to this document: Karoline Dubin"
   ]
  },
  {
   "cell_type": "markdown",
   "metadata": {},
   "source": [
    "## Topics\n",
    "\n",
    "This worksheet corresponds to material from **lectures 1-3**, which contained the Python tour and a bit of object-oriented programming.  Thus it contains:\n",
    "* General Python review exercises at MCS 260 level (but a bit more challenging than worksheet 1)\n",
    "* Practice with classes, instances, and methods"
   ]
  },
  {
   "cell_type": "markdown",
   "metadata": {},
   "source": [
    "## Instructions\n",
    "* This isn't collected or graded.  Work on it during your lab on Jan 16 or 18.\n",
    "* This worksheet prepares you for Homework 2.  (Worksheet `n` always prepares for Homework `n`)\n",
    "* These instructions will be essentially the same for every worksheet, so we'll stop writing them out explicitly.  (Homework will always have full, detailed instructions.)"
   ]
  },
  {
   "cell_type": "markdown",
   "metadata": {},
   "source": [
    "## Resources\n",
    "\n",
    "These things might be helpful while working on the problems.  Remember that for worksheets,  we don't strictly limit what resources you can consult, so these are only suggestions.\n",
    "\n",
    "* [Lecture 1](https://www.dumas.io/teaching/2024/spring/mcs275/slides/lecture1.html)\n",
    "* [Lecture 2](https://www.dumas.io/teaching/2024/spring/mcs275/slides/lecture2.html)\n",
    "* [Lecture 3](https://www.dumas.io/teaching/2024/spring/mcs275/slides/lecture3.html)\n",
    "* [MCS 275 Python Tour](https://www.dumas.io/teaching/2024/spring/mcs275/nbview/samplecode/python_tour.html)\n",
    "* [MCS 275 sample code repository](https://github.com/daviddumas/mcs275spring2024/tree/main/samplecode)\n",
    "* [Downey's book, *Think Python*](https://greenteapress.com/thinkpython2/html/)\n",
    "* MCS 260 course materials from Fall 2021:\n",
    "    * [Slides, homework, worksheets, and projects](https://www.dumas.io/teaching/2021/fall/mcs260/)\n",
    "    * [MCS 260 Sample programs](https://github.com/daviddumas/mcs260fall2021/tree/main/samplecode)"
   ]
  },
  {
   "cell_type": "markdown",
   "metadata": {},
   "source": [
    "## 1. Increasing run length\n",
    "\n",
    "Suppose you have a list of integers.  Even if the list is not entirely in increasing order, there are sometimes *parts* of the list that are in increasing order.\n",
    "\n",
    "For example, consider `L = [1,21,4,17,38,39,35,22,0,6,2,5]`<sup>*</sup>. The list is not in increasing order, but the first two elements (i.e. `L[0:2]` or `[1,21]`) are in increasing order.  Also, if you take the slice `L[2:6]`, which is `[4,17,38,39]`, that is in increasing order.  \n",
    "Let's call a slice of a list that is in increasing order an **increasing run**.  A given list of integers can have many increasing runs.\n",
    "\n",
    "In the example given above, the **longest** increasing run you can find in `L` is `L[2:6]`, and it has length 4.\n",
    "\n",
    "Write a function `IRL(L)` that takes a list `L` and returns the length of the longest increasing run within `L`.  In order for that to make sense, you should assume the elements of `L` can be compared to one another using `>` and `<` and `==`, but it shouldn't matter exactly what their types are.  If it helps in thinking about the problem, you could imagine they are integers.\n",
    "\n",
    "Special cases (not necessarily requiring special handling, but explained here to clarify the extremes):\n",
    "* If `L` is empty, the function should return 0\n",
    "* If `L` is in decreasing order, the function should return 1 because a slice with one element can be considered to be in \"increasing order\", and that would be the longest increasing run.\n",
    "\n",
    "*&ast; The sample list `L` shown above had a typo which was corrected on Jan 16.*\n",
    "\n",
    "Here are some sample outputs:"
   ]
  },
  {
   "cell_type": "code",
   "execution_count": 47,
   "metadata": {},
   "outputs": [
    {
     "data": {
      "text/plain": [
       "2"
      ]
     },
     "execution_count": 47,
     "metadata": {},
     "output_type": "execute_result"
    }
   ],
   "source": [
    "IRL([40, 1, 63, 20, 53, 9])  # [1,63] and [20,53] are the longest, each has length 2"
   ]
  },
  {
   "cell_type": "code",
   "execution_count": 48,
   "metadata": {},
   "outputs": [
    {
     "data": {
      "text/plain": [
       "3"
      ]
     },
     "execution_count": 48,
     "metadata": {},
     "output_type": "execute_result"
    }
   ],
   "source": [
    "IRL([22, 40, 47, 46, 26, 45, 25, 30, 47, 40]) # [22,40,47] and [25, 30, 47] are the longest"
   ]
  },
  {
   "cell_type": "code",
   "execution_count": 49,
   "metadata": {},
   "outputs": [
    {
     "data": {
      "text/plain": [
       "5"
      ]
     },
     "execution_count": 49,
     "metadata": {},
     "output_type": "execute_result"
    }
   ],
   "source": [
    "IRL([78, 26, 1, 20, 72, 19, 44, 50, 59, 67]) # [19, 44, 50, 59, 67] is the longest"
   ]
  },
  {
   "cell_type": "code",
   "execution_count": 53,
   "metadata": {},
   "outputs": [
    {
     "data": {
      "text/plain": [
       "8"
      ]
     },
     "execution_count": 53,
     "metadata": {},
     "output_type": "execute_result"
    }
   ],
   "source": [
    "IRL([1,2,3,4,5,6,7,8]) # The entire list, of length 8, is increasing!"
   ]
  },
  {
   "cell_type": "code",
   "execution_count": 80,
   "metadata": {},
   "outputs": [
    {
     "data": {
      "text/plain": [
       "0"
      ]
     },
     "execution_count": 80,
     "metadata": {},
     "output_type": "execute_result"
    }
   ],
   "source": [
    "IRL([]) # no elements = no increasing runs = max increasing run length 0"
   ]
  },
  {
   "cell_type": "code",
   "execution_count": 55,
   "metadata": {},
   "outputs": [
    {
     "data": {
      "text/plain": [
       "1"
      ]
     },
     "execution_count": 55,
     "metadata": {},
     "output_type": "execute_result"
    }
   ],
   "source": [
    "IRL([275]) # [275] is the longest increasing run"
   ]
  },
  {
   "cell_type": "code",
   "execution_count": 81,
   "metadata": {},
   "outputs": [
    {
     "data": {
      "text/plain": [
       "1"
      ]
     },
     "execution_count": 81,
     "metadata": {},
     "output_type": "execute_result"
    }
   ],
   "source": [
    "IRL([10,8,6,4,2]) # [10] and [8] and [6] and [4] and [2] are the longest, each has length 1"
   ]
  },
  {
   "cell_type": "markdown",
   "metadata": {},
   "source": [
    "**Hint:** Here is one possible strategy:  Use a for loop to scan through the list, keeping track of the current element and the previous one.  As you go, make note of how many successive elements have been increasing.  Use another variable to hold the largest number of increasing elements seen so far, and update it as needed on each iteration."
   ]
  },
  {
   "cell_type": "markdown",
   "metadata": {},
   "source": [
    "# Solution"
   ]
  },
  {
   "cell_type": "code",
   "execution_count": null,
   "metadata": {},
   "outputs": [],
   "source": [
    "def IRL(L):\n",
    "    \"\"\"\n",
    "    this function takes a list L and returns the length of the longest increasing run\n",
    "    \"\"\"\n",
    "    long_run = 0 #variable to keep track of the longest run\n",
    "\n",
    "    if len(L) == 0: #if list is empty, return 0\n",
    "        return long_run\n",
    "    \n",
    "    run = 1 #keep track of the current run\n",
    "    for i in range(1,len(L)):\n",
    "        if L[i] >= L[i-1]: #compare consecutive elements\n",
    "            run += 1\n",
    "        else:\n",
    "            run = 1\n",
    "        if run > long_run: #if current run is longer than longest, update accordingly\n",
    "            long_run = run\n",
    "    return long_run"
   ]
  },
  {
   "cell_type": "markdown",
   "metadata": {},
   "source": [
    "## 2. Zitterbewegung\n",
    "\n",
    "*Zitterbewegung is a German word meaning \"jittery motion\".*\n",
    "\n",
    "This is an exercise in object-oriented programming.\n",
    "\n",
    "Make a class `ZBPoint` that stores a point `(x,y)` in the plane with integer coordinates.\n",
    "\n",
    "The constructor should take `(x,y)` as arguments and store them as attributes.\n",
    "\n",
    "Add a `__str__` method Printing an instance of this class should produce a nice string like\n",
    "```\n",
    "ZBPoint(17,-2)\n",
    "```\n",
    "\n",
    "Also include a method `.jitter()` that will move the point up, down, left or right by one unit.  It should be a mutation (modifying the coordinates, not returning anything).  The direction should be chosen at random (e.g. using `random.choice` or `random.randint` from the [Python random module](https://docs.python.org/3/library/random.html) that you can import with `import random`.)\n",
    "\n",
    "The code below demonstrates how you would use this class to create a point at `(20,22)` and then let it jitter about for 30 steps, printing the location each time."
   ]
  },
  {
   "cell_type": "code",
   "execution_count": 61,
   "metadata": {},
   "outputs": [
    {
     "name": "stdout",
     "output_type": "stream",
     "text": [
      "ZBPoint(20,22)\n",
      "ZBPoint(20,21)\n",
      "ZBPoint(20,20)\n",
      "ZBPoint(19,20)\n",
      "ZBPoint(19,19)\n",
      "ZBPoint(18,19)\n",
      "ZBPoint(18,18)\n",
      "ZBPoint(18,19)\n",
      "ZBPoint(18,18)\n",
      "ZBPoint(19,18)\n",
      "ZBPoint(19,19)\n",
      "ZBPoint(20,19)\n",
      "ZBPoint(19,19)\n",
      "ZBPoint(19,20)\n",
      "ZBPoint(19,21)\n",
      "ZBPoint(18,21)\n",
      "ZBPoint(18,22)\n",
      "ZBPoint(18,23)\n",
      "ZBPoint(17,23)\n",
      "ZBPoint(17,22)\n",
      "ZBPoint(17,23)\n",
      "ZBPoint(18,23)\n",
      "ZBPoint(17,23)\n",
      "ZBPoint(16,23)\n",
      "ZBPoint(17,23)\n",
      "ZBPoint(17,22)\n",
      "ZBPoint(17,23)\n",
      "ZBPoint(17,22)\n",
      "ZBPoint(17,23)\n",
      "ZBPoint(17,24)\n"
     ]
    }
   ],
   "source": [
    "P = ZBPoint(20,22)\n",
    "for _ in range(30):\n",
    "    print(P)\n",
    "    P.jitter()"
   ]
  },
  {
   "cell_type": "markdown",
   "metadata": {},
   "source": [
    "# Solution"
   ]
  },
  {
   "cell_type": "code",
   "execution_count": 1,
   "metadata": {},
   "outputs": [],
   "source": [
    "import random\n",
    "\n",
    "class ZBPoint:\n",
    "    \"\"\"class representing a point on the plane with integer coordinates\"\"\"\n",
    "    \n",
    "    def __init__(self,x,y):\n",
    "        \"\"\"Initialize new point instance\"\"\"\n",
    "        self.x = x # make a new attribute (self.x)\n",
    "        self.y = y # make a new attribute (self.y)\n",
    "        \n",
    "    def __str__(self):\n",
    "        \"\"\"\n",
    "        method for printing an instance of the class as a string\n",
    "        \"\"\"\n",
    "        return \"ZBPoint({},{})\".format(self.x, self.y)\n",
    "    \n",
    "    def jitter(self):\n",
    "        \"\"\"randomly move the point left/right/up/down by 1 unit\"\"\"\n",
    "        direction = ['u','d','l','r'] #list of possible directions to move\n",
    "        move = random.choice(direction) #randomly choose one direction\n",
    "\n",
    "        if move == 'u':\n",
    "            self.y += 1 #move the point up (y-coord +1)\n",
    "        elif move == 'd':\n",
    "            self.y -= 1 #move the point down (y-coord -1)\n",
    "        elif move == 'l':\n",
    "            self.x -= 1 #move the point left (x-coord -1)\n",
    "        else:\n",
    "            self.x += 1 #move the point right (x-coord +1)"
   ]
  },
  {
   "cell_type": "markdown",
   "metadata": {},
   "source": [
    "## 3. Text circles\n",
    "\n",
    "*In this problem it's important to use a big terminal window, at least 80 characters wide and 40 lines tall.*\n",
    "\n",
    "Write a program `circle.py` that takes one command line argument, `r`, and then prints 40 lines of text, each containing 80 characters. The output should make a picture of a circle, using characters as pixels that can be either \"on\" (`@` character) or \"off\" (` ` character).  When `r=20` the circle should be slightly too big to fit in the block of text, and when `r=1` it should be nearly too small to have any empty space inside."
   ]
  },
  {
   "cell_type": "markdown",
   "metadata": {},
   "source": [
    "For example, here is possible output for r=5.\n",
    "![image of terminal showing a small circle made of text](images/ws2-circle5.png)"
   ]
  },
  {
   "cell_type": "markdown",
   "metadata": {},
   "source": [
    "And here is possible output for r=15:\n",
    "![image of a terminal showing a large circle made of text](images/ws2-circle15.png)"
   ]
  },
  {
   "cell_type": "markdown",
   "metadata": {},
   "source": [
    "This exercise is deliberately a little vague about how to go about this, but here is a hint: Each character you print corresponds to a certain point (x,y) in the plane, with character 40 on line 20 corresponding to (20,20).  The factor of 2 in the y coordinate is because haracters in a terminal are usually twice as tall as they are wide. Calculating the coordinates of the next character to be printed inside of the main loop will be useful.  Then, how would you decide whether to print a `\" \"` or a `\"@\"`?"
   ]
  },
  {
   "cell_type": "markdown",
   "metadata": {},
   "source": [
    "# Solution"
   ]
  },
  {
   "cell_type": "code",
   "execution_count": 2,
   "metadata": {},
   "outputs": [
    {
     "ename": "ValueError",
     "evalue": "invalid literal for int() with base 10: '-f'",
     "output_type": "error",
     "traceback": [
      "\u001b[0;31m---------------------------------------------------------------------------\u001b[0m",
      "\u001b[0;31mValueError\u001b[0m                                Traceback (most recent call last)",
      "\u001b[0;32m/var/folders/z_/b41cdppx0s9dnvk979btf2540000gr/T/ipykernel_14951/1200364443.py\u001b[0m in \u001b[0;36m<module>\u001b[0;34m\u001b[0m\n\u001b[1;32m      7\u001b[0m x- and y-coordinates, and print '@' whenever the point in the plane falls between the circles\"\"\"\n\u001b[1;32m      8\u001b[0m \u001b[0;34m\u001b[0m\u001b[0m\n\u001b[0;32m----> 9\u001b[0;31m \u001b[0mr\u001b[0m \u001b[0;34m=\u001b[0m \u001b[0mint\u001b[0m\u001b[0;34m(\u001b[0m\u001b[0msys\u001b[0m\u001b[0;34m.\u001b[0m\u001b[0margv\u001b[0m\u001b[0;34m[\u001b[0m\u001b[0;36m1\u001b[0m\u001b[0;34m]\u001b[0m\u001b[0;34m)\u001b[0m\u001b[0;34m\u001b[0m\u001b[0;34m\u001b[0m\u001b[0m\n\u001b[0m\u001b[1;32m     10\u001b[0m \u001b[0mouter_rad1\u001b[0m \u001b[0;34m=\u001b[0m \u001b[0mr\u001b[0m\u001b[0;34m*\u001b[0m\u001b[0;36m1.2\u001b[0m\u001b[0;34m\u001b[0m\u001b[0;34m\u001b[0m\u001b[0m\n\u001b[1;32m     11\u001b[0m \u001b[0minner_rad1\u001b[0m \u001b[0;34m=\u001b[0m \u001b[0mr\u001b[0m\u001b[0;34m*\u001b[0m\u001b[0;36m0.9\u001b[0m\u001b[0;34m\u001b[0m\u001b[0;34m\u001b[0m\u001b[0m\n",
      "\u001b[0;31mValueError\u001b[0m: invalid literal for int() with base 10: '-f'"
     ]
    }
   ],
   "source": [
    "# Solution by Jennifer Vaccaro\n",
    "\n",
    "import sys\n",
    "\n",
    "\"\"\"to determine where to print the '@' symbol, create two circles (one with radius slightly\n",
    "larger, the other with radius slightly smaller) that what the user inputs, loop over the \n",
    "x- and y-coordinates, and print '@' whenever the point in the plane falls between the circles\"\"\"\n",
    "\n",
    "r = int(sys.argv[1])\n",
    "outer_rad1 = r*1.2\n",
    "inner_rad1 = r*0.9\n",
    "for y in range(-20,21): #loop over y-coordinates\n",
    "    for x in range(-40,41): #loop over x-coordinates\n",
    "        x = x/2 #ensure the x-coordinates fall in the same range as the y-coordinates\n",
    "        dist = (x**2 + y**2)**0.5 #distance from the point to the origin\n",
    "        if dist>inner_rad1 and dist<outer_rad1:\n",
    "            print(\"@\",end=\"\") #print '@' if the point falls within the inner and outer circles\n",
    "        else:\n",
    "            print(\" \",end=\"\")\n",
    "    print() # Make a newline"
   ]
  },
  {
   "cell_type": "markdown",
   "metadata": {},
   "source": [
    "Here's a solution to the bonus problem (using soft edges):"
   ]
  },
  {
   "cell_type": "code",
   "execution_count": null,
   "metadata": {},
   "outputs": [],
   "source": [
    "# Solution by Jennifer Vaccaro\n",
    "\n",
    "import sys\n",
    "\n",
    "r = int(sys.argv[1])\n",
    "outer_rad1 = r*1.2\n",
    "inner_rad1 = r*0.9\n",
    "outer_rad2 = r*1.4\n",
    "inner_rad2 = r*0.8\n",
    "outer_rad3 = r*1.6\n",
    "inner_rad3 = r*0.7\n",
    "for y in range(-20,21):\n",
    "    for x in range(-40,41):\n",
    "        x = x/2\n",
    "        dist = (x**2 + y**2)**0.5\n",
    "        if dist>inner_rad1 and dist<outer_rad1:\n",
    "            print(\"@\",end=\"\")\n",
    "        elif dist>inner_rad2 and dist<outer_rad2:\n",
    "            print(\"*\",end=\"\")\n",
    "        elif dist>inner_rad3 and dist<outer_rad3:\n",
    "            print(\".\",end=\"\")\n",
    "        else:\n",
    "            print(\" \",end=\"\")\n",
    "    print() # Make a newline"
   ]
  },
  {
   "cell_type": "markdown",
   "metadata": {},
   "source": [
    "## 4. Recurrence time histogram\n",
    "\n",
    "This builds on the `ZBPoint` class from problem 2.\n",
    "\n",
    "Suppose you start a `ZBPoint` at `(0,0)` and then repeatedly call the method `.jitter()` until the first time it returns to `(0,0)`.  The number of steps it takes to do this is called the **recurrence time**.  It's possible that this may never happen, but that is very unlikely.  (It can be shown that the probability it will eventually return to `(0,0)` is 100%.)\n",
    "\n",
    "Write a program that runs this process 1000 times and records the recurrence times.  (It's OK to give up on a point if it's taken 200 steps and hasn't yet returned to `(0,0)`.)  The program should then print a table showing how many times each recurrence time was seen (a *histogram*).  Here's an example of what it might look like:"
   ]
  },
  {
   "cell_type": "markdown",
   "metadata": {},
   "source": [
    "```\n",
    "Ran 1000 random walks starting at (0,0).  Of these:\n",
    " 235 returned to (0,0) after   2 steps\n",
    "  76 returned to (0,0) after   4 steps\n",
    "  51 returned to (0,0) after   6 steps\n",
    "  31 returned to (0,0) after   8 steps\n",
    "  24 returned to (0,0) after  10 steps\n",
    "  17 returned to (0,0) after  12 steps\n",
    "  18 returned to (0,0) after  14 steps\n",
    "   7 returned to (0,0) after  16 steps\n",
    "   6 returned to (0,0) after  18 steps\n",
    "  13 returned to (0,0) after  20 steps\n",
    "   7 returned to (0,0) after  22 steps\n",
    "   8 returned to (0,0) after  24 steps\n",
    "   9 returned to (0,0) after  26 steps\n",
    "   4 returned to (0,0) after  28 steps\n",
    "   2 returned to (0,0) after  30 steps\n",
    "   5 returned to (0,0) after  32 steps\n",
    "   3 returned to (0,0) after  34 steps\n",
    "   5 returned to (0,0) after  36 steps\n",
    "   2 returned to (0,0) after  38 steps\n",
    "   2 returned to (0,0) after  40 steps\n",
    "   3 returned to (0,0) after  42 steps\n",
    "   2 returned to (0,0) after  44 steps\n",
    "   1 returned to (0,0) after  46 steps\n",
    "   4 returned to (0,0) after  48 steps\n",
    "   2 returned to (0,0) after  50 steps\n",
    "   1 returned to (0,0) after  52 steps\n",
    "   7 returned to (0,0) after  54 steps\n",
    "   1 returned to (0,0) after  58 steps\n",
    "   3 returned to (0,0) after  60 steps\n",
    "   4 returned to (0,0) after  62 steps\n",
    "   4 returned to (0,0) after  64 steps\n",
    "   2 returned to (0,0) after  66 steps\n",
    "   1 returned to (0,0) after  68 steps\n",
    "   2 returned to (0,0) after  70 steps\n",
    "   1 returned to (0,0) after  72 steps\n",
    "   3 returned to (0,0) after  76 steps\n",
    "   2 returned to (0,0) after  78 steps\n",
    "   1 returned to (0,0) after  80 steps\n",
    "   2 returned to (0,0) after  82 steps\n",
    "   1 returned to (0,0) after  84 steps\n",
    "   2 returned to (0,0) after  86 steps\n",
    "   2 returned to (0,0) after  92 steps\n",
    "   2 returned to (0,0) after  94 steps\n",
    "   1 returned to (0,0) after  96 steps\n",
    "   1 returned to (0,0) after  98 steps\n",
    "   2 returned to (0,0) after  106 steps\n",
    "   1 returned to (0,0) after  108 steps\n",
    "   2 returned to (0,0) after  110 steps\n",
    "   4 returned to (0,0) after  116 steps\n",
    "   2 returned to (0,0) after  118 steps\n",
    "   1 returned to (0,0) after  122 steps\n",
    "   1 returned to (0,0) after  124 steps\n",
    "   1 returned to (0,0) after  126 steps\n",
    "   1 returned to (0,0) after  128 steps\n",
    "   3 returned to (0,0) after  130 steps\n",
    "   1 returned to (0,0) after  134 steps\n",
    "   2 returned to (0,0) after  136 steps\n",
    "   2 returned to (0,0) after  138 steps\n",
    "   1 returned to (0,0) after  142 steps\n",
    "   1 returned to (0,0) after  144 steps\n",
    "   2 returned to (0,0) after  146 steps\n",
    "   1 returned to (0,0) after  156 steps\n",
    "   1 returned to (0,0) after  158 steps\n",
    "   1 returned to (0,0) after  160 steps\n",
    "   3 returned to (0,0) after  162 steps\n",
    "   1 returned to (0,0) after  166 steps\n",
    "   1 returned to (0,0) after  174 steps\n",
    "   2 returned to (0,0) after  178 steps\n",
    "   1 returned to (0,0) after  180 steps\n",
    "   3 returned to (0,0) after  184 steps\n",
    "   1 returned to (0,0) after  190 steps\n",
    "   2 returned to (0,0) after  198 steps\n",
    " 376 didn't return to (0,0) after 200 steps\n",
    " ```"
   ]
  },
  {
   "cell_type": "markdown",
   "metadata": {},
   "source": [
    "# Solution"
   ]
  },
  {
   "cell_type": "code",
   "execution_count": 2,
   "metadata": {},
   "outputs": [
    {
     "name": "stdout",
     "output_type": "stream",
     "text": [
      "Ran 1000 random walks starting at (0,0). Of these: \n",
      "246 returned to (0,0) after 2 steps\n",
      " 85 returned to (0,0) after 4 steps\n",
      " 42 returned to (0,0) after 6 steps\n",
      " 37 returned to (0,0) after 8 steps\n",
      " 22 returned to (0,0) after 10 steps\n",
      " 15 returned to (0,0) after 12 steps\n",
      "  9 returned to (0,0) after 14 steps\n",
      " 10 returned to (0,0) after 16 steps\n",
      "  8 returned to (0,0) after 18 steps\n",
      "  8 returned to (0,0) after 20 steps\n",
      "  5 returned to (0,0) after 22 steps\n",
      " 11 returned to (0,0) after 24 steps\n",
      "  6 returned to (0,0) after 26 steps\n",
      "  6 returned to (0,0) after 28 steps\n",
      "  4 returned to (0,0) after 30 steps\n",
      "  5 returned to (0,0) after 32 steps\n",
      "  5 returned to (0,0) after 34 steps\n",
      "  5 returned to (0,0) after 36 steps\n",
      "  4 returned to (0,0) after 38 steps\n",
      "  3 returned to (0,0) after 40 steps\n",
      "  2 returned to (0,0) after 42 steps\n",
      "  2 returned to (0,0) after 44 steps\n",
      "  1 returned to (0,0) after 46 steps\n",
      "  1 returned to (0,0) after 48 steps\n",
      "  2 returned to (0,0) after 50 steps\n",
      "  1 returned to (0,0) after 52 steps\n",
      "  1 returned to (0,0) after 58 steps\n",
      "  4 returned to (0,0) after 60 steps\n",
      "  1 returned to (0,0) after 62 steps\n",
      "  2 returned to (0,0) after 64 steps\n",
      "  1 returned to (0,0) after 68 steps\n",
      "  1 returned to (0,0) after 70 steps\n",
      "  5 returned to (0,0) after 72 steps\n",
      "  1 returned to (0,0) after 74 steps\n",
      "  1 returned to (0,0) after 76 steps\n",
      "  3 returned to (0,0) after 78 steps\n",
      "  2 returned to (0,0) after 80 steps\n",
      "  2 returned to (0,0) after 84 steps\n",
      "  4 returned to (0,0) after 90 steps\n",
      "  2 returned to (0,0) after 96 steps\n",
      "  1 returned to (0,0) after 98 steps\n",
      "  2 returned to (0,0) after 102 steps\n",
      "  2 returned to (0,0) after 104 steps\n",
      "  1 returned to (0,0) after 108 steps\n",
      "  1 returned to (0,0) after 114 steps\n",
      "  2 returned to (0,0) after 116 steps\n",
      "  1 returned to (0,0) after 122 steps\n",
      "  1 returned to (0,0) after 124 steps\n",
      "  2 returned to (0,0) after 126 steps\n",
      "  1 returned to (0,0) after 128 steps\n",
      "  1 returned to (0,0) after 136 steps\n",
      "  1 returned to (0,0) after 148 steps\n",
      "  3 returned to (0,0) after 156 steps\n",
      "  1 returned to (0,0) after 160 steps\n",
      "  1 returned to (0,0) after 164 steps\n",
      "  2 returned to (0,0) after 172 steps\n",
      "  3 returned to (0,0) after 176 steps\n",
      "  2 returned to (0,0) after 180 steps\n",
      "  1 returned to (0,0) after 184 steps\n",
      "  2 returned to (0,0) after 194 steps\n",
      "394 failed to return to (0,0) after 200 steps\n"
     ]
    }
   ],
   "source": [
    "# Based on solution prepared for MCS 275 Spring 2023\n",
    "\"\"\"We want to create 1000 ZBPoints, jitter each point until either the point returns \n",
    "to the origin (0,0) or the point has jittered more than 200 times; we'll use a dictionary\n",
    "to keep track of the number of points that return to the origin after a certain number of\n",
    "steps.\"\"\"\n",
    "\n",
    "#initialize a dictionary to count the number of points that returned to the origin\n",
    "#after 1 step, 2 steps, 3 steps, etc.\n",
    "results_dict = {i:0 for i in range(202)} \n",
    "      \n",
    "# Run 1000 trials, creating a new ZBPoint each time\n",
    "for trial in range(1000):\n",
    "    point = ZBPoint(0,0)\n",
    "\n",
    "    point.jitter()\n",
    "    recurrence_time = 1\n",
    "\n",
    "    while point.x != 0 or point.y != 0:\n",
    "        point.jitter()\n",
    "        recurrence_time += 1\n",
    "        if recurrence_time > 200:\n",
    "            break # Stop trying to jitter if we've tried more than 200 times\n",
    "            \n",
    "    # Record the result in the dictionary\n",
    "    results_dict[recurrence_time] += 1\n",
    "    \n",
    "print(\"Ran 1000 random walks starting at (0,0). Of these: \")\n",
    "for key, value in results_dict.items():\n",
    "    if key <= 200: # Consider the 200 value separately because it needs a different message\n",
    "        if value != 0:\n",
    "            # Use :3d for alignment - ensures that the number takes up 3 spaces.\n",
    "            print(\"{:3d} returned to (0,0) after {} steps\".format(value,key))\n",
    "            \n",
    "    else:\n",
    "        print(\"{:3d} failed to return to (0,0) after 200 steps\".format(value))"
   ]
  },
  {
   "cell_type": "markdown",
   "metadata": {},
   "source": [
    "## Extra challenges\n",
    "\n",
    "I recommend you don't work on these unless you finish the other problems and have extra time in lab or want an additional challenge on your own time."
   ]
  },
  {
   "cell_type": "markdown",
   "metadata": {},
   "source": [
    "###  A. Efficiency of IRL\n",
    "\n",
    "This doesn't have a solution *per se*, but it asks you to evaluate and possibly improve your solution to problem 1.\n",
    "\n",
    "There are lots of ways to solve problem 1, and some are more efficient than others.  That is, if `L` is very long, there are some approaches where `IRL(L)` will return quickly, while a valid but different way of writing the function would take a very long time to return an answer.\n",
    "\n",
    "Try your `IRL` function on a list of 10,000 or 100,000 integers in some sort of random order.  An efficient solution should handle this very quickly (less than a second).  If yours takes much longer, can you think of ways to make it faster (but still correct)?\n",
    "\n",
    "The code below could be used for the necessary testing, if you add it to a file that contains your `IRL` function."
   ]
  },
  {
   "cell_type": "code",
   "execution_count": 17,
   "metadata": {},
   "outputs": [
    {
     "name": "stdout",
     "output_type": "stream",
     "text": [
      "IRL for a list of 100000 random integers returned 8 after 0.01 seconds\n"
     ]
    }
   ],
   "source": [
    "import random\n",
    "import time\n",
    "\n",
    "test_length = 100_000\n",
    "test_input = list(range(test_length))\n",
    "random.shuffle(test_input)\n",
    "\n",
    "t0 = time.time()\n",
    "k = IRL(test_input)\n",
    "delta_t = time.time() - t0\n",
    "\n",
    "print(\"IRL for a list of {} random integers returned {} after {:.2f} seconds\".format(\n",
    "    test_length,\n",
    "    k,\n",
    "    delta_t\n",
    "))"
   ]
  },
  {
   "cell_type": "markdown",
   "metadata": {},
   "source": [
    "### B. Prettier circles\n",
    "\n",
    "Make a program `circle2.py` so that it makes circles with softer edges, like this:\n",
    "![image of a terminal showing a circle made of text with soft edges](images/ws2-circleAA.png)"
   ]
  },
  {
   "cell_type": "markdown",
   "metadata": {},
   "source": [
    "Here's a solution that uses `@`, `*`, or `.` depending on how close each position is to the desired radius.  This gives the type of \"softer\" edge seen above."
   ]
  },
  {
   "cell_type": "code",
   "execution_count": null,
   "metadata": {},
   "outputs": [],
   "source": [
    "# Solution by Jennifer Vaccaro\n",
    "\n",
    "import sys\n",
    "\n",
    "r = int(sys.argv[1])\n",
    "outer_rad1 = r*1.2\n",
    "inner_rad1 = r*0.9\n",
    "outer_rad2 = r*1.4\n",
    "inner_rad2 = r*0.8\n",
    "outer_rad3 = r*1.6\n",
    "inner_rad3 = r*0.7\n",
    "for y in range(-20,21):\n",
    "    for x in range(-40,41):\n",
    "        x = x/2\n",
    "        dist = (x**2 + y**2)**0.5\n",
    "        if dist>inner_rad1 and dist<outer_rad1:\n",
    "            print(\"@\",end=\"\")\n",
    "        elif dist>inner_rad2 and dist<outer_rad2:\n",
    "            print(\"*\",end=\"\")\n",
    "        elif dist>inner_rad3 and dist<outer_rad3:\n",
    "            print(\".\",end=\"\")\n",
    "        else:\n",
    "            print(\" \",end=\"\")\n",
    "    print() # Make a newline"
   ]
  }
 ],
 "metadata": {
  "kernelspec": {
   "display_name": "Python 3 (ipykernel)",
   "language": "python",
   "name": "python3"
  },
  "language_info": {
   "codemirror_mode": {
    "name": "ipython",
    "version": 3
   },
   "file_extension": ".py",
   "mimetype": "text/x-python",
   "name": "python",
   "nbconvert_exporter": "python",
   "pygments_lexer": "ipython3",
   "version": "3.10.12"
  }
 },
 "nbformat": 4,
 "nbformat_minor": 4
}
