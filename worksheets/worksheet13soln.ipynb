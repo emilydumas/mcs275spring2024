{
 "cells": [
  {
   "cell_type": "markdown",
   "metadata": {},
   "source": [
    "# MCS 275 Spring 2024 Worksheet 13 Solutions\n",
    "\n",
    "* Course instructor: David Dumas\n",
    "* Contributors to this document: Karoline Dubin, David Dumas, Johnny Joyce, Kylash Viswanathan"
   ]
  },
  {
   "cell_type": "markdown",
   "metadata": {},
   "source": [
    "## Topics\n",
    "\n",
    "\n",
    "This worksheet focuses on **Flask web applications**, **anonymous functions**, and **decorators**.\n"
   ]
  },
  {
   "cell_type": "markdown",
   "metadata": {},
   "source": [
    "## 1. Get TaskGain or ActiveTask running locally\n",
    "\n",
    "(Setup description omitted; problem heading preserved to make it clear problem 2 refers to this application.)"
   ]
  },
  {
   "cell_type": "markdown",
   "metadata": {},
   "source": [
    "## 2. New features\n",
    "\n",
    "Modify the sample application to add these new features.  Test them to make sure they work."
   ]
  },
  {
   "cell_type": "markdown",
   "metadata": {},
   "source": [
    "### A. Single task view\n",
    "\n",
    "Make a new route `/task/<taskid>/` that does the following:\n",
    "* Performs a DB query to get data about the task with id `taskid`\n",
    "* If this query fails, returns a 400 Bad Request error\n",
    "* If the query succeeds, it renders a template called `task_view.html` that you create in the `templates/` subdirectory which displays a page listing all the information about that task in a nice format (e.g. with labels for the different fields and proper formatting for the dates/times)\n",
    "* In that page, any time a username is displayed, it is actually a link to that user's task list view.\n",
    "\n",
    "Then, modify the `/task/new/submit` route so that when a new task is created, the redirect goes to the single task view page for the newly-created task.  To do this, you'll need to know this neat trick: The query\n",
    "```\n",
    "SELECT last_insert_rowid();\n",
    "```\n",
    "will return the primary key of the most recently inserted row.  So calling this immediately after an SQL `INSERT` is the proper way to find the unique identifier of the added row.\n"
   ]
  },
  {
   "cell_type": "markdown",
   "metadata": {},
   "source": [
    "### B. On this day\n",
    "\n",
    "Here's a function that can take a day described by its year, month, and day numbers and return two time stamps `ts0,ts1` so that a timestamp `x` lies within that day if and only if `ts0 <= x < ts1`."
   ]
  },
  {
   "cell_type": "code",
   "execution_count": null,
   "metadata": {},
   "outputs": [],
   "source": [
    "import datetime\n",
    "\n",
    "def timestamp_range_for_day(year,month,day):\n",
    "    \"\"\"\n",
    "    Return the timestamps when a calendar day\n",
    "    begins and ends.\n",
    "    \"\"\"\n",
    "    ts0 = datetime.datetime(year,month,day).timestamp()\n",
    "    ts1 = (datetime.datetime(year,month,day)+datetime.timedelta(days=1)).timestamp()\n",
    "    return ts0,ts1"
   ]
  },
  {
   "cell_type": "markdown",
   "metadata": {},
   "source": [
    "Use this to add the following feature to the task list management application:  Visiting a URL of the form `/reports/day/2024/04/09/` will show a page with two sections:\n",
    "* Tasks created on that day\n",
    "* Tasks that were last updated on that day\n",
    "\n",
    "Each section should contain a list of tasks with the described property.\n",
    "\n",
    "As with the previous feature, this one should use a new template.  It is recommended to base your work on the task list view template, since that one also involves a task list."
   ]
  },
  {
   "cell_type": "markdown",
   "metadata": {},
   "source": [
    "## Solution "
   ]
  },
  {
   "cell_type": "markdown",
   "metadata": {},
   "source": [
    "It would be quite difficult to place all of the solutions in cells in this notebook. Instead, the following links can be used to download full versions of the apps that include all of the changes we need to make:\n",
    "\n",
    "* [taskgain-1.1.zip](https://www.dumas.io/teaching/2024/spring/mcs275/data/taskgain-1.1.zip)\n",
    "* [activetask-1.1.zip](https://www.dumas.io/teaching/2024/spring/mcs275/data/activetask-1.1.zip)\n",
    "\n",
    "The changes are as follows:\n",
    "\n",
    "* A new template `single_task_view.html` was added\n",
    "* A new template `on_this_day.html` was added\n",
    "* The provided function `timestamp_range_for_day()` was added to the main python script\n",
    "* A new function `single_task_view` that handles `/task/<int:taskid>/` was added to the main python script\n",
    "* A new function `on_this_day` that handles `/reports/day/<int:year>/<int:month>/<int:day>/` was added to the main python script\n",
    "* The function `add_task` was modified to get the created taskid and redirect to the single task view page\n",
    "\n",
    "Also, the version of the app provided here had one additional convenience feature:\n",
    "\n",
    "* The front page has a link to the new task form."
   ]
  },
  {
   "cell_type": "markdown",
   "metadata": {},
   "source": [
    "## 3. Custom sorts and max/min\n",
    "\n",
    "Use anonymous functions (`lambda`) with Python's `sorted()`, `max()`, or `min()` functions to answer these questions."
   ]
  },
  {
   "cell_type": "markdown",
   "metadata": {},
   "source": [
    "### A. \n",
    "\n",
    "Generate the first 20 powers of 7 (meaning $7^1$ to $7^{20}$) and sort them according to how many different decimal digits they use.  That is, 343 would appear near the start of the list since it uses only two distinct digits, while 1628413597910449 would appear near the end, as it uses all 10 digits."
   ]
  },
  {
   "cell_type": "markdown",
   "metadata": {},
   "source": [
    "## Solution "
   ]
  },
  {
   "cell_type": "code",
   "execution_count": 4,
   "metadata": {},
   "outputs": [
    {
     "data": {
      "text/plain": [
       "[7,\n",
       " 49,\n",
       " 343,\n",
       " 2401,\n",
       " 16807,\n",
       " 117649,\n",
       " 823543,\n",
       " 40353607,\n",
       " 282475249,\n",
       " 79792266297612001,\n",
       " 5764801,\n",
       " 1977326743,\n",
       " 13841287201,\n",
       " 96889010407,\n",
       " 33232930569601,\n",
       " 11398895185373143,\n",
       " 678223072849,\n",
       " 4747561509943,\n",
       " 232630513987207,\n",
       " 1628413597910449]"
      ]
     },
     "execution_count": 4,
     "metadata": {},
     "output_type": "execute_result"
    }
   ],
   "source": [
    "sorted([7**x for x in range(1,21)], key = lambda x: len(set(str(x))))"
   ]
  },
  {
   "cell_type": "markdown",
   "metadata": {},
   "source": [
    "### B. \n",
    "\n",
    "Here's a text file with 10000 English words, one per line:\n",
    "* [https://www.mit.edu/~ecprice/wordlist.10000](https://www.mit.edu/~ecprice/wordlist.10000)\n",
    "\n",
    "Let's say the *endscore* of a word is the number of times its last letter appears in the word.  For example,\n",
    "\"plasma\" has an endscore of 2 because the last letter, a, appears twice.  And \"associates\" has an endscope of 3 because it contains 3 copies of the last letter, s.\n",
    "\n",
    "Using custom sorting and `lambda`, find 20 words with the highest endscores in this list."
   ]
  },
  {
   "cell_type": "markdown",
   "metadata": {},
   "source": [
    "## Solution "
   ]
  },
  {
   "cell_type": "markdown",
   "metadata": {},
   "source": [
    "We can use the following cell to open the list of words:"
   ]
  },
  {
   "cell_type": "code",
   "execution_count": 6,
   "metadata": {},
   "outputs": [],
   "source": [
    "words = [x.strip() for x in open(\"wordlist.10000.txt\",\"rt\").readlines()]"
   ]
  },
  {
   "cell_type": "markdown",
   "metadata": {},
   "source": [
    "Then the following lambda function counts the number of occurrences of the final letter:\n",
    "`lambda w: w.count(w[-1]))`.\n",
    "\n",
    "This results in the following answer:"
   ]
  },
  {
   "cell_type": "code",
   "execution_count": 7,
   "metadata": {},
   "outputs": [
    {
     "data": {
      "text/plain": [
       "['evanescence',\n",
       " 'everywhere',\n",
       " 'excellence',\n",
       " 'experience',\n",
       " 'independence',\n",
       " 'interference',\n",
       " 'massachusetts',\n",
       " 'mississippi',\n",
       " 'possess',\n",
       " 'preference',\n",
       " 'reference',\n",
       " 'refrigerator',\n",
       " 'representative',\n",
       " 'sessions',\n",
       " 'submissions',\n",
       " 'sunglasses',\n",
       " 'tennessee',\n",
       " 'volleyball',\n",
       " 'assessments',\n",
       " 'documentcreatetextnode']"
      ]
     },
     "execution_count": 7,
     "metadata": {},
     "output_type": "execute_result"
    }
   ],
   "source": [
    "sorted(words, key = lambda w: w.count(w[-1]))[-20:]"
   ]
  },
  {
   "cell_type": "markdown",
   "metadata": {},
   "source": [
    "### C. \n",
    "\n",
    "Use the same word list as the last problem.  Suppose we say the *variety* of a word is the ratio of the number of distinct letters to the length of the word.  For example, \"cameras\" has 6 distinct letters and has a length of 7, so its variety is $\\frac67 \\approx 0.85714$.\n",
    "\n",
    "Among words with at least four letters, find one that has the lowest variety."
   ]
  },
  {
   "cell_type": "markdown",
   "metadata": {},
   "source": [
    "## Solution:"
   ]
  },
  {
   "cell_type": "markdown",
   "metadata": {},
   "source": [
    "To find the variety of a word `w`, we can use `len(set(w))/len(w)`. So the answer is as follows:"
   ]
  },
  {
   "cell_type": "code",
   "execution_count": 8,
   "metadata": {},
   "outputs": [
    {
     "data": {
      "text/plain": [
       "['mississippi',\n",
       " 'barbara',\n",
       " 'tennessee',\n",
       " 'engineering',\n",
       " 'anna',\n",
       " 'annotation',\n",
       " 'assess',\n",
       " 'assessed',\n",
       " 'banana',\n",
       " 'boob']"
      ]
     },
     "execution_count": 8,
     "metadata": {},
     "output_type": "execute_result"
    }
   ],
   "source": [
    "sorted([ w for w in words if len(w)>=4], key = lambda w: len(set(w))/len(w))[:10]"
   ]
  },
  {
   "cell_type": "markdown",
   "metadata": {},
   "source": [
    "To verify that this formula works, let's find the position of the word `\"cameras\"` in the list:"
   ]
  },
  {
   "cell_type": "code",
   "execution_count": 9,
   "metadata": {},
   "outputs": [
    {
     "name": "stdout",
     "output_type": "stream",
     "text": [
      "1300\n"
     ]
    }
   ],
   "source": [
    "idx = words.index(\"cameras\")\n",
    "print(idx)"
   ]
  },
  {
   "cell_type": "markdown",
   "metadata": {},
   "source": [
    "Then the cell below shows us that the variety is approximately 0.85714, as expected"
   ]
  },
  {
   "cell_type": "code",
   "execution_count": 11,
   "metadata": {},
   "outputs": [
    {
     "name": "stdout",
     "output_type": "stream",
     "text": [
      "The word cameras has variety 0.8571428571428571\n"
     ]
    }
   ],
   "source": [
    "print(\"The word {} has variety {}\".format(words[idx], len(set(words[idx]))/len(words[idx])))"
   ]
  },
  {
   "cell_type": "markdown",
   "metadata": {},
   "source": [
    "### Revision history\n",
    "\n",
    "* 2024-04-14 Initial release"
   ]
  }
 ],
 "metadata": {
  "kernelspec": {
   "display_name": "Python 3 (ipykernel)",
   "language": "python",
   "name": "python3"
  },
  "language_info": {
   "codemirror_mode": {
    "name": "ipython",
    "version": 3
   },
   "file_extension": ".py",
   "mimetype": "text/x-python",
   "name": "python",
   "nbconvert_exporter": "python",
   "pygments_lexer": "ipython3",
   "version": "3.10.12"
  }
 },
 "nbformat": 4,
 "nbformat_minor": 4
}
