{
 "cells": [
  {
   "cell_type": "markdown",
   "metadata": {},
   "source": [
    "# Maze API / solving demo notebook\n",
    "### MCS 275 Spring 2024 Emily Dumas"
   ]
  },
  {
   "cell_type": "code",
   "execution_count": 2,
   "metadata": {},
   "outputs": [],
   "source": [
    "import maze\n",
    "from plane import Point2"
   ]
  },
  {
   "cell_type": "code",
   "execution_count": 7,
   "metadata": {},
   "outputs": [
    {
     "name": "stdout",
     "output_type": "stream",
     "text": [
      "             \n",
      "             \n",
      "             \n",
      "             \n",
      "             \n",
      "             \n",
      "             \n"
     ]
    }
   ],
   "source": [
    "# blank maze\n",
    "M = maze.Maze(xsize=13,ysize=7)\n",
    "print(M)"
   ]
  },
  {
   "cell_type": "code",
   "execution_count": 8,
   "metadata": {},
   "outputs": [
    {
     "data": {
      "text/plain": [
       "@            \n",
       " @           \n",
       " @           \n",
       " @           \n",
       "    @@@@     \n",
       "             \n",
       "             "
      ]
     },
     "execution_count": 8,
     "metadata": {},
     "output_type": "execute_result"
    }
   ],
   "source": [
    "# manually block points\n",
    "M.set_blocked(Point2(0,0))\n",
    "M.set_blocked(Point2(1,1))\n",
    "M.set_blocked(Point2(1,2))\n",
    "M.set_blocked(Point2(1,3))\n",
    "\n",
    "M.set_blocked(Point2(4,4))\n",
    "M.set_blocked(Point2(5,4))\n",
    "M.set_blocked(Point2(6,4))\n",
    "M.set_blocked(Point2(7,4))\n",
    "\n",
    "M"
   ]
  },
  {
   "cell_type": "code",
   "execution_count": 9,
   "metadata": {},
   "outputs": [
    {
     "data": {
      "text/plain": [
       "@@@@@@@@@@@@@\n",
       "@@          @\n",
       "@@          @\n",
       "@@          @\n",
       "@   @@@@    @\n",
       "@           @\n",
       "@@@@@@@@@@@@@"
      ]
     },
     "execution_count": 9,
     "metadata": {},
     "output_type": "execute_result"
    }
   ],
   "source": [
    "# make all border cells into walls\n",
    "M.apply_border()\n",
    "M"
   ]
  },
  {
   "cell_type": "code",
   "execution_count": 11,
   "metadata": {},
   "outputs": [
    {
     "data": {
      "text/plain": [
       "@@@@@@@@@@@@@@@@@\n",
       "@             @ @\n",
       "@@@ @@@ @ @ @@@ @\n",
       "@   @   @ @     @\n",
       "@ @@@@@@@ @ @ @@@\n",
       "@   @     @ @   @\n",
       "@@@@@@@@@@@@@@@@@"
      ]
     },
     "execution_count": 11,
     "metadata": {},
     "output_type": "execute_result"
    }
   ],
   "source": [
    "# Use a random maze generator (Prim's algorithm)\n",
    "M = maze.PrimRandomMaze(17,7)  # size must be odd x odd\n",
    "M"
   ]
  },
  {
   "cell_type": "code",
   "execution_count": 16,
   "metadata": {},
   "outputs": [
    {
     "data": {
      "text/plain": [
       "[Point2(2,1), Point2(4,1), Point2(3,2)]"
      ]
     },
     "execution_count": 16,
     "metadata": {},
     "output_type": "execute_result"
    }
   ],
   "source": [
    "# Ask which NSEW neighbors of (3,1) are empty, returns a list\n",
    "M.free_neighbors(Point2(3,1))\n",
    "# This function (and M.goal and M.start) gives enough info to solve"
   ]
  },
  {
   "cell_type": "code",
   "execution_count": 12,
   "metadata": {},
   "outputs": [],
   "source": [
    "# Mazes can be saved as SVG files\n",
    "M.save_svg(\"example_maze_from_notebook.svg\")"
   ]
  },
  {
   "cell_type": "code",
   "execution_count": 13,
   "metadata": {},
   "outputs": [],
   "source": [
    "# Mazes can also be saved as PNG files, if you install Pillow\n",
    "# e.g. with python3 -m pip install pillow\n",
    "M.save_png(\"example_maze_from_notebook.png\")"
   ]
  },
  {
   "cell_type": "code",
   "execution_count": 17,
   "metadata": {},
   "outputs": [],
   "source": [
    "# Import the recursive solver\n",
    "from solvemaze import depth_first_maze_solution"
   ]
  },
  {
   "cell_type": "code",
   "execution_count": 19,
   "metadata": {},
   "outputs": [
    {
     "data": {
      "text/plain": [
       "@@@@@@@\n",
       "@ @   @\n",
       "@ @@@ @\n",
       "@     @\n",
       "@@@ @@@\n",
       "@     @\n",
       "@@@@@@@"
      ]
     },
     "execution_count": 19,
     "metadata": {},
     "output_type": "execute_result"
    }
   ],
   "source": [
    "# sample maze shown in class\n",
    "M = maze.MazeExample1()\n",
    "M"
   ]
  },
  {
   "cell_type": "code",
   "execution_count": 20,
   "metadata": {},
   "outputs": [
    {
     "data": {
      "text/plain": [
       "[Point2(1,1),\n",
       " Point2(1,2),\n",
       " Point2(1,3),\n",
       " Point2(2,3),\n",
       " Point2(3,3),\n",
       " Point2(3,4),\n",
       " Point2(3,5),\n",
       " Point2(4,5),\n",
       " Point2(5,5)]"
      ]
     },
     "execution_count": 20,
     "metadata": {},
     "output_type": "execute_result"
    }
   ],
   "source": [
    "depth_first_maze_solution(M)"
   ]
  },
  {
   "cell_type": "code",
   "execution_count": 21,
   "metadata": {},
   "outputs": [],
   "source": [
    "# save maze AND its solution\n",
    "M.save_png(\"example_solved.png\",highlight=depth_first_maze_solution(M))"
   ]
  }
 ],
 "metadata": {
  "kernelspec": {
   "display_name": "Python 3",
   "language": "python",
   "name": "python3"
  },
  "language_info": {
   "codemirror_mode": {
    "name": "ipython",
    "version": 3
   },
   "file_extension": ".py",
   "mimetype": "text/x-python",
   "name": "python",
   "nbconvert_exporter": "python",
   "pygments_lexer": "ipython3",
   "version": "3.10.12"
  }
 },
 "nbformat": 4,
 "nbformat_minor": 2
}
