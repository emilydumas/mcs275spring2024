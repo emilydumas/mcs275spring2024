{
 "cells": [
  {
   "cell_type": "markdown",
   "id": "90415c86",
   "metadata": {},
   "source": [
    "# Demo of some `numpy` features\n",
    "\n",
    "## MCS 275 Spring 2024 - Emily Dumas\n",
    "\n",
    "This is a quick tour of some `numpy` features.  For more detail see:\n",
    "* [Chapter 2 of VanderPlas](https://jakevdp.github.io/PythonDataScienceHandbook/02.00-introduction-to-numpy.html)\n",
    "* [The numpy documentation](https://numpy.org/doc/stable/)"
   ]
  },
  {
   "cell_type": "markdown",
   "id": "d5ffa02e",
   "metadata": {},
   "source": [
    "## Importing the module\n",
    "\n",
    "And checking the version."
   ]
  },
  {
   "cell_type": "code",
   "execution_count": 248,
   "id": "89d672f7",
   "metadata": {},
   "outputs": [
    {
     "data": {
      "text/plain": [
       "'1.21.5'"
      ]
     },
     "execution_count": 248,
     "metadata": {},
     "output_type": "execute_result"
    }
   ],
   "source": [
    "import numpy as np\n",
    "np.__version__"
   ]
  },
  {
   "cell_type": "markdown",
   "id": "91294334",
   "metadata": {},
   "source": [
    "## Creating arrays\n",
    "\n",
    "They are iterable and type-homogeneous.  Can make one from any suitable iterable.\n",
    "\n",
    "[List of built-in dtypes](https://numpy.org/doc/stable/reference/arrays.scalars.html#arrays-scalars-built-in)."
   ]
  },
  {
   "cell_type": "code",
   "execution_count": 3,
   "id": "68896296",
   "metadata": {},
   "outputs": [],
   "source": [
    "# `np.array` will convert from an iterable\n",
    "x = np.array([2,4,8,16,32])"
   ]
  },
  {
   "cell_type": "code",
   "execution_count": 8,
   "id": "05995cfc",
   "metadata": {},
   "outputs": [],
   "source": [
    "# List of lists -> 4 row, 3 column matrix (2 dimensional array)\n",
    "A = np.array([[1,2,3],[4,5,6],[7,8,9],[0,2,0]])"
   ]
  },
  {
   "cell_type": "code",
   "execution_count": 11,
   "id": "ee97cd1c",
   "metadata": {},
   "outputs": [
    {
     "name": "stdout",
     "output_type": "stream",
     "text": [
      "[ 2  4  8 16 32]\n",
      "\n",
      "[[1 2 3]\n",
      " [4 5 6]\n",
      " [7 8 9]\n",
      " [0 2 0]]\n"
     ]
    }
   ],
   "source": [
    "# nice display\n",
    "print(x)\n",
    "print()\n",
    "print(A)"
   ]
  },
  {
   "cell_type": "code",
   "execution_count": 13,
   "id": "65571b87",
   "metadata": {},
   "outputs": [
    {
     "data": {
      "text/plain": [
       "numpy.ndarray"
      ]
     },
     "execution_count": 13,
     "metadata": {},
     "output_type": "execute_result"
    }
   ],
   "source": [
    "# ndarray class\n",
    "type(x)"
   ]
  },
  {
   "cell_type": "markdown",
   "id": "a4da6e09",
   "metadata": {},
   "source": [
    "Check number of dimensions"
   ]
  },
  {
   "cell_type": "code",
   "execution_count": 6,
   "id": "4691d548",
   "metadata": {},
   "outputs": [
    {
     "data": {
      "text/plain": [
       "1"
      ]
     },
     "execution_count": 6,
     "metadata": {},
     "output_type": "execute_result"
    }
   ],
   "source": [
    "x.ndim # how many dimensions?"
   ]
  },
  {
   "cell_type": "code",
   "execution_count": 14,
   "id": "8c7e12af",
   "metadata": {},
   "outputs": [
    {
     "data": {
      "text/plain": [
       "2"
      ]
     },
     "execution_count": 14,
     "metadata": {},
     "output_type": "execute_result"
    }
   ],
   "source": [
    "A.ndim"
   ]
  },
  {
   "cell_type": "markdown",
   "id": "536111f4",
   "metadata": {},
   "source": [
    "Check shape (size in each dimension)"
   ]
  },
  {
   "cell_type": "code",
   "execution_count": 7,
   "id": "49c8919c",
   "metadata": {},
   "outputs": [
    {
     "data": {
      "text/plain": [
       "(5,)"
      ]
     },
     "execution_count": 7,
     "metadata": {},
     "output_type": "execute_result"
    }
   ],
   "source": [
    "x.shape # size in each dimension, as a tuple"
   ]
  },
  {
   "cell_type": "code",
   "execution_count": 15,
   "id": "9257352b",
   "metadata": {},
   "outputs": [
    {
     "data": {
      "text/plain": [
       "(4, 3)"
      ]
     },
     "execution_count": 15,
     "metadata": {},
     "output_type": "execute_result"
    }
   ],
   "source": [
    "A.shape"
   ]
  },
  {
   "cell_type": "markdown",
   "id": "8174347f",
   "metadata": {},
   "source": [
    "Check \"length\" (first elt of shape)"
   ]
  },
  {
   "cell_type": "code",
   "execution_count": 16,
   "id": "53ab2831",
   "metadata": {},
   "outputs": [
    {
     "data": {
      "text/plain": [
       "5"
      ]
     },
     "execution_count": 16,
     "metadata": {},
     "output_type": "execute_result"
    }
   ],
   "source": [
    "len(x) # number of items in the vector"
   ]
  },
  {
   "cell_type": "code",
   "execution_count": 17,
   "id": "e65c6643",
   "metadata": {},
   "outputs": [
    {
     "data": {
      "text/plain": [
       "4"
      ]
     },
     "execution_count": 17,
     "metadata": {},
     "output_type": "execute_result"
    }
   ],
   "source": [
    "len(A) # number of rows in the matrix = A.shape[0]"
   ]
  },
  {
   "cell_type": "markdown",
   "id": "21d52f4d",
   "metadata": {},
   "source": [
    "In general, `len(m)` means `m.shape[0]` if `m` is a numpy array."
   ]
  },
  {
   "cell_type": "markdown",
   "id": "6faadb20",
   "metadata": {
    "scrolled": true
   },
   "source": [
    "Check data type"
   ]
  },
  {
   "cell_type": "code",
   "execution_count": 18,
   "id": "ddc9282b",
   "metadata": {},
   "outputs": [
    {
     "data": {
      "text/plain": [
       "dtype('int64')"
      ]
     },
     "execution_count": 18,
     "metadata": {},
     "output_type": "execute_result"
    }
   ],
   "source": [
    "x.dtype # int64 means (signed) integer, 64 bits"
   ]
  },
  {
   "cell_type": "markdown",
   "id": "093de5cf",
   "metadata": {},
   "source": [
    "Data type typically inferred but can be specified (potential lossy process)"
   ]
  },
  {
   "cell_type": "code",
   "execution_count": 19,
   "id": "37a60774",
   "metadata": {},
   "outputs": [],
   "source": [
    "# Given a mix of integers and floats, numpy\n",
    "# will choose a floating point dtype\n",
    "y= np.array([5,6,7,7.289])"
   ]
  },
  {
   "cell_type": "code",
   "execution_count": 20,
   "id": "8a697e99",
   "metadata": {},
   "outputs": [
    {
     "data": {
      "text/plain": [
       "array([5.   , 6.   , 7.   , 7.289])"
      ]
     },
     "execution_count": 20,
     "metadata": {},
     "output_type": "execute_result"
    }
   ],
   "source": [
    "y"
   ]
  },
  {
   "cell_type": "code",
   "execution_count": 21,
   "id": "59b83f0d",
   "metadata": {},
   "outputs": [
    {
     "data": {
      "text/plain": [
       "dtype('float64')"
      ]
     },
     "execution_count": 21,
     "metadata": {},
     "output_type": "execute_result"
    }
   ],
   "source": [
    "y.dtype # float64 means float, 64 bits (double)"
   ]
  },
  {
   "cell_type": "code",
   "execution_count": 22,
   "id": "045b46c1",
   "metadata": {},
   "outputs": [],
   "source": [
    "y_force_int = y= np.array([5,6,7,7.289], dtype=\"int\")"
   ]
  },
  {
   "cell_type": "code",
   "execution_count": 25,
   "id": "c3bcbb8c",
   "metadata": {},
   "outputs": [
    {
     "data": {
      "text/plain": [
       "array([5, 6, 7, 7])"
      ]
     },
     "execution_count": 25,
     "metadata": {},
     "output_type": "execute_result"
    }
   ],
   "source": [
    "# Notice we lost precision by specifying dtype int\n",
    "y_force_int"
   ]
  },
  {
   "cell_type": "code",
   "execution_count": 24,
   "id": "ce0a6602",
   "metadata": {},
   "outputs": [
    {
     "data": {
      "text/plain": [
       "dtype('int64')"
      ]
     },
     "execution_count": 24,
     "metadata": {},
     "output_type": "execute_result"
    }
   ],
   "source": [
    "# Notice numpy chose a precise type compatible with\n",
    "# the request \"int\"\n",
    "y_force_int.dtype"
   ]
  },
  {
   "cell_type": "code",
   "execution_count": 26,
   "id": "be1d312e",
   "metadata": {},
   "outputs": [],
   "source": [
    "# uint8 means UNSIGNED integer, 8 bits\n",
    "# UNSIGNED = only 0 and positive values\n",
    "# range is 0...255\n",
    "z = np.array([1,-1,2,100,300,500,800,16384], dtype=\"uint8\")"
   ]
  },
  {
   "cell_type": "code",
   "execution_count": 27,
   "id": "d6c56406",
   "metadata": {},
   "outputs": [
    {
     "data": {
      "text/plain": [
       "array([  1, 255,   2, 100,  44, 244,  32,   0], dtype=uint8)"
      ]
     },
     "execution_count": 27,
     "metadata": {},
     "output_type": "execute_result"
    }
   ],
   "source": [
    "z"
   ]
  },
  {
   "cell_type": "code",
   "execution_count": 28,
   "id": "012ae30c",
   "metadata": {},
   "outputs": [
    {
     "data": {
      "text/plain": [
       "44"
      ]
     },
     "execution_count": 28,
     "metadata": {},
     "output_type": "execute_result"
    }
   ],
   "source": [
    "# Why did 300 appear as 44 in the array above?\n",
    "300 % 256"
   ]
  },
  {
   "cell_type": "markdown",
   "id": "5930ca0e",
   "metadata": {},
   "source": [
    "## Filled arrays"
   ]
  },
  {
   "cell_type": "markdown",
   "id": "96e31668",
   "metadata": {},
   "source": [
    "Can fill with zeros, ones, or make an array full of a general value."
   ]
  },
  {
   "cell_type": "code",
   "execution_count": 29,
   "id": "134e443f",
   "metadata": {},
   "outputs": [
    {
     "data": {
      "text/plain": [
       "array([[0, 0, 0, 0, 0, 0, 0, 0, 0, 0, 0, 0],\n",
       "       [0, 0, 0, 0, 0, 0, 0, 0, 0, 0, 0, 0],\n",
       "       [0, 0, 0, 0, 0, 0, 0, 0, 0, 0, 0, 0]])"
      ]
     },
     "execution_count": 29,
     "metadata": {},
     "output_type": "execute_result"
    }
   ],
   "source": [
    "# Filled with zeros\n",
    "np.zeros( (3,12), dtype=\"int64\")"
   ]
  },
  {
   "cell_type": "code",
   "execution_count": 30,
   "id": "e1f2dc2c",
   "metadata": {},
   "outputs": [
    {
     "data": {
      "text/plain": [
       "array([[1., 1.],\n",
       "       [1., 1.],\n",
       "       [1., 1.],\n",
       "       [1., 1.],\n",
       "       [1., 1.],\n",
       "       [1., 1.]])"
      ]
     },
     "execution_count": 30,
     "metadata": {},
     "output_type": "execute_result"
    }
   ],
   "source": [
    "# Filled with ones\n",
    "np.ones( (6,2), dtype=\"float64\")"
   ]
  },
  {
   "cell_type": "code",
   "execution_count": 31,
   "id": "5b49b180",
   "metadata": {},
   "outputs": [
    {
     "data": {
      "text/plain": [
       "array([[42, 42, 42, 42],\n",
       "       [42, 42, 42, 42],\n",
       "       [42, 42, 42, 42],\n",
       "       [42, 42, 42, 42],\n",
       "       [42, 42, 42, 42],\n",
       "       [42, 42, 42, 42],\n",
       "       [42, 42, 42, 42]], dtype=uint8)"
      ]
     },
     "execution_count": 31,
     "metadata": {},
     "output_type": "execute_result"
    }
   ],
   "source": [
    "# Filled with one value\n",
    "np.full( (7,4), 42, dtype=\"uint8\" )"
   ]
  },
  {
   "cell_type": "markdown",
   "id": "649cede8",
   "metadata": {},
   "source": [
    "Can also ask for an array filled with random values (floats between 0 and 1, never exactly 1, uniformly distributed).  Note `np.random` is a submodule, you want `np.random.random(...)`"
   ]
  },
  {
   "cell_type": "code",
   "execution_count": 32,
   "id": "67c8a33a",
   "metadata": {},
   "outputs": [
    {
     "data": {
      "text/plain": [
       "array([[0.84985369, 0.52904623, 0.06757972, 0.60749338, 0.44579558],\n",
       "       [0.94276045, 0.22398809, 0.99290933, 0.9505469 , 0.65531365],\n",
       "       [0.0944089 , 0.67245052, 0.25851387, 0.81402906, 0.02156303],\n",
       "       [0.16531779, 0.87858936, 0.60636781, 0.24837322, 0.67221406]])"
      ]
     },
     "execution_count": 32,
     "metadata": {},
     "output_type": "execute_result"
    }
   ],
   "source": [
    "# Filled with random numbers between 0 and 1\n",
    "np.random.random( (4,5) )  # argument is the shape"
   ]
  },
  {
   "cell_type": "markdown",
   "id": "3d234ed0",
   "metadata": {},
   "source": [
    "## Special things about 2D arrays"
   ]
  },
  {
   "cell_type": "markdown",
   "id": "c913b0db",
   "metadata": {},
   "source": [
    "Identity (eye-dentity) matrix"
   ]
  },
  {
   "cell_type": "code",
   "execution_count": 3,
   "id": "e8ed0c3e",
   "metadata": {},
   "outputs": [
    {
     "data": {
      "text/plain": [
       "array([[1., 0., 0., 0., 0.],\n",
       "       [0., 1., 0., 0., 0.],\n",
       "       [0., 0., 1., 0., 0.],\n",
       "       [0., 0., 0., 1., 0.],\n",
       "       [0., 0., 0., 0., 1.]])"
      ]
     },
     "execution_count": 3,
     "metadata": {},
     "output_type": "execute_result"
    }
   ],
   "source": [
    "# Identity matrix\n",
    "np.eye(5)  # identity matrix of size (5,5)"
   ]
  },
  {
   "cell_type": "code",
   "execution_count": 5,
   "id": "d2776cbb",
   "metadata": {},
   "outputs": [
    {
     "data": {
      "text/plain": [
       "array([[1, 0, 0, 0, 0, 0],\n",
       "       [0, 1, 0, 0, 0, 0],\n",
       "       [0, 0, 1, 0, 0, 0],\n",
       "       [0, 0, 0, 1, 0, 0],\n",
       "       [0, 0, 0, 0, 1, 0],\n",
       "       [0, 0, 0, 0, 0, 1]])"
      ]
     },
     "execution_count": 5,
     "metadata": {},
     "output_type": "execute_result"
    }
   ],
   "source": [
    "np.eye(6,dtype=\"int\") # 6x6 identity matrix, but integer entries"
   ]
  },
  {
   "cell_type": "code",
   "execution_count": 7,
   "id": "beb126e8",
   "metadata": {},
   "outputs": [
    {
     "data": {
      "text/plain": [
       "array([[ True, False, False],\n",
       "       [False,  True, False],\n",
       "       [False, False,  True]])"
      ]
     },
     "execution_count": 7,
     "metadata": {},
     "output_type": "execute_result"
    }
   ],
   "source": [
    "np.eye(3,dtype=\"bool\")  # 0 -> False, 1-> True"
   ]
  },
  {
   "cell_type": "markdown",
   "id": "96cc0211",
   "metadata": {},
   "source": [
    "Transpose"
   ]
  },
  {
   "cell_type": "code",
   "execution_count": 8,
   "id": "9906a836",
   "metadata": {},
   "outputs": [
    {
     "data": {
      "text/plain": [
       "array([[1, 2, 3],\n",
       "       [9, 8, 7]])"
      ]
     },
     "execution_count": 8,
     "metadata": {},
     "output_type": "execute_result"
    }
   ],
   "source": [
    "A = np.array([[1,2,3],[9,8,7]])\n",
    "A"
   ]
  },
  {
   "cell_type": "code",
   "execution_count": 9,
   "id": "e77406b0",
   "metadata": {},
   "outputs": [
    {
     "data": {
      "text/plain": [
       "array([[1, 9],\n",
       "       [2, 8],\n",
       "       [3, 7]])"
      ]
     },
     "execution_count": 9,
     "metadata": {},
     "output_type": "execute_result"
    }
   ],
   "source": [
    "# The transpose of A, which switches row and column roles\n",
    "A.T"
   ]
  },
  {
   "cell_type": "code",
   "execution_count": 10,
   "id": "86bde92e",
   "metadata": {},
   "outputs": [
    {
     "name": "stdout",
     "output_type": "stream",
     "text": [
      "3\n",
      "3\n"
     ]
    }
   ],
   "source": [
    "# defining property\n",
    "i=0\n",
    "j=2\n",
    "print(A[i,j])\n",
    "print(A.T[j,i])\n",
    "# these are the same whenever i,j are integers\n",
    "# so that the first makes sense."
   ]
  },
  {
   "cell_type": "markdown",
   "id": "c6237fb2",
   "metadata": {},
   "source": [
    "## Vector algebra"
   ]
  },
  {
   "cell_type": "code",
   "execution_count": 33,
   "id": "8363f0be",
   "metadata": {},
   "outputs": [],
   "source": [
    "# two 3-dimensional vectors\n",
    "v = np.array([1,2,5])\n",
    "w = np.array([4,-8,0])"
   ]
  },
  {
   "cell_type": "markdown",
   "id": "a82c5829",
   "metadata": {},
   "source": [
    "Dot product (and vector length)"
   ]
  },
  {
   "cell_type": "code",
   "execution_count": 34,
   "id": "867dacfd",
   "metadata": {},
   "outputs": [
    {
     "data": {
      "text/plain": [
       "-12"
      ]
     },
     "execution_count": 34,
     "metadata": {},
     "output_type": "execute_result"
    }
   ],
   "source": [
    "v.dot(w) # dot product\n",
    "#   1*4 + 2*(-8) + 5*0"
   ]
  },
  {
   "cell_type": "code",
   "execution_count": 35,
   "id": "0e47273f",
   "metadata": {},
   "outputs": [
    {
     "data": {
      "text/plain": [
       "5.477225575051661"
      ]
     },
     "execution_count": 35,
     "metadata": {},
     "output_type": "execute_result"
    }
   ],
   "source": [
    "v.dot(v)**0.5 # length"
   ]
  },
  {
   "cell_type": "markdown",
   "id": "7210680d",
   "metadata": {},
   "source": [
    "Scalar multiplication"
   ]
  },
  {
   "cell_type": "code",
   "execution_count": 36,
   "id": "628cbe6e",
   "metadata": {},
   "outputs": [
    {
     "data": {
      "text/plain": [
       "array([1.8, 3.6, 9. ])"
      ]
     },
     "execution_count": 36,
     "metadata": {},
     "output_type": "execute_result"
    }
   ],
   "source": [
    "1.8 * v # scalar multiplication"
   ]
  },
  {
   "cell_type": "markdown",
   "id": "0ce5e815",
   "metadata": {},
   "source": [
    "Elementwise sum"
   ]
  },
  {
   "cell_type": "code",
   "execution_count": 37,
   "id": "7b2cd023",
   "metadata": {},
   "outputs": [
    {
     "data": {
      "text/plain": [
       "array([ 5, -6,  5])"
      ]
     },
     "execution_count": 37,
     "metadata": {},
     "output_type": "execute_result"
    }
   ],
   "source": [
    "v+w # elementwise sum"
   ]
  },
  {
   "cell_type": "markdown",
   "id": "1c9b1142",
   "metadata": {},
   "source": [
    "Elementwise product (?!)"
   ]
  },
  {
   "cell_type": "code",
   "execution_count": 38,
   "id": "45959338",
   "metadata": {},
   "outputs": [
    {
     "data": {
      "text/plain": [
       "array([  4, -16,   0])"
      ]
     },
     "execution_count": 38,
     "metadata": {},
     "output_type": "execute_result"
    }
   ],
   "source": [
    "v*w # elementwise product"
   ]
  },
  {
   "cell_type": "markdown",
   "id": "03b09226",
   "metadata": {},
   "source": [
    "## Arithmetic progressions"
   ]
  },
  {
   "cell_type": "markdown",
   "id": "0d866cfb",
   "metadata": {},
   "source": [
    "* `np.arange` is `start`, `stop`, `step`\n",
    "* `np.linspace` is `first`,`last`,`number`"
   ]
  },
  {
   "cell_type": "code",
   "execution_count": 39,
   "id": "192ccc30",
   "metadata": {},
   "outputs": [
    {
     "data": {
      "text/plain": [
       "[3, 5, 7, 9, 11, 13, 15, 17, 19]"
      ]
     },
     "execution_count": 39,
     "metadata": {},
     "output_type": "execute_result"
    }
   ],
   "source": [
    "# Recall how you get a list of integer values\n",
    "# in arithmetic progression using built-in stuff\n",
    "list(range(3,20,2))"
   ]
  },
  {
   "cell_type": "markdown",
   "id": "017408e1",
   "metadata": {},
   "source": [
    "The similarly named `arange` from `numpy` does all this and more."
   ]
  },
  {
   "cell_type": "code",
   "execution_count": 40,
   "id": "7510c5e9",
   "metadata": {},
   "outputs": [
    {
     "data": {
      "text/plain": [
       "array([2. , 2.1, 2.2, 2.3, 2.4, 2.5, 2.6, 2.7, 2.8, 2.9])"
      ]
     },
     "execution_count": 40,
     "metadata": {},
     "output_type": "execute_result"
    }
   ],
   "source": [
    "# From 2 up to but not including 3 in steps of size 0.1\n",
    "np.arange(2,3,0.1)   # start, stop (not included), step"
   ]
  },
  {
   "cell_type": "markdown",
   "id": "8787df57",
   "metadata": {},
   "source": [
    "When you know how many points you want, rather than the spacing, it's better to use `np.linspace`.  It takes the first and last elements, then the number of evenly-spaced points you want between them."
   ]
  },
  {
   "cell_type": "code",
   "execution_count": 41,
   "id": "7bce88f4",
   "metadata": {},
   "outputs": [
    {
     "data": {
      "text/plain": [
       "array([12. , 12.4, 12.8, 13.2, 13.6, 14. ])"
      ]
     },
     "execution_count": 41,
     "metadata": {},
     "output_type": "execute_result"
    }
   ],
   "source": [
    "# From 12 to 14 in 6 steps; \n",
    "np.linspace( 12, 14, 6 )   # first, last, number of elements"
   ]
  },
  {
   "cell_type": "markdown",
   "id": "6ecc13e2",
   "metadata": {},
   "source": [
    "## Accessing items\n",
    "\n",
    "Zero-based indexing.  For multi-dimensional arrays, give several integer indices separated by commas."
   ]
  },
  {
   "cell_type": "code",
   "execution_count": 47,
   "id": "21bb8e07",
   "metadata": {},
   "outputs": [
    {
     "data": {
      "text/plain": [
       "array([ 8, 11, 14, 17, 20, 23])"
      ]
     },
     "execution_count": 47,
     "metadata": {},
     "output_type": "execute_result"
    }
   ],
   "source": [
    "v = np.arange(8,24,3)\n",
    "v"
   ]
  },
  {
   "cell_type": "code",
   "execution_count": 44,
   "id": "a896a699",
   "metadata": {},
   "outputs": [
    {
     "data": {
      "text/plain": [
       "array([[ 1,  2,  3],\n",
       "       [ 4,  5,  6],\n",
       "       [ 7,  8,  9],\n",
       "       [ 0, -2, 16]])"
      ]
     },
     "execution_count": 44,
     "metadata": {},
     "output_type": "execute_result"
    }
   ],
   "source": [
    "A = np.array([[1,2,3],[4,5,6],[7,8,9],[0,-2,16]])\n",
    "A"
   ]
  },
  {
   "cell_type": "markdown",
   "id": "a9dc0d34",
   "metadata": {},
   "source": [
    "### Vector indexing: Just like lists"
   ]
  },
  {
   "cell_type": "code",
   "execution_count": 48,
   "id": "81e05034",
   "metadata": {},
   "outputs": [
    {
     "data": {
      "text/plain": [
       "8"
      ]
     },
     "execution_count": 48,
     "metadata": {},
     "output_type": "execute_result"
    }
   ],
   "source": [
    "v[0]"
   ]
  },
  {
   "cell_type": "code",
   "execution_count": 49,
   "id": "ea4b2bcf",
   "metadata": {},
   "outputs": [
    {
     "data": {
      "text/plain": [
       "20"
      ]
     },
     "execution_count": 49,
     "metadata": {},
     "output_type": "execute_result"
    }
   ],
   "source": [
    "v[4]"
   ]
  },
  {
   "cell_type": "code",
   "execution_count": 51,
   "id": "928a3ebd",
   "metadata": {},
   "outputs": [
    {
     "data": {
      "text/plain": [
       "23"
      ]
     },
     "execution_count": 51,
     "metadata": {},
     "output_type": "execute_result"
    }
   ],
   "source": [
    "v[-1]"
   ]
  },
  {
   "cell_type": "markdown",
   "id": "ee16d473",
   "metadata": {},
   "source": [
    "### Multidimensional indexing: use a tuple of indices\n",
    "\n",
    "For matrices, it's `[row, col]`"
   ]
  },
  {
   "cell_type": "code",
   "execution_count": 53,
   "id": "84bd70fd",
   "metadata": {},
   "outputs": [
    {
     "name": "stdout",
     "output_type": "stream",
     "text": [
      "[[ 1  2  3]\n",
      " [ 4  5  6]\n",
      " [ 7  8  9]\n",
      " [ 0 -2 16]]\n",
      "\n",
      "2\n"
     ]
    }
   ],
   "source": [
    "print(A)\n",
    "print()\n",
    "print(A[0,1])  # row 0 column 1"
   ]
  },
  {
   "cell_type": "markdown",
   "id": "421a5796",
   "metadata": {},
   "source": [
    "Omitted indices at the end mean \"everything from those dimensions\""
   ]
  },
  {
   "cell_type": "code",
   "execution_count": 54,
   "id": "3cf11751",
   "metadata": {},
   "outputs": [
    {
     "data": {
      "text/plain": [
       "array([7, 8, 9])"
      ]
     },
     "execution_count": 54,
     "metadata": {},
     "output_type": "execute_result"
    }
   ],
   "source": [
    "A[2] # Row 2"
   ]
  },
  {
   "cell_type": "markdown",
   "id": "c208c123",
   "metadata": {},
   "source": [
    "Using `:` as an index means \"everything from that dimension\""
   ]
  },
  {
   "cell_type": "code",
   "execution_count": 56,
   "id": "e77936f5",
   "metadata": {},
   "outputs": [
    {
     "name": "stdout",
     "output_type": "stream",
     "text": [
      "[[ 1  2  3]\n",
      " [ 4  5  6]\n",
      " [ 7  8  9]\n",
      " [ 0 -2 16]]\n",
      "\n",
      "[ 2  5  8 -2]\n"
     ]
    }
   ],
   "source": [
    "print(A)\n",
    "print()\n",
    "# All rows, column 1; that is, get column 1 as a vector\n",
    "print(A[:,1])  "
   ]
  },
  {
   "cell_type": "markdown",
   "id": "bc5f6813",
   "metadata": {},
   "source": [
    "## Assigning items\n",
    "\n",
    "**`numpy` arrays are mutable** 😱"
   ]
  },
  {
   "cell_type": "code",
   "execution_count": 12,
   "id": "93fbe3e2",
   "metadata": {},
   "outputs": [
    {
     "data": {
      "text/plain": [
       "array([[ 2,  4,  8, 16, 32],\n",
       "       [ 1, -1,  1, -1,  1],\n",
       "       [ 0,  0,  0,  5,  6],\n",
       "       [ 7,  6,  5,  4,  3]])"
      ]
     },
     "execution_count": 12,
     "metadata": {},
     "output_type": "execute_result"
    }
   ],
   "source": [
    "B = np.array([[2,4,8,16,32],[1,-1,1,-1,1],[0,0,0,5,6],[7,6,5,4,3]])\n",
    "B"
   ]
  },
  {
   "cell_type": "code",
   "execution_count": 13,
   "id": "a8fa63ff",
   "metadata": {},
   "outputs": [],
   "source": [
    "# item assignment supported\n",
    "B[2,0] = 275   # row 2, col 0 entry becomes 275"
   ]
  },
  {
   "cell_type": "code",
   "execution_count": 14,
   "id": "14aef42a",
   "metadata": {},
   "outputs": [
    {
     "data": {
      "text/plain": [
       "array([[  2,   4,   8,  16,  32],\n",
       "       [  1,  -1,   1,  -1,   1],\n",
       "       [275,   0,   0,   5,   6],\n",
       "       [  7,   6,   5,   4,   3]])"
      ]
     },
     "execution_count": 14,
     "metadata": {},
     "output_type": "execute_result"
    }
   ],
   "source": [
    "B # now changed"
   ]
  },
  {
   "cell_type": "code",
   "execution_count": 15,
   "id": "ee966337",
   "metadata": {},
   "outputs": [],
   "source": [
    "B[3] = 100 # everything in row 3 becomes 100"
   ]
  },
  {
   "cell_type": "code",
   "execution_count": 16,
   "id": "30d4b91c",
   "metadata": {},
   "outputs": [
    {
     "data": {
      "text/plain": [
       "array([[  2,   4,   8,  16,  32],\n",
       "       [  1,  -1,   1,  -1,   1],\n",
       "       [275,   0,   0,   5,   6],\n",
       "       [100, 100, 100, 100, 100]])"
      ]
     },
     "execution_count": 16,
     "metadata": {},
     "output_type": "execute_result"
    }
   ],
   "source": [
    "B"
   ]
  },
  {
   "cell_type": "code",
   "execution_count": 20,
   "id": "dba4d7e5",
   "metadata": {},
   "outputs": [],
   "source": [
    "# Single column replace\n",
    "B[:,2] = [5,50,500,5000] # replace column 2 with the given vector"
   ]
  },
  {
   "cell_type": "code",
   "execution_count": 19,
   "id": "df2401b0",
   "metadata": {},
   "outputs": [
    {
     "data": {
      "text/plain": [
       "array([[   2,    4,    5,   16,   32],\n",
       "       [   1,   -1,   50,   -1,    1],\n",
       "       [ 275,    0,  500,    5,    6],\n",
       "       [ 100,  100, 5000,  100,  100]])"
      ]
     },
     "execution_count": 19,
     "metadata": {},
     "output_type": "execute_result"
    }
   ],
   "source": [
    "B # Note column 2 has changed"
   ]
  },
  {
   "cell_type": "markdown",
   "id": "caeef09f",
   "metadata": {},
   "source": [
    "## Slices\n",
    "\n",
    "Can combine slice notation with multiple indices."
   ]
  },
  {
   "cell_type": "code",
   "execution_count": 21,
   "id": "a4e9cbd4",
   "metadata": {},
   "outputs": [],
   "source": [
    "C = B[ 1:3 , 1:4 ]  # the submatrix from rows 1 and 2 and columns 1,2,3"
   ]
  },
  {
   "cell_type": "code",
   "execution_count": 22,
   "id": "029b0199",
   "metadata": {},
   "outputs": [
    {
     "data": {
      "text/plain": [
       "array([[ -1,  50,  -1],\n",
       "       [  0, 500,   5]])"
      ]
     },
     "execution_count": 22,
     "metadata": {},
     "output_type": "execute_result"
    }
   ],
   "source": [
    "C"
   ]
  },
  {
   "cell_type": "code",
   "execution_count": 23,
   "id": "9b9b3216",
   "metadata": {},
   "outputs": [],
   "source": [
    "C[:,0] = 87  # everything in column 0 of C becomes 87"
   ]
  },
  {
   "cell_type": "code",
   "execution_count": 24,
   "id": "1f50e26a",
   "metadata": {},
   "outputs": [
    {
     "data": {
      "text/plain": [
       "array([[ 87,  50,  -1],\n",
       "       [ 87, 500,   5]])"
      ]
     },
     "execution_count": 24,
     "metadata": {},
     "output_type": "execute_result"
    }
   ],
   "source": [
    "C"
   ]
  },
  {
   "cell_type": "markdown",
   "id": "ab73bf2b",
   "metadata": {},
   "source": [
    "Slices return **views**, not copies."
   ]
  },
  {
   "cell_type": "code",
   "execution_count": 27,
   "id": "c76bb2e5",
   "metadata": {},
   "outputs": [
    {
     "data": {
      "text/plain": [
       "array([[   2,    4,    5,   16,   32],\n",
       "       [   1,   87,   50,   -1,    1],\n",
       "       [ 275,   87,  500,    5,    6],\n",
       "       [ 100,  100, 5000,  100,  100]])"
      ]
     },
     "execution_count": 27,
     "metadata": {},
     "output_type": "execute_result"
    }
   ],
   "source": [
    "# C was a slice of B so changing C changed B as well!\n",
    "B # note the presence of the value 87"
   ]
  },
  {
   "cell_type": "markdown",
   "id": "bdaf4d96",
   "metadata": {},
   "source": [
    "What if you wanted a slice that is a copy, not a view?"
   ]
  },
  {
   "cell_type": "code",
   "execution_count": 28,
   "id": "5c77cf41",
   "metadata": {},
   "outputs": [],
   "source": [
    "C2 = B[ 1:3 , 1:4 ].copy()  # Take a slice (view) but then make a copy"
   ]
  },
  {
   "cell_type": "code",
   "execution_count": 29,
   "id": "7a830bc9",
   "metadata": {},
   "outputs": [
    {
     "data": {
      "text/plain": [
       "array([[   2,    4,    5,   16,   32],\n",
       "       [   1,   87,   50,   -1,    1],\n",
       "       [ 275,   87,  500,    5,    6],\n",
       "       [ 100,  100, 5000,  100,  100]])"
      ]
     },
     "execution_count": 29,
     "metadata": {},
     "output_type": "execute_result"
    }
   ],
   "source": [
    "C2[:,:] = 0 # Zero it out\n",
    "B # check B isn't changed!"
   ]
  },
  {
   "cell_type": "code",
   "execution_count": 31,
   "id": "2f152e8f",
   "metadata": {},
   "outputs": [
    {
     "data": {
      "text/plain": [
       "array([16,  5])"
      ]
     },
     "execution_count": 31,
     "metadata": {},
     "output_type": "execute_result"
    }
   ],
   "source": [
    "# Can use extended slice syntax as well\n",
    "B[::2,3]  # elements in column 3 that have EVEN row number"
   ]
  },
  {
   "cell_type": "markdown",
   "id": "49c53103",
   "metadata": {},
   "source": [
    "## Equality and bool\n",
    "\n",
    "`.all()` checks if an array of booleans is all `True`."
   ]
  },
  {
   "cell_type": "code",
   "execution_count": 32,
   "id": "986dedb8",
   "metadata": {},
   "outputs": [],
   "source": [
    "v = np.array([2,4,6,8,10])\n",
    "w = np.array([2,4,8,16,32])"
   ]
  },
  {
   "cell_type": "code",
   "execution_count": 33,
   "id": "a72d78a8",
   "metadata": {},
   "outputs": [
    {
     "data": {
      "text/plain": [
       "array([ True,  True, False, False, False])"
      ]
     },
     "execution_count": 33,
     "metadata": {},
     "output_type": "execute_result"
    }
   ],
   "source": [
    "v == w  # gives an array of booleans"
   ]
  },
  {
   "cell_type": "code",
   "execution_count": 34,
   "id": "edda6e9f",
   "metadata": {},
   "outputs": [
    {
     "ename": "ValueError",
     "evalue": "The truth value of an array with more than one element is ambiguous. Use a.any() or a.all()",
     "output_type": "error",
     "traceback": [
      "\u001b[0;31m---------------------------------------------------------------------------\u001b[0m",
      "\u001b[0;31mValueError\u001b[0m                                Traceback (most recent call last)",
      "\u001b[0;32m/tmp/ipykernel_1996178/3597600698.py\u001b[0m in \u001b[0;36m<module>\u001b[0;34m\u001b[0m\n\u001b[1;32m      1\u001b[0m \u001b[0;31m# VERY COMMON MISTAKE (will raise exception)\u001b[0m\u001b[0;34m\u001b[0m\u001b[0;34m\u001b[0m\u001b[0m\n\u001b[0;32m----> 2\u001b[0;31m \u001b[0;32mif\u001b[0m \u001b[0mv\u001b[0m \u001b[0;34m==\u001b[0m \u001b[0mw\u001b[0m\u001b[0;34m:\u001b[0m\u001b[0;34m\u001b[0m\u001b[0;34m\u001b[0m\u001b[0m\n\u001b[0m\u001b[1;32m      3\u001b[0m     \u001b[0mprint\u001b[0m\u001b[0;34m(\u001b[0m\u001b[0;34m\"v and w are equal\"\u001b[0m\u001b[0;34m)\u001b[0m\u001b[0;34m\u001b[0m\u001b[0;34m\u001b[0m\u001b[0m\n\u001b[1;32m      4\u001b[0m \u001b[0;32melse\u001b[0m\u001b[0;34m:\u001b[0m\u001b[0;34m\u001b[0m\u001b[0;34m\u001b[0m\u001b[0m\n\u001b[1;32m      5\u001b[0m     \u001b[0mprint\u001b[0m\u001b[0;34m(\u001b[0m\u001b[0;34m\"v and w are not equal\"\u001b[0m\u001b[0;34m)\u001b[0m\u001b[0;34m\u001b[0m\u001b[0;34m\u001b[0m\u001b[0m\n",
      "\u001b[0;31mValueError\u001b[0m: The truth value of an array with more than one element is ambiguous. Use a.any() or a.all()"
     ]
    }
   ],
   "source": [
    "# VERY COMMON MISTAKE (will raise exception)\n",
    "if v == w:\n",
    "    print(\"v and w are equal\")\n",
    "else:\n",
    "    print(\"v and w are not equal\")"
   ]
  },
  {
   "cell_type": "code",
   "execution_count": 36,
   "id": "7503a6c1",
   "metadata": {},
   "outputs": [
    {
     "name": "stdout",
     "output_type": "stream",
     "text": [
      "v and w are not equal\n"
     ]
    }
   ],
   "source": [
    "# Best way to fix - stops when first difference found\n",
    "if np.array_equal(v,w):\n",
    "    print(\"v and w are equal\")\n",
    "else:\n",
    "    print(\"v and w are not equal\")"
   ]
  },
  {
   "cell_type": "code",
   "execution_count": 37,
   "id": "913c6fc2",
   "metadata": {},
   "outputs": [
    {
     "name": "stdout",
     "output_type": "stream",
     "text": [
      "v and w are not equal\n"
     ]
    }
   ],
   "source": [
    "# Also works, but compares all of v,w no matter what\n",
    "if np.all(v==w):\n",
    "    print(\"v and w are equal\")\n",
    "else:\n",
    "    print(\"v and w are not equal\")"
   ]
  },
  {
   "cell_type": "code",
   "execution_count": 39,
   "id": "885a1dc1",
   "metadata": {},
   "outputs": [
    {
     "data": {
      "text/plain": [
       "False"
      ]
     },
     "execution_count": 39,
     "metadata": {},
     "output_type": "execute_result"
    }
   ],
   "source": [
    "(v==w).all() # same as applying np.all to v==w"
   ]
  },
  {
   "cell_type": "markdown",
   "id": "bb914bb5",
   "metadata": {},
   "source": [
    "## Ufuncs\n",
    "\n",
    "Functions that automatically apply to each entry in an array."
   ]
  },
  {
   "cell_type": "markdown",
   "id": "f816ad3b",
   "metadata": {},
   "source": [
    "### Some arrays to operate on"
   ]
  },
  {
   "cell_type": "code",
   "execution_count": 40,
   "id": "7eb1e281",
   "metadata": {},
   "outputs": [
    {
     "data": {
      "text/plain": [
       "array([-5, -4, -3, -2, -1,  0,  1,  2,  3,  4,  5])"
      ]
     },
     "execution_count": 40,
     "metadata": {},
     "output_type": "execute_result"
    }
   ],
   "source": [
    "v = np.arange(-5,6,1)\n",
    "v"
   ]
  },
  {
   "cell_type": "code",
   "execution_count": 41,
   "id": "42974a45",
   "metadata": {},
   "outputs": [
    {
     "data": {
      "text/plain": [
       "array([[ 1,  2,  3,  4,  5],\n",
       "       [ 6,  7,  8,  9, 10],\n",
       "       [11, 12, 13, 14, 15]])"
      ]
     },
     "execution_count": 41,
     "metadata": {},
     "output_type": "execute_result"
    }
   ],
   "source": [
    "A = np.array(range(1,16)).reshape((3,5)) # (15,) -> (3,5)\n",
    "A"
   ]
  },
  {
   "cell_type": "markdown",
   "id": "99440cd0",
   "metadata": {},
   "source": [
    "### Examples of numpy ufuncs"
   ]
  },
  {
   "cell_type": "code",
   "execution_count": 42,
   "id": "8dc4ab1f",
   "metadata": {},
   "outputs": [
    {
     "data": {
      "text/plain": [
       "array([6.73794700e-03, 1.83156389e-02, 4.97870684e-02, 1.35335283e-01,\n",
       "       3.67879441e-01, 1.00000000e+00, 2.71828183e+00, 7.38905610e+00,\n",
       "       2.00855369e+01, 5.45981500e+01, 1.48413159e+02])"
      ]
     },
     "execution_count": 42,
     "metadata": {},
     "output_type": "execute_result"
    }
   ],
   "source": [
    "np.exp(v) # apply e^x to each entry"
   ]
  },
  {
   "cell_type": "code",
   "execution_count": 43,
   "id": "5e7cd6b7",
   "metadata": {},
   "outputs": [
    {
     "data": {
      "text/plain": [
       "array([[ 0.54030231, -0.41614684, -0.9899925 , -0.65364362,  0.28366219],\n",
       "       [ 0.96017029,  0.75390225, -0.14550003, -0.91113026, -0.83907153],\n",
       "       [ 0.0044257 ,  0.84385396,  0.90744678,  0.13673722, -0.75968791]])"
      ]
     },
     "execution_count": 43,
     "metadata": {},
     "output_type": "execute_result"
    }
   ],
   "source": [
    "np.cos(A) # apply cosine to each entry"
   ]
  },
  {
   "cell_type": "code",
   "execution_count": 44,
   "id": "620c757a",
   "metadata": {},
   "outputs": [
    {
     "data": {
      "text/plain": [
       "array([-125,  -64,  -27,   -8,   -1,    0,    1,    8,   27,   64,  125])"
      ]
     },
     "execution_count": 44,
     "metadata": {},
     "output_type": "execute_result"
    }
   ],
   "source": [
    "v**3 # cube each entry"
   ]
  },
  {
   "cell_type": "code",
   "execution_count": 46,
   "id": "17da3fba",
   "metadata": {},
   "outputs": [
    {
     "data": {
      "text/plain": [
       "array([[  67,  134,  201,  268,  335],\n",
       "       [ 402,  469,  536,  603,  670],\n",
       "       [ 737,  804,  871,  938, 1005]])"
      ]
     },
     "execution_count": 46,
     "metadata": {},
     "output_type": "execute_result"
    }
   ],
   "source": [
    "67*A # multiply each element by 67"
   ]
  },
  {
   "cell_type": "code",
   "execution_count": 48,
   "id": "13d9410a",
   "metadata": {},
   "outputs": [
    {
     "data": {
      "text/plain": [
       "array([0.04      , 0.03846154, 0.03703704, 0.03571429, 0.03448276,\n",
       "       0.03333333, 0.03225806, 0.03125   , 0.03030303, 0.02941176,\n",
       "       0.02857143])"
      ]
     },
     "execution_count": 48,
     "metadata": {},
     "output_type": "execute_result"
    }
   ],
   "source": [
    "1/(v + 30)  # apply the function 1/(x+30) to each element of v"
   ]
  },
  {
   "cell_type": "markdown",
   "id": "c173d882",
   "metadata": {},
   "source": [
    "Let $f(x) = 3x^2 - 8x + 14$.  Apply $f$ to each element of array `v`."
   ]
  },
  {
   "cell_type": "code",
   "execution_count": 50,
   "id": "7991a5ec",
   "metadata": {},
   "outputs": [],
   "source": [
    "def f(x):\n",
    "    return 3*(x**2) - 8*x + 14"
   ]
  },
  {
   "cell_type": "code",
   "execution_count": 51,
   "id": "f927370e",
   "metadata": {},
   "outputs": [
    {
     "data": {
      "text/plain": [
       "array([129,  94,  65,  42,  25,  14,   9,  10,  17,  30,  49])"
      ]
     },
     "execution_count": 51,
     "metadata": {},
     "output_type": "execute_result"
    }
   ],
   "source": [
    "# slow!\n",
    "np.array([f(x) for x in v])"
   ]
  },
  {
   "cell_type": "code",
   "execution_count": 52,
   "id": "ca19c778",
   "metadata": {},
   "outputs": [
    {
     "data": {
      "text/plain": [
       "array([129,  94,  65,  42,  25,  14,   9,  10,  17,  30,  49])"
      ]
     },
     "execution_count": 52,
     "metadata": {},
     "output_type": "execute_result"
    }
   ],
   "source": [
    "# faster, easier to read\n",
    "f(v)"
   ]
  },
  {
   "cell_type": "markdown",
   "id": "f86a385f",
   "metadata": {},
   "source": [
    "## Broadcasting"
   ]
  },
  {
   "cell_type": "code",
   "execution_count": 273,
   "id": "c7837f69",
   "metadata": {},
   "outputs": [
    {
     "data": {
      "text/plain": [
       "array([[1, 2, 3],\n",
       "       [4, 5, 6],\n",
       "       [7, 8, 9],\n",
       "       [8, 2, 1]])"
      ]
     },
     "execution_count": 273,
     "metadata": {},
     "output_type": "execute_result"
    }
   ],
   "source": [
    "A"
   ]
  },
  {
   "cell_type": "code",
   "execution_count": 266,
   "id": "291bb143",
   "metadata": {},
   "outputs": [
    {
     "data": {
      "text/plain": [
       "array([[ 2,  3,  4],\n",
       "       [ 5,  6,  7],\n",
       "       [ 8,  9, 10],\n",
       "       [ 9,  3,  2]])"
      ]
     },
     "execution_count": 266,
     "metadata": {},
     "output_type": "execute_result"
    }
   ],
   "source": [
    "A + 1  # acts on every element"
   ]
  },
  {
   "cell_type": "code",
   "execution_count": 267,
   "id": "818affa1",
   "metadata": {},
   "outputs": [
    {
     "data": {
      "text/plain": [
       "array([[  6,  52, 503],\n",
       "       [  9,  55, 506],\n",
       "       [ 12,  58, 509],\n",
       "       [ 13,  52, 501]])"
      ]
     },
     "execution_count": 267,
     "metadata": {},
     "output_type": "execute_result"
    }
   ],
   "source": [
    "A + np.array([5,50,500])"
   ]
  },
  {
   "cell_type": "code",
   "execution_count": 274,
   "id": "547b6209",
   "metadata": {},
   "outputs": [
    {
     "data": {
      "text/plain": [
       "array([[5, 6, 7],\n",
       "       [6, 7, 8],\n",
       "       [7, 8, 9]])"
      ]
     },
     "execution_count": 274,
     "metadata": {},
     "output_type": "execute_result"
    }
   ],
   "source": [
    "np.array([[1],\n",
    "          [2],\n",
    "          [3]]) + np.array([4,5,6])   # \"bi-broadcast\""
   ]
  },
  {
   "cell_type": "markdown",
   "id": "dd2318f3",
   "metadata": {},
   "source": [
    "## Aggregations\n",
    "\n",
    "`sum`, `max`, `min`, `argmax`, `argmin`, `mean`, `all`, `any`, `array_equal`"
   ]
  },
  {
   "cell_type": "code",
   "execution_count": 264,
   "id": "9a628751",
   "metadata": {},
   "outputs": [
    {
     "data": {
      "text/plain": [
       "5"
      ]
     },
     "execution_count": 264,
     "metadata": {},
     "output_type": "execute_result"
    }
   ],
   "source": [
    "np.argmax( [1,2,1,5,4,7,3,2,6] )  # WHERE the maximum is found"
   ]
  },
  {
   "cell_type": "code",
   "execution_count": 276,
   "id": "684c35f0",
   "metadata": {},
   "outputs": [
    {
     "data": {
      "text/plain": [
       "array([[1, 2, 3],\n",
       "       [4, 5, 6],\n",
       "       [7, 8, 9],\n",
       "       [8, 2, 1]])"
      ]
     },
     "execution_count": 276,
     "metadata": {},
     "output_type": "execute_result"
    }
   ],
   "source": [
    "A = np.array([[1,2,3],[4,5,6],[7,8,9],[8,2,1]])\n",
    "A"
   ]
  },
  {
   "cell_type": "code",
   "execution_count": 250,
   "id": "72eb3e0c",
   "metadata": {},
   "outputs": [
    {
     "data": {
      "text/plain": [
       "45"
      ]
     },
     "execution_count": 250,
     "metadata": {},
     "output_type": "execute_result"
    }
   ],
   "source": [
    "np.sum(A)"
   ]
  },
  {
   "cell_type": "code",
   "execution_count": 277,
   "id": "b96ee533",
   "metadata": {},
   "outputs": [
    {
     "data": {
      "text/plain": [
       "array([20, 17, 19])"
      ]
     },
     "execution_count": 277,
     "metadata": {},
     "output_type": "execute_result"
    }
   ],
   "source": [
    "sum(A)  # means sum the rows"
   ]
  },
  {
   "cell_type": "code",
   "execution_count": 251,
   "id": "c226d19f",
   "metadata": {},
   "outputs": [
    {
     "data": {
      "text/plain": [
       "9"
      ]
     },
     "execution_count": 251,
     "metadata": {},
     "output_type": "execute_result"
    }
   ],
   "source": [
    "np.max(A)"
   ]
  },
  {
   "cell_type": "code",
   "execution_count": 253,
   "id": "f1ffa0eb",
   "metadata": {},
   "outputs": [
    {
     "data": {
      "text/plain": [
       "5.0"
      ]
     },
     "execution_count": 253,
     "metadata": {},
     "output_type": "execute_result"
    }
   ],
   "source": [
    "np.mean(A)"
   ]
  },
  {
   "cell_type": "code",
   "execution_count": 278,
   "id": "a029a551",
   "metadata": {},
   "outputs": [
    {
     "data": {
      "text/plain": [
       "array([20, 17, 19])"
      ]
     },
     "execution_count": 278,
     "metadata": {},
     "output_type": "execute_result"
    }
   ],
   "source": [
    "np.sum(A,axis=0) # sum of the rows"
   ]
  },
  {
   "cell_type": "code",
   "execution_count": 280,
   "id": "d004202c",
   "metadata": {},
   "outputs": [
    {
     "data": {
      "text/plain": [
       "array([ 6, 15, 24, 11])"
      ]
     },
     "execution_count": 280,
     "metadata": {},
     "output_type": "execute_result"
    }
   ],
   "source": [
    "np.sum(A,axis=1) # sum of the columns"
   ]
  },
  {
   "cell_type": "code",
   "execution_count": 281,
   "id": "9620248a",
   "metadata": {},
   "outputs": [
    {
     "data": {
      "text/plain": [
       "array([[1, 2, 3],\n",
       "       [4, 5, 6],\n",
       "       [7, 8, 9],\n",
       "       [8, 2, 1]])"
      ]
     },
     "execution_count": 281,
     "metadata": {},
     "output_type": "execute_result"
    }
   ],
   "source": [
    "A"
   ]
  },
  {
   "cell_type": "markdown",
   "id": "08858554",
   "metadata": {},
   "source": [
    "## Masks"
   ]
  },
  {
   "cell_type": "code",
   "execution_count": 60,
   "id": "1390ac88",
   "metadata": {},
   "outputs": [
    {
     "data": {
      "text/plain": [
       "array([[  0,  -1,  -4,  -7,  -8, -13],\n",
       "       [  3,   2,  -1,  -4,  -5, -10],\n",
       "       [ 24,  23,  20,  17,  16,  11],\n",
       "       [ 63,  62,  59,  56,  55,  50],\n",
       "       [ 80,  79,  76,  73,  72,  67],\n",
       "       [195, 194, 191, 188, 187, 182]])"
      ]
     },
     "execution_count": 60,
     "metadata": {},
     "output_type": "execute_result"
    }
   ],
   "source": [
    "# Let's make a nice matrix of values\n",
    "tmp = np.zeros( (6,6), dtype=\"int\" ) + [1,2,5,8,9,14]\n",
    "A = tmp.T**2 - tmp\n",
    "A\n"
   ]
  },
  {
   "cell_type": "code",
   "execution_count": 61,
   "id": "bdc8e6ba",
   "metadata": {},
   "outputs": [
    {
     "data": {
      "text/plain": [
       "array([[False,  True,  True,  True,  True,  True],\n",
       "       [False, False,  True,  True,  True,  True],\n",
       "       [False, False, False, False, False, False],\n",
       "       [False, False, False, False, False, False],\n",
       "       [False, False, False, False, False, False],\n",
       "       [False, False, False, False, False, False]])"
      ]
     },
     "execution_count": 61,
     "metadata": {},
     "output_type": "execute_result"
    }
   ],
   "source": [
    "is_negative = A < 0  # array of booleans answering the question\n",
    "is_negative"
   ]
  },
  {
   "cell_type": "code",
   "execution_count": 62,
   "id": "89f2b562",
   "metadata": {},
   "outputs": [
    {
     "data": {
      "text/plain": [
       "array([ -1,  -4,  -7,  -8, -13,  -1,  -4,  -5, -10])"
      ]
     },
     "execution_count": 62,
     "metadata": {},
     "output_type": "execute_result"
    }
   ],
   "source": [
    "A[is_negative]  # vector of all the negative values in A\n",
    "# This works whenever A[M] has M an array of booleans of\n",
    "# the same shape as A"
   ]
  },
  {
   "cell_type": "code",
   "execution_count": 63,
   "id": "cf852d0f",
   "metadata": {},
   "outputs": [],
   "source": [
    "A[is_negative] = 999 # replace everything negative in A with 999"
   ]
  },
  {
   "cell_type": "code",
   "execution_count": 64,
   "id": "8f1e4ce7",
   "metadata": {},
   "outputs": [
    {
     "data": {
      "text/plain": [
       "array([[  0, 999, 999, 999, 999, 999],\n",
       "       [  3,   2, 999, 999, 999, 999],\n",
       "       [ 24,  23,  20,  17,  16,  11],\n",
       "       [ 63,  62,  59,  56,  55,  50],\n",
       "       [ 80,  79,  76,  73,  72,  67],\n",
       "       [195, 194, 191, 188, 187, 182]])"
      ]
     },
     "execution_count": 64,
     "metadata": {},
     "output_type": "execute_result"
    }
   ],
   "source": [
    "A"
   ]
  },
  {
   "cell_type": "markdown",
   "id": "7afc5176",
   "metadata": {},
   "source": [
    "Masks like this make it easy to select parts of an array based on inequalities or conditions on each element, then modify.\n",
    "\n",
    "For example, here we'll clamp all elements of A between 20 and 190.  Anything under 20 becomes 20, and anything over 190 becomes 190."
   ]
  },
  {
   "cell_type": "code",
   "execution_count": 65,
   "id": "df828036",
   "metadata": {},
   "outputs": [],
   "source": [
    "A[A<20] = 20  # every entry of A less than 20 becomes 20\n",
    "A[A>190] = 190 # every entry of A greater than 190 becomes 190"
   ]
  },
  {
   "cell_type": "code",
   "execution_count": 67,
   "id": "a8f5018a",
   "metadata": {},
   "outputs": [
    {
     "data": {
      "text/plain": [
       "array([[ 20, 190, 190, 190, 190, 190],\n",
       "       [ 20,  20, 190, 190, 190, 190],\n",
       "       [ 24,  23,  20,  20,  20,  20],\n",
       "       [ 63,  62,  59,  56,  55,  50],\n",
       "       [ 80,  79,  76,  73,  72,  67],\n",
       "       [190, 190, 190, 188, 187, 182]])"
      ]
     },
     "execution_count": 67,
     "metadata": {},
     "output_type": "execute_result"
    }
   ],
   "source": [
    "A # now clamped"
   ]
  },
  {
   "cell_type": "markdown",
   "id": "9909646e",
   "metadata": {},
   "source": [
    "## Pillow integration\n",
    "\n",
    "* `np.array(img)` just works, if `img` is a `PIL.Image` object\n",
    "* Use `PIL.Image.fromarray(A)` to make an image from an array\n",
    "    * Shape `(height,width)` and dtype `uint8` for grayscale\n",
    "    * Shape `(height,width,3)` and dtype `uint8` for color (last axis is red, green, blue)"
   ]
  },
  {
   "cell_type": "code",
   "execution_count": null,
   "id": "9c9a0e35",
   "metadata": {},
   "outputs": [],
   "source": []
  }
 ],
 "metadata": {
  "kernelspec": {
   "display_name": "Python 3 (ipykernel)",
   "language": "python",
   "name": "python3"
  },
  "language_info": {
   "codemirror_mode": {
    "name": "ipython",
    "version": 3
   },
   "file_extension": ".py",
   "mimetype": "text/x-python",
   "name": "python",
   "nbconvert_exporter": "python",
   "pygments_lexer": "ipython3",
   "version": "3.10.12"
  }
 },
 "nbformat": 4,
 "nbformat_minor": 5
}
