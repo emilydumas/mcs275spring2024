{
 "cells": [
  {
   "cell_type": "markdown",
   "id": "cd569126",
   "metadata": {},
   "source": [
    "# Scraping with beautiful soup: Working notebook"
   ]
  },
  {
   "cell_type": "markdown",
   "id": "6802b3f0",
   "metadata": {},
   "source": [
    "## Quick note\n",
    "\n",
    "Attributes of a tag become a dictionary in a `bs4` tag object."
   ]
  },
  {
   "cell_type": "markdown",
   "id": "0fd1db24",
   "metadata": {},
   "source": [
    "```html\n",
    "\n",
    "<a href=\"https://example.com/\" class=\"no-underline\">Click!</a>\n",
    "```"
   ]
  },
  {
   "cell_type": "markdown",
   "id": "e3fecf12",
   "metadata": {},
   "source": [
    "a tag has attributes:\n",
    "```python\n",
    "{\n",
    "\"href\": \"https://example.com/\",\n",
    "\"class\": \"no-underline\"\n",
    "}\n",
    "```\n",
    "If the tag object is `t`, then the dict above would be `t.attrs`.\n",
    "\n",
    "But `t.attrs[\"href\"]` can be replaced by the shorthand `t[\"href\"]`.\n"
   ]
  },
  {
   "cell_type": "code",
   "execution_count": null,
   "id": "81dd1e19",
   "metadata": {},
   "outputs": [],
   "source": []
  },
  {
   "cell_type": "markdown",
   "id": "7ce30a85",
   "metadata": {},
   "source": [
    "## Exploring some beautiful soup features"
   ]
  },
  {
   "cell_type": "code",
   "execution_count": 3,
   "id": "afabfcc3",
   "metadata": {},
   "outputs": [],
   "source": [
    "import bs4\n",
    "import urllib\n",
    "import time\n",
    "import os"
   ]
  },
  {
   "cell_type": "code",
   "execution_count": 5,
   "id": "c69682c7",
   "metadata": {},
   "outputs": [
    {
     "name": "stdout",
     "output_type": "stream",
     "text": [
      "Local copy already exists\n"
     ]
    }
   ],
   "source": [
    "# Once and only once, store a local copy\n",
    "\n",
    "if os.path.exists(\"local_copy_dumas_io.html\"):\n",
    "    print(\"Local copy already exists\")\n",
    "else:\n",
    "    #download\n",
    "    with urllib.request.urlopen(\"https://www.dumas.io/\") as http_fp:\n",
    "        with open(\"local_copy_dumas_io.html\",\"wb\") as local_fp:\n",
    "            local_fp.write( http_fp.read() )\n",
    "    print(\"Downloaded a local copy!\")"
   ]
  },
  {
   "cell_type": "code",
   "execution_count": 7,
   "id": "471b2266",
   "metadata": {},
   "outputs": [],
   "source": [
    "# Convert the local copy to a DOM (soup)\n",
    "with open(\"local_copy_dumas_io.html\",\"rb\") as fp:\n",
    "    soup = bs4.BeautifulSoup(fp,\"html.parser\")"
   ]
  },
  {
   "cell_type": "code",
   "execution_count": 10,
   "id": "ddbbb863",
   "metadata": {},
   "outputs": [
    {
     "name": "stdout",
     "output_type": "stream",
     "text": [
      "Found it!\n"
     ]
    }
   ],
   "source": [
    "# What kind of tag contains the section heading \"Teaching\"?\n",
    "\n",
    "for tag in soup.find_all(True):\n",
    "    if tag.string == \"Teaching\":\n",
    "        print(\"Found it!\")\n",
    "        teaching_heading = tag\n",
    "        break"
   ]
  },
  {
   "cell_type": "code",
   "execution_count": 12,
   "id": "13b3ffdd",
   "metadata": {},
   "outputs": [
    {
     "data": {
      "text/plain": [
       "'h3'"
      ]
     },
     "execution_count": 12,
     "metadata": {},
     "output_type": "execute_result"
    }
   ],
   "source": [
    "# What kind of tag?\n",
    "teaching_heading.name"
   ]
  },
  {
   "cell_type": "code",
   "execution_count": 13,
   "id": "0fd7034e",
   "metadata": {},
   "outputs": [
    {
     "data": {
      "text/plain": [
       "['Teaching']"
      ]
     },
     "execution_count": 13,
     "metadata": {},
     "output_type": "execute_result"
    }
   ],
   "source": [
    "# Are there any tags inside this one?\n",
    "teaching_heading.contents"
   ]
  },
  {
   "cell_type": "code",
   "execution_count": 15,
   "id": "2d36a2d5",
   "metadata": {},
   "outputs": [],
   "source": [
    "UIC_course_list = teaching_heading.parent.ul.ul # <---- courses at UIC\n",
    "                    #              ^-div  ^- list of places"
   ]
  },
  {
   "cell_type": "code",
   "execution_count": 18,
   "id": "0f3f6906",
   "metadata": {},
   "outputs": [],
   "source": [
    "UIC_courses = UIC_course_list.find_all(\"li\")"
   ]
  },
  {
   "cell_type": "code",
   "execution_count": 19,
   "id": "f83164c9",
   "metadata": {},
   "outputs": [
    {
     "data": {
      "text/plain": [
       "34"
      ]
     },
     "execution_count": 19,
     "metadata": {},
     "output_type": "execute_result"
    }
   ],
   "source": [
    "len(UIC_courses)"
   ]
  },
  {
   "cell_type": "code",
   "execution_count": 23,
   "id": "6d5a22fb",
   "metadata": {},
   "outputs": [
    {
     "name": "stdout",
     "output_type": "stream",
     "text": [
      "Link text: MCS 275: Programming Tools and File Management\n",
      "Link dest: https://uic.blackboard.com/ultra/courses/_267469_1/outline\n",
      "\n",
      "Link text: Math 547: Algebraic Topology I\n",
      "Link dest: /teaching/2023/fall/math547/\n",
      "\n",
      "Link text: MCS 275: Programming Tools and File Management\n",
      "Link dest: /teaching/2023/spring/mcs275/\n",
      "\n",
      "Link text: Math 549: Differentiable Manifolds I\n",
      "Link dest: /teaching/2022/fall/math549/\n",
      "\n",
      "Link text: MCS 275: Programming Tools and File Management\n",
      "Link dest: /teaching/2022/spring/mcs275/\n",
      "\n",
      "Link text: MCS 260: Introduction to Computer Science\n",
      "Link dest: /teaching/2021/fall/mcs260/\n",
      "\n",
      "Link text: MCS 275: Programming Tools and File Management\n",
      "Link dest: /teaching/2021/spring/mcs275/\n",
      "\n",
      "Link text: MCS 260: Introduction to Computer Science\n",
      "Link dest: /teaching/2020/fall/mcs260/\n",
      "\n",
      "Link text: Math 445: Introduction to Topology I\n",
      "Link dest: /teaching/2019/spring/math445/\n",
      "\n",
      "Link text: Math 550: Differentiable Manifolds II\n",
      "Link dest: /teaching/2019/spring/math550/\n",
      "\n",
      "Link text: Math 320: Linear Algebra I\n",
      "Link dest: /teaching/2018/fall/math320/\n",
      "\n",
      "Link text: Math 445: Introduction to Topology I\n",
      "Link dest: /teaching/2018/spring/math445/\n",
      "\n",
      "Link text: Math 549: Differentiable Manifolds I\n",
      "Link dest: /teaching/2017/fall/math549/\n",
      "\n",
      "Link text: Math 210: Calculus III\n",
      "Link dest: http://www.math.uic.edu/math210/\n",
      "\n",
      "Link text: Math 569: Representations of surface groups\n",
      "Link dest: /teaching/2017/spring/math569/\n",
      "\n",
      "Link text: Math 180: Calculus I\n",
      "Link dest: http://www.math.uic.edu/math180/\n",
      "\n",
      "Link text: Math 320: Linear Algebra I\n",
      "Link dest: /teaching/2016/fall/math320/\n",
      "\n",
      "Link text: Math 535: Complex Analysis I\n",
      "Link dest: /teaching/2016/spring/math535/\n",
      "\n",
      "Link text: Math 445: Introduction to Topology I\n",
      "Link dest: /teaching/2015/fall/math445/\n",
      "\n",
      "Link text: Math 210: Calculus III\n",
      "Link dest: http://www.math.uic.edu/math210/\n",
      "\n",
      "Link text: Math 550: Differentiable Manifolds II\n",
      "Link dest: /teaching/2014/fall/math550/\n",
      "\n",
      "Link text: Math 180: Calculus I\n",
      "Link dest: /teaching/2014/fall/math180/\n",
      "\n",
      "Link text: MCS 481: Computational Geometry\n",
      "Link dest: /teaching/2014/spring/mcs481/\n",
      "\n",
      "Link text: Math 180: Calculus I\n",
      "Link dest: /teaching/2014/spring/math180/\n",
      "\n",
      "Link text: Math 570: Topics in Teichmüller Theory and Geometric Structures\n",
      "Link dest: /teaching/2013/spring/math570/\n",
      "\n",
      "Link text: Math 215: Introduction to Advanced Mathematics\n",
      "Link dest: /teaching/2013/spring/math215/\n",
      "\n",
      "Link text: MCS 481: Computational Geometry\n",
      "Link dest: /teaching/2012/spring/mcs481/\n",
      "\n",
      "Link text: MCS 481: Computational Geometry\n",
      "Link dest: /teaching/2011/spring/mcs481/\n",
      "\n",
      "Link text: Math 442: Differential Geometry of Curves and Surfaces\n",
      "Link dest: /teaching/2010/fall/math442/\n",
      "\n",
      "Link text: Math 535: Complex Analysis I\n",
      "Link dest: /teaching/2010/spring/math535/\n",
      "\n",
      "Link text: Math 442: Differential Geometry of Curves and Surfaces\n",
      "Link dest: /teaching/2009/spring/math442/\n",
      "\n",
      "Link text: Math 210: Calculus III\n",
      "Link dest: /teaching/2008/fall/math210/\n",
      "\n"
     ]
    }
   ],
   "source": [
    "for link in UIC_course_list.find_all(\"a\"):\n",
    "    print(\"Link text:\",link.string)\n",
    "    print(\"Link dest:\",link[\"href\"])\n",
    "    print()"
   ]
  },
  {
   "cell_type": "markdown",
   "id": "a1bf9045",
   "metadata": {},
   "source": [
    "## UIC academic calendar scraper work"
   ]
  },
  {
   "cell_type": "code",
   "execution_count": 24,
   "id": "1f4ac9bb",
   "metadata": {},
   "outputs": [
    {
     "name": "stdout",
     "output_type": "stream",
     "text": [
      "Downloaded a local copy!\n"
     ]
    }
   ],
   "source": [
    "import bs4\n",
    "import urllib\n",
    "import time\n",
    "import os\n",
    "# Once and only once, store a local copy\n",
    "\n",
    "if os.path.exists(\"uic_academic_calendar.html\"):\n",
    "    print(\"Local copy already exists\")\n",
    "else:\n",
    "    #download\n",
    "    with urllib.request.urlopen(\"https://catalog.uic.edu/ucat/academic-calendar/\") as http_fp:\n",
    "        with open(\"uic_academic_calendar.html\",\"wb\") as local_fp:\n",
    "            local_fp.write( http_fp.read() )\n",
    "    print(\"Downloaded a local copy!\")"
   ]
  },
  {
   "cell_type": "code",
   "execution_count": 25,
   "id": "51ba9ce6",
   "metadata": {},
   "outputs": [],
   "source": [
    "with open(\"uic_academic_calendar.html\",\"rb\") as fp:\n",
    "    soup = bs4.BeautifulSoup(fp,\"html.parser\")"
   ]
  },
  {
   "cell_type": "code",
   "execution_count": 27,
   "id": "c5dc99f0",
   "metadata": {},
   "outputs": [],
   "source": [
    "for tag in soup.find_all(\"h2\"):\n",
    "    if \"2023-2024 academic calendar\" in tag.text.lower():\n",
    "        target_h2 = tag\n",
    "        break\n",
    "        "
   ]
  },
  {
   "cell_type": "code",
   "execution_count": 30,
   "id": "4194129a",
   "metadata": {},
   "outputs": [],
   "source": [
    "ay_table = target_h2.find_next_sibling(\"table\")  # first table after the h2"
   ]
  },
  {
   "cell_type": "code",
   "execution_count": 42,
   "id": "81386e70",
   "metadata": {},
   "outputs": [],
   "source": [
    "import csv\n",
    "\n",
    "with open(\"uic_ay2023_2024.csv\",\"w\",newline=\"\",encoding=\"UTF-8\") as fp:\n",
    "    writer = csv.writer(fp)\n",
    "    semester = None\n",
    "    for row in ay_table.find_all(\"tr\"):\n",
    "        tds = row.find_all(\"td\")\n",
    "        if len(tds) != 2:\n",
    "            continue\n",
    "        if tds[1].string is None:\n",
    "            if \"summer\" in tds[0].string.lower():\n",
    "                semester = None  # how we'll ignore summer\n",
    "            else:\n",
    "                semester = tds[0].string\n",
    "        else:\n",
    "            if semester is not None:\n",
    "                writer.writerow([semester,tds[0].string,tds[1].string])"
   ]
  },
  {
   "cell_type": "code",
   "execution_count": null,
   "id": "c9073644",
   "metadata": {},
   "outputs": [],
   "source": []
  }
 ],
 "metadata": {
  "kernelspec": {
   "display_name": "Python 3 (ipykernel)",
   "language": "python",
   "name": "python3"
  },
  "language_info": {
   "codemirror_mode": {
    "name": "ipython",
    "version": 3
   },
   "file_extension": ".py",
   "mimetype": "text/x-python",
   "name": "python",
   "nbconvert_exporter": "python",
   "pygments_lexer": "ipython3",
   "version": "3.10.12"
  }
 },
 "nbformat": 4,
 "nbformat_minor": 5
}
