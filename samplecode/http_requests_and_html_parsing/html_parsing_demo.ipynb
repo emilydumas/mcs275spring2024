{
 "cells": [
  {
   "cell_type": "markdown",
   "id": "4c096385",
   "metadata": {},
   "source": [
    "## Level 1 parsing: html.parser\n",
    "\n",
    "An event-based processor converting HTML text to a stream of logical items (tags, text, etc.)"
   ]
  },
  {
   "cell_type": "code",
   "execution_count": 2,
   "id": "bb146a07",
   "metadata": {},
   "outputs": [
    {
     "name": "stdout",
     "output_type": "stream",
     "text": [
      "Encountered some data  : \n",
      "\n",
      "Encountered a start tag: html\n",
      "Encountered some data  : \n",
      "\n",
      "Encountered a start tag: head\n",
      "Encountered some data  : \n",
      "    \n",
      "Encountered a start tag: title\n",
      "Encountered some data  : Example Domain\n",
      "Encountered an end tag : title\n",
      "Encountered some data  : \n",
      "\n",
      "    \n",
      "Encountered a start tag: meta\n",
      "Encountered an end tag : meta\n",
      "Encountered some data  : \n",
      "    \n",
      "Encountered a start tag: meta\n",
      "Encountered an end tag : meta\n",
      "Encountered some data  : \n",
      "    \n",
      "Encountered a start tag: meta\n",
      "Encountered an end tag : meta\n",
      "Encountered some data  : \n",
      "    \n",
      "Encountered a start tag: style\n",
      "Encountered some data  : \n",
      "    body {\n",
      "        background-color: #f0f0f2;\n",
      "        margin: 0;\n",
      "        padding: 0;\n",
      "        font-family: -apple-system, system-ui, BlinkMacSystemFont, \"Segoe UI\", \"Open Sans\", \"Helvetica Neue\", Helvetica, Arial, sans-serif;\n",
      "        \n",
      "    }\n",
      "    div {\n",
      "        width: 600px;\n",
      "        margin: 5em auto;\n",
      "        padding: 2em;\n",
      "        background-color: #fdfdff;\n",
      "        border-radius: 0.5em;\n",
      "        box-shadow: 2px 3px 7px 2px rgba(0,0,0,0.02);\n",
      "    }\n",
      "    a:link, a:visited {\n",
      "        color: #38488f;\n",
      "        text-decoration: none;\n",
      "    }\n",
      "    @media (max-width: 700px) {\n",
      "        div {\n",
      "            margin: 0 auto;\n",
      "            width: auto;\n",
      "        }\n",
      "    }\n",
      "    \n",
      "Encountered an end tag : style\n",
      "Encountered some data  :     \n",
      "\n",
      "Encountered an end tag : head\n",
      "Encountered some data  : \n",
      "\n",
      "\n",
      "Encountered a start tag: body\n",
      "Encountered some data  : \n",
      "\n",
      "Encountered a start tag: div\n",
      "Encountered some data  : \n",
      "    \n",
      "Encountered a start tag: h1\n",
      "Encountered some data  : Example Domain\n",
      "Encountered an end tag : h1\n",
      "Encountered some data  : \n",
      "    \n",
      "Encountered a start tag: p\n",
      "Encountered some data  : This domain is for use in illustrative examples in documents. You may use this\n",
      "    domain in literature without prior coordination or asking for permission.\n",
      "Encountered an end tag : p\n",
      "Encountered some data  : \n",
      "    \n",
      "Encountered a start tag: p\n",
      "Encountered a start tag: a\n",
      "Encountered some data  : More information...\n",
      "Encountered an end tag : a\n",
      "Encountered an end tag : p\n",
      "Encountered some data  : \n",
      "\n",
      "Encountered an end tag : div\n",
      "Encountered some data  : \n",
      "\n",
      "Encountered an end tag : body\n",
      "Encountered some data  : \n",
      "\n",
      "Encountered an end tag : html\n",
      "Encountered some data  : \n",
      "\n"
     ]
    }
   ],
   "source": [
    "from urllib.request import urlopen\n",
    "import time\n",
    "from html.parser import HTMLParser\n",
    "\n",
    "class RecordTitleHTMLParser(HTMLParser):\n",
    "    def __init__(self,*args,**kwargs):\n",
    "        super().__init__(*args,**kwargs)\n",
    "        self.page_title = \"\"\n",
    "        self.looking = False\n",
    "        \n",
    "    def handle_starttag(self, tag, attrs):\n",
    "        print(\"Encountered a start tag:\", tag)\n",
    "        if tag == \"title\":\n",
    "            self.looking = True\n",
    "\n",
    "    def handle_endtag(self, tag):\n",
    "        print(\"Encountered an end tag :\", tag)\n",
    "        if tag == \"title\":\n",
    "            self.looking = False\n",
    "\n",
    "    def handle_data(self, data):\n",
    "        print(\"Encountered some data  :\", data)\n",
    "        if self.looking:\n",
    "            self.page_title += data\n",
    "\n",
    "\n",
    "with urlopen(\"http://example.com\") as fp:\n",
    "    html_str = fp.read().decode( fp.headers.get_content_charset(failobj=\"utf-8\")  )\n",
    "    \n",
    "parser = RecordTitleHTMLParser()\n",
    "parser.feed(html_str)"
   ]
  },
  {
   "cell_type": "code",
   "execution_count": 3,
   "id": "c1e0b63f",
   "metadata": {},
   "outputs": [
    {
     "name": "stdout",
     "output_type": "stream",
     "text": [
      "The title of the page was:  Example Domain\n"
     ]
    }
   ],
   "source": [
    "print(\"The title of the page was: \",parser.page_title)"
   ]
  },
  {
   "cell_type": "markdown",
   "id": "21bbff7f",
   "metadata": {},
   "source": [
    "## Level 2 parsing: Convert to a DOM"
   ]
  },
  {
   "cell_type": "code",
   "execution_count": 5,
   "id": "0e784c2d",
   "metadata": {},
   "outputs": [],
   "source": [
    "import time\n",
    "from urllib.request import urlopen\n",
    "from bs4 import BeautifulSoup\n",
    "\n",
    "time.sleep(1)\n",
    "with urlopen(\"http://example.com/\") as fp:\n",
    "    soup_ex = BeautifulSoup(fp,\"html.parser\")"
   ]
  },
  {
   "cell_type": "code",
   "execution_count": 7,
   "id": "74c5e98e",
   "metadata": {},
   "outputs": [
    {
     "name": "stdout",
     "output_type": "stream",
     "text": [
      "Got an object of type:\n",
      "\n",
      "Here is the full HTML code it corresponds to:\n",
      "<!DOCTYPE html>\n",
      "\n",
      "<html>\n",
      "<head>\n",
      "<title>Example Domain</title>\n",
      "<meta charset=\"utf-8\"/>\n",
      "<meta content=\"text/html; charset=utf-8\" http-equiv=\"Content-type\"/>\n",
      "<meta content=\"width=device-width, initial-scale=1\" name=\"viewport\"/>\n",
      "<style type=\"text/css\">\n",
      "    body {\n",
      "        background-color: #f0f0f2;\n",
      "        margin: 0;\n",
      "        padding: 0;\n",
      "        font-family: -apple-system, system-ui, BlinkMacSystemFont, \"Segoe UI\", \"Open Sans\", \"Helvetica Neue\", Helvetica, Arial, sans-serif;\n",
      "        \n",
      "    }\n",
      "    div {\n",
      "        width: 600px;\n",
      "        margin: 5em auto;\n",
      "        padding: 2em;\n",
      "        background-color: #fdfdff;\n",
      "        border-radius: 0.5em;\n",
      "        box-shadow: 2px 3px 7px 2px rgba(0,0,0,0.02);\n",
      "    }\n",
      "    a:link, a:visited {\n",
      "        color: #38488f;\n",
      "        text-decoration: none;\n",
      "    }\n",
      "    @media (max-width: 700px) {\n",
      "        div {\n",
      "            margin: 0 auto;\n",
      "            width: auto;\n",
      "        }\n",
      "    }\n",
      "    </style>\n",
      "</head>\n",
      "<body>\n",
      "<div>\n",
      "<h1>Example Domain</h1>\n",
      "<p>This domain is for use in illustrative examples in documents. You may use this\n",
      "    domain in literature without prior coordination or asking for permission.</p>\n",
      "<p><a href=\"https://www.iana.org/domains/example\">More information...</a></p>\n",
      "</div>\n",
      "</body>\n",
      "</html>\n",
      "\n"
     ]
    }
   ],
   "source": [
    "# Full HTML\n",
    "print(\"Got an object of type:\")\n",
    "type(soup_ex)\n",
    "print(\"\\nHere is the full HTML code it corresponds to:\")\n",
    "print(soup_ex)"
   ]
  },
  {
   "cell_type": "code",
   "execution_count": 8,
   "id": "5ece6bce",
   "metadata": {},
   "outputs": [
    {
     "name": "stdout",
     "output_type": "stream",
     "text": [
      "<!DOCTYPE html>\n",
      "<html>\n",
      " <head>\n",
      "  <title>\n",
      "   Example Domain\n",
      "  </title>\n",
      "  <meta charset=\"utf-8\"/>\n",
      "  <meta content=\"text/html; charset=utf-8\" http-equiv=\"Content-type\"/>\n",
      "  <meta content=\"width=device-width, initial-scale=1\" name=\"viewport\"/>\n",
      "  <style type=\"text/css\">\n",
      "   body {\n",
      "        background-color: #f0f0f2;\n",
      "        margin: 0;\n",
      "        padding: 0;\n",
      "        font-family: -apple-system, system-ui, BlinkMacSystemFont, \"Segoe UI\", \"Open Sans\", \"Helvetica Neue\", Helvetica, Arial, sans-serif;\n",
      "        \n",
      "    }\n",
      "    div {\n",
      "        width: 600px;\n",
      "        margin: 5em auto;\n",
      "        padding: 2em;\n",
      "        background-color: #fdfdff;\n",
      "        border-radius: 0.5em;\n",
      "        box-shadow: 2px 3px 7px 2px rgba(0,0,0,0.02);\n",
      "    }\n",
      "    a:link, a:visited {\n",
      "        color: #38488f;\n",
      "        text-decoration: none;\n",
      "    }\n",
      "    @media (max-width: 700px) {\n",
      "        div {\n",
      "            margin: 0 auto;\n",
      "            width: auto;\n",
      "        }\n",
      "    }\n",
      "  </style>\n",
      " </head>\n",
      " <body>\n",
      "  <div>\n",
      "   <h1>\n",
      "    Example Domain\n",
      "   </h1>\n",
      "   <p>\n",
      "    This domain is for use in illustrative examples in documents. You may use this\n",
      "    domain in literature without prior coordination or asking for permission.\n",
      "   </p>\n",
      "   <p>\n",
      "    <a href=\"https://www.iana.org/domains/example\">\n",
      "     More information...\n",
      "    </a>\n",
      "   </p>\n",
      "  </div>\n",
      " </body>\n",
      "</html>\n",
      "\n"
     ]
    }
   ],
   "source": [
    "# Print a nicely indented form of the same\n",
    "print(soup_ex.prettify())\n"
   ]
  },
  {
   "cell_type": "code",
   "execution_count": 11,
   "id": "3f619d38",
   "metadata": {},
   "outputs": [
    {
     "data": {
      "text/plain": [
       "'Example Domain'"
      ]
     },
     "execution_count": 11,
     "metadata": {},
     "output_type": "execute_result"
    }
   ],
   "source": [
    "# Page title\n",
    "# (Attribute .title means \"find and return the first title tag\")\n",
    "soup_ex.title.get_text()"
   ]
  },
  {
   "cell_type": "markdown",
   "id": "4c00750c",
   "metadata": {},
   "source": [
    "### MCS 275 lecture titles"
   ]
  },
  {
   "cell_type": "code",
   "execution_count": 12,
   "id": "8d7e341e",
   "metadata": {},
   "outputs": [],
   "source": [
    "import time\n",
    "from urllib.request import urlopen\n",
    "from bs4 import BeautifulSoup\n",
    "\n",
    "def lecture_title(n):\n",
    "    time.sleep(0.5)\n",
    "    with urlopen(\"https://www.dumas.io/teaching/2024/spring/mcs275/slides/lecture{}.html\".format(n)) as fp:\n",
    "        soup = BeautifulSoup(fp,\"html.parser\")\n",
    "    return soup.title.get_text()"
   ]
  },
  {
   "cell_type": "code",
   "execution_count": 13,
   "id": "2b0e47d4",
   "metadata": {},
   "outputs": [
    {
     "data": {
      "text/plain": [
       "'Lec 23: Julia sets'"
      ]
     },
     "execution_count": 13,
     "metadata": {},
     "output_type": "execute_result"
    }
   ],
   "source": [
    "lecture_title(23)"
   ]
  },
  {
   "cell_type": "markdown",
   "id": "3a5d1811",
   "metadata": {},
   "source": [
    "### Slide headings"
   ]
  },
  {
   "cell_type": "code",
   "execution_count": 16,
   "id": "afed4446",
   "metadata": {},
   "outputs": [],
   "source": [
    "time.sleep(0.5)\n",
    "with urlopen(\"https://www.dumas.io/teaching/2024/spring/mcs275/slides/lecture37.html\") as fp:\n",
    "    soup = BeautifulSoup(fp,\"html.parser\")"
   ]
  },
  {
   "cell_type": "code",
   "execution_count": 17,
   "id": "eb395a88",
   "metadata": {},
   "outputs": [
    {
     "name": "stdout",
     "output_type": "stream",
     "text": [
      "Working with APIs and HTML\n",
      "Getting data from the web\n",
      "API usage example\n",
      "HTML but no API?\n",
      "Simple HTML processing\n",
      "HTML document as an object\n",
      "DOM\n",
      "Beautiful Soup\n",
      "Minimal soup\n",
      "Minimal soup\n",
      "Minimal soup\n",
      "Scraping and spiders\n",
      "Minimal soup\n",
      "BS4 basics\n",
      "Working with tags\n",
      "Searching\n",
      "Simulating CSS\n"
     ]
    }
   ],
   "source": [
    "for tag in soup.find_all(\"section\"):  # section means slide\n",
    "    h2 = tag.h2 # first h2 tag in a section\n",
    "    if h2 is not None:\n",
    "        print(h2.get_text())"
   ]
  }
 ],
 "metadata": {
  "kernelspec": {
   "display_name": "Python 3 (ipykernel)",
   "language": "python",
   "name": "python3"
  },
  "language_info": {
   "codemirror_mode": {
    "name": "ipython",
    "version": 3
   },
   "file_extension": ".py",
   "mimetype": "text/x-python",
   "name": "python",
   "nbconvert_exporter": "python",
   "pygments_lexer": "ipython3",
   "version": "3.10.12"
  }
 },
 "nbformat": 4,
 "nbformat_minor": 5
}
