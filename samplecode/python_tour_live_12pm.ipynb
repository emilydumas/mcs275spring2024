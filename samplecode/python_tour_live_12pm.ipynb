{
 "cells": [
  {
   "cell_type": "markdown",
   "metadata": {},
   "source": [
    "# Python tour (live version from 12pm lecture)\n",
    "\n",
    "There is a more polished [full python tour document](https://www.dumas.io/teaching/2024/spring/mcs275/nbview/samplecode/python_tour.html) that expands on the material from these live notes created in lecture.\n",
    "\n",
    "## MCS 275 Spring 2024 - Emily Dumas"
   ]
  },
  {
   "cell_type": "code",
   "execution_count": 2,
   "metadata": {},
   "outputs": [
    {
     "name": "stdout",
     "output_type": "stream",
     "text": [
      "Hello world\n",
      "And hello MCS 275\n"
     ]
    }
   ],
   "source": [
    "print(\"Hello world\")\n",
    "print(\"And hello MCS 275\")"
   ]
  },
  {
   "cell_type": "markdown",
   "metadata": {},
   "source": [
    "## Scripts vs REPL vs notebooks\n",
    "\n",
    "(Demonstrated in the terminal)"
   ]
  },
  {
   "cell_type": "markdown",
   "metadata": {},
   "source": [
    "## Variables, assignment, basic types"
   ]
  },
  {
   "cell_type": "markdown",
   "metadata": {},
   "source": [
    "No need to declare, just assign to make a variable"
   ]
  },
  {
   "cell_type": "code",
   "execution_count": 5,
   "metadata": {},
   "outputs": [],
   "source": [
    "x = 5  # Integer\n",
    "x = \"Blimp\""
   ]
  },
  {
   "cell_type": "code",
   "execution_count": 6,
   "metadata": {},
   "outputs": [
    {
     "data": {
      "text/plain": [
       "'Blimp'"
      ]
     },
     "execution_count": 6,
     "metadata": {},
     "output_type": "execute_result"
    }
   ],
   "source": [
    "x"
   ]
  },
  {
   "cell_type": "code",
   "execution_count": 10,
   "metadata": {},
   "outputs": [],
   "source": [
    "x = 1_000_000"
   ]
  },
  {
   "cell_type": "markdown",
   "metadata": {},
   "source": [
    "`x` is an integer\n",
    "`1_000_000` is an integer **literal**"
   ]
  },
  {
   "cell_type": "markdown",
   "metadata": {},
   "source": [
    "Integer literals"
   ]
  },
  {
   "cell_type": "code",
   "execution_count": 7,
   "metadata": {},
   "outputs": [
    {
     "data": {
      "text/plain": [
       "9"
      ]
     },
     "execution_count": 7,
     "metadata": {},
     "output_type": "execute_result"
    }
   ],
   "source": [
    "525600\n",
    "1_000_000  # one million\n",
    "0xFE1B # hex literal\n",
    "0b1001  # binary 1001 = 9 decimal"
   ]
  },
  {
   "cell_type": "markdown",
   "metadata": {},
   "source": [
    "Float literals"
   ]
  },
  {
   "cell_type": "code",
   "execution_count": 9,
   "metadata": {},
   "outputs": [
    {
     "data": {
      "text/plain": [
       "1000000.0"
      ]
     },
     "execution_count": 9,
     "metadata": {},
     "output_type": "execute_result"
    }
   ],
   "source": [
    "0.1\n",
    "3.14159\n",
    "1e6  # means 1 * 10**6 as a float"
   ]
  },
  {
   "cell_type": "markdown",
   "metadata": {},
   "source": [
    "String literals"
   ]
  },
  {
   "cell_type": "code",
   "execution_count": null,
   "metadata": {},
   "outputs": [],
   "source": [
    "\"MCS 275 Python Tour (David's Version)\"\n",
    "'Laser sharks'\n",
    "\n",
    "\"\"\"\n",
    "This is a multi-line string\n",
    "this is the second line\n",
    "\"\"\"\n",
    "\n",
    "'''\n",
    "These vegetables are \"fresh\".\n",
    "'''\n"
   ]
  },
  {
   "cell_type": "markdown",
   "metadata": {},
   "source": [
    "Booleans and None"
   ]
  },
  {
   "cell_type": "code",
   "execution_count": null,
   "metadata": {},
   "outputs": [],
   "source": [
    "True  # boolean\n",
    "False # boolean\n",
    "None  # the only value of type NoneType"
   ]
  },
  {
   "cell_type": "markdown",
   "metadata": {},
   "source": [
    "## Arithmetic notes"
   ]
  },
  {
   "cell_type": "markdown",
   "metadata": {},
   "source": [
    "Division yields a float"
   ]
  },
  {
   "cell_type": "code",
   "execution_count": 11,
   "metadata": {},
   "outputs": [
    {
     "data": {
      "text/plain": [
       "3.3333333333333335"
      ]
     },
     "execution_count": 11,
     "metadata": {},
     "output_type": "execute_result"
    }
   ],
   "source": [
    "10 / 3"
   ]
  },
  {
   "cell_type": "markdown",
   "metadata": {},
   "source": [
    "Two slashes is integer division (divide and discard fractional part)"
   ]
  },
  {
   "cell_type": "code",
   "execution_count": 13,
   "metadata": {},
   "outputs": [
    {
     "data": {
      "text/plain": [
       "3"
      ]
     },
     "execution_count": 13,
     "metadata": {},
     "output_type": "execute_result"
    }
   ],
   "source": [
    "10 // 3  # integer division"
   ]
  },
  {
   "cell_type": "markdown",
   "metadata": {},
   "source": [
    "Percent is \"modulus\", i.e. \"remainder when you divide by\" operator"
   ]
  },
  {
   "cell_type": "code",
   "execution_count": 15,
   "metadata": {},
   "outputs": [
    {
     "data": {
      "text/plain": [
       "1"
      ]
     },
     "execution_count": 15,
     "metadata": {},
     "output_type": "execute_result"
    }
   ],
   "source": [
    "365 % 7  # remainder when 365 is divided by 7"
   ]
  },
  {
   "cell_type": "markdown",
   "metadata": {},
   "source": [
    "Two stars is exponentiation (not `^` which is used in some other languages)"
   ]
  },
  {
   "cell_type": "code",
   "execution_count": 17,
   "metadata": {},
   "outputs": [
    {
     "data": {
      "text/plain": [
       "1024"
      ]
     },
     "execution_count": 17,
     "metadata": {},
     "output_type": "execute_result"
    }
   ],
   "source": [
    "2**10  # 2 raised to the power 10"
   ]
  },
  {
   "cell_type": "markdown",
   "metadata": {},
   "source": [
    "## Operations on strings"
   ]
  },
  {
   "cell_type": "markdown",
   "metadata": {},
   "source": [
    "Plus concatentates"
   ]
  },
  {
   "cell_type": "code",
   "execution_count": 18,
   "metadata": {},
   "outputs": [
    {
     "data": {
      "text/plain": [
       "'Hello world'"
      ]
     },
     "execution_count": 18,
     "metadata": {},
     "output_type": "execute_result"
    }
   ],
   "source": [
    "\"Hello\" + \" \" + \"world\""
   ]
  },
  {
   "cell_type": "markdown",
   "metadata": {},
   "source": [
    "Multiplication by an integer concatenates many copies"
   ]
  },
  {
   "cell_type": "code",
   "execution_count": 20,
   "metadata": {},
   "outputs": [
    {
     "data": {
      "text/plain": [
       "'noooooooooooooooooooo'"
      ]
     },
     "execution_count": 20,
     "metadata": {},
     "output_type": "execute_result"
    }
   ],
   "source": [
    "\"n\" + (\"o\" * 20)"
   ]
  },
  {
   "cell_type": "code",
   "execution_count": 21,
   "metadata": {},
   "outputs": [
    {
     "ename": "TypeError",
     "evalue": "can't multiply sequence by non-int of type 'str'",
     "output_type": "error",
     "traceback": [
      "\u001b[0;31m---------------------------------------------------------------------------\u001b[0m",
      "\u001b[0;31mTypeError\u001b[0m                                 Traceback (most recent call last)",
      "\u001b[0;32m/tmp/ipykernel_9834/3698384928.py\u001b[0m in \u001b[0;36m<module>\u001b[0;34m\u001b[0m\n\u001b[0;32m----> 1\u001b[0;31m \u001b[0;34m\"doesn't\"\u001b[0m \u001b[0;34m*\u001b[0m \u001b[0;34m\"work\"\u001b[0m\u001b[0;34m\u001b[0m\u001b[0;34m\u001b[0m\u001b[0m\n\u001b[0m",
      "\u001b[0;31mTypeError\u001b[0m: can't multiply sequence by non-int of type 'str'"
     ]
    }
   ],
   "source": [
    "\"doesn't\" * \"work\""
   ]
  },
  {
   "cell_type": "markdown",
   "metadata": {},
   "source": [
    "## Boolean expressions and logic"
   ]
  },
  {
   "cell_type": "markdown",
   "metadata": {},
   "source": [
    "Compare with `<`, `>`, `==`, `<=`, `>=`"
   ]
  },
  {
   "cell_type": "code",
   "execution_count": 22,
   "metadata": {},
   "outputs": [
    {
     "data": {
      "text/plain": [
       "True"
      ]
     },
     "execution_count": 22,
     "metadata": {},
     "output_type": "execute_result"
    }
   ],
   "source": [
    "7 > 5"
   ]
  },
  {
   "cell_type": "code",
   "execution_count": 23,
   "metadata": {},
   "outputs": [
    {
     "data": {
      "text/plain": [
       "True"
      ]
     },
     "execution_count": 23,
     "metadata": {},
     "output_type": "execute_result"
    }
   ],
   "source": [
    "1e6 < 1e9"
   ]
  },
  {
   "cell_type": "code",
   "execution_count": 25,
   "metadata": {},
   "outputs": [
    {
     "data": {
      "text/plain": [
       "True"
      ]
     },
     "execution_count": 25,
     "metadata": {},
     "output_type": "execute_result"
    }
   ],
   "source": [
    "# (ALMOST) NEVER USE == WITH FLOATS\n",
    "0.1 + 0.2 == 0.3   # false\n",
    "abs(0.3 - (0.1+0.2)) < 1e-6  # true"
   ]
  },
  {
   "cell_type": "markdown",
   "metadata": {},
   "source": [
    "String comparison?"
   ]
  },
  {
   "cell_type": "markdown",
   "metadata": {},
   "source": [
    "< for strings means \"appears earlier in the dictionary\""
   ]
  },
  {
   "cell_type": "code",
   "execution_count": 26,
   "metadata": {},
   "outputs": [
    {
     "data": {
      "text/plain": [
       "True"
      ]
     },
     "execution_count": 26,
     "metadata": {},
     "output_type": "execute_result"
    }
   ],
   "source": [
    "\"alphabet\" < \"zebra\""
   ]
  },
  {
   "cell_type": "code",
   "execution_count": 27,
   "metadata": {},
   "outputs": [
    {
     "data": {
      "text/plain": [
       "False"
      ]
     },
     "execution_count": 27,
     "metadata": {},
     "output_type": "execute_result"
    }
   ],
   "source": [
    "\"alphabet\" < \"aardvaark\""
   ]
  },
  {
   "cell_type": "code",
   "execution_count": 29,
   "metadata": {},
   "outputs": [
    {
     "data": {
      "text/plain": [
       "True"
      ]
     },
     "execution_count": 29,
     "metadata": {},
     "output_type": "execute_result"
    }
   ],
   "source": [
    "# Gotcha: capitals letters come before lower case letters\n",
    "\"Zebra\" < \"capital\""
   ]
  },
  {
   "cell_type": "code",
   "execution_count": null,
   "metadata": {},
   "outputs": [],
   "source": []
  },
  {
   "cell_type": "markdown",
   "metadata": {},
   "source": [
    "## String to number"
   ]
  },
  {
   "cell_type": "markdown",
   "metadata": {},
   "source": [
    "To integer (base 10, base 2)"
   ]
  },
  {
   "cell_type": "code",
   "execution_count": 30,
   "metadata": {},
   "outputs": [
    {
     "data": {
      "text/plain": [
       "275"
      ]
     },
     "execution_count": 30,
     "metadata": {},
     "output_type": "execute_result"
    }
   ],
   "source": [
    "int(\"275\")"
   ]
  },
  {
   "cell_type": "code",
   "execution_count": 31,
   "metadata": {},
   "outputs": [
    {
     "data": {
      "text/plain": [
       "str"
      ]
     },
     "execution_count": 31,
     "metadata": {},
     "output_type": "execute_result"
    }
   ],
   "source": [
    "type(\"275\")"
   ]
  },
  {
   "cell_type": "code",
   "execution_count": 33,
   "metadata": {},
   "outputs": [
    {
     "data": {
      "text/plain": [
       "int"
      ]
     },
     "execution_count": 33,
     "metadata": {},
     "output_type": "execute_result"
    }
   ],
   "source": [
    "type(275)"
   ]
  },
  {
   "cell_type": "code",
   "execution_count": 34,
   "metadata": {},
   "outputs": [
    {
     "data": {
      "text/plain": [
       "9396897"
      ]
     },
     "execution_count": 34,
     "metadata": {},
     "output_type": "execute_result"
    }
   ],
   "source": [
    "int(\"100011110110001010100001\",2)  # second argument is the base when converting to an int"
   ]
  },
  {
   "cell_type": "code",
   "execution_count": 35,
   "metadata": {},
   "outputs": [
    {
     "data": {
      "text/plain": [
       "9396897"
      ]
     },
     "execution_count": 35,
     "metadata": {},
     "output_type": "execute_result"
    }
   ],
   "source": [
    "0b100011110110001010100001"
   ]
  },
  {
   "cell_type": "markdown",
   "metadata": {},
   "source": [
    "To float"
   ]
  },
  {
   "cell_type": "code",
   "execution_count": 36,
   "metadata": {},
   "outputs": [
    {
     "data": {
      "text/plain": [
       "121.5"
      ]
     },
     "execution_count": 36,
     "metadata": {},
     "output_type": "execute_result"
    }
   ],
   "source": [
    "float(\"121.5\")"
   ]
  },
  {
   "cell_type": "code",
   "execution_count": 39,
   "metadata": {},
   "outputs": [
    {
     "data": {
      "text/plain": [
       "7.32"
      ]
     },
     "execution_count": 39,
     "metadata": {},
     "output_type": "execute_result"
    }
   ],
   "source": [
    "float(\"7.32\")"
   ]
  },
  {
   "cell_type": "markdown",
   "metadata": {},
   "source": [
    "## String conversions"
   ]
  },
  {
   "cell_type": "markdown",
   "metadata": {},
   "source": [
    "Usually you don't need `str()`!"
   ]
  },
  {
   "cell_type": "code",
   "execution_count": 40,
   "metadata": {},
   "outputs": [
    {
     "data": {
      "text/plain": [
       "'51'"
      ]
     },
     "execution_count": 40,
     "metadata": {},
     "output_type": "execute_result"
    }
   ],
   "source": [
    "str(51)"
   ]
  },
  {
   "cell_type": "code",
   "execution_count": 41,
   "metadata": {},
   "outputs": [
    {
     "data": {
      "text/plain": [
       "'6.120031'"
      ]
     },
     "execution_count": 41,
     "metadata": {},
     "output_type": "execute_result"
    }
   ],
   "source": [
    "str(6.120031)"
   ]
  },
  {
   "cell_type": "code",
   "execution_count": 42,
   "metadata": {},
   "outputs": [
    {
     "data": {
      "text/plain": [
       "'False'"
      ]
     },
     "execution_count": 42,
     "metadata": {},
     "output_type": "execute_result"
    }
   ],
   "source": [
    "str(False)"
   ]
  },
  {
   "cell_type": "markdown",
   "metadata": {},
   "source": [
    "## Useful features of strings"
   ]
  },
  {
   "cell_type": "markdown",
   "metadata": {},
   "source": [
    "upper, lower, startswith, endswith, in, formatting, strip"
   ]
  },
  {
   "cell_type": "code",
   "execution_count": 1,
   "metadata": {},
   "outputs": [],
   "source": [
    "s = \"MCS 275 Spring 2024\""
   ]
  },
  {
   "cell_type": "code",
   "execution_count": 2,
   "metadata": {},
   "outputs": [
    {
     "data": {
      "text/plain": [
       "str"
      ]
     },
     "execution_count": 2,
     "metadata": {},
     "output_type": "execute_result"
    }
   ],
   "source": [
    "type(s)"
   ]
  },
  {
   "cell_type": "code",
   "execution_count": null,
   "metadata": {},
   "outputs": [],
   "source": [
    "dir(s)"
   ]
  },
  {
   "cell_type": "code",
   "execution_count": 4,
   "metadata": {},
   "outputs": [
    {
     "data": {
      "text/plain": [
       "'MCS 275 SPRING 2024'"
      ]
     },
     "execution_count": 4,
     "metadata": {},
     "output_type": "execute_result"
    }
   ],
   "source": [
    "s.upper()"
   ]
  },
  {
   "cell_type": "code",
   "execution_count": 5,
   "metadata": {},
   "outputs": [
    {
     "data": {
      "text/plain": [
       "'mcs 275 spring 2024'"
      ]
     },
     "execution_count": 5,
     "metadata": {},
     "output_type": "execute_result"
    }
   ],
   "source": [
    "s.lower()"
   ]
  },
  {
   "cell_type": "code",
   "execution_count": 7,
   "metadata": {},
   "outputs": [
    {
     "data": {
      "text/plain": [
       "True"
      ]
     },
     "execution_count": 7,
     "metadata": {},
     "output_type": "execute_result"
    }
   ],
   "source": [
    "s.startswith(\"MC\")"
   ]
  },
  {
   "cell_type": "code",
   "execution_count": 8,
   "metadata": {},
   "outputs": [
    {
     "data": {
      "text/plain": [
       "False"
      ]
     },
     "execution_count": 8,
     "metadata": {},
     "output_type": "execute_result"
    }
   ],
   "source": [
    "s.startswith(\"Math\")"
   ]
  },
  {
   "cell_type": "code",
   "execution_count": 9,
   "metadata": {},
   "outputs": [
    {
     "data": {
      "text/plain": [
       "True"
      ]
     },
     "execution_count": 9,
     "metadata": {},
     "output_type": "execute_result"
    }
   ],
   "source": [
    "s.endswith(\"2024\")"
   ]
  },
  {
   "cell_type": "code",
   "execution_count": 10,
   "metadata": {},
   "outputs": [],
   "source": [
    "t = \"   Hello everyone  \\n\""
   ]
  },
  {
   "cell_type": "code",
   "execution_count": 13,
   "metadata": {},
   "outputs": [
    {
     "data": {
      "text/plain": [
       "'Hello everyone'"
      ]
     },
     "execution_count": 13,
     "metadata": {},
     "output_type": "execute_result"
    }
   ],
   "source": [
    "t.strip()"
   ]
  },
  {
   "cell_type": "code",
   "execution_count": 14,
   "metadata": {},
   "outputs": [
    {
     "data": {
      "text/plain": [
       "'mathemati'"
      ]
     },
     "execution_count": 14,
     "metadata": {},
     "output_type": "execute_result"
    }
   ],
   "source": [
    "\"mathematics\".strip(\"cs\")"
   ]
  },
  {
   "cell_type": "code",
   "execution_count": 15,
   "metadata": {},
   "outputs": [
    {
     "data": {
      "text/plain": [
       "'athemati'"
      ]
     },
     "execution_count": 15,
     "metadata": {},
     "output_type": "execute_result"
    }
   ],
   "source": [
    "\"mathematics\".strip(\"mcs\")"
   ]
  },
  {
   "cell_type": "code",
   "execution_count": 17,
   "metadata": {},
   "outputs": [
    {
     "data": {
      "text/plain": [
       "'desk'"
      ]
     },
     "execution_count": 17,
     "metadata": {},
     "output_type": "execute_result"
    }
   ],
   "source": [
    "\"coordinate\".removeprefix(\"co\")\n",
    "\"desk\".removeprefix(\"co\")"
   ]
  },
  {
   "cell_type": "markdown",
   "metadata": {},
   "source": [
    "## Printing stuff"
   ]
  },
  {
   "cell_type": "code",
   "execution_count": 19,
   "metadata": {},
   "outputs": [
    {
     "name": "stdout",
     "output_type": "stream",
     "text": [
      "\n",
      "I have taught MCS 275 4 times\n",
      "and MCS 260 2 times.\n",
      "\n"
     ]
    }
   ],
   "source": [
    "print(\"\"\"\n",
    "I have taught MCS 275 {} times\n",
    "and MCS 260 {} times.\n",
    "\"\"\".format(4,2))"
   ]
  },
  {
   "cell_type": "code",
   "execution_count": 21,
   "metadata": {},
   "outputs": [
    {
     "name": "stdout",
     "output_type": "stream",
     "text": [
      "37 is 40.7% of 91\n"
     ]
    }
   ],
   "source": [
    "x=37\n",
    "y=91\n",
    "print(\"{} is {:2.1f}% of {}\".format(x,100.0*x/y,y))"
   ]
  },
  {
   "cell_type": "code",
   "execution_count": 22,
   "metadata": {},
   "outputs": [
    {
     "name": "stdout",
     "output_type": "stream",
     "text": [
      "37 is 40.65934065934066% of 91\n"
     ]
    }
   ],
   "source": [
    "x=37\n",
    "y=91\n",
    "print(\"{} is {}% of {}\".format(x,100.0*x/y,y))"
   ]
  },
  {
   "cell_type": "markdown",
   "metadata": {},
   "source": [
    "## Lists and dicts"
   ]
  },
  {
   "cell_type": "code",
   "execution_count": 23,
   "metadata": {},
   "outputs": [],
   "source": [
    "L = [260, 275, \"hello\", True, 275, None, -0.5]\n"
   ]
  },
  {
   "cell_type": "code",
   "execution_count": 24,
   "metadata": {},
   "outputs": [
    {
     "data": {
      "text/plain": [
       "260"
      ]
     },
     "execution_count": 24,
     "metadata": {},
     "output_type": "execute_result"
    }
   ],
   "source": [
    "L[0]"
   ]
  },
  {
   "cell_type": "code",
   "execution_count": 25,
   "metadata": {},
   "outputs": [
    {
     "data": {
      "text/plain": [
       "275"
      ]
     },
     "execution_count": 25,
     "metadata": {},
     "output_type": "execute_result"
    }
   ],
   "source": [
    "L[1]"
   ]
  },
  {
   "cell_type": "code",
   "execution_count": 26,
   "metadata": {},
   "outputs": [
    {
     "data": {
      "text/plain": [
       "'hello'"
      ]
     },
     "execution_count": 26,
     "metadata": {},
     "output_type": "execute_result"
    }
   ],
   "source": [
    "L[2]"
   ]
  },
  {
   "cell_type": "code",
   "execution_count": 27,
   "metadata": {},
   "outputs": [],
   "source": [
    "#     key   : value\n",
    "D = { \"name\": \"Zorlax\", \"age\": 1645, \n",
    "  \"species\": \"Tau Cetian robot\", \"hostile\": True }"
   ]
  },
  {
   "cell_type": "code",
   "execution_count": 28,
   "metadata": {},
   "outputs": [
    {
     "data": {
      "text/plain": [
       "'Zorlax'"
      ]
     },
     "execution_count": 28,
     "metadata": {},
     "output_type": "execute_result"
    }
   ],
   "source": [
    "D[\"name\"]"
   ]
  },
  {
   "cell_type": "code",
   "execution_count": 29,
   "metadata": {},
   "outputs": [
    {
     "data": {
      "text/plain": [
       "True"
      ]
     },
     "execution_count": 29,
     "metadata": {},
     "output_type": "execute_result"
    }
   ],
   "source": [
    "D[\"hostile\"]"
   ]
  },
  {
   "cell_type": "markdown",
   "metadata": {},
   "source": [
    "## Fancier list indexing"
   ]
  },
  {
   "cell_type": "markdown",
   "metadata": {},
   "source": [
    "Negative indices"
   ]
  },
  {
   "cell_type": "code",
   "execution_count": 30,
   "metadata": {},
   "outputs": [
    {
     "data": {
      "text/plain": [
       "[260, 275, 'hello', True, 275, None, -0.5]"
      ]
     },
     "execution_count": 30,
     "metadata": {},
     "output_type": "execute_result"
    }
   ],
   "source": [
    "L"
   ]
  },
  {
   "cell_type": "code",
   "execution_count": 31,
   "metadata": {},
   "outputs": [
    {
     "data": {
      "text/plain": [
       "-0.5"
      ]
     },
     "execution_count": 31,
     "metadata": {},
     "output_type": "execute_result"
    }
   ],
   "source": [
    "L[-1] # last element"
   ]
  },
  {
   "cell_type": "code",
   "execution_count": 34,
   "metadata": {},
   "outputs": [
    {
     "data": {
      "text/plain": [
       "275"
      ]
     },
     "execution_count": 34,
     "metadata": {},
     "output_type": "execute_result"
    }
   ],
   "source": [
    "L[-3] # third to last element"
   ]
  },
  {
   "cell_type": "code",
   "execution_count": 35,
   "metadata": {},
   "outputs": [
    {
     "data": {
      "text/plain": [
       "7"
      ]
     },
     "execution_count": 35,
     "metadata": {},
     "output_type": "execute_result"
    }
   ],
   "source": [
    "len(L)"
   ]
  },
  {
   "cell_type": "markdown",
   "metadata": {},
   "source": [
    "Slices"
   ]
  },
  {
   "cell_type": "code",
   "execution_count": 37,
   "metadata": {},
   "outputs": [
    {
     "data": {
      "text/plain": [
       "[1, 2, 4, 8, 16, 32, 64, 128, 256, 512]"
      ]
     },
     "execution_count": 37,
     "metadata": {},
     "output_type": "execute_result"
    }
   ],
   "source": [
    "L = [ 2**k for k in range(10) ]\n",
    "L"
   ]
  },
  {
   "cell_type": "code",
   "execution_count": 39,
   "metadata": {},
   "outputs": [
    {
     "data": {
      "text/plain": [
       "[16, 32, 64]"
      ]
     },
     "execution_count": 39,
     "metadata": {},
     "output_type": "execute_result"
    }
   ],
   "source": [
    "L[4:7] # everything at indices 4,5,6\n",
    "# L[4:7] has 7-4=3 elements"
   ]
  },
  {
   "cell_type": "code",
   "execution_count": 42,
   "metadata": {},
   "outputs": [
    {
     "name": "stdout",
     "output_type": "stream",
     "text": [
      "[1, 2, 4, 8, 16]\n",
      "[32, 64, 128, 256, 512]\n"
     ]
    }
   ],
   "source": [
    "print(L[:len(L)//2]) # implicit start is 0\n",
    "print(L[len(L)//2:]) # implicit end is (just after) the end of the list"
   ]
  },
  {
   "cell_type": "markdown",
   "metadata": {},
   "source": [
    "Slices with step"
   ]
  },
  {
   "cell_type": "code",
   "execution_count": null,
   "metadata": {},
   "outputs": [],
   "source": [
    "L[a:b:s] # start=a end=b take steps of size s"
   ]
  },
  {
   "cell_type": "code",
   "execution_count": 43,
   "metadata": {},
   "outputs": [
    {
     "data": {
      "text/plain": [
       "[1, 4, 16, 64, 256]"
      ]
     },
     "execution_count": 43,
     "metadata": {},
     "output_type": "execute_result"
    }
   ],
   "source": [
    "#Every other element of L\n",
    "L[::2]  # start at 0, end at the end, take every other element\n",
    "# aka items with even index"
   ]
  },
  {
   "cell_type": "code",
   "execution_count": 44,
   "metadata": {},
   "outputs": [
    {
     "data": {
      "text/plain": [
       "[1, 2, 4, 8, 16, 32, 64, 128, 256, 512]"
      ]
     },
     "execution_count": 44,
     "metadata": {},
     "output_type": "execute_result"
    }
   ],
   "source": [
    "L"
   ]
  },
  {
   "cell_type": "code",
   "execution_count": 45,
   "metadata": {},
   "outputs": [
    {
     "data": {
      "text/plain": [
       "[2, 8, 32, 128, 512]"
      ]
     },
     "execution_count": 45,
     "metadata": {},
     "output_type": "execute_result"
    }
   ],
   "source": [
    "L[1::2] # start at 1, end at the end, take every other\n",
    "# items with odd index"
   ]
  },
  {
   "cell_type": "code",
   "execution_count": 46,
   "metadata": {},
   "outputs": [
    {
     "data": {
      "text/plain": [
       "[512, 256, 128, 64, 32, 16, 8, 4, 2, 1]"
      ]
     },
     "execution_count": 46,
     "metadata": {},
     "output_type": "execute_result"
    }
   ],
   "source": [
    "L[::-1] # entire list, but taking steps to the left\n",
    "# A copy of L in reversed order"
   ]
  },
  {
   "cell_type": "markdown",
   "metadata": {},
   "source": [
    "## Membership testing"
   ]
  },
  {
   "cell_type": "code",
   "execution_count": 47,
   "metadata": {},
   "outputs": [
    {
     "data": {
      "text/plain": [
       "True"
      ]
     },
     "execution_count": 47,
     "metadata": {},
     "output_type": "execute_result"
    }
   ],
   "source": [
    "128 in L # is 128 an item in L"
   ]
  },
  {
   "cell_type": "code",
   "execution_count": 48,
   "metadata": {},
   "outputs": [
    {
     "data": {
      "text/plain": [
       "False"
      ]
     },
     "execution_count": 48,
     "metadata": {},
     "output_type": "execute_result"
    }
   ],
   "source": [
    "781 in L"
   ]
  },
  {
   "cell_type": "markdown",
   "metadata": {},
   "source": [
    "## List mutations (pop, insert, sort, item assignment)"
   ]
  },
  {
   "cell_type": "code",
   "execution_count": 49,
   "metadata": {},
   "outputs": [
    {
     "data": {
      "text/plain": [
       "[1, 2, 4, 8, 16, 32, 64, 128, 256, 512]"
      ]
     },
     "execution_count": 49,
     "metadata": {},
     "output_type": "execute_result"
    }
   ],
   "source": [
    "L"
   ]
  },
  {
   "cell_type": "code",
   "execution_count": 50,
   "metadata": {},
   "outputs": [],
   "source": [
    "L[2] = \"helium\""
   ]
  },
  {
   "cell_type": "code",
   "execution_count": 51,
   "metadata": {},
   "outputs": [
    {
     "data": {
      "text/plain": [
       "[1, 2, 'helium', 8, 16, 32, 64, 128, 256, 512]"
      ]
     },
     "execution_count": 51,
     "metadata": {},
     "output_type": "execute_result"
    }
   ],
   "source": [
    "L # has been modified or \"mutated\""
   ]
  },
  {
   "cell_type": "code",
   "execution_count": 53,
   "metadata": {},
   "outputs": [],
   "source": [
    "M = [ 78, 34, 2, 1, 2, 6, 5, 9, 1287321]\n"
   ]
  },
  {
   "cell_type": "code",
   "execution_count": 54,
   "metadata": {},
   "outputs": [],
   "source": [
    "M.sort()"
   ]
  },
  {
   "cell_type": "code",
   "execution_count": 55,
   "metadata": {},
   "outputs": [
    {
     "data": {
      "text/plain": [
       "[1, 2, 2, 5, 6, 9, 34, 78, 1287321]"
      ]
     },
     "execution_count": 55,
     "metadata": {},
     "output_type": "execute_result"
    }
   ],
   "source": [
    "M"
   ]
  },
  {
   "cell_type": "code",
   "execution_count": 58,
   "metadata": {},
   "outputs": [],
   "source": [
    "M.append(\"I'll be last now\")"
   ]
  },
  {
   "cell_type": "code",
   "execution_count": 60,
   "metadata": {},
   "outputs": [
    {
     "data": {
      "text/plain": [
       "[1, 2, 2, 5, 6, 9, 34, 78, 1287321, \"I'll be last now\"]"
      ]
     },
     "execution_count": 60,
     "metadata": {},
     "output_type": "execute_result"
    }
   ],
   "source": [
    "M"
   ]
  },
  {
   "cell_type": "code",
   "execution_count": 61,
   "metadata": {},
   "outputs": [
    {
     "data": {
      "text/plain": [
       "\"I'll be last now\""
      ]
     },
     "execution_count": 61,
     "metadata": {},
     "output_type": "execute_result"
    }
   ],
   "source": [
    "M.pop()"
   ]
  },
  {
   "cell_type": "code",
   "execution_count": 62,
   "metadata": {},
   "outputs": [
    {
     "data": {
      "text/plain": [
       "[1, 2, 2, 5, 6, 9, 34, 78, 1287321]"
      ]
     },
     "execution_count": 62,
     "metadata": {},
     "output_type": "execute_result"
    }
   ],
   "source": [
    "M"
   ]
  },
  {
   "cell_type": "markdown",
   "metadata": {},
   "source": [
    "## List methods (index)"
   ]
  },
  {
   "cell_type": "code",
   "execution_count": 64,
   "metadata": {},
   "outputs": [
    {
     "data": {
      "text/plain": [
       "6"
      ]
     },
     "execution_count": 64,
     "metadata": {},
     "output_type": "execute_result"
    }
   ],
   "source": [
    "M.index(34) # where is 34 found (first)"
   ]
  },
  {
   "cell_type": "code",
   "execution_count": 65,
   "metadata": {},
   "outputs": [
    {
     "data": {
      "text/plain": [
       "2"
      ]
     },
     "execution_count": 65,
     "metadata": {},
     "output_type": "execute_result"
    }
   ],
   "source": [
    "M.count(2) # how many items in this list are equal to 2?"
   ]
  },
  {
   "cell_type": "markdown",
   "metadata": {},
   "source": [
    "## Strings support indexing"
   ]
  },
  {
   "cell_type": "code",
   "execution_count": 66,
   "metadata": {},
   "outputs": [],
   "source": [
    "s = \"The room for the 1pm section was locked from 1:00 to 1:07pm yesterday (but who's counting)\"\n"
   ]
  },
  {
   "cell_type": "code",
   "execution_count": 67,
   "metadata": {},
   "outputs": [
    {
     "data": {
      "text/plain": [
       "90"
      ]
     },
     "execution_count": 67,
     "metadata": {},
     "output_type": "execute_result"
    }
   ],
   "source": [
    "len(s)"
   ]
  },
  {
   "cell_type": "code",
   "execution_count": 68,
   "metadata": {},
   "outputs": [
    {
     "data": {
      "text/plain": [
       "'T'"
      ]
     },
     "execution_count": 68,
     "metadata": {},
     "output_type": "execute_result"
    }
   ],
   "source": [
    "s[0]"
   ]
  },
  {
   "cell_type": "code",
   "execution_count": 69,
   "metadata": {},
   "outputs": [
    {
     "data": {
      "text/plain": [
       "'The room f'"
      ]
     },
     "execution_count": 69,
     "metadata": {},
     "output_type": "execute_result"
    }
   ],
   "source": [
    "s[:10]"
   ]
  },
  {
   "cell_type": "code",
   "execution_count": 71,
   "metadata": {},
   "outputs": [
    {
     "data": {
      "text/plain": [
       "'e 1pm sect'"
      ]
     },
     "execution_count": 71,
     "metadata": {},
     "output_type": "execute_result"
    }
   ],
   "source": [
    "s[15:25]"
   ]
  },
  {
   "cell_type": "code",
   "execution_count": 72,
   "metadata": {},
   "outputs": [
    {
     "ename": "TypeError",
     "evalue": "'str' object does not support item assignment",
     "output_type": "error",
     "traceback": [
      "\u001b[0;31m---------------------------------------------------------------------------\u001b[0m",
      "\u001b[0;31mTypeError\u001b[0m                                 Traceback (most recent call last)",
      "\u001b[0;32m/tmp/ipykernel_45522/1501757217.py\u001b[0m in \u001b[0;36m<module>\u001b[0;34m\u001b[0m\n\u001b[0;32m----> 1\u001b[0;31m \u001b[0ms\u001b[0m\u001b[0;34m[\u001b[0m\u001b[0;36m0\u001b[0m\u001b[0;34m]\u001b[0m \u001b[0;34m=\u001b[0m \u001b[0;34m\"t\"\u001b[0m\u001b[0;34m\u001b[0m\u001b[0;34m\u001b[0m\u001b[0m\n\u001b[0m",
      "\u001b[0;31mTypeError\u001b[0m: 'str' object does not support item assignment"
     ]
    }
   ],
   "source": []
  },
  {
   "cell_type": "markdown",
   "metadata": {},
   "source": [
    "## Strings are immutable"
   ]
  },
  {
   "cell_type": "code",
   "execution_count": 73,
   "metadata": {},
   "outputs": [
    {
     "ename": "TypeError",
     "evalue": "'str' object does not support item assignment",
     "output_type": "error",
     "traceback": [
      "\u001b[0;31m---------------------------------------------------------------------------\u001b[0m",
      "\u001b[0;31mTypeError\u001b[0m                                 Traceback (most recent call last)",
      "\u001b[0;32m/tmp/ipykernel_45522/1501757217.py\u001b[0m in \u001b[0;36m<module>\u001b[0;34m\u001b[0m\n\u001b[0;32m----> 1\u001b[0;31m \u001b[0ms\u001b[0m\u001b[0;34m[\u001b[0m\u001b[0;36m0\u001b[0m\u001b[0;34m]\u001b[0m \u001b[0;34m=\u001b[0m \u001b[0;34m\"t\"\u001b[0m\u001b[0;34m\u001b[0m\u001b[0;34m\u001b[0m\u001b[0m\n\u001b[0m",
      "\u001b[0;31mTypeError\u001b[0m: 'str' object does not support item assignment"
     ]
    }
   ],
   "source": [
    "s[0] = \"t\""
   ]
  },
  {
   "cell_type": "markdown",
   "metadata": {},
   "source": [
    "## Membership in dictionaries tests for existence of keys"
   ]
  },
  {
   "cell_type": "code",
   "execution_count": 74,
   "metadata": {},
   "outputs": [],
   "source": [
    "#     key   : value\n",
    "D = { \"name\": \"Zorlax\", \"age\": 1645, \n",
    "  \"species\": \"Tau Cetian robot\", \"hostile\": True }"
   ]
  },
  {
   "cell_type": "code",
   "execution_count": 75,
   "metadata": {},
   "outputs": [
    {
     "data": {
      "text/plain": [
       "False"
      ]
     },
     "execution_count": 75,
     "metadata": {},
     "output_type": "execute_result"
    }
   ],
   "source": [
    "1645 in D # asks the question, is 1645 a KEY of D"
   ]
  },
  {
   "cell_type": "code",
   "execution_count": 76,
   "metadata": {},
   "outputs": [
    {
     "data": {
      "text/plain": [
       "True"
      ]
     },
     "execution_count": 76,
     "metadata": {},
     "output_type": "execute_result"
    }
   ],
   "source": [
    "\"age\" in D"
   ]
  },
  {
   "cell_type": "markdown",
   "metadata": {},
   "source": [
    "## Dictionaries are mutable"
   ]
  },
  {
   "cell_type": "code",
   "execution_count": 77,
   "metadata": {},
   "outputs": [],
   "source": [
    "D[\"hostile\"] = False   # change val assoc to key\n",
    "D[\"phone\"] = \"+567-555-761-2781\" # add a new key-value pair"
   ]
  },
  {
   "cell_type": "code",
   "execution_count": 78,
   "metadata": {},
   "outputs": [
    {
     "data": {
      "text/plain": [
       "{'name': 'Zorlax',\n",
       " 'age': 1645,\n",
       " 'species': 'Tau Cetian robot',\n",
       " 'hostile': False,\n",
       " 'phone': '+567-555-761-2781'}"
      ]
     },
     "execution_count": 78,
     "metadata": {},
     "output_type": "execute_result"
    }
   ],
   "source": [
    "D"
   ]
  },
  {
   "cell_type": "markdown",
   "metadata": {},
   "source": [
    "## Conditionals: if-else-elif"
   ]
  },
  {
   "cell_type": "code",
   "execution_count": null,
   "metadata": {},
   "outputs": [],
   "source": [
    "# fizzbuzz\n",
    "# print integers from 0 to 100 inclusive\n",
    "# after each, if it's a multiple of 3 print \"fizz\"\n",
    "# if it's a mult of 5 print \"buzz\", and if it is\n",
    "# a multiple of both 3 and 5, print \"fizzbuzz\""
   ]
  },
  {
   "cell_type": "code",
   "execution_count": 80,
   "metadata": {},
   "outputs": [
    {
     "name": "stdout",
     "output_type": "stream",
     "text": [
      "0 fizzbuzz\n",
      "1\n",
      "2\n",
      "3 fizz\n",
      "4\n",
      "5 buzz\n",
      "6 fizz\n",
      "7\n",
      "8\n",
      "9 fizz\n",
      "10 buzz\n",
      "11\n",
      "12 fizz\n",
      "13\n",
      "14\n",
      "15 fizzbuzz\n",
      "16\n",
      "17\n",
      "18 fizz\n",
      "19\n",
      "20 buzz\n",
      "21 fizz\n",
      "22\n",
      "23\n",
      "24 fizz\n",
      "25 buzz\n",
      "26\n",
      "27 fizz\n",
      "28\n",
      "29\n",
      "30 fizzbuzz\n",
      "31\n",
      "32\n",
      "33 fizz\n",
      "34\n",
      "35 buzz\n",
      "36 fizz\n",
      "37\n",
      "38\n",
      "39 fizz\n",
      "40 buzz\n",
      "41\n",
      "42 fizz\n",
      "43\n",
      "44\n",
      "45 fizzbuzz\n",
      "46\n",
      "47\n",
      "48 fizz\n",
      "49\n",
      "50 buzz\n",
      "51 fizz\n",
      "52\n",
      "53\n",
      "54 fizz\n",
      "55 buzz\n",
      "56\n",
      "57 fizz\n",
      "58\n",
      "59\n",
      "60 fizzbuzz\n",
      "61\n",
      "62\n",
      "63 fizz\n",
      "64\n",
      "65 buzz\n",
      "66 fizz\n",
      "67\n",
      "68\n",
      "69 fizz\n",
      "70 buzz\n",
      "71\n",
      "72 fizz\n",
      "73\n",
      "74\n",
      "75 fizzbuzz\n",
      "76\n",
      "77\n",
      "78 fizz\n",
      "79\n",
      "80 buzz\n",
      "81 fizz\n",
      "82\n",
      "83\n",
      "84 fizz\n",
      "85 buzz\n",
      "86\n",
      "87 fizz\n",
      "88\n",
      "89\n",
      "90 fizzbuzz\n",
      "91\n",
      "92\n",
      "93 fizz\n",
      "94\n",
      "95 buzz\n",
      "96 fizz\n",
      "97\n",
      "98\n",
      "99 fizz\n",
      "100 buzz\n"
     ]
    }
   ],
   "source": [
    "for i in range(101):\n",
    "    if i % 15 == 0:\n",
    "        print(i,\"fizzbuzz\")\n",
    "    elif i % 5 == 0:\n",
    "        print(i,\"buzz\")\n",
    "    elif i % 3 == 0:\n",
    "        print(i,\"fizz\")\n",
    "    else:\n",
    "        print(i)"
   ]
  },
  {
   "cell_type": "code",
   "execution_count": 81,
   "metadata": {},
   "outputs": [
    {
     "name": "stdout",
     "output_type": "stream",
     "text": [
      "Hey, 5 is considered 'true'?!'\n"
     ]
    }
   ],
   "source": [
    "if 5:\n",
    "    print(\"Hey, 5 is considered 'true'?!'\")"
   ]
  },
  {
   "cell_type": "code",
   "execution_count": 82,
   "metadata": {},
   "outputs": [],
   "source": [
    "L = [\"\", \"hello\", \"no\", \"\", \"\", \"walrus\"]"
   ]
  },
  {
   "cell_type": "code",
   "execution_count": 83,
   "metadata": {},
   "outputs": [
    {
     "name": "stdout",
     "output_type": "stream",
     "text": [
      "hello\n",
      "no\n",
      "walrus\n"
     ]
    }
   ],
   "source": [
    "for w in L:\n",
    "    if w:   # if w is not the empty string\n",
    "        print(w)"
   ]
  },
  {
   "cell_type": "markdown",
   "metadata": {},
   "source": [
    "## Loops"
   ]
  },
  {
   "cell_type": "markdown",
   "metadata": {},
   "source": [
    "while - what is the smallest power of 2 that contains 7 as a digit?"
   ]
  },
  {
   "cell_type": "code",
   "execution_count": 87,
   "metadata": {},
   "outputs": [
    {
     "data": {
      "text/plain": [
       "True"
      ]
     },
     "execution_count": 87,
     "metadata": {},
     "output_type": "execute_result"
    }
   ],
   "source": [
    "\"7\" in str(2**99)"
   ]
  },
  {
   "cell_type": "code",
   "execution_count": 88,
   "metadata": {},
   "outputs": [
    {
     "name": "stdout",
     "output_type": "stream",
     "text": [
      "The smallest power of 2 containing digit 7 is 2**15=32768\n"
     ]
    }
   ],
   "source": [
    "k = 0\n",
    "while \"7\" not in str(2**k):\n",
    "    k += 1\n",
    "print(\"The smallest power of 2 containing digit 7 is 2**{}={}\".format(k,2**k))"
   ]
  },
  {
   "cell_type": "markdown",
   "metadata": {},
   "source": [
    "for - process the items in a container or the keys of a dict"
   ]
  },
  {
   "cell_type": "code",
   "execution_count": 89,
   "metadata": {},
   "outputs": [
    {
     "name": "stdout",
     "output_type": "stream",
     "text": [
      "2**68 = 295147905179352825856 contains all the digits\n",
      "2**70 = 1180591620717411303424 contains all the digits\n",
      "2**79 = 604462909807314587353088 contains all the digits\n",
      "2**82 = 4835703278458516698824704 contains all the digits\n",
      "2**84 = 19342813113834066795298816 contains all the digits\n",
      "2**87 = 154742504910672534362390528 contains all the digits\n",
      "2**88 = 309485009821345068724781056 contains all the digits\n",
      "2**89 = 618970019642690137449562112 contains all the digits\n",
      "2**94 = 19807040628566084398385987584 contains all the digits\n",
      "2**95 = 39614081257132168796771975168 contains all the digits\n",
      "2**96 = 79228162514264337593543950336 contains all the digits\n",
      "2**97 = 158456325028528675187087900672 contains all the digits\n",
      "2**98 = 316912650057057350374175801344 contains all the digits\n",
      "2**100 = 1267650600228229401496703205376 contains all the digits\n"
     ]
    }
   ],
   "source": [
    "# Of the first 100 powers of 2, which of them contain all of the digits 0-9?\n",
    "for k in range(1,101):\n",
    "    # now k will be one of the values between 1 and 100 inclusive\n",
    "    # check whether all the digits are in 2**k\n",
    "    digits_contained = 0\n",
    "    for d in \"0123456789\":\n",
    "        if d in str(2**k):\n",
    "            digits_contained += 1\n",
    "    if digits_contained == 10:\n",
    "        print(\"2**{} = {} contains all the digits\".format(k,2**k))"
   ]
  },
  {
   "cell_type": "code",
   "execution_count": null,
   "metadata": {},
   "outputs": [],
   "source": []
  },
  {
   "cell_type": "markdown",
   "metadata": {},
   "source": [
    "## Files"
   ]
  },
  {
   "cell_type": "code",
   "execution_count": 90,
   "metadata": {},
   "outputs": [],
   "source": [
    "words = []\n",
    "fp = open(\"words.txt\",\"r\")\n",
    "for line in fp: # iterates over lines in the text file\n",
    "    words.append(line.strip())\n",
    "fp.close() # Tell OS I'm done with this file"
   ]
  },
  {
   "cell_type": "code",
   "execution_count": 91,
   "metadata": {},
   "outputs": [
    {
     "data": {
      "text/plain": [
       "370105"
      ]
     },
     "execution_count": 91,
     "metadata": {},
     "output_type": "execute_result"
    }
   ],
   "source": [
    "len(words)"
   ]
  },
  {
   "cell_type": "code",
   "execution_count": 92,
   "metadata": {},
   "outputs": [
    {
     "data": {
      "text/plain": [
       "'endostraca'"
      ]
     },
     "execution_count": 92,
     "metadata": {},
     "output_type": "execute_result"
    }
   ],
   "source": [
    "words[100000]"
   ]
  },
  {
   "cell_type": "code",
   "execution_count": 93,
   "metadata": {},
   "outputs": [
    {
     "data": {
      "text/plain": [
       "['aggry',\n",
       " 'ahungry',\n",
       " 'angry',\n",
       " 'anhungry',\n",
       " 'gry',\n",
       " 'hungry',\n",
       " 'overangry',\n",
       " 'podagry',\n",
       " 'puggry',\n",
       " 'unangry']"
      ]
     },
     "execution_count": 93,
     "metadata": {},
     "output_type": "execute_result"
    }
   ],
   "source": [
    "[ w for w in words if w.endswith(\"gry\") ]"
   ]
  },
  {
   "cell_type": "code",
   "execution_count": 94,
   "metadata": {},
   "outputs": [
    {
     "data": {
      "text/plain": [
       "['acupunctuate',\n",
       " 'acupunctuation',\n",
       " 'acupuncturation',\n",
       " 'acupuncturator',\n",
       " 'acupuncture',\n",
       " 'acupunctured',\n",
       " 'acupuncturing',\n",
       " 'acupuncturist',\n",
       " 'acupuncturists',\n",
       " 'acutenaculum',\n",
       " 'albuquerque',\n",
       " 'altocumulus',\n",
       " 'angulatosinuous',\n",
       " 'antituberculous',\n",
       " 'antiusurious',\n",
       " 'aquacultural',\n",
       " 'aquaculture',\n",
       " 'aquapuncture',\n",
       " 'aquascutum',\n",
       " 'aquicultural',\n",
       " 'aquiculture',\n",
       " 'aquiculturist',\n",
       " 'augurous',\n",
       " 'augustus',\n",
       " 'auhuhu',\n",
       " 'auriculoventricular',\n",
       " 'auripuncture',\n",
       " 'aurothiosulphuric',\n",
       " 'autogenuous',\n",
       " 'autojuggernaut',\n",
       " 'autothaumaturgist',\n",
       " 'autotuberculin',\n",
       " 'bardocucullus',\n",
       " 'bupleurum',\n",
       " 'burkundauze',\n",
       " 'busuuti',\n",
       " 'calcareosulphurous',\n",
       " 'carunculous',\n",
       " 'cauliculus',\n",
       " 'cellulocutaneous',\n",
       " 'centunculus',\n",
       " 'chautauqua',\n",
       " 'chautauquan',\n",
       " 'chumulu',\n",
       " 'churrigueresque',\n",
       " 'circuituously',\n",
       " 'circumfluous',\n",
       " 'circumquaque',\n",
       " 'circumundulate',\n",
       " 'circumundulation',\n",
       " 'cirrocumulous',\n",
       " 'cirrocumulus',\n",
       " 'colloquiquiums',\n",
       " 'corpusculous',\n",
       " 'corpusculum',\n",
       " 'countercultural',\n",
       " 'counterculture',\n",
       " 'countercultures',\n",
       " 'counterculturist',\n",
       " 'counterfugue',\n",
       " 'counterpuncture',\n",
       " 'counterstimulus',\n",
       " 'couscousou',\n",
       " 'crepusculum',\n",
       " 'crucibulum',\n",
       " 'cubiculum',\n",
       " 'cubitocutaneous',\n",
       " 'cucujus',\n",
       " 'cucullus',\n",
       " 'cuculus',\n",
       " 'cucurbitaceous',\n",
       " 'cuichunchulli',\n",
       " 'cumulocirrus',\n",
       " 'cumulonimbus',\n",
       " 'cumulostratus',\n",
       " 'cumulous',\n",
       " 'cumulus',\n",
       " 'cuniculus',\n",
       " 'cupfulfuls',\n",
       " 'cupuliferous',\n",
       " 'curriculum',\n",
       " 'curriculums',\n",
       " 'curucucu',\n",
       " 'curucui',\n",
       " 'cuscutaceous',\n",
       " 'deorusumduction',\n",
       " 'didunculus',\n",
       " 'discountinuous',\n",
       " 'douroucouli',\n",
       " 'dracunculus',\n",
       " 'dulcifluous',\n",
       " 'durukuli',\n",
       " 'dutuburi',\n",
       " 'epituberculous',\n",
       " 'equicontinuous',\n",
       " 'equuleus',\n",
       " 'eugubium',\n",
       " 'euthyneurous',\n",
       " 'extracurriculum',\n",
       " 'falcunculus',\n",
       " 'ferthumlungur',\n",
       " 'fluctuous',\n",
       " 'fouquieriaceous',\n",
       " 'fractocumulus',\n",
       " 'fructicultural',\n",
       " 'fructiculture',\n",
       " 'fructuarius',\n",
       " 'fructuous',\n",
       " 'fructuously',\n",
       " 'fructuousness',\n",
       " 'frustulum',\n",
       " 'fruticulture',\n",
       " 'fulgourous',\n",
       " 'fulgurous',\n",
       " 'fumulus',\n",
       " 'fundulus',\n",
       " 'funiculus',\n",
       " 'funipendulous',\n",
       " 'furculum',\n",
       " 'furfuraceous',\n",
       " 'furfuraceously',\n",
       " 'furfurous',\n",
       " 'furuncular',\n",
       " 'furunculoid',\n",
       " 'furunculosis',\n",
       " 'furunculous',\n",
       " 'furunculus',\n",
       " 'genuflexuous',\n",
       " 'gourounut',\n",
       " 'guaycuru',\n",
       " 'guaycuruan',\n",
       " 'guarapucu',\n",
       " 'gubernaculum',\n",
       " 'guebucu',\n",
       " 'guttulous',\n",
       " 'hydrosulfurous',\n",
       " 'hydrosulphurous',\n",
       " 'hyperscrupulous',\n",
       " 'hyposulfurous',\n",
       " 'hyposulphurous',\n",
       " 'hirsutulous',\n",
       " 'hirudiniculture',\n",
       " 'homunculus',\n",
       " 'humourful',\n",
       " 'humuhumunukunukuapuaa',\n",
       " 'humulus',\n",
       " 'hutukhtu',\n",
       " 'hutuktu',\n",
       " 'incunabulum',\n",
       " 'incunabuulum',\n",
       " 'infructuous',\n",
       " 'infructuously',\n",
       " 'infundibulum',\n",
       " 'inguinocutaneous',\n",
       " 'inunctuous',\n",
       " 'iracundulous',\n",
       " 'yurujure',\n",
       " 'jiujutsu',\n",
       " 'jiujutsus',\n",
       " 'jugulum',\n",
       " 'jujutsu',\n",
       " 'jujutsus',\n",
       " 'jusquaboutisme',\n",
       " 'jusquaboutist',\n",
       " 'khutuktu',\n",
       " 'kotukutuku',\n",
       " 'kukuruku',\n",
       " 'laurustinus',\n",
       " 'lucifugous',\n",
       " 'lugubrious',\n",
       " 'lugubriously',\n",
       " 'lugubriousness',\n",
       " 'lugubrous',\n",
       " 'lupulinous',\n",
       " 'lupulinum',\n",
       " 'lupulus',\n",
       " 'lupuserythematosus',\n",
       " 'luteofulvous',\n",
       " 'luteofuscous',\n",
       " 'luxurious',\n",
       " 'luxuriously',\n",
       " 'luxuriousness',\n",
       " 'mammatocumulus',\n",
       " 'masculonucleus',\n",
       " 'mucocutaneous',\n",
       " 'mucopurulent',\n",
       " 'mucosanguineous',\n",
       " 'mucosopurulent',\n",
       " 'mucronulatous',\n",
       " 'multangulous',\n",
       " 'multangulum',\n",
       " 'multicultural',\n",
       " 'multifistulous',\n",
       " 'multiguttulate',\n",
       " 'multijugous',\n",
       " 'multiloquious',\n",
       " 'multiloquous',\n",
       " 'multisiliquous',\n",
       " 'multituberculata',\n",
       " 'multituberculate',\n",
       " 'multituberculated',\n",
       " 'multituberculy',\n",
       " 'multituberculism',\n",
       " 'multitubular',\n",
       " 'multitudinous',\n",
       " 'multitudinously',\n",
       " 'multitudinousness',\n",
       " 'multungulate',\n",
       " 'mundungus',\n",
       " 'mundunugu',\n",
       " 'murmurous',\n",
       " 'murmurously',\n",
       " 'murumuru',\n",
       " 'musculature',\n",
       " 'musculatures',\n",
       " 'musculocellular',\n",
       " 'musculocutaneous',\n",
       " 'musculofibrous',\n",
       " 'musculoligamentous',\n",
       " 'musculomembranous',\n",
       " 'musculotegumentary',\n",
       " 'musculotendinous',\n",
       " 'musculous',\n",
       " 'musculus',\n",
       " 'mutuatitious',\n",
       " 'mutuum',\n",
       " 'muumuu',\n",
       " 'muumuus',\n",
       " 'neuromuscular',\n",
       " 'neuromusculature',\n",
       " 'neurosuture',\n",
       " 'nonlugubrious',\n",
       " 'nonlugubriously',\n",
       " 'nonlugubriousness',\n",
       " 'nonsulfurous',\n",
       " 'nonsulphurous',\n",
       " 'nontuberculous',\n",
       " 'nontumultuous',\n",
       " 'nontumultuously',\n",
       " 'nontumultuousness',\n",
       " 'nonubiquitous',\n",
       " 'nonubiquitously',\n",
       " 'nonubiquitousness',\n",
       " 'nonusurious',\n",
       " 'nonusuriously',\n",
       " 'nonusuriousness',\n",
       " 'nuciculture',\n",
       " 'nucleoalbuminuria',\n",
       " 'nuculanium',\n",
       " 'nudicaulous',\n",
       " 'nugumiut',\n",
       " 'nullibiquitous',\n",
       " 'nutriculture',\n",
       " 'okupukupu',\n",
       " 'opusculum',\n",
       " 'outpursue',\n",
       " 'outpursued',\n",
       " 'outpursuing',\n",
       " 'outusure',\n",
       " 'overluxurious',\n",
       " 'overluxuriously',\n",
       " 'overluxuriousness',\n",
       " 'overpresumptuous',\n",
       " 'overpresumptuously',\n",
       " 'overpresumptuousness',\n",
       " 'overscrupulous',\n",
       " 'overscrupulously',\n",
       " 'overscrupulousness',\n",
       " 'papulopustular',\n",
       " 'papulopustule',\n",
       " 'papulosquamous',\n",
       " 'paratuberculous',\n",
       " 'parukutu',\n",
       " 'pectunculus',\n",
       " 'pedunculus',\n",
       " 'pinguiculaceous',\n",
       " 'pinguitudinous',\n",
       " 'pleurosaurus',\n",
       " 'plumulaceous',\n",
       " 'pluriguttulate',\n",
       " 'precurriculum',\n",
       " 'precurriculums',\n",
       " 'preluxurious',\n",
       " 'preluxuriously',\n",
       " 'preluxuriousness',\n",
       " 'presubiculum',\n",
       " 'presumptuous',\n",
       " 'presumptuously',\n",
       " 'presumptuousness',\n",
       " 'presuperfluous',\n",
       " 'presuperfluously',\n",
       " 'pretuberculous',\n",
       " 'propugnaculum',\n",
       " 'pseudambulacrum',\n",
       " 'pseudobulbous',\n",
       " 'pseudocapitulum',\n",
       " 'pseudocourteous',\n",
       " 'pseudocourteously',\n",
       " 'pseudocultural',\n",
       " 'pseudoculturally',\n",
       " 'pseudofluctuation',\n",
       " 'pseudolunula',\n",
       " 'pseudolunulae',\n",
       " 'pseudolunule',\n",
       " 'pseudomiraculous',\n",
       " 'pseudomiraculously',\n",
       " 'pseudomultilocular',\n",
       " 'pseudomutuality',\n",
       " 'pseudoneuropterous',\n",
       " 'pseudonymuncule',\n",
       " 'pseudonucleolus',\n",
       " 'pseudoperculum',\n",
       " 'pseudopurpurin',\n",
       " 'pseudoramulus',\n",
       " 'pseudoscutum',\n",
       " 'pseudostudious',\n",
       " 'pseudostudiously',\n",
       " 'pseudotubercular',\n",
       " 'pseudotuberculosis',\n",
       " 'pseudotuberculous',\n",
       " 'puberulous',\n",
       " 'puericulture',\n",
       " 'pulchritudinous',\n",
       " 'pulmocutaneous',\n",
       " 'pulvinulus',\n",
       " 'punctulum',\n",
       " 'pupuluca',\n",
       " 'puromucous',\n",
       " 'purpuraceous',\n",
       " 'purpureous',\n",
       " 'purpuriferous',\n",
       " 'purpurigenous',\n",
       " 'purpuriparous',\n",
       " 'purpurogenous',\n",
       " 'purupuru',\n",
       " 'pustulatous',\n",
       " 'pustulous',\n",
       " 'quadrauricular',\n",
       " 'quadrienniumutile',\n",
       " 'quadrijugous',\n",
       " 'quadritubercular',\n",
       " 'quadrituberculate',\n",
       " 'quadrumanous',\n",
       " 'quadrupedous',\n",
       " 'quadruplicature',\n",
       " 'quantulum',\n",
       " 'quasicontinuous',\n",
       " 'querulous',\n",
       " 'querulously',\n",
       " 'querulousness',\n",
       " 'quinquarticular',\n",
       " 'quinquatrus',\n",
       " 'quinquecapsular',\n",
       " 'quinquefarious',\n",
       " 'quinquejugous',\n",
       " 'quinquelocular',\n",
       " 'quinqueloculine',\n",
       " 'quinquennium',\n",
       " 'quinquenniums',\n",
       " 'quinquepunctal',\n",
       " 'quinquepunctate',\n",
       " 'quinquertium',\n",
       " 'quinquetubercular',\n",
       " 'quinquetuberculate',\n",
       " 'quinquevalvous',\n",
       " 'quinquevalvular',\n",
       " 'quisquilious',\n",
       " 'quisquous',\n",
       " 'ranunculaceous',\n",
       " 'ranunculus',\n",
       " 'ranunculuses',\n",
       " 'renunculus',\n",
       " 'robustuous',\n",
       " 'rufoferruginous',\n",
       " 'rufofulvous',\n",
       " 'rufofuscous',\n",
       " 'rufulous',\n",
       " 'rumbumptious',\n",
       " 'rumbustious',\n",
       " 'rumbustiousness',\n",
       " 'rumgumptious',\n",
       " 'sacculoutricular',\n",
       " 'salinosulphureous',\n",
       " 'sanguifluous',\n",
       " 'sanguinopurulent',\n",
       " 'sanguisugous',\n",
       " 'saururaceous',\n",
       " 'saururous',\n",
       " 'saururus',\n",
       " 'scabriusculous',\n",
       " 'scrofulotuberculous',\n",
       " 'scrupulous',\n",
       " 'scrupulously',\n",
       " 'scrupulousness',\n",
       " 'scrupulum',\n",
       " 'scrupulus',\n",
       " 'sculpturesque',\n",
       " 'sculpturesquely',\n",
       " 'sculpturesqueness',\n",
       " 'scutulum',\n",
       " 'sesquisulphuret',\n",
       " 'shukulumbwe',\n",
       " 'sinuatoundulate',\n",
       " 'sinuauricular',\n",
       " 'siphunculus',\n",
       " 'sipunculus',\n",
       " 'spinotuberculous',\n",
       " 'splenunculus',\n",
       " 'spurluous',\n",
       " 'sputumous',\n",
       " 'squamatogranulous',\n",
       " 'squamatotuberculate',\n",
       " 'stratocumulus',\n",
       " 'stultiloquious',\n",
       " 'subacidulous',\n",
       " 'subaqueous',\n",
       " 'subauditur',\n",
       " 'subauricular',\n",
       " 'subauriculate',\n",
       " 'subbituminous',\n",
       " 'subbureau',\n",
       " 'subbureaus',\n",
       " 'subbureaux',\n",
       " 'subcingulum',\n",
       " 'subclaviojugular',\n",
       " 'subcontiguous',\n",
       " 'subcontinuous',\n",
       " 'subcrureus',\n",
       " 'subcrustaceous',\n",
       " 'subcultural',\n",
       " 'subculturally',\n",
       " 'subculture',\n",
       " 'subcultured',\n",
       " 'subcultures',\n",
       " 'subculturing',\n",
       " 'subcuneus',\n",
       " 'subcutaneous',\n",
       " 'subcutaneously',\n",
       " 'subcutaneousness',\n",
       " 'subcuticular',\n",
       " 'subflexuous',\n",
       " 'subflexuously',\n",
       " 'subfuscous',\n",
       " 'subglumaceous',\n",
       " 'subiculum',\n",
       " 'subjugular',\n",
       " 'sublustrous',\n",
       " 'sublustrously',\n",
       " 'sublustrousness',\n",
       " 'submucous',\n",
       " 'submuscular',\n",
       " 'submuscularly',\n",
       " 'subnodulous',\n",
       " 'subnucleus',\n",
       " 'subnucleuses',\n",
       " 'subnutritious',\n",
       " 'subnutritiously',\n",
       " 'subnutritiousness',\n",
       " 'suboperculum',\n",
       " 'subpeduncular',\n",
       " 'subpedunculate',\n",
       " 'subpedunculated',\n",
       " 'subpunctuation',\n",
       " 'subquadrangular',\n",
       " 'subqueues',\n",
       " 'subquinquefid',\n",
       " 'subquintuple',\n",
       " 'subregulus',\n",
       " 'subsensuous',\n",
       " 'subsensuously',\n",
       " 'subsensuousness',\n",
       " 'subsinuous',\n",
       " 'substructural',\n",
       " 'substructure',\n",
       " 'substructured',\n",
       " 'substructures',\n",
       " 'subsulcus',\n",
       " 'subsultorious',\n",
       " 'subsultorysubsultus',\n",
       " 'subsultus',\n",
       " 'subtegulaneous',\n",
       " 'subteraqueous',\n",
       " 'subtercutaneous',\n",
       " 'subterfluous',\n",
       " 'subterraqueous',\n",
       " 'subtersensuous',\n",
       " 'subtriquetrous',\n",
       " 'subturriculate',\n",
       " 'subturriculated',\n",
       " 'subucula',\n",
       " 'subumbelliferous',\n",
       " 'subunequal',\n",
       " 'subunequally',\n",
       " 'subunequalness',\n",
       " 'subungual',\n",
       " 'subunguial',\n",
       " 'subungulata',\n",
       " 'subungulate',\n",
       " 'succinosulphuric',\n",
       " 'succourful',\n",
       " 'succubous',\n",
       " 'succubus',\n",
       " 'succubuses',\n",
       " 'succulous',\n",
       " 'sucuriu',\n",
       " 'sucuruju',\n",
       " 'suffruticous',\n",
       " 'suffruticulose',\n",
       " 'sulculus',\n",
       " 'sulfopurpurate',\n",
       " 'sulfopurpuric',\n",
       " 'sulfureous',\n",
       " 'sulfureously',\n",
       " 'sulfureousness',\n",
       " 'sulfurous',\n",
       " 'sulfurously',\n",
       " 'sulfurousness',\n",
       " 'sulphopupuric',\n",
       " 'sulphopurpurate',\n",
       " 'sulphopurpuric',\n",
       " 'sulphosulphurous',\n",
       " 'sulphureonitrous',\n",
       " 'sulphureosuffused',\n",
       " 'sulphureous',\n",
       " 'sulphureously',\n",
       " 'sulphureousness',\n",
       " 'sulphuriferous',\n",
       " 'sulphurious',\n",
       " 'sulphurou',\n",
       " 'sulphurous',\n",
       " 'sulphurously',\n",
       " 'sulphurousness',\n",
       " 'sumptuous',\n",
       " 'sumptuously',\n",
       " 'sumptuousness',\n",
       " 'superaccumulate',\n",
       " 'superaccumulated',\n",
       " 'superaccumulating',\n",
       " 'superaccumulation',\n",
       " 'superaqueous',\n",
       " 'superarduous',\n",
       " 'superarduously',\n",
       " 'superarduousness',\n",
       " 'superculture',\n",
       " 'supercurious',\n",
       " 'supercuriously',\n",
       " 'supercuriousness',\n",
       " 'superdubious',\n",
       " 'superdubiously',\n",
       " 'superdubiousness',\n",
       " 'superfluous',\n",
       " 'superfluously',\n",
       " 'superfluousness',\n",
       " 'superindustrious',\n",
       " 'superindustriously',\n",
       " 'superindustriousness',\n",
       " 'superluxurious',\n",
       " 'superluxuriously',\n",
       " 'superluxuriousness',\n",
       " 'supernaculum',\n",
       " 'supernumerous',\n",
       " 'supernumerously',\n",
       " 'supernumerousness',\n",
       " 'superoutput',\n",
       " 'superquadrupetal',\n",
       " 'supersensuous',\n",
       " 'supersensuously',\n",
       " 'supersensuousness',\n",
       " 'superstrenuous',\n",
       " 'superstrenuously',\n",
       " 'superstrenuousness',\n",
       " 'superstructural',\n",
       " 'superstructure',\n",
       " 'superstructures',\n",
       " 'supersulcus',\n",
       " 'supersulfureted',\n",
       " 'supersulfurize',\n",
       " 'supersulfurized',\n",
       " 'supersulfurizing',\n",
       " 'supersulphuret',\n",
       " 'supersulphureted',\n",
       " 'supersulphurize',\n",
       " 'supersulphurized',\n",
       " 'supersulphurizing',\n",
       " 'supersuperabundance',\n",
       " 'supersuperabundant',\n",
       " 'supersuperabundantly',\n",
       " 'supersuspicious',\n",
       " 'supersuspiciously',\n",
       " 'supersuspiciousness',\n",
       " 'supertuchun',\n",
       " 'supervoluminous',\n",
       " 'supervoluminously',\n",
       " 'suprasensuous',\n",
       " 'surculigerous',\n",
       " 'surculous',\n",
       " 'surculus',\n",
       " 'sursumduction',\n",
       " 'surucucu',\n",
       " 'sustentaculum',\n",
       " 'susuhunan',\n",
       " 'susumu',\n",
       " 'susurrous',\n",
       " 'susurrus',\n",
       " 'susurruses',\n",
       " 'taltushtuntude',\n",
       " 'tautoousious',\n",
       " 'tautousious',\n",
       " 'thaumaturgus',\n",
       " 'thesaurusauri',\n",
       " 'thumlungur',\n",
       " 'thuribulum',\n",
       " 'tuberculariaceous',\n",
       " 'tuberculatogibbous',\n",
       " 'tuberculatospinous',\n",
       " 'tuberculiferous',\n",
       " 'tuberculous',\n",
       " 'tuberculously',\n",
       " 'tuberculousness',\n",
       " 'tuberculum',\n",
       " 'tuberuculate',\n",
       " 'tubulature',\n",
       " 'tubuliferous',\n",
       " 'tubuliflorous',\n",
       " 'tubulosaccular',\n",
       " 'tubulous',\n",
       " 'tubulously',\n",
       " 'tubulousness',\n",
       " 'tubulure',\n",
       " 'tubulures',\n",
       " 'tubulus',\n",
       " 'tucutucu',\n",
       " 'tugurium',\n",
       " 'tukutuku',\n",
       " 'tumatakuru',\n",
       " 'tumatukuru',\n",
       " 'tumulous',\n",
       " 'tumultuary',\n",
       " 'tumultuaries',\n",
       " 'tumultuarily',\n",
       " 'tumultuariness',\n",
       " 'tumultuate',\n",
       " 'tumultuation',\n",
       " 'tumultuoso',\n",
       " 'tumultuous',\n",
       " 'tumultuously',\n",
       " 'tumultuousness',\n",
       " 'tumultus',\n",
       " 'tumulus',\n",
       " 'tumuluses',\n",
       " 'tuquoque',\n",
       " 'tutulus',\n",
       " 'ubiquious',\n",
       " 'ubiquitous',\n",
       " 'ubiquitously',\n",
       " 'ubiquitousness',\n",
       " 'ubussu',\n",
       " 'ucuuba',\n",
       " 'uhuru',\n",
       " 'ulcuscule',\n",
       " 'ullucu',\n",
       " 'ultracredulous',\n",
       " 'ultraluxurious',\n",
       " 'ultraoutrageous',\n",
       " 'ultrastrenuous',\n",
       " 'ultrastructural',\n",
       " 'ultrastructure',\n",
       " 'ultravirtuous',\n",
       " 'ululu',\n",
       " 'umbelluliferous',\n",
       " 'umbraculiferous',\n",
       " 'umbraculum',\n",
       " 'umbundu',\n",
       " 'unaccumulable',\n",
       " 'unaccumulate',\n",
       " 'unaccumulated',\n",
       " 'unaccumulation',\n",
       " 'unaccumulative',\n",
       " 'unaccumulatively',\n",
       " 'unaccumulativeness',\n",
       " 'unacuminous',\n",
       " 'unadulterous',\n",
       " 'unadulterously',\n",
       " 'unadventurous',\n",
       " 'unadventurously',\n",
       " 'unadventurousness',\n",
       " 'unagricultural',\n",
       " 'unagriculturally',\n",
       " 'unambiguous',\n",
       " 'unambiguously',\n",
       " 'unambiguousness',\n",
       " 'unarduous',\n",
       " 'unarduously',\n",
       " 'unarduousness',\n",
       " 'unassiduous',\n",
       " 'unassiduously',\n",
       " 'unassiduousness',\n",
       " 'unassuetude',\n",
       " 'unaudacious',\n",
       " 'unaudaciously',\n",
       " 'unaudaciousness',\n",
       " 'unauspicious',\n",
       " 'unauspiciously',\n",
       " 'unauspiciousness',\n",
       " 'unautumnal',\n",
       " 'unbeauteous',\n",
       " 'unbeauteously',\n",
       " 'unbeauteousness',\n",
       " 'unbeautiful',\n",
       " 'unbeautifully',\n",
       " 'unbeautifulness',\n",
       " 'unbeguileful',\n",
       " 'unbibulous',\n",
       " 'unbibulously',\n",
       " 'unbibulousness',\n",
       " 'unblusterous',\n",
       " 'unblusterously',\n",
       " 'unbounteous',\n",
       " 'unbounteously',\n",
       " 'unbounteousness',\n",
       " 'unbountiful',\n",
       " 'unbountifully',\n",
       " 'unbountifulness',\n",
       " 'unbumptious',\n",
       " 'unbumptiously',\n",
       " 'unbumptiousness',\n",
       " 'unbureaucratic',\n",
       " 'unbureaucratically',\n",
       " 'unburlesqued',\n",
       " 'uncalumnious',\n",
       " 'uncalumniously',\n",
       " 'uncaucusable',\n",
       " 'uncautelous',\n",
       " 'uncautious',\n",
       " 'uncautiously',\n",
       " 'uncautiousness',\n",
       " 'unchauffeured',\n",
       " 'uncircuitous',\n",
       " 'uncircuitously',\n",
       " 'uncircuitousness',\n",
       " 'uncircumlocutory',\n",
       " 'uncongruous',\n",
       " 'uncongruously',\n",
       " 'uncongruousness',\n",
       " 'unconspicuous',\n",
       " 'unconspicuously',\n",
       " 'unconspicuousness',\n",
       " 'unconstructural',\n",
       " 'uncontemptuous',\n",
       " 'uncontemptuously',\n",
       " 'uncontemptuousness',\n",
       " 'uncontiguous',\n",
       " 'uncontiguously',\n",
       " 'uncontiguousness',\n",
       " 'uncontinuous',\n",
       " 'uncontinuously',\n",
       " 'uncontumacious',\n",
       " 'uncontumaciously',\n",
       " 'uncontumaciousness',\n",
       " 'uncourageous',\n",
       " 'uncourageously',\n",
       " 'uncourageousness',\n",
       " 'uncourteous',\n",
       " 'uncourteously',\n",
       " 'uncourteousness',\n",
       " 'uncredulous',\n",
       " 'uncredulously',\n",
       " 'uncredulousness',\n",
       " 'unctuarium',\n",
       " 'unctuous',\n",
       " 'unctuously',\n",
       " 'unctuousness',\n",
       " 'unculturable',\n",
       " 'unculture',\n",
       " 'uncultured',\n",
       " 'unculturedness',\n",
       " 'uncumbrous',\n",
       " 'uncumbrously',\n",
       " 'uncumbrousness',\n",
       " 'uncumulative',\n",
       " 'uncurious',\n",
       " 'uncuriously',\n",
       " 'uncurricularized',\n",
       " 'uncuticulate',\n",
       " 'underscrupulous',\n",
       " 'underscrupulously',\n",
       " 'understimulus',\n",
       " 'understructure',\n",
       " 'understructures',\n",
       " 'undisputatious',\n",
       " 'undisputatiously',\n",
       " 'undisputatiousness',\n",
       " 'undistrustful',\n",
       " 'undistrustfully',\n",
       " 'undistrustfulness',\n",
       " 'undoubtful',\n",
       " 'undoubtfully',\n",
       " 'undoubtfulness',\n",
       " 'undubious',\n",
       " 'undubiously',\n",
       " 'undubiousness',\n",
       " 'undulatus',\n",
       " 'undulous',\n",
       " 'undumbfounded',\n",
       " 'unduteous',\n",
       " 'unduteously',\n",
       " 'unduteousness',\n",
       " 'undutiful',\n",
       " 'undutifully',\n",
       " 'undutifulness',\n",
       " 'unemulous',\n",
       " 'unequiangular',\n",
       " 'uneuphonious',\n",
       " 'uneuphoniously',\n",
       " 'uneuphoniousness',\n",
       " 'unfabulous',\n",
       " 'unfabulously',\n",
       " 'unfatuitous',\n",
       " 'unfatuitously',\n",
       " 'unfistulous',\n",
       " 'unflavourous',\n",
       " 'unfluctuant',\n",
       " 'unfluctuating',\n",
       " 'unforethoughtful',\n",
       " 'unfortuitous',\n",
       " 'unfortuitously',\n",
       " 'unfortuitousness',\n",
       " 'unfraudulent',\n",
       " 'unfraudulently',\n",
       " 'unfructuous',\n",
       " 'unfructuously',\n",
       " 'unfruitful',\n",
       " 'unfruitfully',\n",
       " 'unfruitfulness',\n",
       " 'unfrutuosity',\n",
       " 'unfurious',\n",
       " 'unfurnitured',\n",
       " 'unfuturistic',\n",
       " 'ungarrulous',\n",
       " 'ungarrulously',\n",
       " 'ungarrulousness',\n",
       " 'ungeuntarium',\n",
       " 'unglamourous',\n",
       " 'unglamourously',\n",
       " 'unglutinous',\n",
       " 'unglutinously',\n",
       " 'unglutinousness',\n",
       " 'ungluttonous',\n",
       " 'ungratuitous',\n",
       " 'ungratuitously',\n",
       " 'ungratuitousness',\n",
       " 'unguentarium',\n",
       " 'unguentiferous',\n",
       " 'unguentous',\n",
       " 'unguentum',\n",
       " 'unguicular',\n",
       " 'unguiculata',\n",
       " 'unguiculate',\n",
       " 'unguiculated',\n",
       " 'unguicule',\n",
       " 'unguiferous',\n",
       " 'unguileful',\n",
       " 'unguilefully',\n",
       " 'unguilefulness',\n",
       " 'unguinous',\n",
       " 'ungulous',\n",
       " 'unguttural',\n",
       " 'ungutturally',\n",
       " 'ungutturalness',\n",
       " 'unhumbugged',\n",
       " 'unhumorous',\n",
       " 'unhumorously',\n",
       " 'unhumorousness',\n",
       " 'unhumoured',\n",
       " 'unhumourous',\n",
       " 'unhumourously',\n",
       " 'unhurtful',\n",
       " 'unhurtfully',\n",
       " 'unhurtfulness',\n",
       " 'uniauriculate',\n",
       " 'uniauriculated',\n",
       " 'uniguttulate',\n",
       " 'unijugous',\n",
       " 'unillustrious',\n",
       " 'unillustriously',\n",
       " 'unillustriousness',\n",
       " 'unimuscular',\n",
       " 'uninaugurated',\n",
       " 'unincestuous',\n",
       " 'unincestuously',\n",
       " 'unindustrious',\n",
       " 'unindustriously',\n",
       " 'uningenuous',\n",
       " 'uningenuously',\n",
       " 'uningenuousness',\n",
       " 'uniniquitous',\n",
       " 'uniniquitously',\n",
       " 'uniniquitousness',\n",
       " 'uninjurious',\n",
       " 'uninjuriously',\n",
       " 'uninjuriousness',\n",
       " 'uninnocuous',\n",
       " 'uninnocuously',\n",
       " 'uninnocuousness',\n",
       " 'unyouthful',\n",
       " 'unyouthfully',\n",
       " 'unyouthfulness',\n",
       " 'unituberculate',\n",
       " 'uniunguiculate',\n",
       " 'uniungulate',\n",
       " 'unjudicious',\n",
       " 'unjudiciously',\n",
       " 'unjudiciousness',\n",
       " 'unloquacious',\n",
       " 'unloquaciously',\n",
       " 'unloquaciousness',\n",
       " 'unlubricious',\n",
       " 'unluckful',\n",
       " 'unludicrous',\n",
       " 'unludicrously',\n",
       " 'unludicrousness',\n",
       " 'unlugubrious',\n",
       " 'unlugubriously',\n",
       " 'unlugubriousness',\n",
       " 'unluminiferous',\n",
       " 'unluminous',\n",
       " 'unluminously',\n",
       " 'unluminousness',\n",
       " 'unlustful',\n",
       " 'unlustfully',\n",
       " 'unlustrous',\n",
       " 'unlustrously',\n",
       " 'unluxuriant',\n",
       " 'unluxuriantly',\n",
       " 'unluxuriating',\n",
       " 'unluxurious',\n",
       " 'unluxuriously',\n",
       " 'unmanufacturable',\n",
       " 'unmanufactured',\n",
       " 'unmellifluous',\n",
       " 'unmellifluously',\n",
       " 'unmeticulous',\n",
       " 'unmeticulously',\n",
       " 'unmeticulousness',\n",
       " 'unmiraculous',\n",
       " 'unmiraculously',\n",
       " 'unmistrustful',\n",
       " 'unmistrustfully',\n",
       " 'unmountainous',\n",
       " 'unmournful',\n",
       " 'unmournfully',\n",
       " 'unmurmured',\n",
       " 'unmurmuring',\n",
       " 'unmurmuringly',\n",
       " 'unmurmurous',\n",
       " 'unmurmurously',\n",
       " 'unmuscular',\n",
       " 'unmuscularly',\n",
       " 'unmutinous',\n",
       " 'unmutinously',\n",
       " 'unmutinousness',\n",
       " 'unmutual',\n",
       " 'unmutualised',\n",
       " 'unmutualized',\n",
       " 'unmutually',\n",
       " 'unnebulous',\n",
       " 'unnumerous',\n",
       " 'unnumerously',\n",
       " 'unnumerousness',\n",
       " 'unnurtured',\n",
       " 'unnutritious',\n",
       " 'unnutritiously',\n",
       " 'unobsequious',\n",
       " 'unobsequiously',\n",
       " 'unobsequiousness',\n",
       " 'unpendulous',\n",
       " 'unpendulously',\n",
       " 'unpendulousness',\n",
       " 'unpenurious',\n",
       " 'unpenuriously',\n",
       " 'unpenuriousness',\n",
       " 'unperspicuous',\n",
       " 'unperspicuously',\n",
       " 'unperspicuousness',\n",
       " 'unpicturesque',\n",
       " 'unpicturesquely',\n",
       " 'unpicturesqueness',\n",
       " 'unplatitudinous',\n",
       " 'unplatitudinously',\n",
       " 'unplatitudinousness',\n",
       " 'unplunderous',\n",
       " 'unplunderously',\n",
       " 'unpopulous',\n",
       " 'unpopulously',\n",
       " 'unpopulousness',\n",
       " 'unportuous',\n",
       " 'unposthumous',\n",
       " 'unpresumptuous',\n",
       " 'unpresumptuously',\n",
       " 'unpresumptuousness',\n",
       " ...]"
      ]
     },
     "execution_count": 94,
     "metadata": {},
     "output_type": "execute_result"
    }
   ],
   "source": [
    "[ w for w in words if w.count(\"u\")>=3]"
   ]
  },
  {
   "cell_type": "markdown",
   "metadata": {},
   "source": [
    "## More on files"
   ]
  },
  {
   "cell_type": "code",
   "execution_count": 5,
   "metadata": {},
   "outputs": [],
   "source": [
    "import os\n",
    "\n",
    "filename = \"cubes.txt\"\n",
    "\n",
    "if os.path.exists(filename):\n",
    "    raise Exception(\"File {} exists, exiting rather than overwriting it.\".format(filename))\n",
    "\n",
    "fp = open(filename,\"w\") # DANGER DANGER existing file with this name would be deleted\n",
    "\n",
    "for n in range(20):\n",
    "    fp.write(str(n**3)+\"\\n\")\n",
    "\n",
    "fp.close()"
   ]
  },
  {
   "cell_type": "code",
   "execution_count": 11,
   "metadata": {},
   "outputs": [],
   "source": [
    "fp = open(\"cubes.txt\",\"r\")\n",
    "\n",
    "L = []\n",
    "for line in fp:  # this will read lines one at a time, put the current in `line`\n",
    "    L.append(int(line.strip()))\n",
    "\n",
    "fp.close()"
   ]
  },
  {
   "cell_type": "code",
   "execution_count": 12,
   "metadata": {},
   "outputs": [
    {
     "data": {
      "text/plain": [
       "[0,\n",
       " 1,\n",
       " 8,\n",
       " 27,\n",
       " 64,\n",
       " 125,\n",
       " 216,\n",
       " 343,\n",
       " 512,\n",
       " 729,\n",
       " 1000,\n",
       " 1331,\n",
       " 1728,\n",
       " 2197,\n",
       " 2744,\n",
       " 3375,\n",
       " 4096,\n",
       " 4913,\n",
       " 5832,\n",
       " 6859]"
      ]
     },
     "execution_count": 12,
     "metadata": {},
     "output_type": "execute_result"
    }
   ],
   "source": [
    "L"
   ]
  },
  {
   "cell_type": "markdown",
   "metadata": {},
   "source": [
    "## Functions"
   ]
  },
  {
   "cell_type": "code",
   "execution_count": 13,
   "metadata": {},
   "outputs": [],
   "source": [
    "def contains_all_digits(x):\n",
    "    \"Does decimal representation of `x` use all digits 0-9?\"\n",
    "    s = str(x) # decimal rep of x as a string\n",
    "    for c in \"0123456789\":\n",
    "        if c not in s:\n",
    "            return False\n",
    "    return True"
   ]
  },
  {
   "cell_type": "code",
   "execution_count": 14,
   "metadata": {},
   "outputs": [
    {
     "data": {
      "text/plain": [
       "True"
      ]
     },
     "execution_count": 14,
     "metadata": {},
     "output_type": "execute_result"
    }
   ],
   "source": [
    "contains_all_digits(9**431)"
   ]
  },
  {
   "cell_type": "code",
   "execution_count": 15,
   "metadata": {},
   "outputs": [
    {
     "name": "stdout",
     "output_type": "stream",
     "text": [
      "Help on function contains_all_digits in module __main__:\n",
      "\n",
      "contains_all_digits(x)\n",
      "    Does decimal representation of `x` use all digits 0-9?\n",
      "\n"
     ]
    }
   ],
   "source": [
    "help(contains_all_digits)"
   ]
  },
  {
   "cell_type": "code",
   "execution_count": null,
   "metadata": {},
   "outputs": [],
   "source": []
  },
  {
   "cell_type": "code",
   "execution_count": 16,
   "metadata": {},
   "outputs": [
    {
     "name": "stdout",
     "output_type": "stream",
     "text": [
      "Help on built-in function print in module builtins:\n",
      "\n",
      "print(...)\n",
      "    print(value, ..., sep=' ', end='\\n', file=sys.stdout, flush=False)\n",
      "    \n",
      "    Prints the values to a stream, or to sys.stdout by default.\n",
      "    Optional keyword arguments:\n",
      "    file:  a file-like object (stream); defaults to the current sys.stdout.\n",
      "    sep:   string inserted between values, default a space.\n",
      "    end:   string appended after the last value, default a newline.\n",
      "    flush: whether to forcibly flush the stream.\n",
      "\n"
     ]
    }
   ],
   "source": [
    "help(print)"
   ]
  },
  {
   "cell_type": "markdown",
   "metadata": {},
   "source": [
    "## Docstrings"
   ]
  },
  {
   "cell_type": "markdown",
   "metadata": {},
   "source": [
    "## classes"
   ]
  },
  {
   "cell_type": "code",
   "execution_count": 17,
   "metadata": {},
   "outputs": [],
   "source": [
    "class Point2:\n",
    "    \"\"\"A point in the xy-plane\"\"\"  # <--- Remember docstring!\n",
    "    def __init__(self,x,y):  # constructor, a function (method) that builds the object\n",
    "        \"\"\"Initialize new point instance\"\"\"\n",
    "        self.x = x   # make a new attribute (self.x)\n",
    "        self.y = y   # make a new attribute (self.y)\n",
    "    def translate(self,dx,dy):\n",
    "        \"\"\"Move the point by a vector (dx,dy)\"\"\"\n",
    "        self.x += dx\n",
    "        self.y += dy"
   ]
  },
  {
   "cell_type": "code",
   "execution_count": 25,
   "metadata": {},
   "outputs": [
    {
     "name": "stdout",
     "output_type": "stream",
     "text": [
      "Help on class Point2 in module __main__:\n",
      "\n",
      "class Point2(builtins.object)\n",
      " |  Point2(x, y)\n",
      " |  \n",
      " |  A point in the xy-plane\n",
      " |  \n",
      " |  Methods defined here:\n",
      " |  \n",
      " |  __init__(self, x, y)\n",
      " |      Initialize new point instance\n",
      " |  \n",
      " |  translate(self, dx, dy)\n",
      " |      Move the point by a vector (dx,dy)\n",
      " |  \n",
      " |  ----------------------------------------------------------------------\n",
      " |  Data descriptors defined here:\n",
      " |  \n",
      " |  __dict__\n",
      " |      dictionary for instance variables (if defined)\n",
      " |  \n",
      " |  __weakref__\n",
      " |      list of weak references to the object (if defined)\n",
      "\n"
     ]
    }
   ],
   "source": [
    "help(Point2)"
   ]
  },
  {
   "cell_type": "code",
   "execution_count": 18,
   "metadata": {},
   "outputs": [],
   "source": [
    "p = Point2(3,4)"
   ]
  },
  {
   "cell_type": "code",
   "execution_count": 19,
   "metadata": {},
   "outputs": [
    {
     "data": {
      "text/plain": [
       "<__main__.Point2 at 0x1d59a975cf0>"
      ]
     },
     "execution_count": 19,
     "metadata": {},
     "output_type": "execute_result"
    }
   ],
   "source": [
    "p"
   ]
  },
  {
   "cell_type": "code",
   "execution_count": 20,
   "metadata": {},
   "outputs": [
    {
     "data": {
      "text/plain": [
       "3"
      ]
     },
     "execution_count": 20,
     "metadata": {},
     "output_type": "execute_result"
    }
   ],
   "source": [
    "p.x # accessing an attribute of object `p` of type `Point2`"
   ]
  },
  {
   "cell_type": "code",
   "execution_count": 21,
   "metadata": {},
   "outputs": [
    {
     "data": {
      "text/plain": [
       "4"
      ]
     },
     "execution_count": 21,
     "metadata": {},
     "output_type": "execute_result"
    }
   ],
   "source": [
    "p.y"
   ]
  },
  {
   "cell_type": "code",
   "execution_count": 22,
   "metadata": {},
   "outputs": [],
   "source": [
    "p.translate(5,0)  # add 5 to x, 0 to y"
   ]
  },
  {
   "cell_type": "code",
   "execution_count": 23,
   "metadata": {},
   "outputs": [
    {
     "data": {
      "text/plain": [
       "8"
      ]
     },
     "execution_count": 23,
     "metadata": {},
     "output_type": "execute_result"
    }
   ],
   "source": [
    "p.x"
   ]
  },
  {
   "cell_type": "code",
   "execution_count": 24,
   "metadata": {},
   "outputs": [
    {
     "data": {
      "text/plain": [
       "4"
      ]
     },
     "execution_count": 24,
     "metadata": {},
     "output_type": "execute_result"
    }
   ],
   "source": [
    "p.y"
   ]
  },
  {
   "cell_type": "code",
   "execution_count": null,
   "metadata": {},
   "outputs": [],
   "source": []
  }
 ],
 "metadata": {
  "kernelspec": {
   "display_name": "Python 3 (ipykernel)",
   "language": "python",
   "name": "python3"
  },
  "language_info": {
   "codemirror_mode": {
    "name": "ipython",
    "version": 3
   },
   "file_extension": ".py",
   "mimetype": "text/x-python",
   "name": "python",
   "nbconvert_exporter": "python",
   "pygments_lexer": "ipython3",
   "version": "3.10.11"
  }
 },
 "nbformat": 4,
 "nbformat_minor": 4
}
