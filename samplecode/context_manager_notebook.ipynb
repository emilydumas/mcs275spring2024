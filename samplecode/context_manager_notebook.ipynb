{
 "cells": [
  {
   "cell_type": "markdown",
   "id": "fac41987",
   "metadata": {},
   "source": [
    "# Context managers\n",
    "\n",
    "## As explained in MCS 275\n",
    "\n",
    "In Spring 2024, instructor Emily Dumas\n",
    "\n",
    "### This is a sub-subheading\n",
    "\n",
    "> This text cell is longer and more complicated than necessary so that we can demonstrate a bit of [Markdown](https://www.markdownguide.org/basic-syntax/).\n",
    "\n",
    "Reasons why you would use context managers:\n",
    "1. To make explicit what part of a program holds a resource\n",
    "1. To ensure cleanup happens even if an exception occurs during use of a resource\n",
    "1. As an alternative to object destructors that include stronger guarantees about when they will be called.\n",
    "\n",
    "Special methods this involves:\n",
    "* `__enter__`\n",
    "* `__exit__`\n",
    "\n",
    "Python syntax involved:\n",
    "```python\n",
    "with ClassName(args) as varname:\n",
    "    stuff\n",
    "```\n",
    "\n",
    "Based on [Lecture 7 of MCS 275, Spring 2024](https://www.dumas.io/teaching/2024/spring/mcs275/slides/lecture7.html).  (That's how you make links in Markdown, by the way.)\n",
    "\n",
    "### By the way, math!\n",
    "\n",
    "Were you aware of this integral fact?\n",
    "$$\\int_0^\\infty e^{-x^2} \\, dx = \\frac{\\sqrt{\\pi}}{2}$$\n",
    "Isn't it surprising that $\\pi$ would show up in the answer?\n",
    "\n",
    "This is to show that Markdown supports the LaTeX language for mathematical expressions.  You can find a quick intro to mathematical expressions in LaTeX in the [documentation for Overleaf, an online service for preparing LaTeX documents](https://www.overleaf.com/learn/latex/Mathematical_expressions).\n"
   ]
  },
  {
   "cell_type": "markdown",
   "id": "1617ca5e",
   "metadata": {},
   "source": [
    "## Manual cleanup way to do file I/O"
   ]
  },
  {
   "cell_type": "code",
   "execution_count": 2,
   "id": "1817a529",
   "metadata": {},
   "outputs": [],
   "source": [
    "fp = open(\"example.txt\",\"w\") # acquire\n",
    "fp.write(\"Hello world!\\n\")   # use\n",
    "fp.close()                   # release"
   ]
  },
  {
   "cell_type": "markdown",
   "id": "f523ba8e",
   "metadata": {},
   "source": [
    "## Automatic cleanup using `with`"
   ]
  },
  {
   "cell_type": "code",
   "execution_count": null,
   "id": "5a8d36e7",
   "metadata": {},
   "outputs": [],
   "source": [
    "with open(\"example.txt\",\"w\") as fp:  # acquire\n",
    "    fp.write(\"Hello world!\\n\")       # use\n",
    "\n",
    "# implicit release as soon as indented block ends."
   ]
  },
  {
   "cell_type": "markdown",
   "id": "c52b84bb",
   "metadata": {},
   "source": [
    "## Custom context manager\n",
    "\n",
    "A class whose objects can be used in `with`-blocks is called a **Context Manager**.\n",
    "\n",
    "To be a context manager, a class just needs two methods:\n",
    "* `__enter__(self):` - Should perform acquisition, called when entering `with` block\n",
    "* `__exit__(self,exc_type,exc,tb):` - Should perform cleanup, called when exiting `with` block whether normally or because of an exception.  The three argments after `self` will be `None` if the `with`-block ended normally, and otherwise will contain information about any exception that happened.\n",
    "\n",
    "A context manager will *usually* also have a constructor, since that will be called when the object is created (often on the same line as the start of the `with`-block).\n",
    "\n",
    "Let's make a context manager that temporarily changes the current working directory.  Upon exit from the with-block, it will restore the previous current working directory."
   ]
  },
  {
   "cell_type": "code",
   "execution_count": 4,
   "id": "4363776b",
   "metadata": {},
   "outputs": [],
   "source": [
    "import os"
   ]
  },
  {
   "cell_type": "code",
   "execution_count": 5,
   "id": "4e8e6982",
   "metadata": {},
   "outputs": [],
   "source": [
    "class TemporaryChangeWorkingDirectory:\n",
    "    \"Context manager that saves CWD, changes to a given one, then restores original on exit\"\n",
    "    def __init__(self,dirname):\n",
    "        \"Initialize a context manager that, on entry to with-block, changes to `dirname`\"\n",
    "        self.dirname = dirname\n",
    "\n",
    "    def __enter__(self):\n",
    "        \"Enter a with-block: Save the current working dir and change to `self.dirname`\"\n",
    "        print(\"Entering the with-block, saving and changing CWD\")\n",
    "        self.oldcwd = os.getcwd() # save\n",
    "        os.chdir(self.dirname)    # change\n",
    "        \n",
    "    def __exit__(self,exc_type,exc,tb):\n",
    "        \"Restore previous current working dir\"\n",
    "        print(\"Exiting the with-block, restoring previous CWD\")\n",
    "        os.chdir(self.oldcwd)"
   ]
  },
  {
   "cell_type": "code",
   "execution_count": 7,
   "id": "5433f38a",
   "metadata": {},
   "outputs": [
    {
     "name": "stdout",
     "output_type": "stream",
     "text": [
      "Before:  /home/ddumas\n",
      "Entering the with-block, saving and changing CWD\n",
      "During:  /tmp\n",
      "Other work done inside the with-block\n",
      "Exiting the with-block, restoring previous CWD\n",
      "After:  /home/ddumas\n"
     ]
    }
   ],
   "source": [
    "print(\"Before: \",os.getcwd())\n",
    "\n",
    "with TemporaryChangeWorkingDirectory(\"/tmp\"):\n",
    "    print(\"During: \",os.getcwd())\n",
    "    print(\"Other work done inside the with-block\")\n",
    "    \n",
    "print(\"After: \",os.getcwd())"
   ]
  },
  {
   "cell_type": "markdown",
   "id": "549a2ea4",
   "metadata": {},
   "source": [
    "## Cleanup still happens even if there is an exception"
   ]
  },
  {
   "cell_type": "code",
   "execution_count": 8,
   "id": "0c48e3e0",
   "metadata": {},
   "outputs": [
    {
     "name": "stdout",
     "output_type": "stream",
     "text": [
      "Before:  /home/ddumas\n",
      "Entering the with-block, saving and changing CWD\n",
      "During:  /tmp\n",
      "Exiting the with-block, restoring previous CWD\n"
     ]
    },
    {
     "ename": "ZeroDivisionError",
     "evalue": "division by zero",
     "output_type": "error",
     "traceback": [
      "\u001b[0;31m---------------------------------------------------------------------------\u001b[0m",
      "\u001b[0;31mZeroDivisionError\u001b[0m                         Traceback (most recent call last)",
      "\u001b[0;32m/tmp/ipykernel_164222/2259692626.py\u001b[0m in \u001b[0;36m<module>\u001b[0;34m\u001b[0m\n\u001b[1;32m      3\u001b[0m \u001b[0;32mwith\u001b[0m \u001b[0mTemporaryChangeWorkingDirectory\u001b[0m\u001b[0;34m(\u001b[0m\u001b[0;34m\"/tmp\"\u001b[0m\u001b[0;34m)\u001b[0m\u001b[0;34m:\u001b[0m\u001b[0;34m\u001b[0m\u001b[0;34m\u001b[0m\u001b[0m\n\u001b[1;32m      4\u001b[0m     \u001b[0mprint\u001b[0m\u001b[0;34m(\u001b[0m\u001b[0;34m\"During: \"\u001b[0m\u001b[0;34m,\u001b[0m\u001b[0mos\u001b[0m\u001b[0;34m.\u001b[0m\u001b[0mgetcwd\u001b[0m\u001b[0;34m(\u001b[0m\u001b[0;34m)\u001b[0m\u001b[0;34m)\u001b[0m\u001b[0;34m\u001b[0m\u001b[0;34m\u001b[0m\u001b[0m\n\u001b[0;32m----> 5\u001b[0;31m     \u001b[0;36m1\u001b[0m\u001b[0;34m/\u001b[0m\u001b[0;36m0\u001b[0m\u001b[0;34m\u001b[0m\u001b[0;34m\u001b[0m\u001b[0m\n\u001b[0m\u001b[1;32m      6\u001b[0m \u001b[0mprint\u001b[0m\u001b[0;34m(\u001b[0m\u001b[0;34m\"After: \"\u001b[0m\u001b[0;34m,\u001b[0m\u001b[0mos\u001b[0m\u001b[0;34m.\u001b[0m\u001b[0mgetcwd\u001b[0m\u001b[0;34m(\u001b[0m\u001b[0;34m)\u001b[0m\u001b[0;34m)\u001b[0m\u001b[0;34m\u001b[0m\u001b[0;34m\u001b[0m\u001b[0m\n",
      "\u001b[0;31mZeroDivisionError\u001b[0m: division by zero"
     ]
    }
   ],
   "source": [
    "print(\"Before: \",os.getcwd())\n",
    "\n",
    "with TemporaryChangeWorkingDirectory(\"/tmp\"):\n",
    "    print(\"During: \",os.getcwd())\n",
    "    1/0    \n",
    "print(\"After: \",os.getcwd())"
   ]
  },
  {
   "cell_type": "markdown",
   "id": "c5a1753d",
   "metadata": {},
   "source": [
    "## Returning a value from `__enter__`\n",
    "\n",
    "If `__enter__` returns a value, it gets assigned to the variable name appearing after `as`.\n",
    "\n",
    "So:\n",
    "```python\n",
    "with ClassName() as x:\n",
    "```\n",
    "is an auto-cleanup version of\n",
    "```python\n",
    "x = ClassName()\n",
    "```\n",
    "while\n",
    "```python\n",
    "with ClassName():\n",
    "```\n",
    "is an auto-cleanup version of\n",
    "```\n",
    "ClassName()\n",
    "```\n",
    "\n",
    "For example, `open()` is a context manager which returns a file object."
   ]
  }
 ],
 "metadata": {
  "kernelspec": {
   "display_name": "Python 3 (ipykernel)",
   "language": "python",
   "name": "python3"
  },
  "language_info": {
   "codemirror_mode": {
    "name": "ipython",
    "version": 3
   },
   "file_extension": ".py",
   "mimetype": "text/x-python",
   "name": "python",
   "nbconvert_exporter": "python",
   "pygments_lexer": "ipython3",
   "version": "3.10.12"
  }
 },
 "nbformat": 4,
 "nbformat_minor": 5
}
