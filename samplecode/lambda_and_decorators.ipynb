{
 "cells": [
  {
   "cell_type": "markdown",
   "id": "0bc4f719",
   "metadata": {},
   "source": [
    "# Anonymous functions and decorators\n",
    "MCS 275 Spring 2024 - David Dumas"
   ]
  },
  {
   "cell_type": "markdown",
   "id": "e5a25f48",
   "metadata": {},
   "source": [
    "## Lambda   $\\lambda$"
   ]
  },
  {
   "cell_type": "markdown",
   "id": "d8448786",
   "metadata": {},
   "source": [
    "### Named function"
   ]
  },
  {
   "cell_type": "code",
   "execution_count": 3,
   "id": "6e581160",
   "metadata": {},
   "outputs": [],
   "source": [
    "def f(x):\n",
    "    \"Compute the square of `x`\"\n",
    "    return x*x"
   ]
  },
  {
   "cell_type": "markdown",
   "id": "12ae3d6c",
   "metadata": {},
   "source": [
    "* Create a function object that can take a value x and return x*x\n",
    "* Add docstring info to that object\n",
    "* Create a variable called f that refers to this new object"
   ]
  },
  {
   "cell_type": "code",
   "execution_count": 4,
   "id": "09c56ba4",
   "metadata": {},
   "outputs": [
    {
     "data": {
      "text/plain": [
       "49"
      ]
     },
     "execution_count": 4,
     "metadata": {},
     "output_type": "execute_result"
    }
   ],
   "source": [
    "f(7)"
   ]
  },
  {
   "cell_type": "code",
   "execution_count": 5,
   "id": "04ea4c8d",
   "metadata": {},
   "outputs": [
    {
     "data": {
      "text/plain": [
       "<function __main__.f(x)>"
      ]
     },
     "execution_count": 5,
     "metadata": {},
     "output_type": "execute_result"
    }
   ],
   "source": [
    "f"
   ]
  },
  {
   "cell_type": "code",
   "execution_count": 6,
   "id": "6f09a291",
   "metadata": {},
   "outputs": [
    {
     "data": {
      "text/plain": [
       "function"
      ]
     },
     "execution_count": 6,
     "metadata": {},
     "output_type": "execute_result"
    }
   ],
   "source": [
    "type(f)"
   ]
  },
  {
   "cell_type": "code",
   "execution_count": 7,
   "id": "8ac94619",
   "metadata": {},
   "outputs": [
    {
     "name": "stdout",
     "output_type": "stream",
     "text": [
      "Help on function f in module __main__:\n",
      "\n",
      "f(x)\n",
      "    Compute the square of `x`\n",
      "\n"
     ]
    }
   ],
   "source": [
    "help(f)"
   ]
  },
  {
   "cell_type": "markdown",
   "id": "a38b4d48",
   "metadata": {},
   "source": [
    "### Unnamed (anonymous) function"
   ]
  },
  {
   "cell_type": "markdown",
   "id": "43eafbf5",
   "metadata": {},
   "source": [
    "In mathematics, a function can be described without giving it a name using the notation $x \\mapsto x^2$, which is read aloud as \"$x$ goes to $x^2$\" or \"$x$ maps to $x^2$.\n",
    "\n",
    "Many programming languages allow a similar construction.  In Python, and in several other languages, this construction is named **lambda**, after the greek letter $\\lambda$ which was used as a symbol for function definitions in a formal system (the *lambda calculus*) introduced by mathematician Alonzo Church in the 1930s."
   ]
  },
  {
   "cell_type": "code",
   "execution_count": 9,
   "id": "08953537",
   "metadata": {},
   "outputs": [
    {
     "data": {
      "text/plain": [
       "<function __main__.<lambda>(x)>"
      ]
     },
     "execution_count": 9,
     "metadata": {},
     "output_type": "execute_result"
    }
   ],
   "source": [
    "# x maps to x**2\n",
    "lambda x : x**2"
   ]
  },
  {
   "cell_type": "markdown",
   "id": "66022f73",
   "metadata": {},
   "source": [
    "This action returns a function object, which isn't very useful unless we do something with it.  We could assign to to a symbol;"
   ]
  },
  {
   "cell_type": "code",
   "execution_count": 10,
   "id": "866190a6",
   "metadata": {},
   "outputs": [],
   "source": [
    "g = lambda x : x**2"
   ]
  },
  {
   "cell_type": "markdown",
   "id": "6115a113",
   "metadata": {},
   "source": [
    "Now `g` is just like `f` we defined earlier.  It's a function."
   ]
  },
  {
   "cell_type": "code",
   "execution_count": 11,
   "id": "b97e6b71",
   "metadata": {
    "scrolled": true
   },
   "outputs": [
    {
     "data": {
      "text/plain": [
       "64"
      ]
     },
     "execution_count": 11,
     "metadata": {},
     "output_type": "execute_result"
    }
   ],
   "source": [
    "g(8)"
   ]
  },
  {
   "cell_type": "markdown",
   "id": "0db3822b",
   "metadata": {},
   "source": [
    "It's strictly worse, though.  It doesn't know its name and it has no docstring."
   ]
  },
  {
   "cell_type": "code",
   "execution_count": 12,
   "id": "3b5e3521",
   "metadata": {},
   "outputs": [
    {
     "data": {
      "text/plain": [
       "'<lambda>'"
      ]
     },
     "execution_count": 12,
     "metadata": {},
     "output_type": "execute_result"
    }
   ],
   "source": [
    "g.__name__"
   ]
  },
  {
   "cell_type": "code",
   "execution_count": 13,
   "id": "5028f3e6",
   "metadata": {},
   "outputs": [
    {
     "name": "stdout",
     "output_type": "stream",
     "text": [
      "Help on function <lambda> in module __main__:\n",
      "\n",
      "<lambda> lambda x\n",
      "\n"
     ]
    }
   ],
   "source": [
    "help(g)"
   ]
  },
  {
   "cell_type": "markdown",
   "id": "c2ab20e0",
   "metadata": {},
   "source": [
    "### Aside\n",
    "\n",
    "Markdown cells in Python notebooks support LaTeX, a document language that has rich mathematical typesetting capabilities.  Simply put inline mathematical expressions between `$` characters, e.g. `$\\sqrt{x^5-1}$` produces $\\sqrt{x^5-1}$.  Displayed mathematical expressions (that should be indented and separated from the surrounding text) go between `$` caracters, e.g.\n",
    "```\n",
    "$$\n",
    "\\int_0^\\infty f(x)\\, dx = 2 \\pi\n",
    "$$\n",
    "```\n",
    "produces\n",
    "$$\n",
    "\\int_0^\\infty f(x)\\, dx = 2 \\pi\n",
    "$$"
   ]
  },
  {
   "cell_type": "markdown",
   "id": "0d71145e",
   "metadata": {},
   "source": [
    "## When to use `lambda`\n",
    "\n",
    "It's ideal for \"quick\" functions that are defined and used exactly once.  In that case, having to choose a name and put the definition on a different line can make it harder to understand the program.  In such cases, `lambda` gives a convenient shorthand.\n",
    "\n",
    "Using custom orders in `list.sort`, `sorted`, `max`, and `min` is a typical example.  They accept a kwarg `key` that is a function that gets applied to elements before comparison."
   ]
  },
  {
   "cell_type": "code",
   "execution_count": 15,
   "id": "92721d05",
   "metadata": {},
   "outputs": [],
   "source": [
    "L = [ \"computer\", \"banana\", \"car\", \"avoidance\", \"zebra\", \"antidisestablishmentarianism\"]"
   ]
  },
  {
   "cell_type": "code",
   "execution_count": 16,
   "id": "dec87517",
   "metadata": {},
   "outputs": [
    {
     "data": {
      "text/plain": [
       "'zebra'"
      ]
     },
     "execution_count": 16,
     "metadata": {},
     "output_type": "execute_result"
    }
   ],
   "source": [
    "max(L) # last in dictionary order"
   ]
  },
  {
   "cell_type": "code",
   "execution_count": 17,
   "id": "38e938fa",
   "metadata": {},
   "outputs": [
    {
     "data": {
      "text/plain": [
       "'antidisestablishmentarianism'"
      ]
     },
     "execution_count": 17,
     "metadata": {},
     "output_type": "execute_result"
    }
   ],
   "source": [
    "min(L) # first in dictionary order"
   ]
  },
  {
   "cell_type": "code",
   "execution_count": 18,
   "id": "e7cc4859",
   "metadata": {},
   "outputs": [
    {
     "data": {
      "text/plain": [
       "'antidisestablishmentarianism'"
      ]
     },
     "execution_count": 18,
     "metadata": {},
     "output_type": "execute_result"
    }
   ],
   "source": [
    "max(L,key=len) # the longest word"
   ]
  },
  {
   "cell_type": "code",
   "execution_count": 19,
   "id": "35ab286c",
   "metadata": {},
   "outputs": [],
   "source": [
    "def num_distinct_chars(s):\n",
    "    \"Returns the number of distinct characters in s\"\n",
    "    return len(set(s))"
   ]
  },
  {
   "cell_type": "code",
   "execution_count": 20,
   "id": "9091e09e",
   "metadata": {},
   "outputs": [
    {
     "data": {
      "text/plain": [
       "'banana'"
      ]
     },
     "execution_count": 20,
     "metadata": {},
     "output_type": "execute_result"
    }
   ],
   "source": [
    "min(L,key=num_distinct_chars) # One of the words with the fewest distinct characters"
   ]
  },
  {
   "cell_type": "code",
   "execution_count": 21,
   "id": "033c9e88",
   "metadata": {},
   "outputs": [
    {
     "data": {
      "text/plain": [
       "'banana'"
      ]
     },
     "execution_count": 21,
     "metadata": {},
     "output_type": "execute_result"
    }
   ],
   "source": [
    "# Same as above, but using lambda\n",
    "min(L,key = lambda s:len(set(s)) )"
   ]
  },
  {
   "cell_type": "code",
   "execution_count": 22,
   "id": "110d497c",
   "metadata": {},
   "outputs": [
    {
     "data": {
      "text/plain": [
       "'banana'"
      ]
     },
     "execution_count": 22,
     "metadata": {},
     "output_type": "execute_result"
    }
   ],
   "source": [
    "# The variable name doesn't matter\n",
    "min(L,key = lambda t:len(set(t)) )"
   ]
  },
  {
   "cell_type": "code",
   "execution_count": 23,
   "id": "bcbe127d",
   "metadata": {},
   "outputs": [
    {
     "data": {
      "text/plain": [
       "['banana',\n",
       " 'car',\n",
       " 'computer',\n",
       " 'antidisestablishmentarianism',\n",
       " 'avoidance',\n",
       " 'zebra']"
      ]
     },
     "execution_count": 23,
     "metadata": {},
     "output_type": "execute_result"
    }
   ],
   "source": [
    "# L, but sorted according to how far apart in the alphabet the most distant pair\n",
    "# of letters are\n",
    "sorted(L, key = lambda s : ord(max(s))-ord(min(s)))"
   ]
  },
  {
   "cell_type": "markdown",
   "id": "2ec8aafd",
   "metadata": {},
   "source": [
    "Here, \"banana\" appears early in the sorted list because its most distant letters are `n` and `a`, which are only `ord(\"n\")-ord(\"a\")=13` steps apart.  The function `ord` converts a character to its unicode code point number."
   ]
  },
  {
   "cell_type": "markdown",
   "id": "9ec04f67",
   "metadata": {},
   "source": [
    "`lambda` is also useful for partial application.  For example, suppose you have a function"
   ]
  },
  {
   "cell_type": "code",
   "execution_count": 26,
   "id": "49dbd170",
   "metadata": {},
   "outputs": [],
   "source": [
    "def display_alert(title,bgcolor,message):\n",
    "    \"\"\"\n",
    "    Open and highlight a centered window showing an urgent alert\n",
    "    with given `title` and `message`.  The window's background\n",
    "    color is `bgcolor`.\n",
    "    \"\"\"\n",
    "    # code omitted\n",
    "    "
   ]
  },
  {
   "cell_type": "markdown",
   "id": "6d3892b0",
   "metadata": {},
   "source": [
    "Then if you need a function that takes only one argument and displays a big red error message, you can use the expression"
   ]
  },
  {
   "cell_type": "code",
   "execution_count": 27,
   "id": "d0445d23",
   "metadata": {},
   "outputs": [
    {
     "data": {
      "text/plain": [
       "<function __main__.<lambda>(msg)>"
      ]
     },
     "execution_count": 27,
     "metadata": {},
     "output_type": "execute_result"
    }
   ],
   "source": [
    "lambda msg: display_alert(\"ERROR\",\"#FF5555\",msg)"
   ]
  },
  {
   "cell_type": "markdown",
   "id": "435362c4",
   "metadata": {},
   "source": [
    "## Decorators 🎀"
   ]
  },
  {
   "cell_type": "markdown",
   "id": "d1d948ef",
   "metadata": {},
   "source": [
    "### Functions as arguments"
   ]
  },
  {
   "cell_type": "code",
   "execution_count": 29,
   "id": "2f5d36c8",
   "metadata": {},
   "outputs": [],
   "source": [
    "def dotwice(f):\n",
    "    \"\"\"Call zero-arg function `f` twice\"\"\"\n",
    "    f()\n",
    "    f()"
   ]
  },
  {
   "cell_type": "code",
   "execution_count": 30,
   "id": "5be6570c",
   "metadata": {},
   "outputs": [],
   "source": [
    "def hello():\n",
    "    print(\"Hello world.\")\n",
    "    # return None"
   ]
  },
  {
   "cell_type": "code",
   "execution_count": 31,
   "id": "b00ac82b",
   "metadata": {},
   "outputs": [
    {
     "name": "stdout",
     "output_type": "stream",
     "text": [
      "Hello world.\n"
     ]
    }
   ],
   "source": [
    "hello()"
   ]
  },
  {
   "cell_type": "code",
   "execution_count": 32,
   "id": "750f9c56",
   "metadata": {},
   "outputs": [
    {
     "name": "stdout",
     "output_type": "stream",
     "text": [
      "Hello world.\n",
      "Hello world.\n"
     ]
    }
   ],
   "source": [
    "hello()\n",
    "hello()"
   ]
  },
  {
   "cell_type": "code",
   "execution_count": 33,
   "id": "a134ead6",
   "metadata": {},
   "outputs": [
    {
     "name": "stdout",
     "output_type": "stream",
     "text": [
      "Hello world.\n",
      "Hello world.\n"
     ]
    }
   ],
   "source": [
    "dotwice(hello) # pass function object `hello` to function `dotwice`"
   ]
  },
  {
   "cell_type": "code",
   "execution_count": 36,
   "id": "589063b4",
   "metadata": {},
   "outputs": [
    {
     "name": "stdout",
     "output_type": "stream",
     "text": [
      "Hello world.\n"
     ]
    },
    {
     "ename": "TypeError",
     "evalue": "'NoneType' object is not callable",
     "output_type": "error",
     "traceback": [
      "\u001b[0;31m---------------------------------------------------------------------------\u001b[0m",
      "\u001b[0;31mTypeError\u001b[0m                                 Traceback (most recent call last)",
      "\u001b[0;32m/tmp/ipykernel_18882/761584636.py\u001b[0m in \u001b[0;36m<module>\u001b[0;34m\u001b[0m\n\u001b[0;32m----> 1\u001b[0;31m \u001b[0mdotwice\u001b[0m\u001b[0;34m(\u001b[0m \u001b[0mhello\u001b[0m\u001b[0;34m(\u001b[0m\u001b[0;34m)\u001b[0m \u001b[0;34m)\u001b[0m \u001b[0;31m# dotwice( None ) -->   None() None()\u001b[0m\u001b[0;34m\u001b[0m\u001b[0;34m\u001b[0m\u001b[0m\n\u001b[0m",
      "\u001b[0;32m/tmp/ipykernel_18882/2498869731.py\u001b[0m in \u001b[0;36mdotwice\u001b[0;34m(f)\u001b[0m\n\u001b[1;32m      1\u001b[0m \u001b[0;32mdef\u001b[0m \u001b[0mdotwice\u001b[0m\u001b[0;34m(\u001b[0m\u001b[0mf\u001b[0m\u001b[0;34m)\u001b[0m\u001b[0;34m:\u001b[0m\u001b[0;34m\u001b[0m\u001b[0;34m\u001b[0m\u001b[0m\n\u001b[1;32m      2\u001b[0m     \u001b[0;34m\"\"\"Call function f twice\"\"\"\u001b[0m\u001b[0;34m\u001b[0m\u001b[0;34m\u001b[0m\u001b[0m\n\u001b[0;32m----> 3\u001b[0;31m     \u001b[0mf\u001b[0m\u001b[0;34m(\u001b[0m\u001b[0;34m)\u001b[0m\u001b[0;34m\u001b[0m\u001b[0;34m\u001b[0m\u001b[0m\n\u001b[0m\u001b[1;32m      4\u001b[0m     \u001b[0mf\u001b[0m\u001b[0;34m(\u001b[0m\u001b[0;34m)\u001b[0m\u001b[0;34m\u001b[0m\u001b[0;34m\u001b[0m\u001b[0m\n",
      "\u001b[0;31mTypeError\u001b[0m: 'NoneType' object is not callable"
     ]
    }
   ],
   "source": [
    "dotwice( hello() ) # dotwice( None ) -->   None() None()"
   ]
  },
  {
   "cell_type": "markdown",
   "id": "59baf6f6",
   "metadata": {},
   "source": [
    "Use `*args` to take any number of additional positional args."
   ]
  },
  {
   "cell_type": "code",
   "execution_count": 37,
   "id": "e920332c",
   "metadata": {},
   "outputs": [],
   "source": [
    "def h(x,y,*args):\n",
    "    print(\"x is\",x)\n",
    "    print(\"y is\",y)\n",
    "    print(\"args is\",args)"
   ]
  },
  {
   "cell_type": "code",
   "execution_count": 38,
   "id": "4c51931e",
   "metadata": {},
   "outputs": [
    {
     "name": "stdout",
     "output_type": "stream",
     "text": [
      "x is 1\n",
      "y is 2\n",
      "args is ()\n"
     ]
    }
   ],
   "source": [
    "h(1,2)"
   ]
  },
  {
   "cell_type": "code",
   "execution_count": 39,
   "id": "1b96669a",
   "metadata": {},
   "outputs": [
    {
     "name": "stdout",
     "output_type": "stream",
     "text": [
      "x is 1\n",
      "y is 2\n",
      "args is (4, 8, 'Hello', True, None)\n"
     ]
    }
   ],
   "source": [
    "h(1,2,4,8,\"Hello\",True,None)"
   ]
  },
  {
   "cell_type": "markdown",
   "id": "ab5306bd",
   "metadata": {},
   "source": [
    "`**kwargs` is similar for keyword arguments.  Using these we can upgrade `dotwice` to work with functions that take arguments."
   ]
  },
  {
   "cell_type": "code",
   "execution_count": 34,
   "id": "e2b95a6f",
   "metadata": {},
   "outputs": [],
   "source": [
    "def dotwice(f,*args,**kwargs):\n",
    "    \"\"\"\n",
    "    Call function `f` twice, giving the same\n",
    "    set of arguments and kwargs each time.\n",
    "    \"\"\"\n",
    "    f(*args,**kwargs)\n",
    "    f(*args,**kwargs)"
   ]
  },
  {
   "cell_type": "code",
   "execution_count": 35,
   "id": "9ccf276d",
   "metadata": {},
   "outputs": [
    {
     "name": "stdout",
     "output_type": "stream",
     "text": [
      "hello this is mcs 275hello this is mcs 275"
     ]
    }
   ],
   "source": [
    "dotwice(print,\"hello this is mcs\",275,end=\"\")"
   ]
  },
  {
   "cell_type": "code",
   "execution_count": 36,
   "id": "bd39b4bc",
   "metadata": {},
   "outputs": [
    {
     "name": "stdout",
     "output_type": "stream",
     "text": [
      "hello this is mcs 275hello this is mcs 275"
     ]
    }
   ],
   "source": [
    "print(\"hello this is mcs\",275,end=\"\")\n",
    "print(\"hello this is mcs\",275,end=\"\")"
   ]
  },
  {
   "cell_type": "markdown",
   "id": "b6a8f0ad",
   "metadata": {},
   "source": [
    "### Function factory"
   ]
  },
  {
   "cell_type": "code",
   "execution_count": 48,
   "id": "d5f60c9b",
   "metadata": {},
   "outputs": [],
   "source": [
    "def power_function(n):   # integer |----->  function\n",
    "    def david(x): # function inside a function!\n",
    "        \"\"\"Raise x to a power\"\"\"\n",
    "        return x**n\n",
    "    return david"
   ]
  },
  {
   "cell_type": "code",
   "execution_count": 49,
   "id": "b5d2ba51",
   "metadata": {},
   "outputs": [],
   "source": [
    "square = power_function(2)\n",
    "cube = power_function(3)"
   ]
  },
  {
   "cell_type": "code",
   "execution_count": 50,
   "id": "ca2b2e3a",
   "metadata": {},
   "outputs": [
    {
     "data": {
      "text/plain": [
       "<function __main__.power_function.<locals>.inner(x)>"
      ]
     },
     "execution_count": 50,
     "metadata": {},
     "output_type": "execute_result"
    }
   ],
   "source": [
    "square"
   ]
  },
  {
   "cell_type": "code",
   "execution_count": 51,
   "id": "716195f1",
   "metadata": {},
   "outputs": [
    {
     "data": {
      "text/plain": [
       "<function __main__.power_function.<locals>.inner(x)>"
      ]
     },
     "execution_count": 51,
     "metadata": {},
     "output_type": "execute_result"
    }
   ],
   "source": [
    "cube"
   ]
  },
  {
   "cell_type": "code",
   "execution_count": 52,
   "id": "08b41bde",
   "metadata": {},
   "outputs": [
    {
     "data": {
      "text/plain": [
       "25"
      ]
     },
     "execution_count": 52,
     "metadata": {},
     "output_type": "execute_result"
    }
   ],
   "source": [
    "square(5)  # 5**2"
   ]
  },
  {
   "cell_type": "code",
   "execution_count": 53,
   "id": "5152d535",
   "metadata": {},
   "outputs": [
    {
     "data": {
      "text/plain": [
       "343"
      ]
     },
     "execution_count": 53,
     "metadata": {},
     "output_type": "execute_result"
    }
   ],
   "source": [
    "cube(7)  # 7**3"
   ]
  },
  {
   "cell_type": "markdown",
   "id": "98e932e2",
   "metadata": {},
   "source": [
    "### Function factory that takes a function argument"
   ]
  },
  {
   "cell_type": "code",
   "execution_count": 37,
   "id": "3ebaacda",
   "metadata": {},
   "outputs": [],
   "source": [
    "def return_twice_doer(f):\n",
    "    \"\"\"Return a new function which calls f twice\"\"\"\n",
    "    def inner(*args,**kwargs):\n",
    "        \"\"\"Call a certain function twice\"\"\"\n",
    "        f(*args,**kwargs)\n",
    "        f(*args,**kwargs)\n",
    "    return inner"
   ]
  },
  {
   "cell_type": "code",
   "execution_count": 38,
   "id": "b744085c",
   "metadata": {},
   "outputs": [],
   "source": [
    "def concern():\n",
    "    print(\"I'm a little bit worried\")\n",
    "    \n",
    "def panic():\n",
    "    print(\"OMG EVERYTHING IS TERRIBLE\")"
   ]
  },
  {
   "cell_type": "code",
   "execution_count": 39,
   "id": "75945ae4",
   "metadata": {},
   "outputs": [
    {
     "name": "stdout",
     "output_type": "stream",
     "text": [
      "I'm a little bit worried\n",
      "I'm a little bit worried\n"
     ]
    }
   ],
   "source": [
    "dotwice(concern)"
   ]
  },
  {
   "cell_type": "code",
   "execution_count": 40,
   "id": "2f76b2d8",
   "metadata": {},
   "outputs": [
    {
     "name": "stdout",
     "output_type": "stream",
     "text": [
      "OMG EVERYTHING IS TERRIBLE\n",
      "OMG EVERYTHING IS TERRIBLE\n"
     ]
    }
   ],
   "source": [
    "dotwice(panic)"
   ]
  },
  {
   "cell_type": "code",
   "execution_count": 41,
   "id": "3db6053b",
   "metadata": {},
   "outputs": [],
   "source": [
    "doubleconcern = return_twice_doer(concern)"
   ]
  },
  {
   "cell_type": "code",
   "execution_count": 42,
   "id": "3cf3b757",
   "metadata": {},
   "outputs": [
    {
     "name": "stdout",
     "output_type": "stream",
     "text": [
      "I'm a little bit worried\n",
      "I'm a little bit worried\n"
     ]
    }
   ],
   "source": [
    "doubleconcern()"
   ]
  },
  {
   "cell_type": "code",
   "execution_count": 43,
   "id": "0f54a9d1",
   "metadata": {},
   "outputs": [],
   "source": [
    "doublepanic = return_twice_doer(panic)"
   ]
  },
  {
   "cell_type": "code",
   "execution_count": 44,
   "id": "b74f8ed2",
   "metadata": {},
   "outputs": [
    {
     "data": {
      "text/plain": [
       "<function __main__.return_twice_doer.<locals>.inner(*args, **kwargs)>"
      ]
     },
     "execution_count": 44,
     "metadata": {},
     "output_type": "execute_result"
    }
   ],
   "source": [
    "doublepanic"
   ]
  },
  {
   "cell_type": "code",
   "execution_count": 45,
   "id": "d281ba2a",
   "metadata": {},
   "outputs": [
    {
     "name": "stdout",
     "output_type": "stream",
     "text": [
      "OMG EVERYTHING IS TERRIBLE\n",
      "OMG EVERYTHING IS TERRIBLE\n"
     ]
    }
   ],
   "source": [
    "doublepanic()"
   ]
  },
  {
   "cell_type": "markdown",
   "id": "4435b6fe",
   "metadata": {},
   "source": [
    "Here's another example.  It take a function `f` and \"wraps\" it with `print` statements."
   ]
  },
  {
   "cell_type": "code",
   "execution_count": 49,
   "id": "a5014c86",
   "metadata": {},
   "outputs": [],
   "source": [
    "def wrap_with_notification(f):\n",
    "    def inner(*args,**kwargs):\n",
    "        print(\"I am about to call\",f.__name__)\n",
    "        res = f(*args,**kwargs)\n",
    "        print(\"The call to\",f.__name__,\"finished\")\n",
    "        return res\n",
    "    return inner"
   ]
  },
  {
   "cell_type": "code",
   "execution_count": 50,
   "id": "601ad27e",
   "metadata": {},
   "outputs": [],
   "source": [
    "import time\n",
    "\n",
    "def long_running_calculation(n):\n",
    "    for i in range(n):\n",
    "        time.sleep(1)\n",
    "        print(i)\n",
    "    return 275"
   ]
  },
  {
   "cell_type": "code",
   "execution_count": 51,
   "id": "44385a3d",
   "metadata": {},
   "outputs": [
    {
     "name": "stdout",
     "output_type": "stream",
     "text": [
      "0\n",
      "1\n",
      "2\n",
      "3\n"
     ]
    },
    {
     "data": {
      "text/plain": [
       "275"
      ]
     },
     "execution_count": 51,
     "metadata": {},
     "output_type": "execute_result"
    }
   ],
   "source": [
    "long_running_calculation(4)"
   ]
  },
  {
   "cell_type": "code",
   "execution_count": 52,
   "id": "30c10dd7",
   "metadata": {},
   "outputs": [],
   "source": [
    "long_running_with_notification = wrap_with_notification(long_running_calculation)"
   ]
  },
  {
   "cell_type": "code",
   "execution_count": 53,
   "id": "94bde253",
   "metadata": {},
   "outputs": [
    {
     "name": "stdout",
     "output_type": "stream",
     "text": [
      "I am about to call long_running_calculation\n",
      "0\n",
      "1\n",
      "2\n",
      "3\n",
      "The call to long_running_calculation finished\n"
     ]
    },
    {
     "data": {
      "text/plain": [
       "275"
      ]
     },
     "execution_count": 53,
     "metadata": {},
     "output_type": "execute_result"
    }
   ],
   "source": [
    "long_running_with_notification(4)"
   ]
  },
  {
   "cell_type": "markdown",
   "id": "155ed942",
   "metadata": {},
   "source": [
    "But why choose a new name?  We could replace the original `long_running_calculation` with the wrapped one, overwriting it."
   ]
  },
  {
   "cell_type": "code",
   "execution_count": null,
   "id": "870837e2",
   "metadata": {},
   "outputs": [],
   "source": [
    "long_running_calculation = wrap_with_notification(long_running_calculation)"
   ]
  },
  {
   "cell_type": "markdown",
   "id": "cf4a66fc",
   "metadata": {},
   "source": [
    "Python has a dedicated syntax for doing both: Define a function, then replace it with the return value of some other function."
   ]
  },
  {
   "cell_type": "code",
   "execution_count": 54,
   "id": "74ddbbc1",
   "metadata": {},
   "outputs": [],
   "source": [
    "@wrap_with_notification\n",
    "def number_of_digits(n):\n",
    "    return len(str(n))"
   ]
  },
  {
   "cell_type": "code",
   "execution_count": 55,
   "id": "22fe6706",
   "metadata": {},
   "outputs": [
    {
     "name": "stdout",
     "output_type": "stream",
     "text": [
      "I am about to call number_of_digits\n",
      "The call to number_of_digits finished\n"
     ]
    },
    {
     "data": {
      "text/plain": [
       "6"
      ]
     },
     "execution_count": 55,
     "metadata": {},
     "output_type": "execute_result"
    }
   ],
   "source": [
    "number_of_digits(481275)"
   ]
  },
  {
   "cell_type": "markdown",
   "id": "fac227e7",
   "metadata": {},
   "source": [
    "This is roughly how the `@app.route` decorator works.  (This is not a real, working example.  It is just an outline suggesting how a decorator converts a function returning a string into a mechanism to handle HTTP requests."
   ]
  },
  {
   "cell_type": "code",
   "execution_count": 75,
   "id": "0a75f55a",
   "metadata": {},
   "outputs": [],
   "source": [
    "def web_serverize(f):\n",
    "    def inner():\n",
    "        request_args = wait_for_relevant_HTTP_get()\n",
    "        s = f(*request_args)\n",
    "        send_string_as_HTTP_response(s)\n",
    "    return inner"
   ]
  },
  {
   "cell_type": "code",
   "execution_count": null,
   "id": "876ab02e",
   "metadata": {},
   "outputs": [],
   "source": [
    "@web_serverize\n",
    "def home():\n",
    "    return \"<html><body>Hello!</body></html>\""
   ]
  }
 ],
 "metadata": {
  "kernelspec": {
   "display_name": "Python 3 (ipykernel)",
   "language": "python",
   "name": "python3"
  },
  "language_info": {
   "codemirror_mode": {
    "name": "ipython",
    "version": 3
   },
   "file_extension": ".py",
   "mimetype": "text/x-python",
   "name": "python",
   "nbconvert_exporter": "python",
   "pygments_lexer": "ipython3",
   "version": "3.10.12"
  }
 },
 "nbformat": 4,
 "nbformat_minor": 5
}
